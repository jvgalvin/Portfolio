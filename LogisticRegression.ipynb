{
 "cells": [
  {
   "cell_type": "code",
   "execution_count": 19,
   "metadata": {},
   "outputs": [],
   "source": [
    "# Import the appropriate modules\n",
    "\n",
    "import numpy as np\n",
    "import pandas as pd\n",
    "import matplotlib.pyplot as plt\n",
    "from mpl_toolkits import mplot3d\n",
    "import seaborn as sns\n",
    "from scipy import stats\n",
    "from sklearn.cluster import KMeans\n",
    "from sklearn.impute import KNNImputer\n",
    "from sklearn.preprocessing import MinMaxScaler, StandardScaler, RobustScaler, QuantileTransformer\n",
    "from sklearn.linear_model import LogisticRegression\n",
    "from sklearn.model_selection import train_test_split\n",
    "from sklearn.metrics import classification_report, confusion_matrix, accuracy_score\n",
    "from sklearn.model_selection import cross_val_score\n",
    "from sklearn import metrics\n",
    "from sklearn.metrics import roc_auc_score\n",
    "from sklearn.metrics import roc_curve\n",
    "%matplotlib inline"
   ]
  },
  {
   "cell_type": "code",
   "execution_count": 2,
   "metadata": {},
   "outputs": [],
   "source": [
    "# Import the data and remove unnecessary columns\n",
    "\n",
    "df = pd.read_csv('/Users/jack.galvin/Desktop/Predictive/sfdcreport.csv')\n",
    "df.drop(['Account Name', 'Website', 'Opportunity Name', 'Type', 'Close Date', 'Created Date'], axis = 1, inplace = True)"
   ]
  },
  {
   "cell_type": "code",
   "execution_count": 3,
   "metadata": {},
   "outputs": [],
   "source": [
    "# Encode 'Closed Won' and 'Sales Order Signed' as 1, 'Closed Lost' as 0\n",
    "\n",
    "df['Stage'].replace(to_replace = ['Closed Lost', 'Closed Won', 'Sales Order Signed'], value = [0, 1, 1], inplace = True)"
   ]
  },
  {
   "cell_type": "code",
   "execution_count": 4,
   "metadata": {},
   "outputs": [
    {
     "data": {
      "text/plain": [
       "Stage                     0\n",
       "PET Annual Revenue    27469\n",
       "PET Employees         12872\n",
       "PET Match Score        8945\n",
       "$ARR                      0\n",
       "Age                       0\n",
       "dtype: int64"
      ]
     },
     "execution_count": 4,
     "metadata": {},
     "output_type": "execute_result"
    }
   ],
   "source": [
    "# Check for null values to decide on how to impute NaN\n",
    "\n",
    "df.isna().sum()"
   ]
  },
  {
   "cell_type": "code",
   "execution_count": 5,
   "metadata": {},
   "outputs": [
    {
     "data": {
      "text/html": [
       "<div>\n",
       "<style scoped>\n",
       "    .dataframe tbody tr th:only-of-type {\n",
       "        vertical-align: middle;\n",
       "    }\n",
       "\n",
       "    .dataframe tbody tr th {\n",
       "        vertical-align: top;\n",
       "    }\n",
       "\n",
       "    .dataframe thead th {\n",
       "        text-align: right;\n",
       "    }\n",
       "</style>\n",
       "<table border=\"1\" class=\"dataframe\">\n",
       "  <thead>\n",
       "    <tr style=\"text-align: right;\">\n",
       "      <th></th>\n",
       "      <th>Stage</th>\n",
       "      <th>PET Annual Revenue</th>\n",
       "      <th>PET Employees</th>\n",
       "      <th>PET Match Score</th>\n",
       "      <th>$ARR</th>\n",
       "      <th>Age</th>\n",
       "    </tr>\n",
       "  </thead>\n",
       "  <tbody>\n",
       "    <tr>\n",
       "      <th>count</th>\n",
       "      <td>49150.000000</td>\n",
       "      <td>2.168100e+04</td>\n",
       "      <td>3.627800e+04</td>\n",
       "      <td>40205.000000</td>\n",
       "      <td>4.915000e+04</td>\n",
       "      <td>49150.000000</td>\n",
       "    </tr>\n",
       "    <tr>\n",
       "      <th>mean</th>\n",
       "      <td>0.090173</td>\n",
       "      <td>5.981529e+09</td>\n",
       "      <td>9.378244e+03</td>\n",
       "      <td>80.485064</td>\n",
       "      <td>2.946262e+03</td>\n",
       "      <td>89.482930</td>\n",
       "    </tr>\n",
       "    <tr>\n",
       "      <th>std</th>\n",
       "      <td>0.286432</td>\n",
       "      <td>2.936147e+10</td>\n",
       "      <td>5.702437e+04</td>\n",
       "      <td>7.901704</td>\n",
       "      <td>2.261256e+04</td>\n",
       "      <td>110.070348</td>\n",
       "    </tr>\n",
       "    <tr>\n",
       "      <th>min</th>\n",
       "      <td>0.000000</td>\n",
       "      <td>0.000000e+00</td>\n",
       "      <td>0.000000e+00</td>\n",
       "      <td>19.000000</td>\n",
       "      <td>-3.150000e+04</td>\n",
       "      <td>0.000000</td>\n",
       "    </tr>\n",
       "    <tr>\n",
       "      <th>25%</th>\n",
       "      <td>0.000000</td>\n",
       "      <td>4.270000e+06</td>\n",
       "      <td>2.900000e+01</td>\n",
       "      <td>75.000000</td>\n",
       "      <td>0.000000e+00</td>\n",
       "      <td>23.000000</td>\n",
       "    </tr>\n",
       "    <tr>\n",
       "      <th>50%</th>\n",
       "      <td>0.000000</td>\n",
       "      <td>4.133000e+07</td>\n",
       "      <td>1.100000e+02</td>\n",
       "      <td>82.000000</td>\n",
       "      <td>0.000000e+00</td>\n",
       "      <td>57.000000</td>\n",
       "    </tr>\n",
       "    <tr>\n",
       "      <th>75%</th>\n",
       "      <td>0.000000</td>\n",
       "      <td>8.671300e+08</td>\n",
       "      <td>7.817500e+02</td>\n",
       "      <td>83.000000</td>\n",
       "      <td>0.000000e+00</td>\n",
       "      <td>119.000000</td>\n",
       "    </tr>\n",
       "    <tr>\n",
       "      <th>max</th>\n",
       "      <td>1.000000</td>\n",
       "      <td>1.086850e+12</td>\n",
       "      <td>2.200000e+06</td>\n",
       "      <td>100.000000</td>\n",
       "      <td>1.500000e+06</td>\n",
       "      <td>6530.000000</td>\n",
       "    </tr>\n",
       "  </tbody>\n",
       "</table>\n",
       "</div>"
      ],
      "text/plain": [
       "              Stage  PET Annual Revenue  PET Employees  PET Match Score  \\\n",
       "count  49150.000000        2.168100e+04   3.627800e+04     40205.000000   \n",
       "mean       0.090173        5.981529e+09   9.378244e+03        80.485064   \n",
       "std        0.286432        2.936147e+10   5.702437e+04         7.901704   \n",
       "min        0.000000        0.000000e+00   0.000000e+00        19.000000   \n",
       "25%        0.000000        4.270000e+06   2.900000e+01        75.000000   \n",
       "50%        0.000000        4.133000e+07   1.100000e+02        82.000000   \n",
       "75%        0.000000        8.671300e+08   7.817500e+02        83.000000   \n",
       "max        1.000000        1.086850e+12   2.200000e+06       100.000000   \n",
       "\n",
       "               $ARR           Age  \n",
       "count  4.915000e+04  49150.000000  \n",
       "mean   2.946262e+03     89.482930  \n",
       "std    2.261256e+04    110.070348  \n",
       "min   -3.150000e+04      0.000000  \n",
       "25%    0.000000e+00     23.000000  \n",
       "50%    0.000000e+00     57.000000  \n",
       "75%    0.000000e+00    119.000000  \n",
       "max    1.500000e+06   6530.000000  "
      ]
     },
     "execution_count": 5,
     "metadata": {},
     "output_type": "execute_result"
    }
   ],
   "source": [
    "df.describe()"
   ]
  },
  {
   "cell_type": "code",
   "execution_count": 6,
   "metadata": {},
   "outputs": [
    {
     "data": {
      "image/png": "[encoded data removed]",
      "text/plain": [
       "<Figure size 504x504 with 1 Axes>"
      ]
     },
     "metadata": {
      "needs_background": "light"
     },
     "output_type": "display_data"
    }
   ],
   "source": [
    "# Scatter plot to visually identify large outliers\n",
    "\n",
    "plt.figure(figsize = (7,7))\n",
    "plt.xlabel('PET Annual Revenue', labelpad = 10)\n",
    "plt.ylabel('PET Employees', labelpad = 10)\n",
    "plt.scatter(df['PET Annual Revenue'], df['PET Employees']);"
   ]
  },
  {
   "cell_type": "code",
   "execution_count": 7,
   "metadata": {},
   "outputs": [
    {
     "data": {
      "image/png": "[encoded data removed]",
      "text/plain": [
       "<Figure size 504x504 with 1 Axes>"
      ]
     },
     "metadata": {
      "needs_background": "light"
     },
     "output_type": "display_data"
    }
   ],
   "source": [
    "# Scatter plot to visually identify large outliers\n",
    "\n",
    "plt.figure(figsize = (7,7))\n",
    "plt.xlabel('Age', labelpad = 10)\n",
    "plt.ylabel('PET Employees', labelpad = 10)\n",
    "plt.scatter(df['Age'], df['PET Employees']);"
   ]
  },
  {
   "cell_type": "code",
   "execution_count": 8,
   "metadata": {},
   "outputs": [],
   "source": [
    "# Remove outliers\n",
    "\n",
    "df = df[(df['PET Annual Revenue'] < 400000000000) & (df['PET Employees'] < 1000000) & (df['Age'] < 2000)]"
   ]
  },
  {
   "cell_type": "code",
   "execution_count": 9,
   "metadata": {},
   "outputs": [
    {
     "data": {
      "text/html": [
       "<div>\n",
       "<style scoped>\n",
       "    .dataframe tbody tr th:only-of-type {\n",
       "        vertical-align: middle;\n",
       "    }\n",
       "\n",
       "    .dataframe tbody tr th {\n",
       "        vertical-align: top;\n",
       "    }\n",
       "\n",
       "    .dataframe thead th {\n",
       "        text-align: right;\n",
       "    }\n",
       "</style>\n",
       "<table border=\"1\" class=\"dataframe\">\n",
       "  <thead>\n",
       "    <tr style=\"text-align: right;\">\n",
       "      <th></th>\n",
       "      <th>Stage</th>\n",
       "      <th>PET Annual Revenue</th>\n",
       "      <th>PET Employees</th>\n",
       "      <th>PET Match Score</th>\n",
       "      <th>$ARR</th>\n",
       "      <th>Age</th>\n",
       "    </tr>\n",
       "  </thead>\n",
       "  <tbody>\n",
       "    <tr>\n",
       "      <th>0</th>\n",
       "      <td>0.0</td>\n",
       "      <td>0.823863</td>\n",
       "      <td>0.906054</td>\n",
       "      <td>0.034535</td>\n",
       "      <td>0.0</td>\n",
       "      <td>0.693694</td>\n",
       "    </tr>\n",
       "    <tr>\n",
       "      <th>1</th>\n",
       "      <td>0.0</td>\n",
       "      <td>0.925936</td>\n",
       "      <td>0.949950</td>\n",
       "      <td>NaN</td>\n",
       "      <td>0.0</td>\n",
       "      <td>0.406406</td>\n",
       "    </tr>\n",
       "    <tr>\n",
       "      <th>2</th>\n",
       "      <td>0.0</td>\n",
       "      <td>0.146146</td>\n",
       "      <td>0.041542</td>\n",
       "      <td>0.013514</td>\n",
       "      <td>0.0</td>\n",
       "      <td>0.353353</td>\n",
       "    </tr>\n",
       "    <tr>\n",
       "      <th>3</th>\n",
       "      <td>0.0</td>\n",
       "      <td>0.974258</td>\n",
       "      <td>0.926093</td>\n",
       "      <td>0.319319</td>\n",
       "      <td>0.0</td>\n",
       "      <td>0.559059</td>\n",
       "    </tr>\n",
       "    <tr>\n",
       "      <th>4</th>\n",
       "      <td>0.0</td>\n",
       "      <td>0.762402</td>\n",
       "      <td>0.753590</td>\n",
       "      <td>0.789289</td>\n",
       "      <td>0.0</td>\n",
       "      <td>0.505005</td>\n",
       "    </tr>\n",
       "  </tbody>\n",
       "</table>\n",
       "</div>"
      ],
      "text/plain": [
       "   Stage  PET Annual Revenue  PET Employees  PET Match Score  $ARR       Age\n",
       "0    0.0            0.823863       0.906054         0.034535   0.0  0.693694\n",
       "1    0.0            0.925936       0.949950              NaN   0.0  0.406406\n",
       "2    0.0            0.146146       0.041542         0.013514   0.0  0.353353\n",
       "3    0.0            0.974258       0.926093         0.319319   0.0  0.559059\n",
       "4    0.0            0.762402       0.753590         0.789289   0.0  0.505005"
      ]
     },
     "execution_count": 9,
     "metadata": {},
     "output_type": "execute_result"
    }
   ],
   "source": [
    "# Scale data with QuantileTransformer\n",
    "\n",
    "scaler = QuantileTransformer()\n",
    "df_scaled = pd.DataFrame(scaler.fit_transform(df), columns = df.columns)\n",
    "df_scaled.head()"
   ]
  },
  {
   "cell_type": "code",
   "execution_count": 10,
   "metadata": {},
   "outputs": [],
   "source": [
    "# Impute using KNNImputer\n",
    "\n",
    "imputer = KNNImputer(n_neighbors = 15)\n",
    "df_scaled = pd.DataFrame(imputer.fit_transform(df_scaled),columns = df_scaled.columns)"
   ]
  },
  {
   "cell_type": "code",
   "execution_count": 11,
   "metadata": {},
   "outputs": [
    {
     "data": {
      "image/png": "[encoded data removed]",
      "text/plain": [
       "<Figure size 432x288 with 1 Axes>"
      ]
     },
     "metadata": {
      "needs_background": "light"
     },
     "output_type": "display_data"
    }
   ],
   "source": [
    "# Data Exploration - Wins and Losses\n",
    "\n",
    "sns.countplot(x = df_scaled['Stage'], palette = 'Paired');"
   ]
  },
  {
   "cell_type": "code",
   "execution_count": 12,
   "metadata": {},
   "outputs": [
    {
     "data": {
      "image/png": "[encoded data removed]",
      "text/plain": [
       "<Figure size 1224x792 with 2 Axes>"
      ]
     },
     "metadata": {
      "needs_background": "light"
     },
     "output_type": "display_data"
    }
   ],
   "source": [
    "correlation = df_scaled.corr('spearman')\n",
    "fig, ax = plt.subplots(figsize = (17,11))\n",
    "sns.heatmap(correlation, xticklabels = correlation.columns, yticklabels = correlation.columns, annot=True, cmap = sns.diverging_palette(220,20, as_cmap=True), ax=ax);"
   ]
  },
  {
   "cell_type": "code",
   "execution_count": 311,
   "metadata": {},
   "outputs": [],
   "source": [
    "# Remove collinear features\n",
    "\n",
    "df_scaled.drop(['PET Annual Revenue', 'PET Employees'], axis = 1, inplace = True)"
   ]
  },
  {
   "cell_type": "code",
   "execution_count": 13,
   "metadata": {},
   "outputs": [],
   "source": [
    "# Split train and test data\n",
    "\n",
    "X = df_scaled[['PET Match Score', 'Age']]\n",
    "y = df_scaled['Stage']\n",
    "X_train, X_test, y_train, y_test = train_test_split(X, y, train_size = 0.7, test_size = 0.3, random_state = 42, shuffle = True)"
   ]
  },
  {
   "cell_type": "code",
   "execution_count": 22,
   "metadata": {},
   "outputs": [
    {
     "name": "stdout",
     "output_type": "stream",
     "text": [
      "=== Confusion Matrix ===\n",
      "[[5886    0]\n",
      " [ 523    0]]\n",
      "\n",
      "\n",
      "=== Classification Report ===\n",
      "              precision    recall  f1-score   support\n",
      "\n",
      "         0.0       0.92      1.00      0.96      5886\n",
      "         1.0       0.00      0.00      0.00       523\n",
      "\n",
      "    accuracy                           0.92      6409\n",
      "   macro avg       0.46      0.50      0.48      6409\n",
      "weighted avg       0.84      0.92      0.88      6409\n",
      "\n",
      "\n",
      "\n",
      "=== All AUC Scores ===\n",
      "[0.63985135 0.66566888 0.62479522 0.60910842 0.59913799 0.64622557\n",
      " 0.64472329 0.58344799 0.70074618 0.65300745]\n",
      "\n",
      "\n",
      "=== Mean AUC Score ===\n",
      "Mean AUC Score - Logistic Regression:  0.6366712327650388\n"
     ]
    },
    {
     "name": "stderr",
     "output_type": "stream",
     "text": [
      "/Users/jack.galvin/opt/anaconda3/lib/python3.8/site-packages/sklearn/metrics/_classification.py:1221: UndefinedMetricWarning: Precision and F-score are ill-defined and being set to 0.0 in labels with no predicted samples. Use `zero_division` parameter to control this behavior.\n",
      "  _warn_prf(average, modifier, msg_start, len(result))\n"
     ]
    }
   ],
   "source": [
    "# Fit and run the model\n",
    "\n",
    "logreg = LogisticRegression(max_iter = 5000)\n",
    "logreg.fit(X_train,y_train)\n",
    "y_pred = logreg.predict(X_test)"
   ]
  },
  {
   "cell_type": "code",
   "execution_count": 29,
   "metadata": {},
   "outputs": [],
   "source": [
    "# Evaluate performance\n",
    "\n",
    "logreg_cv_score = cross_val_score(logreg, X, y, cv = 10, scoring = \"roc_auc\")"
   ]
  },
  {
   "cell_type": "code",
   "execution_count": 30,
   "metadata": {},
   "outputs": [
    {
     "name": "stdout",
     "output_type": "stream",
     "text": [
      "=== Confusion Matrix ===\n",
      "[[5886    0]\n",
      " [ 523    0]]\n",
      "\n",
      "\n",
      "=== Classification Report ===\n",
      "              precision    recall  f1-score   support\n",
      "\n",
      "         0.0       0.92      1.00      0.96      5886\n",
      "         1.0       0.00      0.00      0.00       523\n",
      "\n",
      "    accuracy                           0.92      6409\n",
      "   macro avg       0.46      0.50      0.48      6409\n",
      "weighted avg       0.84      0.92      0.88      6409\n",
      "\n",
      "\n",
      "\n",
      "=== All AUC Scores ===\n",
      "[0.63985135 0.66566888 0.62479522 0.60910842 0.59913799 0.64622557\n",
      " 0.64472329 0.58344799 0.70074618 0.65300745]\n",
      "\n",
      "\n",
      "=== Mean AUC Score ===\n",
      "Mean AUC Score - Logistic Regression:  0.6366712327650388\n"
     ]
    },
    {
     "name": "stderr",
     "output_type": "stream",
     "text": [
      "/Users/jack.galvin/opt/anaconda3/lib/python3.8/site-packages/sklearn/metrics/_classification.py:1221: UndefinedMetricWarning: Precision and F-score are ill-defined and being set to 0.0 in labels with no predicted samples. Use `zero_division` parameter to control this behavior.\n",
      "  _warn_prf(average, modifier, msg_start, len(result))\n"
     ]
    }
   ],
   "source": [
    "# Print out a performance report\n",
    "\n",
    "print(\"=== Confusion Matrix ===\")\n",
    "print(confusion_matrix(y_test, y_pred))\n",
    "print('\\n')\n",
    "print(\"=== Classification Report ===\")\n",
    "print(classification_report(y_test, y_pred))\n",
    "print('\\n')\n",
    "print(\"=== All AUC Scores ===\")\n",
    "print(logreg_cv_score)\n",
    "print('\\n')\n",
    "print(\"=== Mean AUC Score ===\")\n",
    "print(\"Mean AUC Score - Logistic Regression: \", logreg_cv_score.mean())"
   ]
  },
  {
   "cell_type": "code",
   "execution_count": 26,
   "metadata": {},
   "outputs": [
    {
     "data": {
      "image/png": "[encoded data removed]",
      "text/plain": [
       "<Figure size 720x504 with 1 Axes>"
      ]
     },
     "metadata": {
      "needs_background": "light"
     },
     "output_type": "display_data"
    }
   ],
   "source": [
    "# Plot the ROC Curve\n",
    "\n",
    "logit_roc_auc = roc_auc_score(y_test, logreg.predict(X_test))\n",
    "fpr, tpr, thresholds = roc_curve(y_test, logreg.predict_proba(X_test)[:,1])\n",
    "\n",
    "plt.figure(figsize = (10,7))\n",
    "plt.plot(fpr, tpr, label='Logistic Regression (area = %0.2f)' % logit_roc_auc)\n",
    "plt.plot([0, 1], [0, 1],'r--')\n",
    "plt.xlim([0.0, 1.0])\n",
    "plt.ylim([0.0, 1.05])\n",
    "\n",
    "plt.xlabel('False Positive Rate')\n",
    "plt.ylabel('True Positive Rate')\n",
    "plt.title('Receiver Operating Characteristic')\n",
    "plt.legend(loc=\"lower right\")\n",
    "plt.savefig('Log_ROC')\n",
    "plt.show()"
   ]
  },
  {
   "cell_type": "code",
   "execution_count": null,
   "metadata": {},
   "outputs": [],
   "source": []
  },
  {
   "cell_type": "code",
   "execution_count": null,
   "metadata": {},
   "outputs": [],
   "source": []
  }
 ],
 "metadata": {
  "kernelspec": {
   "display_name": "Python 3",
   "language": "python",
   "name": "python3"
  },
  "language_info": {
   "codemirror_mode": {
    "name": "ipython",
    "version": 3
   },
   "file_extension": ".py",
   "mimetype": "text/x-python",
   "name": "python",
   "nbconvert_exporter": "python",
   "pygments_lexer": "ipython3",
   "version": "3.8.5"
  }
 },
 "nbformat": 4,
 "nbformat_minor": 4
}
