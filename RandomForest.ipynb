{
 "cells": [
  {
   "cell_type": "code",
   "execution_count": 38,
   "metadata": {},
   "outputs": [],
   "source": [
    "# Import modules\n",
    "\n",
    "import numpy as np\n",
    "import pandas as pd\n",
    "import matplotlib.pyplot as plt\n",
    "import seaborn as sns\n",
    "from sklearn.model_selection import train_test_split\n",
    "from sklearn import model_selection\n",
    "from sklearn.preprocessing import MinMaxScaler, StandardScaler, RobustScaler, QuantileTransformer\n",
    "from sklearn.impute import KNNImputer\n",
    "from sklearn.ensemble import RandomForestClassifier\n",
    "from sklearn.metrics import classification_report, confusion_matrix, accuracy_score\n",
    "from sklearn.model_selection import cross_val_score\n",
    "from sklearn.model_selection import RandomizedSearchCV\n",
    "from sklearn.metrics import roc_curve, auc, roc_auc_score\n",
    "from scipy import stats\n",
    "%matplotlib inline"
   ]
  },
  {
   "cell_type": "code",
   "execution_count": 20,
   "metadata": {},
   "outputs": [],
   "source": [
    "# Import the data and remove unnecessary columns\n",
    "\n",
    "df = pd.read_csv('/Users/jack.galvin/Desktop/Predictive/sfdcreport.csv')\n",
    "df.drop(['Account Name', 'Website', 'Opportunity Name', 'Type', 'Close Date', 'Created Date'], axis = 1, inplace = True)"
   ]
  },
  {
   "cell_type": "code",
   "execution_count": 21,
   "metadata": {},
   "outputs": [],
   "source": [
    "# Encode 'Closed Won' and 'Sales Order Signed' as 1, 'Closed Lost' as 0\n",
    "\n",
    "df['Stage'].replace(to_replace = ['Closed Lost', 'Closed Won', 'Sales Order Signed'], value = [0, 1, 1], inplace = True)"
   ]
  },
  {
   "cell_type": "code",
   "execution_count": 22,
   "metadata": {},
   "outputs": [
    {
     "data": {
      "text/plain": [
       "Stage                     0\n",
       "PET Annual Revenue    27469\n",
       "PET Employees         12872\n",
       "PET Match Score        8945\n",
       "$ARR                      0\n",
       "Age                       0\n",
       "dtype: int64"
      ]
     },
     "execution_count": 22,
     "metadata": {},
     "output_type": "execute_result"
    }
   ],
   "source": [
    "# Check for null values to decide on how to impute NaN\n",
    "\n",
    "df.isna().sum()"
   ]
  },
  {
   "cell_type": "code",
   "execution_count": 23,
   "metadata": {},
   "outputs": [
    {
     "data": {
      "text/html": [
       "<div>\n",
       "<style scoped>\n",
       "    .dataframe tbody tr th:only-of-type {\n",
       "        vertical-align: middle;\n",
       "    }\n",
       "\n",
       "    .dataframe tbody tr th {\n",
       "        vertical-align: top;\n",
       "    }\n",
       "\n",
       "    .dataframe thead th {\n",
       "        text-align: right;\n",
       "    }\n",
       "</style>\n",
       "<table border=\"1\" class=\"dataframe\">\n",
       "  <thead>\n",
       "    <tr style=\"text-align: right;\">\n",
       "      <th></th>\n",
       "      <th>Stage</th>\n",
       "      <th>PET Annual Revenue</th>\n",
       "      <th>PET Employees</th>\n",
       "      <th>PET Match Score</th>\n",
       "      <th>$ARR</th>\n",
       "      <th>Age</th>\n",
       "    </tr>\n",
       "  </thead>\n",
       "  <tbody>\n",
       "    <tr>\n",
       "      <th>count</th>\n",
       "      <td>49150.000000</td>\n",
       "      <td>2.168100e+04</td>\n",
       "      <td>3.627800e+04</td>\n",
       "      <td>40205.000000</td>\n",
       "      <td>4.915000e+04</td>\n",
       "      <td>49150.000000</td>\n",
       "    </tr>\n",
       "    <tr>\n",
       "      <th>mean</th>\n",
       "      <td>0.090173</td>\n",
       "      <td>5.981529e+09</td>\n",
       "      <td>9.378244e+03</td>\n",
       "      <td>80.485064</td>\n",
       "      <td>2.946262e+03</td>\n",
       "      <td>89.482930</td>\n",
       "    </tr>\n",
       "    <tr>\n",
       "      <th>std</th>\n",
       "      <td>0.286432</td>\n",
       "      <td>2.936147e+10</td>\n",
       "      <td>5.702437e+04</td>\n",
       "      <td>7.901704</td>\n",
       "      <td>2.261256e+04</td>\n",
       "      <td>110.070348</td>\n",
       "    </tr>\n",
       "    <tr>\n",
       "      <th>min</th>\n",
       "      <td>0.000000</td>\n",
       "      <td>0.000000e+00</td>\n",
       "      <td>0.000000e+00</td>\n",
       "      <td>19.000000</td>\n",
       "      <td>-3.150000e+04</td>\n",
       "      <td>0.000000</td>\n",
       "    </tr>\n",
       "    <tr>\n",
       "      <th>25%</th>\n",
       "      <td>0.000000</td>\n",
       "      <td>4.270000e+06</td>\n",
       "      <td>2.900000e+01</td>\n",
       "      <td>75.000000</td>\n",
       "      <td>0.000000e+00</td>\n",
       "      <td>23.000000</td>\n",
       "    </tr>\n",
       "    <tr>\n",
       "      <th>50%</th>\n",
       "      <td>0.000000</td>\n",
       "      <td>4.133000e+07</td>\n",
       "      <td>1.100000e+02</td>\n",
       "      <td>82.000000</td>\n",
       "      <td>0.000000e+00</td>\n",
       "      <td>57.000000</td>\n",
       "    </tr>\n",
       "    <tr>\n",
       "      <th>75%</th>\n",
       "      <td>0.000000</td>\n",
       "      <td>8.671300e+08</td>\n",
       "      <td>7.817500e+02</td>\n",
       "      <td>83.000000</td>\n",
       "      <td>0.000000e+00</td>\n",
       "      <td>119.000000</td>\n",
       "    </tr>\n",
       "    <tr>\n",
       "      <th>max</th>\n",
       "      <td>1.000000</td>\n",
       "      <td>1.086850e+12</td>\n",
       "      <td>2.200000e+06</td>\n",
       "      <td>100.000000</td>\n",
       "      <td>1.500000e+06</td>\n",
       "      <td>6530.000000</td>\n",
       "    </tr>\n",
       "  </tbody>\n",
       "</table>\n",
       "</div>"
      ],
      "text/plain": [
       "              Stage  PET Annual Revenue  PET Employees  PET Match Score  \\\n",
       "count  49150.000000        2.168100e+04   3.627800e+04     40205.000000   \n",
       "mean       0.090173        5.981529e+09   9.378244e+03        80.485064   \n",
       "std        0.286432        2.936147e+10   5.702437e+04         7.901704   \n",
       "min        0.000000        0.000000e+00   0.000000e+00        19.000000   \n",
       "25%        0.000000        4.270000e+06   2.900000e+01        75.000000   \n",
       "50%        0.000000        4.133000e+07   1.100000e+02        82.000000   \n",
       "75%        0.000000        8.671300e+08   7.817500e+02        83.000000   \n",
       "max        1.000000        1.086850e+12   2.200000e+06       100.000000   \n",
       "\n",
       "               $ARR           Age  \n",
       "count  4.915000e+04  49150.000000  \n",
       "mean   2.946262e+03     89.482930  \n",
       "std    2.261256e+04    110.070348  \n",
       "min   -3.150000e+04      0.000000  \n",
       "25%    0.000000e+00     23.000000  \n",
       "50%    0.000000e+00     57.000000  \n",
       "75%    0.000000e+00    119.000000  \n",
       "max    1.500000e+06   6530.000000  "
      ]
     },
     "execution_count": 23,
     "metadata": {},
     "output_type": "execute_result"
    }
   ],
   "source": [
    "df.describe()"
   ]
  },
  {
   "cell_type": "code",
   "execution_count": 24,
   "metadata": {},
   "outputs": [
    {
     "data": {
      "image/png": "[encoded data removed]",
      "text/plain": [
       "<Figure size 504x504 with 1 Axes>"
      ]
     },
     "metadata": {
      "needs_background": "light"
     },
     "output_type": "display_data"
    }
   ],
   "source": [
    "# Scatter plot to visually identify large outliers\n",
    "\n",
    "plt.figure(figsize = (7,7))\n",
    "plt.xlabel('PET Annual Revenue', labelpad = 10)\n",
    "plt.ylabel('PET Employees', labelpad = 10)\n",
    "plt.scatter(df['PET Annual Revenue'], df['PET Employees']);"
   ]
  },
  {
   "cell_type": "code",
   "execution_count": 25,
   "metadata": {},
   "outputs": [
    {
     "data": {
      "image/png": "[encoded data removed]",
      "text/plain": [
       "<Figure size 504x504 with 1 Axes>"
      ]
     },
     "metadata": {
      "needs_background": "light"
     },
     "output_type": "display_data"
    }
   ],
   "source": [
    "# Scatter plot to visually identify large outliers\n",
    "\n",
    "plt.figure(figsize = (7,7))\n",
    "plt.xlabel('Age', labelpad = 10)\n",
    "plt.ylabel('PET Employees', labelpad = 10)\n",
    "plt.scatter(df['Age'], df['PET Employees']);"
   ]
  },
  {
   "cell_type": "code",
   "execution_count": 26,
   "metadata": {},
   "outputs": [],
   "source": [
    "# Remove outliers\n",
    "\n",
    "df = df[(df['PET Annual Revenue'] < 400000000000) & (df['PET Employees'] < 1000000) & (df['Age'] < 2000)]"
   ]
  },
  {
   "cell_type": "code",
   "execution_count": 27,
   "metadata": {},
   "outputs": [
    {
     "data": {
      "text/html": [
       "<div>\n",
       "<style scoped>\n",
       "    .dataframe tbody tr th:only-of-type {\n",
       "        vertical-align: middle;\n",
       "    }\n",
       "\n",
       "    .dataframe tbody tr th {\n",
       "        vertical-align: top;\n",
       "    }\n",
       "\n",
       "    .dataframe thead th {\n",
       "        text-align: right;\n",
       "    }\n",
       "</style>\n",
       "<table border=\"1\" class=\"dataframe\">\n",
       "  <thead>\n",
       "    <tr style=\"text-align: right;\">\n",
       "      <th></th>\n",
       "      <th>Stage</th>\n",
       "      <th>PET Annual Revenue</th>\n",
       "      <th>PET Employees</th>\n",
       "      <th>PET Match Score</th>\n",
       "      <th>$ARR</th>\n",
       "      <th>Age</th>\n",
       "    </tr>\n",
       "  </thead>\n",
       "  <tbody>\n",
       "    <tr>\n",
       "      <th>0</th>\n",
       "      <td>0.0</td>\n",
       "      <td>0.823863</td>\n",
       "      <td>0.906054</td>\n",
       "      <td>0.034535</td>\n",
       "      <td>0.0</td>\n",
       "      <td>0.693694</td>\n",
       "    </tr>\n",
       "    <tr>\n",
       "      <th>1</th>\n",
       "      <td>0.0</td>\n",
       "      <td>0.925936</td>\n",
       "      <td>0.949950</td>\n",
       "      <td>NaN</td>\n",
       "      <td>0.0</td>\n",
       "      <td>0.406406</td>\n",
       "    </tr>\n",
       "    <tr>\n",
       "      <th>2</th>\n",
       "      <td>0.0</td>\n",
       "      <td>0.146146</td>\n",
       "      <td>0.041542</td>\n",
       "      <td>0.013514</td>\n",
       "      <td>0.0</td>\n",
       "      <td>0.353353</td>\n",
       "    </tr>\n",
       "    <tr>\n",
       "      <th>3</th>\n",
       "      <td>0.0</td>\n",
       "      <td>0.974258</td>\n",
       "      <td>0.926093</td>\n",
       "      <td>0.319319</td>\n",
       "      <td>0.0</td>\n",
       "      <td>0.559059</td>\n",
       "    </tr>\n",
       "    <tr>\n",
       "      <th>4</th>\n",
       "      <td>0.0</td>\n",
       "      <td>0.762402</td>\n",
       "      <td>0.753590</td>\n",
       "      <td>0.789289</td>\n",
       "      <td>0.0</td>\n",
       "      <td>0.505005</td>\n",
       "    </tr>\n",
       "  </tbody>\n",
       "</table>\n",
       "</div>"
      ],
      "text/plain": [
       "   Stage  PET Annual Revenue  PET Employees  PET Match Score  $ARR       Age\n",
       "0    0.0            0.823863       0.906054         0.034535   0.0  0.693694\n",
       "1    0.0            0.925936       0.949950              NaN   0.0  0.406406\n",
       "2    0.0            0.146146       0.041542         0.013514   0.0  0.353353\n",
       "3    0.0            0.974258       0.926093         0.319319   0.0  0.559059\n",
       "4    0.0            0.762402       0.753590         0.789289   0.0  0.505005"
      ]
     },
     "execution_count": 27,
     "metadata": {},
     "output_type": "execute_result"
    }
   ],
   "source": [
    "# Scale data with RobustScaler since there are a few large outliers\n",
    "\n",
    "scaler = QuantileTransformer()\n",
    "df_scaled = pd.DataFrame(scaler.fit_transform(df), columns = df.columns)\n",
    "df_scaled.head()"
   ]
  },
  {
   "cell_type": "code",
   "execution_count": 28,
   "metadata": {},
   "outputs": [],
   "source": [
    "# Impute using KNNImputer\n",
    "\n",
    "imputer = KNNImputer(n_neighbors = 15)\n",
    "df_scaled = pd.DataFrame(imputer.fit_transform(df_scaled),columns = df_scaled.columns)"
   ]
  },
  {
   "cell_type": "code",
   "execution_count": 29,
   "metadata": {},
   "outputs": [
    {
     "data": {
      "image/png": "[encoded data removed]",
      "text/plain": [
       "<Figure size 432x288 with 1 Axes>"
      ]
     },
     "metadata": {
      "needs_background": "light"
     },
     "output_type": "display_data"
    }
   ],
   "source": [
    "# Data Exploration - Wins and Losses\n",
    "\n",
    "sns.countplot(x = df_scaled['Stage'], palette = 'Paired');"
   ]
  },
  {
   "cell_type": "code",
   "execution_count": 30,
   "metadata": {},
   "outputs": [
    {
     "data": {
      "image/png": "[encoded data removed]",
      "text/plain": [
       "<Figure size 1224x792 with 2 Axes>"
      ]
     },
     "metadata": {
      "needs_background": "light"
     },
     "output_type": "display_data"
    }
   ],
   "source": [
    "# Identify correlations\n",
    "\n",
    "correlation = df_scaled.corr('spearman')\n",
    "fig, ax = plt.subplots(figsize = (17,11))\n",
    "sns.heatmap(correlation, xticklabels = correlation.columns, yticklabels = correlation.columns, annot=True, cmap = sns.diverging_palette(220,20, as_cmap=True), ax=ax);"
   ]
  },
  {
   "cell_type": "code",
   "execution_count": 31,
   "metadata": {},
   "outputs": [],
   "source": [
    "# Split train and test data\n",
    "\n",
    "X = df_scaled[['PET Match Score', 'PET Annual Revenue', 'PET Employees', 'Age']]\n",
    "y = df_scaled['Stage']\n",
    "X_train, X_test, y_train, y_test = train_test_split(X, y, train_size = 0.7, test_size = 0.3, random_state = 42, shuffle = True)"
   ]
  },
  {
   "cell_type": "code",
   "execution_count": 32,
   "metadata": {},
   "outputs": [],
   "source": [
    "# Implement and fit the model\n",
    "\n",
    "rfc = RandomForestClassifier()\n",
    "rfc.fit(X_train,y_train)\n",
    "rfc_predict = rfc.predict(X_test)"
   ]
  },
  {
   "cell_type": "code",
   "execution_count": 33,
   "metadata": {},
   "outputs": [],
   "source": [
    "# Evaluate model's performance\n",
    "\n",
    "rfc_cv_score = cross_val_score(rfc, X, y, cv=10, scoring = \"roc_auc\")"
   ]
  },
  {
   "cell_type": "code",
   "execution_count": 34,
   "metadata": {},
   "outputs": [
    {
     "name": "stdout",
     "output_type": "stream",
     "text": [
      "=== Confusion Matrix ===\n",
      "[[5865   21]\n",
      " [ 512   11]]\n",
      "\n",
      "\n",
      "=== Classification Report ===\n",
      "              precision    recall  f1-score   support\n",
      "\n",
      "         0.0       0.92      1.00      0.96      5886\n",
      "         1.0       0.34      0.02      0.04       523\n",
      "\n",
      "    accuracy                           0.92      6409\n",
      "   macro avg       0.63      0.51      0.50      6409\n",
      "weighted avg       0.87      0.92      0.88      6409\n",
      "\n",
      "\n",
      "\n",
      "=== All AUC Scores ===\n",
      "[0.62007247 0.60641263 0.57734926 0.6289661  0.62229621 0.60929881\n",
      " 0.63295299 0.58292163 0.63772862 0.64182271]\n",
      "\n",
      "\n",
      "=== Mean AUC Score ===\n",
      "Mean AUC Score - Random Forest:  0.6159821417074441\n"
     ]
    }
   ],
   "source": [
    "# Print out a performance report\n",
    "\n",
    "print(\"=== Confusion Matrix ===\")\n",
    "print(confusion_matrix(y_test, rfc_predict))\n",
    "print('\\n')\n",
    "print(\"=== Classification Report ===\")\n",
    "print(classification_report(y_test, rfc_predict))\n",
    "print('\\n')\n",
    "print(\"=== All AUC Scores ===\")\n",
    "print(rfc_cv_score)\n",
    "print('\\n')\n",
    "print(\"=== Mean AUC Score ===\")\n",
    "print(\"Mean AUC Score - Random Forest: \", rfc_cv_score.mean())"
   ]
  },
  {
   "cell_type": "code",
   "execution_count": 35,
   "metadata": {},
   "outputs": [
    {
     "name": "stdout",
     "output_type": "stream",
     "text": [
      "Fitting 3 folds for each of 100 candidates, totalling 300 fits\n"
     ]
    },
    {
     "name": "stderr",
     "output_type": "stream",
     "text": [
      "[Parallel(n_jobs=-1)]: Using backend LokyBackend with 8 concurrent workers.\n",
      "[Parallel(n_jobs=-1)]: Done  25 tasks      | elapsed:  1.6min\n",
      "[Parallel(n_jobs=-1)]: Done 146 tasks      | elapsed:  8.2min\n",
      "[Parallel(n_jobs=-1)]: Done 300 out of 300 | elapsed: 17.0min finished\n"
     ]
    },
    {
     "name": "stdout",
     "output_type": "stream",
     "text": [
      "{'n_estimators': 1000, 'min_samples_split': 10, 'min_samples_leaf': 2, 'max_features': 'sqrt', 'max_depth': 10, 'bootstrap': True}\n"
     ]
    }
   ],
   "source": [
    "# Tune hyperparemeters using RandomizedSearchCV\n",
    "\n",
    "# number of trees in random forest\n",
    "n_estimators = [int(x) for x in np.linspace(start = 200, stop = 2000, num = 10)]\n",
    "# number of features at every split\n",
    "max_features = [\"auto\", \"sqrt\"]\n",
    "# Maximum number of levels in tree\n",
    "max_depth = [int(x) for x in np.linspace(10, 110, num = 11)]\n",
    "max_depth.append(None)\n",
    "# Minimum number of samples required to split a node\n",
    "min_samples_split = [2, 5, 10]\n",
    "# Minimum number of samples required at each leaf node\n",
    "min_samples_leaf = [1, 2, 4]\n",
    "# Method of selecting samples for training each tree\n",
    "bootstrap = [True, False]\n",
    "# Create the random grid\n",
    "random_grid = {'n_estimators': n_estimators,\n",
    "               'max_features': max_features,\n",
    "               'max_depth': max_depth,\n",
    "               'min_samples_split': min_samples_split,\n",
    "               'min_samples_leaf': min_samples_leaf,\n",
    "               'bootstrap': bootstrap}\n",
    "# Random search of parameters\n",
    "rfc_random = RandomizedSearchCV(estimator = rfc, param_distributions = random_grid, n_iter = 100, cv = 3, verbose = 2, random_state = 42, n_jobs = -1)\n",
    "# Fit the model\n",
    "rfc_random.fit(X_train, y_train)\n",
    "# print results\n",
    "print(rfc_random.best_params_)"
   ]
  },
  {
   "cell_type": "code",
   "execution_count": 36,
   "metadata": {},
   "outputs": [
    {
     "name": "stdout",
     "output_type": "stream",
     "text": [
      "=== Confusion Matrix ===\n",
      "[[5882    4]\n",
      " [ 518    5]]\n",
      "\n",
      "\n",
      "=== Classification Report ===\n",
      "              precision    recall  f1-score   support\n",
      "\n",
      "         0.0       0.92      1.00      0.96      5886\n",
      "         1.0       0.56      0.01      0.02       523\n",
      "\n",
      "    accuracy                           0.92      6409\n",
      "   macro avg       0.74      0.50      0.49      6409\n",
      "weighted avg       0.89      0.92      0.88      6409\n",
      "\n",
      "\n",
      "\n",
      "=== All AUC Scores ===\n",
      "[0.67073896 0.65293225 0.64544483 0.64498087 0.65784388 0.66991015\n",
      " 0.68837433 0.63514002 0.72250131 0.70071419]\n",
      "\n",
      "\n",
      "=== Mean AUC Score ===\n",
      "Mean AUC Score - Random Forest:  0.6688580791376223\n"
     ]
    }
   ],
   "source": [
    "# Implement and fit using updated hyperparemeters\n",
    "\n",
    "rfc = RandomForestClassifier(n_estimators = 1000, max_depth = 10, max_features = \"sqrt\", min_samples_split = 10, min_samples_leaf = 2)\n",
    "rfc.fit(X_train,y_train)\n",
    "rfc_predict = rfc.predict(X_test)\n",
    "rfc_cv_score = cross_val_score(rfc, X, y, cv = 10, scoring = \"roc_auc\")\n",
    "\n",
    "print(\"=== Confusion Matrix ===\")\n",
    "print(confusion_matrix(y_test, rfc_predict))\n",
    "print('\\n')\n",
    "print(\"=== Classification Report ===\")\n",
    "print(classification_report(y_test, rfc_predict))\n",
    "print('\\n')\n",
    "print(\"=== All AUC Scores ===\")\n",
    "print(rfc_cv_score)\n",
    "print('\\n')\n",
    "print(\"=== Mean AUC Score ===\")\n",
    "print(\"Mean AUC Score - Random Forest: \", rfc_cv_score.mean())"
   ]
  },
  {
   "cell_type": "code",
   "execution_count": 44,
   "metadata": {},
   "outputs": [
    {
     "data": {
      "image/png": "[encoded data removed]",
      "text/plain": [
       "<Figure size 720x504 with 1 Axes>"
      ]
     },
     "metadata": {
      "needs_background": "light"
     },
     "output_type": "display_data"
    }
   ],
   "source": [
    "# Evaluate performance by plotting ROC Curve\n",
    "\n",
    "rfc_roc_auc = roc_auc_score(y_test, rfc.predict(X_test))\n",
    "fpr, tpr, thresholds = roc_curve(y_test, rfc.predict_proba(X_test)[:,1])\n",
    "\n",
    "plt.figure(figsize = (10,7))\n",
    "plt.plot(fpr, tpr, label='RFC (area = %0.2f)' % rfc_roc_auc)\n",
    "plt.plot([0, 1], [0, 1],'r--')\n",
    "plt.xlim([0.0, 1.0])\n",
    "plt.ylim([0.0, 1.05])\n",
    "\n",
    "plt.xlabel('False Positive Rate')\n",
    "plt.ylabel('True Positive Rate')\n",
    "plt.title('Receiver Operating Characteristic')\n",
    "plt.legend(loc=\"lower right\")\n",
    "plt.savefig('RFC_ROC')\n",
    "plt.show()"
   ]
  },
  {
   "cell_type": "code",
   "execution_count": null,
   "metadata": {},
   "outputs": [],
   "source": []
  },
  {
   "cell_type": "code",
   "execution_count": null,
   "metadata": {},
   "outputs": [],
   "source": []
  }
 ],
 "metadata": {
  "kernelspec": {
   "display_name": "Python 3",
   "language": "python",
   "name": "python3"
  },
  "language_info": {
   "codemirror_mode": {
    "name": "ipython",
    "version": 3
   },
   "file_extension": ".py",
   "mimetype": "text/x-python",
   "name": "python",
   "nbconvert_exporter": "python",
   "pygments_lexer": "ipython3",
   "version": "3.8.5"
  }
 },
 "nbformat": 4,
 "nbformat_minor": 4
}
