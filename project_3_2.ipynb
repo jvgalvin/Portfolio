{
 "cells": [
  {
   "cell_type": "markdown",
   "id": "3f465500",
   "metadata": {},
   "source": [
    "# Project 3, Part 2, Queries on the stations, lines, and travel times tables for the BART system that we will use later to create the graph\n",
    "\n",
    "University of California, Berkeley\n",
    "\n",
    "Master of Information and Data Science (MIDS) program\n",
    "\n",
    "w205 - Fundamentals of Data Engineering\n",
    "\n"
   ]
  },
  {
   "cell_type": "markdown",
   "id": "33c6e20e",
   "metadata": {},
   "source": [
    "# Included Modules and Packages\n",
    "\n",
    "Code cell containing your includes for modules and packages\n",
    "\n",
    "Some starter code is provided\n",
    "\n",
    "You may change the starter code as needed\n",
    "\n",
    "You may add as much code and/or as many code cells as you need"
   ]
  },
  {
   "cell_type": "code",
   "execution_count": null,
   "id": "530d745a",
   "metadata": {},
   "outputs": [],
   "source": [
    "import csv\n",
    "\n",
    "import math\n",
    "import numpy as np\n",
    "import pandas as pd\n",
    "\n",
    "import psycopg2"
   ]
  },
  {
   "cell_type": "markdown",
   "id": "c91c8869",
   "metadata": {},
   "source": [
    "# Supporting code\n",
    "\n",
    "Code cells containing any supporting code, such as connecting to the database, any functions, etc.  \n",
    "\n",
    "Remember you can freely use any code from the labs. You do not need to cite code from the labs.\n",
    "\n",
    "Some starter code is provided\n",
    "\n",
    "You may change the starter code as needed\n",
    "\n",
    "You may add as much code and/or as many code cells as you need"
   ]
  },
  {
   "cell_type": "code",
   "execution_count": null,
   "id": "8e09ebb0",
   "metadata": {},
   "outputs": [],
   "source": [
    "#\n",
    "# function to run a select query and return rows in a pandas dataframe\n",
    "# pandas puts all numeric values from postgres to float\n",
    "# if it will fit in an integer, change it to integer\n",
    "#\n",
    "\n",
    "def my_select_query_pandas(query, rollback_before_flag, rollback_after_flag):\n",
    "    \"function to run a select query and return rows in a pandas dataframe\"\n",
    "    \n",
    "    if rollback_before_flag:\n",
    "        connection.rollback()\n",
    "    \n",
    "    df = pd.read_sql_query(query, connection)\n",
    "    \n",
    "    if rollback_after_flag:\n",
    "        connection.rollback()\n",
    "    \n",
    "    # fix the float columns that really should be integers\n",
    "    \n",
    "    for column in df:\n",
    "    \n",
    "        if df[column].dtype == \"float64\":\n",
    "\n",
    "            fraction_flag = False\n",
    "\n",
    "            for value in df[column].values:\n",
    "                \n",
    "                if not np.isnan(value):\n",
    "                    if value - math.floor(value) != 0:\n",
    "                        fraction_flag = True\n",
    "\n",
    "            if not fraction_flag:\n",
    "                df[column] = df[column].astype('Int64')\n",
    "    \n",
    "    return(df)\n",
    "    "
   ]
  },
  {
   "cell_type": "code",
   "execution_count": null,
   "id": "1f198d4d",
   "metadata": {},
   "outputs": [],
   "source": [
    "connection = psycopg2.connect(\n",
    "    user = \"postgres\",\n",
    "    password = \"ucb\",\n",
    "    host = \"postgres\",\n",
    "    port = \"5432\",\n",
    "    database = \"postgres\"\n",
    ")"
   ]
  },
  {
   "cell_type": "code",
   "execution_count": null,
   "id": "dc7a762b",
   "metadata": {},
   "outputs": [],
   "source": [
    "cursor = connection.cursor()"
   ]
  },
  {
   "cell_type": "markdown",
   "id": "01f7c054",
   "metadata": {},
   "source": [
    "# 3.2.1 Query the list of stations\n",
    "\n",
    "Show the station from the stations table\n",
    "\n",
    "Sort by station\n",
    "\n",
    "The query should return 50 rows\n",
    "\n",
    "Display the results in a Pandas data frame"
   ]
  },
  {
   "cell_type": "code",
   "execution_count": null,
   "id": "dc23fdb3",
   "metadata": {},
   "outputs": [],
   "source": [
    "rollback_before_flag = True\n",
    "rollback_after_flag = True\n",
    "\n",
    "query = \"\"\"\n",
    "\n",
    "Replace this with your SQL\n",
    "\n",
    "\"\"\"\n",
    "\n",
    "my_select_query_pandas(query, rollback_before_flag, rollback_after_flag)"
   ]
  },
  {
   "cell_type": "markdown",
   "id": "d2e6beed",
   "metadata": {},
   "source": [
    "# 3.2.2 Query the lines served by the West Oakland station\n",
    "\n",
    "The West Oakland station should serve the 4 following lines:\n",
    "\n",
    "|station|line|\n",
    "|-------|----|\n",
    "|West Oakland|blue|\n",
    "|West Oakland|green|\n",
    "|West Oakland|red|\n",
    "|West Oakland|yellow|\n",
    "\n",
    "Show the station and line from the lines table where the station is West Oakland\n",
    "\n",
    "Sort by station, line\n",
    "\n",
    "Display the results in a Pandas data frame"
   ]
  },
  {
   "cell_type": "code",
   "execution_count": null,
   "id": "25102bfa",
   "metadata": {},
   "outputs": [],
   "source": [
    "rollback_before_flag = True\n",
    "rollback_after_flag = True\n",
    "\n",
    "query = \"\"\"\n",
    "\n",
    "Replace this with your SQL\n",
    "\n",
    "\"\"\"\n",
    "\n",
    "my_select_query_pandas(query, rollback_before_flag, rollback_after_flag)"
   ]
  },
  {
   "cell_type": "markdown",
   "id": "5ea418ac",
   "metadata": {},
   "source": [
    "# 3.2.3 Query the list of stations and the lines they serve\n",
    "\n",
    "Same query as the last one, but for all stations, not just limited to West Oakland\n",
    "\n",
    "There should be 114 row returned\n",
    "\n",
    "Display the results in a Pandas data frame"
   ]
  },
  {
   "cell_type": "code",
   "execution_count": null,
   "id": "8e7397f3",
   "metadata": {},
   "outputs": [],
   "source": [
    "rollback_before_flag = True\n",
    "rollback_after_flag = True\n",
    "\n",
    "query = \"\"\"\n",
    "\n",
    "Replace this with your SQL\n",
    "\n",
    "\"\"\"\n",
    "\n",
    "my_select_query_pandas(query, rollback_before_flag, rollback_after_flag)"
   ]
  },
  {
   "cell_type": "markdown",
   "id": "e9ec28e9",
   "metadata": {},
   "source": [
    "# 3.2.4 Query the list of all possible line transfers at the West Oakland station and the transfer times\n",
    "\n",
    "A transfer is when two or more lines pass through a station and the passenger gets off one line and gets on another line.\n",
    "\n",
    "At West Oakland, there are 12 possible transfers:\n",
    "\n",
    "|station|from_line|to_line|transfer_time|\n",
    "|-------|---------|-------|-------------|\n",
    "|West Oakland|blue|green|283|\n",
    "|West Oakland|blue|red|283|\n",
    "|West Oakland|blue|yellow|283|\n",
    "|West Oakland|green|blue|283|\n",
    "|West Oakland|green|red|283|\n",
    "|West Oakland|green|yellow|283|\n",
    "|West Oakland|red|blue|283|\n",
    "|West Oakland|red|green|283|\n",
    "|West Oakland|red|yellow|283|\n",
    "|West Oakland|yellow|blue|283|\n",
    "|West Oakland|yellow|green|283|\n",
    "|West Oakland|yellow|red|283|\n",
    "\n",
    "Show the station, from line, to line, transfer time in seconds where the station is West Oakland\n",
    "\n",
    "Sort by station, from line, to line\n",
    "\n",
    "Hints:\n",
    "\n",
    "Join the lines table to itself where the station is the same, but the lines are different\n",
    "\n",
    "Then join to the stations table to pull the transfer time\n",
    "\n",
    "Display the results in a Pandas data frame"
   ]
  },
  {
   "cell_type": "code",
   "execution_count": null,
   "id": "8037a0fc",
   "metadata": {},
   "outputs": [],
   "source": [
    "rollback_before_flag = True\n",
    "rollback_after_flag = True\n",
    "\n",
    "query = \"\"\"\n",
    "\n",
    "Replace this with your SQL\n",
    "\n",
    "\"\"\"\n",
    "\n",
    "my_select_query_pandas(query, rollback_before_flag, rollback_after_flag)"
   ]
  },
  {
   "cell_type": "markdown",
   "id": "9d6b64d4",
   "metadata": {},
   "source": [
    "# 3.2.5 Query the list of all possible line transfers and the transfer times\n",
    "\n",
    "Same query as the last query, but all stations, not just limited to West Oakland\n",
    "\n",
    "The query should return 208 rows\n",
    "\n",
    "Display the results in a Pandas data frame"
   ]
  },
  {
   "cell_type": "code",
   "execution_count": null,
   "id": "58126b8b",
   "metadata": {},
   "outputs": [],
   "source": [
    "rollback_before_flag = True\n",
    "rollback_after_flag = True\n",
    "\n",
    "query = \"\"\"\n",
    "\n",
    "Replace this with your SQL\n",
    "\n",
    "\"\"\"\n",
    "\n",
    "my_select_query_pandas(query, rollback_before_flag, rollback_after_flag)"
   ]
  },
  {
   "cell_type": "markdown",
   "id": "2f4c7b06",
   "metadata": {},
   "source": [
    "# 3.2.6 Query the list of all segments between the West Oakland station and its adjoining stations\n",
    "\n",
    "\n",
    "West Oakland has the following 8 segments between it and the stations it adjoins:\n",
    "\n",
    "|line|from station|to station|travel time in seconds|\n",
    "|----|------------|----------|----------------------|\n",
    "|blue|Lake Merritt|West Oakland|360|\n",
    "|blue|West Oakland|Embarcadero|420|\n",
    "|green|Lake Merritt|West Oakland|360|\n",
    "|green|West Oakland|Embarcadero|420|\n",
    "|red|12th Street|West Oakland|300|\n",
    "|red|West Oakland|Embarcadero|420|\n",
    "|yellow|12th Street|West Oakland|300|\n",
    "|yellow|West Oakland|Embarcadero|420|\n",
    "\n",
    "Show the line, from station, to station, travel time in seconds\n",
    "\n",
    "Sort by line, from station, to station\n",
    "\n",
    "Note: Since the lines table is only showing one way for each line, we will only get one way in this query.  This is fine.  Later when we build the graph, we will simply create the relationships going both ways.\n",
    "\n",
    "Hints:\n",
    "\n",
    "Join lines to itself where the line is the same and the sequence is equal to the sequence + 1\n",
    "\n",
    "Then join to the travel_times table matching stations and pulling the travel time (note that the stations may be in either order in the travel_times table)\n",
    "\n",
    "Display the results in a Pandas data frame"
   ]
  },
  {
   "cell_type": "code",
   "execution_count": null,
   "id": "fa7a802d",
   "metadata": {},
   "outputs": [],
   "source": [
    "rollback_before_flag = True\n",
    "rollback_after_flag = True\n",
    "\n",
    "query = \"\"\"\n",
    "\n",
    "Replace this with your SQL\n",
    "\n",
    "\"\"\"\n",
    "\n",
    "my_select_query_pandas(query, rollback_before_flag, rollback_after_flag)"
   ]
  },
  {
   "cell_type": "markdown",
   "id": "a9a38830",
   "metadata": {},
   "source": [
    "# 3.2.7 Query the list of all segments between each station and its adjoining stations\n",
    "\n",
    "Same query as the last query, but for all stations, not limited to West Oakland.\n",
    "\n",
    "The query should return 108 rows\n",
    "\n",
    "Display the results in a Pandas data frame"
   ]
  },
  {
   "cell_type": "code",
   "execution_count": null,
   "id": "3dbad43d",
   "metadata": {},
   "outputs": [],
   "source": [
    "rollback_before_flag = True\n",
    "rollback_after_flag = True\n",
    "\n",
    "query = \"\"\"\n",
    "\n",
    "Replace this with your SQL\n",
    "\n",
    "\"\"\"\n",
    "\n",
    "my_select_query_pandas(query, rollback_before_flag, rollback_after_flag)"
   ]
  }
 ],
 "metadata": {
  "kernelspec": {
   "display_name": "Python 3",
   "language": "python",
   "name": "python3"
  },
  "language_info": {
   "codemirror_mode": {
    "name": "ipython",
    "version": 3
   },
   "file_extension": ".py",
   "mimetype": "text/x-python",
   "name": "python",
   "nbconvert_exporter": "python",
   "pygments_lexer": "ipython3",
   "version": "3.8.8"
  }
 },
 "nbformat": 4,
 "nbformat_minor": 5
}
