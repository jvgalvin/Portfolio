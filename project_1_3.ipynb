{
 "cells": [
  {
   "cell_type": "markdown",
   "id": "5ef2321d",
   "metadata": {},
   "source": [
    "# Project 1, Part 3, Executive Questions: Product Specific Questions\n",
    "\n",
    "University of California, Berkeley\n",
    "Master of Information and Data Science (MIDS) program\n",
    "w205 - Fundamentals of Data Engineering\n",
    "\n",
    "Student: John (Jack) Galvin\n",
    "\n",
    "Year: 2022\n",
    "\n",
    "Semester: Spring\n",
    "\n",
    "Section: 9\n"
   ]
  },
  {
   "cell_type": "markdown",
   "id": "7272bf9d",
   "metadata": {},
   "source": [
    "# Included Modules and Packages\n",
    "\n",
    "Code cell containing your includes for modules and packages"
   ]
  },
  {
   "cell_type": "code",
   "execution_count": 1,
   "id": "51b70d97",
   "metadata": {},
   "outputs": [],
   "source": [
    "import math\n",
    "import numpy as np\n",
    "import pandas as pd\n",
    "import matplotlib.pyplot as plt\n",
    "import seaborn as sns\n",
    "%matplotlib inline\n",
    "\n",
    "import psycopg2"
   ]
  },
  {
   "cell_type": "markdown",
   "id": "8cdc6092",
   "metadata": {},
   "source": [
    "# Supporting code\n",
    "\n",
    "Code cells containing any supporting code, such as connecting to the database, any functions, etc.  Remember you can use any code from the labs."
   ]
  },
  {
   "cell_type": "code",
   "execution_count": 2,
   "id": "18cd2cc1",
   "metadata": {},
   "outputs": [],
   "source": [
    "# Function to run a select query and return rows in a pandas dataframe\n",
    "# Pandas puts all numeric values from postgres to float\n",
    "# If it will fit in an integer, change it to integer\n",
    "\n",
    "\n",
    "def my_select_query_pandas(query, rollback_before_flag, rollback_after_flag):\n",
    "    \"function to run a select query and return rows in a pandas dataframe\"\n",
    "    \n",
    "    if rollback_before_flag:\n",
    "        connection.rollback()\n",
    "    \n",
    "    df = pd.read_sql_query(query, connection)\n",
    "    \n",
    "    if rollback_after_flag:\n",
    "        connection.rollback()\n",
    "    \n",
    "    # fix the float columns that really should be integers\n",
    "    \n",
    "    for column in df:\n",
    "    \n",
    "        if df[column].dtype == \"float64\":\n",
    "\n",
    "            fraction_flag = False\n",
    "\n",
    "            for value in df[column].values:\n",
    "                \n",
    "                if not np.isnan(value):\n",
    "                    if value - math.floor(value) != 0:\n",
    "                        fraction_flag = True\n",
    "\n",
    "            if not fraction_flag:\n",
    "                df[column] = df[column].astype('Int64')\n",
    "    \n",
    "    return(df)"
   ]
  },
  {
   "cell_type": "code",
   "execution_count": 3,
   "id": "cb1c0210",
   "metadata": {},
   "outputs": [],
   "source": [
    "# Connect to Postgres\n",
    "\n",
    "connection = psycopg2.connect(\n",
    "    user = \"postgres\",\n",
    "    password = \"ucb\",\n",
    "    host = \"postgres\",\n",
    "    port = \"5432\",\n",
    "    database = \"postgres\"\n",
    ")"
   ]
  },
  {
   "cell_type": "code",
   "execution_count": 4,
   "id": "0deb9371",
   "metadata": {},
   "outputs": [],
   "source": [
    "# Create a cursor for the connection\n",
    "\n",
    "cursor = connection.cursor()"
   ]
  },
  {
   "cell_type": "markdown",
   "id": "041fd6f9",
   "metadata": {},
   "source": [
    "# Instructions for Specific Questions\n",
    "\n",
    "For each specific quesion, you must write 1 and only 1 query that answers that specific question.  The results of your query must be displayed in a Pandas dataframe as demonstrated in the labs\n",
    "\n",
    "All output should be sorted.\n",
    "\n",
    "For store name, use the city name the store is located in.\n",
    "\n",
    "When sorting by store name, sort in alphabetical order.\n",
    "\n",
    "For meal name, use the product description.\n",
    "\n",
    "When sorting by meal name, sort in alphabetical order.\n",
    "\n",
    "For month, use the full month name: January, February, March, etc.\n",
    "\n",
    "When sorting by month, sort in calendar order: January, February, March, etc.  You may find it useful to include a month number to help with the sort.  It's ok to leave it in the output.\n",
    "\n",
    "For day of week, use the full day of week name: Sunday, Monday, Tuesday, etc.\n",
    "\n",
    "When sorting by day of week, sort in day of week order: Sunday, Monday, Tuesday, etc. You may find it usefule to include a day of week number to help with the sort.  It's ok to leave it in the output.\n"
   ]
  },
  {
   "cell_type": "markdown",
   "id": "56b17701",
   "metadata": {},
   "source": [
    "# 1.3.1 How many meals were purchased for all of AGM?"
   ]
  },
  {
   "cell_type": "code",
   "execution_count": 15,
   "id": "46e68503",
   "metadata": {},
   "outputs": [
    {
     "data": {
      "text/html": [
       "<div>\n",
       "<style scoped>\n",
       "    .dataframe tbody tr th:only-of-type {\n",
       "        vertical-align: middle;\n",
       "    }\n",
       "\n",
       "    .dataframe tbody tr th {\n",
       "        vertical-align: top;\n",
       "    }\n",
       "\n",
       "    .dataframe thead th {\n",
       "        text-align: right;\n",
       "    }\n",
       "</style>\n",
       "<table border=\"1\" class=\"dataframe\">\n",
       "  <thead>\n",
       "    <tr style=\"text-align: right;\">\n",
       "      <th></th>\n",
       "      <th>total_meals</th>\n",
       "    </tr>\n",
       "  </thead>\n",
       "  <tbody>\n",
       "    <tr>\n",
       "      <th>0</th>\n",
       "      <td>8228284</td>\n",
       "    </tr>\n",
       "  </tbody>\n",
       "</table>\n",
       "</div>"
      ],
      "text/plain": [
       "   total_meals\n",
       "0      8228284"
      ]
     },
     "execution_count": 15,
     "metadata": {},
     "output_type": "execute_result"
    }
   ],
   "source": [
    "rollback_before_flag = True\n",
    "rollback_after_flag = True\n",
    "\n",
    "query = \"\"\"\n",
    "\n",
    "select sum(quantity) as total_meals\n",
    "from line_items\n",
    "\n",
    "\"\"\"\n",
    "\n",
    "my_select_query_pandas(query, rollback_before_flag, rollback_after_flag)"
   ]
  },
  {
   "cell_type": "markdown",
   "id": "89a014cb",
   "metadata": {},
   "source": [
    "# 1.3.2 How many meals were purchased for all of AGM by meal?\n",
    "\n",
    "Sort by meal name in alphabetical order"
   ]
  },
  {
   "cell_type": "code",
   "execution_count": 19,
   "id": "71d0fa12",
   "metadata": {},
   "outputs": [
    {
     "data": {
      "text/html": [
       "<div>\n",
       "<style scoped>\n",
       "    .dataframe tbody tr th:only-of-type {\n",
       "        vertical-align: middle;\n",
       "    }\n",
       "\n",
       "    .dataframe tbody tr th {\n",
       "        vertical-align: top;\n",
       "    }\n",
       "\n",
       "    .dataframe thead th {\n",
       "        text-align: right;\n",
       "    }\n",
       "</style>\n",
       "<table border=\"1\" class=\"dataframe\">\n",
       "  <thead>\n",
       "    <tr style=\"text-align: right;\">\n",
       "      <th></th>\n",
       "      <th>product</th>\n",
       "      <th>total_quantity_sold</th>\n",
       "    </tr>\n",
       "  </thead>\n",
       "  <tbody>\n",
       "    <tr>\n",
       "      <th>0</th>\n",
       "      <td>Brocolli Stir Fry</td>\n",
       "      <td>913984</td>\n",
       "    </tr>\n",
       "    <tr>\n",
       "      <th>1</th>\n",
       "      <td>Chicken Salad</td>\n",
       "      <td>228561</td>\n",
       "    </tr>\n",
       "    <tr>\n",
       "      <th>2</th>\n",
       "      <td>Curry Chicken</td>\n",
       "      <td>1368884</td>\n",
       "    </tr>\n",
       "    <tr>\n",
       "      <th>3</th>\n",
       "      <td>Eggplant Lasagna</td>\n",
       "      <td>1599058</td>\n",
       "    </tr>\n",
       "    <tr>\n",
       "      <th>4</th>\n",
       "      <td>Pistachio Salmon</td>\n",
       "      <td>1828778</td>\n",
       "    </tr>\n",
       "    <tr>\n",
       "      <th>5</th>\n",
       "      <td>Spinach Orzo</td>\n",
       "      <td>456769</td>\n",
       "    </tr>\n",
       "    <tr>\n",
       "      <th>6</th>\n",
       "      <td>Teriyaki Chicken</td>\n",
       "      <td>1145013</td>\n",
       "    </tr>\n",
       "    <tr>\n",
       "      <th>7</th>\n",
       "      <td>Tilapia Piccata</td>\n",
       "      <td>687237</td>\n",
       "    </tr>\n",
       "  </tbody>\n",
       "</table>\n",
       "</div>"
      ],
      "text/plain": [
       "             product  total_quantity_sold\n",
       "0  Brocolli Stir Fry               913984\n",
       "1      Chicken Salad               228561\n",
       "2      Curry Chicken              1368884\n",
       "3   Eggplant Lasagna              1599058\n",
       "4   Pistachio Salmon              1828778\n",
       "5       Spinach Orzo               456769\n",
       "6   Teriyaki Chicken              1145013\n",
       "7    Tilapia Piccata               687237"
      ]
     },
     "execution_count": 19,
     "metadata": {},
     "output_type": "execute_result"
    }
   ],
   "source": [
    "rollback_before_flag = True\n",
    "rollback_after_flag = True\n",
    "\n",
    "query = \"\"\"\n",
    "\n",
    "select p.description as product,\n",
    "       sum(l.quantity) as total_quantity_sold\n",
    "from line_items as l\n",
    "     join products as p\n",
    "         on l.product_id = p.product_id\n",
    "group by product\n",
    "order by product\n",
    "\n",
    "\"\"\"\n",
    "\n",
    "my_select_query_pandas(query, rollback_before_flag, rollback_after_flag)"
   ]
  },
  {
   "cell_type": "markdown",
   "id": "e9b50d77",
   "metadata": {},
   "source": [
    "# 1.3.3 How many meals were purchased by store and by meal?\n",
    "\n",
    "Sort by store name in alphabetical order, then by meal name in alphabetical order"
   ]
  },
  {
   "cell_type": "code",
   "execution_count": null,
   "id": "e83b9c3e",
   "metadata": {},
   "outputs": [],
   "source": []
  },
  {
   "cell_type": "markdown",
   "id": "04b5beb8",
   "metadata": {},
   "source": [
    "# 1.3.4 How many meals were purchased by month?\n",
    "\n",
    "Sort by month in calendar order"
   ]
  },
  {
   "cell_type": "code",
   "execution_count": null,
   "id": "f40e04fc",
   "metadata": {},
   "outputs": [],
   "source": []
  },
  {
   "cell_type": "markdown",
   "id": "1c6e6715",
   "metadata": {},
   "source": [
    "# 1.3.5 How many meals were purchased by month and meal?\n",
    "\n",
    "Sort by month in calendar order, then by meal name in alphabetical order"
   ]
  },
  {
   "cell_type": "code",
   "execution_count": null,
   "id": "0973d182",
   "metadata": {},
   "outputs": [],
   "source": []
  },
  {
   "cell_type": "markdown",
   "id": "600e67a5",
   "metadata": {},
   "source": [
    "# 1.3.6 How many meals were purchased by day of week and meal?\n",
    "\n",
    "Sort by day of week in day of week order, then by meal name in alphabetical order"
   ]
  },
  {
   "cell_type": "code",
   "execution_count": null,
   "id": "a43eefe6",
   "metadata": {},
   "outputs": [],
   "source": []
  },
  {
   "cell_type": "markdown",
   "id": "ead8f831",
   "metadata": {},
   "source": [
    "# 1.3.7 Average number of meals per sale for all of AGM\n"
   ]
  },
  {
   "cell_type": "code",
   "execution_count": null,
   "id": "3f061a10",
   "metadata": {},
   "outputs": [],
   "source": []
  },
  {
   "cell_type": "markdown",
   "id": "32356f8d",
   "metadata": {},
   "source": [
    "# 1.3.8 Average number of meals per sale by store\n",
    "\n",
    "Sort by store name in alphabetical order\n"
   ]
  },
  {
   "cell_type": "code",
   "execution_count": null,
   "id": "96932b3e",
   "metadata": {},
   "outputs": [],
   "source": []
  },
  {
   "cell_type": "markdown",
   "id": "758ecbd2",
   "metadata": {},
   "source": [
    "# 1.3.9 The Executives have also asked you to provide your best example of a data visualization for one of the above queries\n",
    "\n",
    "You may choose any one of the above queries. \n",
    "\n",
    "It's best to select the one that you think will provide the most interesting data visualization.  \n",
    "\n",
    "You are allowed to add a pivot as demonstrated in the labs if it is needed for your data visualization. "
   ]
  },
  {
   "cell_type": "code",
   "execution_count": null,
   "id": "83c13762",
   "metadata": {},
   "outputs": [],
   "source": []
  }
 ],
 "metadata": {
  "kernelspec": {
   "display_name": "Python 3",
   "language": "python",
   "name": "python3"
  },
  "language_info": {
   "codemirror_mode": {
    "name": "ipython",
    "version": 3
   },
   "file_extension": ".py",
   "mimetype": "text/x-python",
   "name": "python",
   "nbconvert_exporter": "python",
   "pygments_lexer": "ipython3",
   "version": "3.8.8"
  }
 },
 "nbformat": 4,
 "nbformat_minor": 5
}
