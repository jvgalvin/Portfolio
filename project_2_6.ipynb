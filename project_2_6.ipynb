{
 "cells": [
  {
   "cell_type": "markdown",
   "id": "3f465500",
   "metadata": {},
   "source": [
    "# Project 2, Part 6, Preliminary analytics\n",
    "\n",
    "University of California, Berkeley\n",
    "\n",
    "Master of Information and Data Science (MIDS) program\n",
    "\n",
    "w205 - Fundamentals of Data Engineering\n",
    "\n",
    "Student:\n",
    "\n",
    "Year:\n",
    "\n",
    "Semester:\n",
    "\n",
    "Section:\n"
   ]
  },
  {
   "cell_type": "markdown",
   "id": "33c6e20e",
   "metadata": {},
   "source": [
    "# Included Modules and Packages\n",
    "\n",
    "Code cell containing your includes for modules and packages"
   ]
  },
  {
   "cell_type": "code",
   "execution_count": null,
   "id": "63839f89",
   "metadata": {},
   "outputs": [],
   "source": []
  },
  {
   "cell_type": "markdown",
   "id": "c91c8869",
   "metadata": {},
   "source": [
    "# Supporting code\n",
    "\n",
    "Code cells containing any supporting code, such as connecting to the database, any functions, etc.  \n",
    "\n",
    "Remember you can freely use any code from the labs. You do not need to cite code from the labs."
   ]
  },
  {
   "cell_type": "code",
   "execution_count": null,
   "id": "5d21fb19",
   "metadata": {},
   "outputs": [],
   "source": []
  },
  {
   "cell_type": "markdown",
   "id": "d2e6beed",
   "metadata": {},
   "source": [
    "# 2.6.1 Total dollar amount of sales\n",
    "\n",
    "Write a query to sum the total_amount in the stage_1_peak_sales table and present the sum in a Pandas dataframe with appropriate column header name.\n",
    "\n",
    "It is fine to leave the sum as is.  You do not have to format it or put in dollar signs.\n",
    "\n",
    "Remember that you need to convert varchars to numeric using column::numeric before doing any math on them.\n",
    "\n",
    "Pattern your code after the examples in the labs.  You may use as many code cells as you need."
   ]
  },
  {
   "cell_type": "code",
   "execution_count": null,
   "id": "c5d749bc",
   "metadata": {},
   "outputs": [],
   "source": []
  },
  {
   "cell_type": "markdown",
   "id": "4ae8ab94",
   "metadata": {},
   "source": [
    "# 2.6.2 Total number of sales\n",
    "\n",
    "Write a query to count the total number of sales in the stage_1_peak_sales table and present the sum in a Pandas dataframe with appropriate column header name.  Each record in the stage_1_peak_sales table is a sale.\n",
    "\n",
    "It is fine to leave the count as is.  You do not have to format it.\n",
    "\n",
    "Pattern your code after the examples in the labs.  You may use as many code cells as you need."
   ]
  },
  {
   "cell_type": "code",
   "execution_count": null,
   "id": "0c1c067f",
   "metadata": {},
   "outputs": [],
   "source": []
  },
  {
   "cell_type": "markdown",
   "id": "da981c22",
   "metadata": {},
   "source": [
    "# 2.6.3 Total dollar amount of sales, total cut paid to Peak, net to AGM\n",
    "\n",
    "AGM is paying Peak an 18% cut to deliver the meals.\n",
    "\n",
    "Write a query to calculate the total dollar amount of sales, the total cut paid to Peak, and the net to AGM.  \n",
    "\n",
    "You may want to round to 2 decimal places for the total cut paid to Peak and the net to AGM, as they will be decimal.  \n",
    "\n",
    "You do not need to format the numers with commas, dollar signs, etc.\n",
    "\n",
    "Remember that you need to convert varchars to numeric using column::numeric before doing any math on them.\n",
    "\n",
    "Pattern your code after the examples in the labs.  You may use as many code cells as you need."
   ]
  },
  {
   "cell_type": "code",
   "execution_count": null,
   "id": "2ff10263",
   "metadata": {},
   "outputs": [],
   "source": []
  },
  {
   "cell_type": "markdown",
   "id": "115bf249",
   "metadata": {},
   "source": [
    "# 2.6.4 Total number of meals sold\n",
    "\n",
    "Write a query to sum the quantity in the stage_1_peak_line_items table and present the sum in a Pandas dataframe with appropriate column header name\n",
    "\n",
    "It is fine to leave the number as is.  You do not have to format it.\n",
    "\n",
    "Remember that you need to convert varchars to numeric using column::numeric before doing any math on them.\n",
    "\n",
    "Pattern your code after the examples in the labs.  You may use as many code cells as you need."
   ]
  },
  {
   "cell_type": "code",
   "execution_count": null,
   "id": "a099b456",
   "metadata": {},
   "outputs": [],
   "source": []
  },
  {
   "cell_type": "markdown",
   "id": "1040af7a",
   "metadata": {},
   "source": [
    "# 2.6.5 Total number of meals sold by meal\n",
    "\n",
    "Expanding on the last query, group the sum of quantity by meal.  Display the meal followed by the number of meals sold. \n",
    "\n",
    "Sort by highest number sold first.\n",
    "\n",
    "Note that you will need to use the peak_product_mapping table and the products table in addition to the stage_1_peak_line_items table.\n",
    "\n",
    "It is fine to leave the numbers as is.  You do not have to format them.\n",
    "\n",
    "Remember that you need to convert varchars to numeric using column::numeric before doing any math on them.\n",
    "\n",
    "Pattern your code after the examples in the labs.  You may use as many code cells as you need."
   ]
  },
  {
   "cell_type": "code",
   "execution_count": null,
   "id": "9497750b",
   "metadata": {},
   "outputs": [],
   "source": []
  },
  {
   "cell_type": "markdown",
   "id": "caa060da",
   "metadata": {},
   "source": [
    "# 2.6.6 Average number of meals per sale\n",
    "\n",
    "Write a query to find the average number of meals per sale, which should be equal to the total number of meals sold divided by the total number of sales, both of which we have calculated before.\n",
    "\n",
    "You may want to round to 1 decimal place.\n",
    "\n",
    "Remember that you need to convert varchars to numeric using column::numeric before doing any math on them.\n",
    "\n",
    "Pattern your code after the examples in the labs.  You may use as many code cells as you need."
   ]
  },
  {
   "cell_type": "code",
   "execution_count": null,
   "id": "e60b0a29",
   "metadata": {},
   "outputs": [],
   "source": []
  }
 ],
 "metadata": {
  "kernelspec": {
   "display_name": "Python 3",
   "language": "python",
   "name": "python3"
  },
  "language_info": {
   "codemirror_mode": {
    "name": "ipython",
    "version": 3
   },
   "file_extension": ".py",
   "mimetype": "text/x-python",
   "name": "python",
   "nbconvert_exporter": "python",
   "pygments_lexer": "ipython3",
   "version": "3.8.8"
  }
 },
 "nbformat": 4,
 "nbformat_minor": 5
}
