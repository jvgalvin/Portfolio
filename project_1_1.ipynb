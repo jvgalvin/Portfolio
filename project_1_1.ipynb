{
 "cells": [
  {
   "cell_type": "markdown",
   "id": "3f465500",
   "metadata": {},
   "source": [
    "# Project 1, Part 1, Executive Questions: Sales Specific Questions\n",
    "\n",
    "University of California, Berkeley\n",
    "Master of Information and Data Science (MIDS) program\n",
    "w205 - Fundamentals of Data Engineering\n",
    "\n",
    "Student:\n",
    "\n",
    "Year:\n",
    "\n",
    "Semester:\n",
    "\n",
    "Section:\n"
   ]
  },
  {
   "cell_type": "markdown",
   "id": "33c6e20e",
   "metadata": {},
   "source": [
    "# Included Modules and Packages\n",
    "\n",
    "Code cell containing your includes for modules and packages"
   ]
  },
  {
   "cell_type": "code",
   "execution_count": 1,
   "id": "530d745a",
   "metadata": {},
   "outputs": [],
   "source": []
  },
  {
   "cell_type": "markdown",
   "id": "c91c8869",
   "metadata": {},
   "source": [
    "# Supporting code\n",
    "\n",
    "Code cells containing any supporting code, such as connecting to the database, any functions, etc.  Remember you can use any code from the labs."
   ]
  },
  {
   "cell_type": "code",
   "execution_count": null,
   "id": "8e09ebb0",
   "metadata": {},
   "outputs": [],
   "source": []
  },
  {
   "cell_type": "markdown",
   "id": "a3f3c605",
   "metadata": {},
   "source": [
    "# Instructions for Specific Questions\n",
    "\n",
    "For each specific quesion, you must write 1 and only 1 query that answers that specific question.  The results of your query must be displayed in a Pandas dataframe as demonstrated in the labs\n",
    "\n",
    "All output should be sorted.\n",
    "\n",
    "For store name, use the city name the store is located in.\n",
    "\n",
    "When sorting by store name, sort in alphabetical order.\n",
    "\n",
    "For month, use the full month name: January, February, March, etc.\n",
    "\n",
    "When sorting by month, sort in calendar order: January, February, March, etc.  You may find it useful to include a month number to help with the sort.  It's ok to leave it in the output.\n",
    "\n",
    "For day of week, use the full day of week name: Sunday, Monday, Tuesday, etc.\n",
    "\n",
    "When sorting by day of week, sort in day of week order: Sunday, Monday, Tuesday, etc. You may find it usefule to include a day of week number to help with the sort.  It's ok to leave it in the output.\n"
   ]
  },
  {
   "cell_type": "markdown",
   "id": "d2e6beed",
   "metadata": {},
   "source": [
    "# 1.1.1 Total Sales as a Dollar Amount for all of AGM"
   ]
  },
  {
   "cell_type": "code",
   "execution_count": null,
   "id": "c5d749bc",
   "metadata": {},
   "outputs": [],
   "source": []
  },
  {
   "cell_type": "markdown",
   "id": "967efa8b",
   "metadata": {},
   "source": [
    "# 1.1.2 Total Sales as a Dollar Amount by Store\n",
    "\n",
    "Sort by store name in alphabetical order"
   ]
  },
  {
   "cell_type": "code",
   "execution_count": null,
   "id": "9774a990",
   "metadata": {},
   "outputs": [],
   "source": []
  },
  {
   "cell_type": "markdown",
   "id": "add38065",
   "metadata": {},
   "source": [
    "# 1.1.3 Total Sales as a Dollar Amount by Month\n",
    "\n",
    "Sort by month full name in calendar order"
   ]
  },
  {
   "cell_type": "code",
   "execution_count": null,
   "id": "570b6f02",
   "metadata": {},
   "outputs": [],
   "source": []
  },
  {
   "cell_type": "markdown",
   "id": "a9680a1c",
   "metadata": {},
   "source": [
    "# 1.1.4 Total Sales as a Dollar Amount by Store and Month\n",
    "\n",
    "Sort by store name in alphabetical order, then by month full name in calendar order"
   ]
  },
  {
   "cell_type": "code",
   "execution_count": null,
   "id": "453d038c",
   "metadata": {},
   "outputs": [],
   "source": []
  },
  {
   "cell_type": "markdown",
   "id": "3481ef2a",
   "metadata": {},
   "source": [
    "# 1.1.5 Total Sales as a Dollar Amount by Day of Week\n",
    "\n",
    "Sort by day of week in day of week order."
   ]
  },
  {
   "cell_type": "code",
   "execution_count": null,
   "id": "a0fbfd70",
   "metadata": {},
   "outputs": [],
   "source": []
  },
  {
   "cell_type": "markdown",
   "id": "dfe1a9e9",
   "metadata": {},
   "source": [
    "# 1.1.6 Total Sales as a Dollar Amount by Store and Day of Week\n",
    "\n",
    "Sort by store name in alphabetical order, then by day of week in day of week order."
   ]
  },
  {
   "cell_type": "code",
   "execution_count": null,
   "id": "52f8a73c",
   "metadata": {},
   "outputs": [],
   "source": []
  },
  {
   "cell_type": "markdown",
   "id": "03ae0bc7",
   "metadata": {},
   "source": [
    "# 1.1.7 Total Number of Sales for all of AGM"
   ]
  },
  {
   "cell_type": "code",
   "execution_count": null,
   "id": "df7fc367",
   "metadata": {},
   "outputs": [],
   "source": []
  },
  {
   "cell_type": "markdown",
   "id": "36a6a8f9",
   "metadata": {},
   "source": [
    "# 1.1.8 Total Number of Sales by Store\n",
    "\n",
    "Sort by store name in alphabetical order"
   ]
  },
  {
   "cell_type": "code",
   "execution_count": null,
   "id": "017045da",
   "metadata": {},
   "outputs": [],
   "source": []
  },
  {
   "cell_type": "markdown",
   "id": "81901cac",
   "metadata": {},
   "source": [
    "# 1.1.9 Average Dollar Amount per Sale "
   ]
  },
  {
   "cell_type": "code",
   "execution_count": null,
   "id": "34106b56",
   "metadata": {},
   "outputs": [],
   "source": []
  },
  {
   "cell_type": "markdown",
   "id": "97a9094d",
   "metadata": {},
   "source": [
    "# 1.1.10 Average Dollar Amount per Sale by Store\n",
    "\n",
    "Sort by store name in alphabetical order"
   ]
  },
  {
   "cell_type": "code",
   "execution_count": null,
   "id": "8976a83b",
   "metadata": {},
   "outputs": [],
   "source": []
  },
  {
   "cell_type": "markdown",
   "id": "ff273ba2",
   "metadata": {},
   "source": [
    "# 1.1.11 The Executives have also asked you to provide your best example of a data visualization for one of the above queries\n",
    "\n",
    "You may choose any one of the above queries. \n",
    "\n",
    "It's best to select the one that you think will provide the most interesting data visualization.  \n",
    "\n",
    "You are allowed to add a pivot as demonstrated in the labs if it is needed for your data visualization. "
   ]
  },
  {
   "cell_type": "code",
   "execution_count": null,
   "id": "c23f9e13",
   "metadata": {},
   "outputs": [],
   "source": []
  }
 ],
 "metadata": {
  "kernelspec": {
   "display_name": "Python 3",
   "language": "python",
   "name": "python3"
  },
  "language_info": {
   "codemirror_mode": {
    "name": "ipython",
    "version": 3
   },
   "file_extension": ".py",
   "mimetype": "text/x-python",
   "name": "python",
   "nbconvert_exporter": "python",
   "pygments_lexer": "ipython3",
   "version": "3.8.8"
  }
 },
 "nbformat": 4,
 "nbformat_minor": 5
}
