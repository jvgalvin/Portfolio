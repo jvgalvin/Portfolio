{
 "cells": [
  {
   "cell_type": "markdown",
   "id": "3f465500",
   "metadata": {},
   "source": [
    "# Project 2, Part 1, Create and load the product mapping table\n",
    "\n",
    "University of California, Berkeley\n",
    "\n",
    "Master of Information and Data Science (MIDS) program\n",
    "\n",
    "w205 - Fundamentals of Data Engineering\n",
    "\n",
    "Student: Jack Galvin\n",
    "\n",
    "Year: 2022\n",
    "\n",
    "Semester: Spring\n",
    "\n",
    "Section: 9\n"
   ]
  },
  {
   "cell_type": "markdown",
   "id": "33c6e20e",
   "metadata": {},
   "source": [
    "# Included Modules and Packages\n",
    "\n",
    "Code cell containing your includes for modules and packages"
   ]
  },
  {
   "cell_type": "code",
   "execution_count": 30,
   "id": "d71dfe69",
   "metadata": {},
   "outputs": [],
   "source": [
    "import csv\n",
    "import pandas as pd\n",
    "import numpy as np\n",
    "import math\n",
    "import psycopg2"
   ]
  },
  {
   "cell_type": "markdown",
   "id": "c91c8869",
   "metadata": {},
   "source": [
    "# Supporting code\n",
    "\n",
    "Code cells containing any supporting code, such as connecting to the database, any functions, etc.  \n",
    "\n",
    "Remember you can freely use any code from the labs. You do not need to cite code from the labs."
   ]
  },
  {
   "cell_type": "code",
   "execution_count": 4,
   "id": "ecf679ef",
   "metadata": {},
   "outputs": [],
   "source": [
    "connection = psycopg2.connect(\n",
    "    user = \"postgres\",\n",
    "    password = \"ucb\",\n",
    "    host = \"postgres\",\n",
    "    port = \"5432\",\n",
    "    database = \"postgres\"\n",
    ")"
   ]
  },
  {
   "cell_type": "code",
   "execution_count": 5,
   "id": "2f48405b",
   "metadata": {},
   "outputs": [],
   "source": [
    "cursor = connection.cursor()"
   ]
  },
  {
   "cell_type": "code",
   "execution_count": 22,
   "id": "476a2e7f",
   "metadata": {},
   "outputs": [],
   "source": [
    "# Function to read a csv file\n",
    "\n",
    "def my_read_csv_file(file_name, limit):\n",
    "    \"read the csv file and print only the first limit rows\"\n",
    "    \n",
    "    csv_file = open(file_name, \"r\")\n",
    "    \n",
    "    csv_data = csv.reader(csv_file)\n",
    "    \n",
    "    i = 0\n",
    "    \n",
    "    for row in csv_data:\n",
    "        i += 1\n",
    "        if i <= limit:\n",
    "            print(row)\n",
    "            \n",
    "    print(\"\\nPrinted \", min(limit, i), \"lines of \", i, \"total lines.\")"
   ]
  },
  {
   "cell_type": "code",
   "execution_count": 26,
   "id": "4f86669a",
   "metadata": {},
   "outputs": [],
   "source": [
    "# Function to run a select query and return rows in a pandas dataframe\n",
    "# Pandas puts all numeric values from postgres to float\n",
    "# If it will fit in an integer, change it to integer\n",
    "\n",
    "\n",
    "def my_select_query_pandas(query, rollback_before_flag, rollback_after_flag):\n",
    "    \"function to run a select query and return rows in a pandas dataframe\"\n",
    "    \n",
    "    if rollback_before_flag:\n",
    "        connection.rollback()\n",
    "    \n",
    "    df = pd.read_sql_query(query, connection)\n",
    "    \n",
    "    if rollback_after_flag:\n",
    "        connection.rollback()\n",
    "    \n",
    "    # fix the float columns that really should be integers\n",
    "    \n",
    "    for column in df:\n",
    "    \n",
    "        if df[column].dtype == \"float64\":\n",
    "\n",
    "            fraction_flag = False\n",
    "\n",
    "            for value in df[column].values:\n",
    "                \n",
    "                if not np.isnan(value):\n",
    "                    if value - math.floor(value) != 0:\n",
    "                        fraction_flag = True\n",
    "\n",
    "            if not fraction_flag:\n",
    "                df[column] = df[column].astype('Int64')\n",
    "    \n",
    "    return(df)"
   ]
  },
  {
   "cell_type": "markdown",
   "id": "d2e6beed",
   "metadata": {},
   "source": [
    "# 2.1.1 Drop the product mapping table if it exists\n",
    "\n",
    "The mapping table should be named peak_product_mapping\n",
    "\n",
    "Pattern your code after the examples in the labs.  You may use as many code cells as you need."
   ]
  },
  {
   "cell_type": "code",
   "execution_count": 6,
   "id": "c5d749bc",
   "metadata": {},
   "outputs": [],
   "source": [
    "# Drop the product mapping table if it exists\n",
    "\n",
    "connection.rollback()\n",
    "\n",
    "query = \"\"\"\n",
    "\n",
    "drop table if exists peak_product_mapping\n",
    "\n",
    "\"\"\"\n",
    "\n",
    "cursor.execute(query)\n",
    "\n",
    "connection.commit()"
   ]
  },
  {
   "cell_type": "markdown",
   "id": "6c605bc0",
   "metadata": {},
   "source": [
    "# 2.1.2 Create the product mapping table\n",
    "\n",
    "The mapping table should be named peak_product_mapping with the following columns:\n",
    "* product_id numeric(3) - AGM's product id\n",
    "* peak_product_id numeric(12) - Peak's product id\n",
    "\n",
    "product_id should be the primary key\n",
    "\n",
    "AGM has entered its products into Peak's system.  Peak is using its product IDs and not AGM's product IDs.  This table will allow us to map between the two IDs.\n",
    "\n",
    "Pattern your code after the examples in the labs.  You may use as many code cells as you need."
   ]
  },
  {
   "cell_type": "code",
   "execution_count": 7,
   "id": "6dc1a427",
   "metadata": {},
   "outputs": [],
   "source": [
    "# Create product mapping table\n",
    "\n",
    "connection.rollback()\n",
    "\n",
    "query = \"\"\"\n",
    "\n",
    "create table peak_product_mapping (\n",
    "  product_id numeric(3),\n",
    "  peak_product_id numeric(12),\n",
    "  PRIMARY KEY (product_id)\n",
    ");\n",
    "\n",
    "\"\"\"\n",
    "\n",
    "cursor.execute(query)\n",
    "\n",
    "connection.commit()"
   ]
  },
  {
   "cell_type": "markdown",
   "id": "f35e95b4",
   "metadata": {},
   "source": [
    "# 2.1.3 Create a CSV file of product mapping data and display it\n",
    "\n",
    "Create a CSV file of product mapping data named peak_product_mapping.csv\n",
    "\n",
    "Check this file into your GitHub repo\n",
    "\n",
    "The field names in the first line of the CSV file should match the column names of the peak_product_mapping table\n",
    "\n",
    "The data should map the products as follows:\n",
    "\n",
    "|product_id |peak_product_id |\n",
    "|---|---|\n",
    "|1|42314677|\n",
    "|2|42314678|\n",
    "|3|42314679|\n",
    "|4|42314780|\n",
    "|5|42314781|\n",
    "|6|42314782|\n",
    "|7|42314783|\n",
    "|8|42314784|\n",
    "\n",
    "Display all the rows in the CSV file using the function my_read_csv_file() from the labs.\n",
    "\n",
    "Pattern your code after the examples in the labs.  You may use as many code cells as you need."
   ]
  },
  {
   "cell_type": "code",
   "execution_count": 15,
   "id": "e3b9ff94",
   "metadata": {},
   "outputs": [],
   "source": [
    "# Create a data frame\n",
    "\n",
    "data = {\"product_id\": [1,\n",
    "                       2, \n",
    "                       3, \n",
    "                       4, \n",
    "                       5, \n",
    "                       6, \n",
    "                       7, \n",
    "                       8],\n",
    "       \"peak_product_id\": [42314677,\n",
    "                          42314678,\n",
    "                          42314679,\n",
    "                          42314780,\n",
    "                          42314781,\n",
    "                          42314782,\n",
    "                          42314783,\n",
    "                          42314784]}\n",
    "\n",
    "df = pd.DataFrame(data)"
   ]
  },
  {
   "cell_type": "code",
   "execution_count": 20,
   "id": "413579de",
   "metadata": {},
   "outputs": [],
   "source": [
    "# Read the data frame to csv\n",
    "\n",
    "df.to_csv(\"peak_product_mapping.csv\", index=False)"
   ]
  },
  {
   "cell_type": "code",
   "execution_count": 24,
   "id": "a70b4c62",
   "metadata": {},
   "outputs": [
    {
     "name": "stdout",
     "output_type": "stream",
     "text": [
      "['product_id', 'peak_product_id']\n",
      "['1', '42314677']\n",
      "['2', '42314678']\n",
      "['3', '42314679']\n",
      "['4', '42314780']\n",
      "['5', '42314781']\n",
      "['6', '42314782']\n",
      "['7', '42314783']\n",
      "['8', '42314784']\n",
      "\n",
      "Printed  9 lines of  9 total lines.\n"
     ]
    }
   ],
   "source": [
    "# Call the function to print the csv\n",
    "\n",
    "my_read_csv_file(\"peak_product_mapping.csv\", limit = 10)"
   ]
  },
  {
   "cell_type": "markdown",
   "id": "c31ed590",
   "metadata": {},
   "source": [
    "# 2.1.4 Load product mapping data into database table\n",
    "\n",
    "Load the CSV file (peak_product_mapping.csv) into the database table (peak_product_mapping)\n",
    "\n",
    "Pattern your code after the examples in the labs.  You may use as many code cells as you need."
   ]
  },
  {
   "cell_type": "code",
   "execution_count": 25,
   "id": "90df3796",
   "metadata": {},
   "outputs": [],
   "source": [
    "# Load the csv file into the database table\n",
    "\n",
    "connection.rollback()\n",
    "\n",
    "query = \"\"\"\n",
    "\n",
    "copy peak_product_mapping\n",
    "from '/user/projects/ucb_mids_w205_project_2/peak_product_mapping.csv' delimiter ',' NULL '' csv header;\n",
    "\n",
    "\"\"\"\n",
    "\n",
    "cursor.execute(query)\n",
    "\n",
    "connection.commit()"
   ]
  },
  {
   "cell_type": "markdown",
   "id": "6f844d1e",
   "metadata": {},
   "source": [
    "# 2.1.5 Verify the product mapping loaded correctly\n",
    "\n",
    "Write a query to verify the product mapping loaded correctly\n",
    "\n",
    "Also join to the products table and pull the description as product name\n",
    "\n",
    "Include: product id, peak product id, product name\n",
    "\n",
    "Sort by product id\n",
    "\n",
    "Display the results in a Pandas data frame\n",
    "\n",
    "Pattern your code after the examples in the labs.  You may use as many code cells as you need."
   ]
  },
  {
   "cell_type": "code",
   "execution_count": 33,
   "id": "c135f195",
   "metadata": {},
   "outputs": [
    {
     "data": {
      "text/html": [
       "<div>\n",
       "<style scoped>\n",
       "    .dataframe tbody tr th:only-of-type {\n",
       "        vertical-align: middle;\n",
       "    }\n",
       "\n",
       "    .dataframe tbody tr th {\n",
       "        vertical-align: top;\n",
       "    }\n",
       "\n",
       "    .dataframe thead th {\n",
       "        text-align: right;\n",
       "    }\n",
       "</style>\n",
       "<table border=\"1\" class=\"dataframe\">\n",
       "  <thead>\n",
       "    <tr style=\"text-align: right;\">\n",
       "      <th></th>\n",
       "      <th>product_id</th>\n",
       "      <th>peak_product_id</th>\n",
       "    </tr>\n",
       "  </thead>\n",
       "  <tbody>\n",
       "    <tr>\n",
       "      <th>0</th>\n",
       "      <td>1</td>\n",
       "      <td>42314677</td>\n",
       "    </tr>\n",
       "    <tr>\n",
       "      <th>1</th>\n",
       "      <td>2</td>\n",
       "      <td>42314678</td>\n",
       "    </tr>\n",
       "    <tr>\n",
       "      <th>2</th>\n",
       "      <td>3</td>\n",
       "      <td>42314679</td>\n",
       "    </tr>\n",
       "    <tr>\n",
       "      <th>3</th>\n",
       "      <td>4</td>\n",
       "      <td>42314780</td>\n",
       "    </tr>\n",
       "    <tr>\n",
       "      <th>4</th>\n",
       "      <td>5</td>\n",
       "      <td>42314781</td>\n",
       "    </tr>\n",
       "    <tr>\n",
       "      <th>5</th>\n",
       "      <td>6</td>\n",
       "      <td>42314782</td>\n",
       "    </tr>\n",
       "    <tr>\n",
       "      <th>6</th>\n",
       "      <td>7</td>\n",
       "      <td>42314783</td>\n",
       "    </tr>\n",
       "    <tr>\n",
       "      <th>7</th>\n",
       "      <td>8</td>\n",
       "      <td>42314784</td>\n",
       "    </tr>\n",
       "  </tbody>\n",
       "</table>\n",
       "</div>"
      ],
      "text/plain": [
       "   product_id  peak_product_id\n",
       "0           1         42314677\n",
       "1           2         42314678\n",
       "2           3         42314679\n",
       "3           4         42314780\n",
       "4           5         42314781\n",
       "5           6         42314782\n",
       "6           7         42314783\n",
       "7           8         42314784"
      ]
     },
     "execution_count": 33,
     "metadata": {},
     "output_type": "execute_result"
    }
   ],
   "source": [
    "# Verify that the product mapping table was loaded correcty to the database\n",
    "\n",
    "rollback_before_flag = True\n",
    "rollback_after_flag = True\n",
    "\n",
    "query = \"\"\"\n",
    "\n",
    "select *\n",
    "from peak_product_mapping;\n",
    "\n",
    "\"\"\"\n",
    "\n",
    "my_select_query_pandas(query, rollback_before_flag, rollback_after_flag)"
   ]
  },
  {
   "cell_type": "code",
   "execution_count": null,
   "id": "1c82bbc2",
   "metadata": {},
   "outputs": [],
   "source": [
    "# Join to the products table and pull the description as product name\n",
    "\n",
    "# Verify that the product mapping table was loaded correcty to the database\n",
    "\n",
    "rollback_before_flag = True\n",
    "rollback_after_flag = True\n",
    "\n",
    "query = \"\"\"\n",
    "\n",
    "select p.product_id,\n",
    "        pmt.peak_product_id,\n",
    "        p.description as product_name  \n",
    "from peak_product_mapping as pmt\n",
    "    join products as p\n",
    "        on p.product_id = pmt.product_id\n",
    "group by p.product_id, pmt.peak_product_id, p.description\n",
    "\n",
    ";\n",
    "\n",
    "\"\"\"\n",
    "\n",
    "my_select_query_pandas(query, rollback_before_flag, rollback_after_flag)"
   ]
  }
 ],
 "metadata": {
  "kernelspec": {
   "display_name": "Python 3",
   "language": "python",
   "name": "python3"
  },
  "language_info": {
   "codemirror_mode": {
    "name": "ipython",
    "version": 3
   },
   "file_extension": ".py",
   "mimetype": "text/x-python",
   "name": "python",
   "nbconvert_exporter": "python",
   "pygments_lexer": "ipython3",
   "version": "3.8.8"
  }
 },
 "nbformat": 4,
 "nbformat_minor": 5
}
