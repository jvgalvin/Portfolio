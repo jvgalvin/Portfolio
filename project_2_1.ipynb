{
 "cells": [
  {
   "cell_type": "markdown",
   "id": "3f465500",
   "metadata": {},
   "source": [
    "# Project 2, Part 1, Create and load the product mapping table\n",
    "\n",
    "University of California, Berkeley\n",
    "\n",
    "Master of Information and Data Science (MIDS) program\n",
    "\n",
    "w205 - Fundamentals of Data Engineering\n",
    "\n",
    "Student: Jack Galvin\n",
    "\n",
    "Year: 2022\n",
    "\n",
    "Semester: Spring\n",
    "\n",
    "Section: 9\n"
   ]
  },
  {
   "cell_type": "markdown",
   "id": "33c6e20e",
   "metadata": {},
   "source": [
    "# Included Modules and Packages\n",
    "\n",
    "Code cell containing your includes for modules and packages"
   ]
  },
  {
   "cell_type": "code",
   "execution_count": 21,
   "id": "d71dfe69",
   "metadata": {},
   "outputs": [],
   "source": [
    "import csv\n",
    "import pandas as pd\n",
    "import psycopg2"
   ]
  },
  {
   "cell_type": "markdown",
   "id": "c91c8869",
   "metadata": {},
   "source": [
    "# Supporting code\n",
    "\n",
    "Code cells containing any supporting code, such as connecting to the database, any functions, etc.  \n",
    "\n",
    "Remember you can freely use any code from the labs. You do not need to cite code from the labs."
   ]
  },
  {
   "cell_type": "code",
   "execution_count": 4,
   "id": "ecf679ef",
   "metadata": {},
   "outputs": [],
   "source": [
    "connection = psycopg2.connect(\n",
    "    user = \"postgres\",\n",
    "    password = \"ucb\",\n",
    "    host = \"postgres\",\n",
    "    port = \"5432\",\n",
    "    database = \"postgres\"\n",
    ")"
   ]
  },
  {
   "cell_type": "code",
   "execution_count": 5,
   "id": "2849639c",
   "metadata": {},
   "outputs": [],
   "source": [
    "cursor = connection.cursor()"
   ]
  },
  {
   "cell_type": "code",
   "execution_count": 22,
   "id": "88cffefc",
   "metadata": {},
   "outputs": [],
   "source": [
    "# Function to read a csv file\n",
    "\n",
    "def my_read_csv_file(file_name, limit):\n",
    "    \"read the csv file and print only the first limit rows\"\n",
    "    \n",
    "    csv_file = open(file_name, \"r\")\n",
    "    \n",
    "    csv_data = csv.reader(csv_file)\n",
    "    \n",
    "    i = 0\n",
    "    \n",
    "    for row in csv_data:\n",
    "        i += 1\n",
    "        if i <= limit:\n",
    "            print(row)\n",
    "            \n",
    "    print(\"\\nPrinted \", min(limit, i), \"lines of \", i, \"total lines.\")"
   ]
  },
  {
   "cell_type": "markdown",
   "id": "d2e6beed",
   "metadata": {},
   "source": [
    "# 2.1.1 Drop the product mapping table if it exists\n",
    "\n",
    "The mapping table should be named peak_product_mapping\n",
    "\n",
    "Pattern your code after the examples in the labs.  You may use as many code cells as you need."
   ]
  },
  {
   "cell_type": "code",
   "execution_count": 6,
   "id": "c5d749bc",
   "metadata": {},
   "outputs": [],
   "source": [
    "# Drop the product mapping table if it exists\n",
    "\n",
    "connection.rollback()\n",
    "\n",
    "query = \"\"\"\n",
    "\n",
    "drop table if exists peak_product_mapping\n",
    "\n",
    "\"\"\"\n",
    "\n",
    "cursor.execute(query)\n",
    "\n",
    "connection.commit()"
   ]
  },
  {
   "cell_type": "markdown",
   "id": "6c605bc0",
   "metadata": {},
   "source": [
    "# 2.1.2 Create the product mapping table\n",
    "\n",
    "The mapping table should be named peak_product_mapping with the following columns:\n",
    "* product_id numeric(3) - AGM's product id\n",
    "* peak_product_id numeric(12) - Peak's product id\n",
    "\n",
    "product_id should be the primary key\n",
    "\n",
    "AGM has entered its products into Peak's system.  Peak is using its product IDs and not AGM's product IDs.  This table will allow us to map between the two IDs.\n",
    "\n",
    "Pattern your code after the examples in the labs.  You may use as many code cells as you need."
   ]
  },
  {
   "cell_type": "code",
   "execution_count": 7,
   "id": "6dc1a427",
   "metadata": {},
   "outputs": [],
   "source": [
    "# Create product mapping table\n",
    "\n",
    "connection.rollback()\n",
    "\n",
    "query = \"\"\"\n",
    "\n",
    "create table peak_product_mapping (\n",
    "  product_id numeric(3),\n",
    "  peak_product_id numeric(12),\n",
    "  PRIMARY KEY (product_id)\n",
    ");\n",
    "\n",
    "\"\"\"\n",
    "\n",
    "cursor.execute(query)\n",
    "\n",
    "connection.commit()"
   ]
  },
  {
   "cell_type": "markdown",
   "id": "f35e95b4",
   "metadata": {},
   "source": [
    "# 2.1.3 Create a CSV file of product mapping data and display it\n",
    "\n",
    "Create a CSV file of product mapping data named peak_product_mapping.csv\n",
    "\n",
    "Check this file into your GitHub repo\n",
    "\n",
    "The field names in the first line of the CSV file should match the column names of the peak_product_mapping table\n",
    "\n",
    "The data should map the products as follows:\n",
    "\n",
    "|product_id |peak_product_id |\n",
    "|---|---|\n",
    "|1|42314677|\n",
    "|2|42314678|\n",
    "|3|42314679|\n",
    "|4|42314780|\n",
    "|5|42314781|\n",
    "|6|42314782|\n",
    "|7|42314783|\n",
    "|8|42314784|\n",
    "\n",
    "Display all the rows in the CSV file using the function my_read_csv_file() from the labs.\n",
    "\n",
    "Pattern your code after the examples in the labs.  You may use as many code cells as you need."
   ]
  },
  {
   "cell_type": "code",
   "execution_count": 15,
   "id": "6a5669ae",
   "metadata": {},
   "outputs": [],
   "source": [
    "data = {\"product_id\": [1,\n",
    "                       2, \n",
    "                       3, \n",
    "                       4, \n",
    "                       5, \n",
    "                       6, \n",
    "                       7, \n",
    "                       8],\n",
    "       \"peak_product_id\": [42314677,\n",
    "                          42314678,\n",
    "                          42314679,\n",
    "                          42314780,\n",
    "                          42314781,\n",
    "                          42314782,\n",
    "                          42314783,\n",
    "                          42314784]}\n",
    "\n",
    "df = pd.DataFrame(data)"
   ]
  },
  {
   "cell_type": "code",
   "execution_count": 20,
   "id": "f41ec475",
   "metadata": {},
   "outputs": [],
   "source": [
    "df.to_csv(\"peak_product_mapping.csv\", index=False)"
   ]
  },
  {
   "cell_type": "code",
   "execution_count": 24,
   "id": "9b95e30a",
   "metadata": {},
   "outputs": [
    {
     "name": "stdout",
     "output_type": "stream",
     "text": [
      "['product_id', 'peak_product_id']\n",
      "['1', '42314677']\n",
      "['2', '42314678']\n",
      "['3', '42314679']\n",
      "['4', '42314780']\n",
      "['5', '42314781']\n",
      "['6', '42314782']\n",
      "['7', '42314783']\n",
      "['8', '42314784']\n",
      "\n",
      "Printed  9 lines of  9 total lines.\n"
     ]
    }
   ],
   "source": [
    "my_read_csv_file(\"peak_product_mapping.csv\", limit = 10)"
   ]
  },
  {
   "cell_type": "markdown",
   "id": "c31ed590",
   "metadata": {},
   "source": [
    "# 2.1.4 Load product mapping data into database table\n",
    "\n",
    "Load the CSV file (peak_product_mapping.csv) into the database table (peak_product_mapping)\n",
    "\n",
    "Pattern your code after the examples in the labs.  You may use as many code cells as you need."
   ]
  },
  {
   "cell_type": "code",
   "execution_count": null,
   "id": "90df3796",
   "metadata": {},
   "outputs": [],
   "source": []
  },
  {
   "cell_type": "markdown",
   "id": "6f844d1e",
   "metadata": {},
   "source": [
    "# 2.1.5 Verify the product mapping loaded correctly\n",
    "\n",
    "Write a query to verify the product mapping loaded correctly\n",
    "\n",
    "Also join to the products table and pull the description as product name\n",
    "\n",
    "Include: product id, peak product id, product name\n",
    "\n",
    "Sort by product id\n",
    "\n",
    "Display the results in a Pandas data frame\n",
    "\n",
    "Pattern your code after the examples in the labs.  You may use as many code cells as you need."
   ]
  },
  {
   "cell_type": "code",
   "execution_count": null,
   "id": "c135f195",
   "metadata": {},
   "outputs": [],
   "source": []
  }
 ],
 "metadata": {
  "kernelspec": {
   "display_name": "Python 3",
   "language": "python",
   "name": "python3"
  },
  "language_info": {
   "codemirror_mode": {
    "name": "ipython",
    "version": 3
   },
   "file_extension": ".py",
   "mimetype": "text/x-python",
   "name": "python",
   "nbconvert_exporter": "python",
   "pygments_lexer": "ipython3",
   "version": "3.8.8"
  }
 },
 "nbformat": 4,
 "nbformat_minor": 5
}
