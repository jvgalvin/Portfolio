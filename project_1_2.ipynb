{
 "cells": [
  {
   "cell_type": "markdown",
   "id": "92a50c7a",
   "metadata": {},
   "source": [
    "# Project 1, Part 2, Executive Questions: Customer Specific Questions\n",
    "\n",
    "University of California, Berkeley\n",
    "Master of Information and Data Science (MIDS) program\n",
    "w205 - Fundamentals of Data Engineering\n",
    "\n",
    "Student:\n",
    "\n",
    "Year:\n",
    "\n",
    "Semester:\n",
    "\n",
    "Section:\n"
   ]
  },
  {
   "cell_type": "markdown",
   "id": "f4898aad",
   "metadata": {},
   "source": [
    "# Included Modules and Packages\n",
    "\n",
    "Code cell containing your includes for modules and packages"
   ]
  },
  {
   "cell_type": "code",
   "execution_count": null,
   "id": "bae3c88f",
   "metadata": {},
   "outputs": [],
   "source": []
  },
  {
   "cell_type": "markdown",
   "id": "ce2bac90",
   "metadata": {},
   "source": [
    "# Supporting code\n",
    "\n",
    "Code cells containing any supporting code, such as connecting to the database, any functions, etc.  Remember you can use any code from the labs."
   ]
  },
  {
   "cell_type": "code",
   "execution_count": null,
   "id": "167d76ef",
   "metadata": {},
   "outputs": [],
   "source": []
  },
  {
   "cell_type": "markdown",
   "id": "dfb358d5",
   "metadata": {},
   "source": [
    "# Instructions for Specific Questions\n",
    "\n",
    "For each specific quesion, you must write 1 and only 1 query that answers that specific question.  The results of your query must be displayed in a Pandas dataframe as demonstrated in the labs\n",
    "\n",
    "All output should be sorted.\n",
    "\n",
    "For store name, use the city name the store is located in.\n",
    "\n",
    "When sorting by store name, sort in alphabetical order.\n"
   ]
  },
  {
   "cell_type": "markdown",
   "id": "4dca2e89",
   "metadata": {},
   "source": [
    "# 1.2.1 Total Number of Customers for all of AGM"
   ]
  },
  {
   "cell_type": "code",
   "execution_count": null,
   "id": "ec6ec3f1",
   "metadata": {},
   "outputs": [],
   "source": []
  },
  {
   "cell_type": "markdown",
   "id": "3a75a7ee",
   "metadata": {},
   "source": [
    "# 1.2.2 Total Number of Customers by Store\n",
    "\n",
    "Sort by store name in alphabetical order"
   ]
  },
  {
   "cell_type": "code",
   "execution_count": null,
   "id": "c7b6cb1d",
   "metadata": {},
   "outputs": [],
   "source": []
  },
  {
   "cell_type": "markdown",
   "id": "f26a10c5",
   "metadata": {},
   "source": [
    "# 1.2.3 Total Number of Customers by Distance from Store\n",
    "\n",
    "Sort by shortest distance first"
   ]
  },
  {
   "cell_type": "code",
   "execution_count": null,
   "id": "ebb6a293",
   "metadata": {},
   "outputs": [],
   "source": []
  },
  {
   "cell_type": "markdown",
   "id": "b6e5cc18",
   "metadata": {},
   "source": [
    "# 1.2.4 List of Customers who have signed up but not bought anything\n",
    "\n",
    "Sort by customer last name, then first name"
   ]
  },
  {
   "cell_type": "code",
   "execution_count": null,
   "id": "1eb90f14",
   "metadata": {},
   "outputs": [],
   "source": []
  },
  {
   "cell_type": "markdown",
   "id": "677a8137",
   "metadata": {},
   "source": [
    "# 1.2.5 What is the percentage of customers per population at the zip code level?\n",
    "\n",
    "Sort by highest percentage first"
   ]
  },
  {
   "cell_type": "code",
   "execution_count": null,
   "id": "484d915f",
   "metadata": {},
   "outputs": [],
   "source": []
  },
  {
   "cell_type": "markdown",
   "id": "ed20a1aa",
   "metadata": {},
   "source": [
    "# 1.2.6 What is the percentage of customers per population at the city level?\n",
    "\n",
    "Sort by highest percentage first"
   ]
  },
  {
   "cell_type": "code",
   "execution_count": null,
   "id": "c41c0a7b",
   "metadata": {},
   "outputs": [],
   "source": []
  },
  {
   "cell_type": "markdown",
   "id": "a1e25432",
   "metadata": {},
   "source": [
    "# 1.2.7 The Executives have also asked you to provide your best example of a data visualization for one of the above queries\n",
    "\n",
    "You may choose any one of the above queries. \n",
    "\n",
    "It's best to select the one that you think will provide the most interesting data visualization.  \n",
    "\n",
    "You are allowed to add a pivot as demonstrated in the labs if it is needed for your data visualization. "
   ]
  },
  {
   "cell_type": "code",
   "execution_count": null,
   "id": "53f45939",
   "metadata": {},
   "outputs": [],
   "source": []
  }
 ],
 "metadata": {
  "kernelspec": {
   "display_name": "Python 3",
   "language": "python",
   "name": "python3"
  },
  "language_info": {
   "codemirror_mode": {
    "name": "ipython",
    "version": 3
   },
   "file_extension": ".py",
   "mimetype": "text/x-python",
   "name": "python",
   "nbconvert_exporter": "python",
   "pygments_lexer": "ipython3",
   "version": "3.8.8"
  }
 },
 "nbformat": 4,
 "nbformat_minor": 5
}
