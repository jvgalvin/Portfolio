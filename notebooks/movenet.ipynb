{
 "cells": [
  {
   "cell_type": "markdown",
   "id": "cc97bbe5",
   "metadata": {},
   "source": [
    "# Imports"
   ]
  },
  {
   "cell_type": "code",
   "execution_count": 1,
   "id": "137ffedf",
   "metadata": {
    "scrolled": true
   },
   "outputs": [
    {
     "name": "stderr",
     "output_type": "stream",
     "text": [
      "/Users/johngalvin/miniforge3/lib/python3.9/site-packages/scipy/__init__.py:146: UserWarning: A NumPy version >=1.16.5 and <1.23.0 is required for this version of SciPy (detected version 1.24.2\n",
      "  warnings.warn(f\"A NumPy version >={np_minversion} and <{np_maxversion}\"\n"
     ]
    }
   ],
   "source": [
    "import os\n",
    "\n",
    "# from roboflow import Roboflow\n",
    "# rf = Roboflow(api_key=\"EqPgEP6OtMnf5oYFSILt\")\n",
    "# project = rf.workspace(\"posturecorrection\").project(\"posture_correction_v4\")\n",
    "# dataset = project.version(1).download(\"folder\")\n",
    "\n",
    "import tensorflow as tf\n",
    "tf.config.run_functions_eagerly(True)\n",
    "\n",
    "import tensorflow_hub as hub\n",
    "from tensorflow_docs.vis import embed\n",
    "from tensorflow.keras.preprocessing.image import ImageDataGenerator, load_img, img_to_array\n",
    "import numpy as np\n",
    "import cv2\n",
    "\n",
    "# Import matplotlib libraries\n",
    "from matplotlib import pyplot as plt\n",
    "from matplotlib.collections import LineCollection\n",
    "import matplotlib.patches as patches\n",
    "\n",
    "# Some modules to display an animation using imageio.\n",
    "import imageio\n",
    "from IPython.display import HTML, display"
   ]
  },
  {
   "cell_type": "markdown",
   "id": "09dd1269",
   "metadata": {},
   "source": [
    "# Preprocess Images\n",
    "\n",
    "## TFLite Model Instantiation"
   ]
  },
  {
   "cell_type": "code",
   "execution_count": 2,
   "id": "24b98aad",
   "metadata": {},
   "outputs": [
    {
     "name": "stderr",
     "output_type": "stream",
     "text": [
      "2023-04-13 11:16:22.337562: I tensorflow/core/common_runtime/pluggable_device/pluggable_device_factory.cc:306] Could not identify NUMA node of platform GPU ID 0, defaulting to 0. Your kernel may not have been built with NUMA support.\n",
      "2023-04-13 11:16:22.337582: I tensorflow/core/common_runtime/pluggable_device/pluggable_device_factory.cc:272] Created TensorFlow device (/job:localhost/replica:0/task:0/device:GPU:0 with 0 MB memory) -> physical PluggableDevice (device: 0, name: METAL, pci bus id: <undefined>)\n"
     ]
    },
    {
     "name": "stdout",
     "output_type": "stream",
     "text": [
      "Metal device set to: Apple M2 Pro\n"
     ]
    }
   ],
   "source": [
    "module = hub.load(\"https://tfhub.dev/google/movenet/singlepose/lightning/4\")\n",
    "input_size = 192"
   ]
  },
  {
   "cell_type": "code",
   "execution_count": 3,
   "id": "89334c1a",
   "metadata": {},
   "outputs": [],
   "source": [
    "def movenet(input_image):\n",
    "    \"\"\"Runs detection on an input image.\n",
    "\n",
    "    Args:\n",
    "      input_image: A [1, height, width, 3] tensor represents the input image\n",
    "        pixels. Note that the height/width should already be resized and match the\n",
    "        expected input resolution of the model before passing into this function.\n",
    "\n",
    "    Returns:\n",
    "      A [1, 1, 7, 3] float numpy array representing the predicted keypoint\n",
    "      coordinates and scores, normalized\n",
    "    \"\"\"\n",
    "    \n",
    "    model = module.signatures['serving_default']\n",
    "\n",
    "    # SavedModel format expects tensor type of int32\n",
    "    input_image = tf.cast(input_image, dtype=tf.int32)\n",
    "    \n",
    "    # Run model inference\n",
    "    outputs = model(input_image)\n",
    "    \n",
    "    # Output is a [1, 1, 17, 3] tensor.\n",
    "    keypoints_with_scores = outputs['output_0'].numpy()\n",
    "    \n",
    "    # Keep upper body coordinates [1, 1, 7, 3] tensor\n",
    "    keypoints_with_scores = keypoints_with_scores[:,:,:7]\n",
    "    \n",
    "    # Account for translational variations using shoulder keypoints\n",
    "    shoulder_avg = keypoints_with_scores[:,:,5:7].mean(axis=2)\n",
    "    numerator = keypoints_with_scores - shoulder_avg\n",
    "    \n",
    "    # Normalize (scale) by farthest keypoint from shoulder_avg\n",
    "    sqd = (keypoints_with_scores - shoulder_avg)**2\n",
    "    x = sqd[0][0][:,:1]\n",
    "    y = sqd[0][0][:,1:2]\n",
    "    distances = np.sqrt(x+y)\n",
    "    idx = np.argmax(distances)\n",
    "    point_max_d = keypoints_with_scores[:,:,idx]\n",
    "    keypoints_with_scores = numerator / point_max_d\n",
    "    \n",
    "    return keypoints_with_scores"
   ]
  },
  {
   "cell_type": "markdown",
   "id": "62b83ce3",
   "metadata": {},
   "source": [
    "## Run all images through movenet"
   ]
  },
  {
   "cell_type": "code",
   "execution_count": 4,
   "id": "69cab368",
   "metadata": {},
   "outputs": [],
   "source": [
    "label_dict = {\"looks good\": 0.0,\n",
    "              \"sit up\": 1.0}"
   ]
  },
  {
   "cell_type": "code",
   "execution_count": 5,
   "id": "46b1d462",
   "metadata": {},
   "outputs": [
    {
     "name": "stderr",
     "output_type": "stream",
     "text": [
      "2023-04-13 10:59:51.054837: W tensorflow/tsl/platform/profile_utils/cpu_utils.cc:128] Failed to get CPU frequency: 0 Hz\n",
      "2023-04-13 10:59:51.057011: I tensorflow/core/grappler/optimizers/custom_graph_optimizer_registry.cc:114] Plugin optimizer for device_type GPU is enabled.\n"
     ]
    }
   ],
   "source": [
    "X_train, Y_train = [], []\n",
    "\n",
    "rootdir = '../../../posture_correction_v4-1/train'\n",
    "\n",
    "for subdir, dirs, files in os.walk(rootdir):\n",
    "    for file in files:\n",
    "        fpath = os.path.join(subdir, file)\n",
    "        image = tf.io.read_file(fpath)\n",
    "        image = tf.image.decode_jpeg(image) #pixel values\n",
    "        input_image = tf.expand_dims(image, axis=0)\n",
    "        input_image = tf.image.resize_with_pad(input_image, input_size, input_size)\n",
    "        keypoints_w_scores = movenet(input_image)\n",
    "        X_train.append(keypoints_w_scores)\n",
    "        label = subdir.split(\"/\")[-1]\n",
    "        Y_train.append(label_dict[label])    \n",
    "        \n",
    "X_train = np.array(X_train, dtype=np.float32)\n",
    "Y_train = np.array(Y_train, dtype=\"float32\")"
   ]
  },
  {
   "cell_type": "code",
   "execution_count": 6,
   "id": "0a192522",
   "metadata": {},
   "outputs": [],
   "source": [
    "X_val, Y_val = [], []\n",
    "\n",
    "rootdir = '../../../posture_correction_v4-1/valid'\n",
    "\n",
    "for subdir, dirs, files in os.walk(rootdir):\n",
    "    for file in files:\n",
    "        fpath = os.path.join(subdir, file)\n",
    "        image = tf.io.read_file(fpath)\n",
    "        image = tf.image.decode_jpeg(image) #pixel values\n",
    "        input_image = tf.expand_dims(image, axis=0)\n",
    "        input_image = tf.image.resize_with_pad(input_image, input_size, input_size)\n",
    "        keypoints_w_scores = movenet(input_image)\n",
    "        X_val.append(keypoints_w_scores)\n",
    "        label = subdir.split(\"/\")[-1]\n",
    "        Y_val.append(label_dict[label])   \n",
    "\n",
    "X_val = np.array(X_val, dtype=np.float32)\n",
    "Y_val = np.array(Y_val, dtype=\"float\")"
   ]
  },
  {
   "cell_type": "markdown",
   "id": "e582380c",
   "metadata": {},
   "source": [
    "## Create Model"
   ]
  },
  {
   "cell_type": "code",
   "execution_count": 7,
   "id": "cfd88baf",
   "metadata": {},
   "outputs": [],
   "source": [
    "def create_model(dropout=0.3, learning_rate=0.0001):\n",
    "    \n",
    "    keypoints = tf.keras.layers.Input(shape=(1,1,7,3,), dtype=np.float32) # output of movenet\n",
    "    \n",
    "    flattened = tf.keras.layers.Flatten()(keypoints)\n",
    "    hidden_1 = tf.keras.layers.Dense(512, activation=\"relu\", name=\"hidden_1\")(flattened)\n",
    "    hidden_1 = tf.keras.layers.Dropout(dropout)(hidden_1)\n",
    "    hidden_2 = tf.keras.layers.Dense(256, activation=\"relu\", name=\"hidden_2\")(hidden_1)\n",
    "    hidden_2 = tf.keras.layers.Dropout(dropout)(hidden_2)\n",
    "    hidden_3 = tf.keras.layers.Dense(128, activation=\"relu\", name=\"hidden_3\")(hidden_2)\n",
    "    hidden_3 = tf.keras.layers.Dropout(dropout)(hidden_3)\n",
    "    \n",
    "    classification = tf.keras.layers.Dense(2, activation=\"softmax\", name=\"classification_layer\")(hidden_3)\n",
    "    \n",
    "    classification_model = tf.keras.Model(inputs=[keypoints], outputs=[classification])\n",
    "    \n",
    "    \n",
    "    classification_model.compile(optimizer=tf.keras.optimizers.Adam(learning_rate=learning_rate),\n",
    "                                 loss=tf.keras.losses.SparseCategoricalCrossentropy(from_logits=False), \n",
    "                                 metrics=[\"accuracy\"],\n",
    "                                 run_eagerly=True)\n",
    "    \n",
    "    return classification_model"
   ]
  },
  {
   "cell_type": "code",
   "execution_count": 8,
   "id": "025fdacb",
   "metadata": {},
   "outputs": [
    {
     "name": "stdout",
     "output_type": "stream",
     "text": [
      "Model: \"model\"\n",
      "_________________________________________________________________\n",
      " Layer (type)                Output Shape              Param #   \n",
      "=================================================================\n",
      " input_1 (InputLayer)        [(None, 1, 1, 7, 3)]      0         \n",
      "                                                                 \n",
      " flatten (Flatten)           (None, 21)                0         \n",
      "                                                                 \n",
      " hidden_1 (Dense)            (None, 512)               11264     \n",
      "                                                                 \n",
      " dropout (Dropout)           (None, 512)               0         \n",
      "                                                                 \n",
      " hidden_2 (Dense)            (None, 256)               131328    \n",
      "                                                                 \n",
      " dropout_1 (Dropout)         (None, 256)               0         \n",
      "                                                                 \n",
      " hidden_3 (Dense)            (None, 128)               32896     \n",
      "                                                                 \n",
      " dropout_2 (Dropout)         (None, 128)               0         \n",
      "                                                                 \n",
      " classification_layer (Dense  (None, 2)                258       \n",
      " )                                                               \n",
      "                                                                 \n",
      "=================================================================\n",
      "Total params: 175,746\n",
      "Trainable params: 175,746\n",
      "Non-trainable params: 0\n",
      "_________________________________________________________________\n"
     ]
    }
   ],
   "source": [
    "model = create_model()\n",
    "model.summary()"
   ]
  },
  {
   "cell_type": "code",
   "execution_count": 9,
   "id": "94355f04",
   "metadata": {},
   "outputs": [
    {
     "name": "stdout",
     "output_type": "stream",
     "text": [
      "Epoch 1/15\n"
     ]
    },
    {
     "name": "stderr",
     "output_type": "stream",
     "text": [
      "/Users/johngalvin/miniforge3/lib/python3.9/site-packages/tensorflow/python/data/ops/structured_function.py:256: UserWarning: Even though the `tf.config.experimental_run_functions_eagerly` option is set, this option does not apply to tf.data functions. To force eager execution of tf.data functions, please use `tf.data.experimental.enable_debug_mode()`.\n",
      "  warnings.warn(\n"
     ]
    },
    {
     "name": "stdout",
     "output_type": "stream",
     "text": [
      "212/212 [==============================] - 6s 27ms/step - loss: 0.5599 - accuracy: 0.7367 - val_loss: 0.5339 - val_accuracy: 0.7225\n",
      "Epoch 2/15\n",
      "212/212 [==============================] - 6s 27ms/step - loss: 0.5058 - accuracy: 0.7384 - val_loss: 0.4714 - val_accuracy: 0.7225\n",
      "Epoch 3/15\n",
      "212/212 [==============================] - 6s 26ms/step - loss: 0.4684 - accuracy: 0.7490 - val_loss: 0.4139 - val_accuracy: 0.7657\n",
      "Epoch 4/15\n",
      "212/212 [==============================] - 6s 27ms/step - loss: 0.4410 - accuracy: 0.7694 - val_loss: 0.3864 - val_accuracy: 0.8442\n",
      "Epoch 5/15\n",
      "212/212 [==============================] - 6s 26ms/step - loss: 0.4254 - accuracy: 0.7871 - val_loss: 0.3903 - val_accuracy: 0.7696\n",
      "Epoch 6/15\n",
      "212/212 [==============================] - 6s 26ms/step - loss: 0.4088 - accuracy: 0.7980 - val_loss: 0.3888 - val_accuracy: 0.7775\n",
      "Epoch 7/15\n",
      "212/212 [==============================] - 6s 26ms/step - loss: 0.3961 - accuracy: 0.8051 - val_loss: 0.3513 - val_accuracy: 0.8298\n",
      "Epoch 8/15\n",
      "212/212 [==============================] - 6s 27ms/step - loss: 0.3807 - accuracy: 0.8207 - val_loss: 0.3371 - val_accuracy: 0.8429\n",
      "Epoch 9/15\n",
      "212/212 [==============================] - 6s 27ms/step - loss: 0.3733 - accuracy: 0.8198 - val_loss: 0.3325 - val_accuracy: 0.8429\n",
      "Epoch 10/15\n",
      "212/212 [==============================] - 6s 26ms/step - loss: 0.3659 - accuracy: 0.8237 - val_loss: 0.3343 - val_accuracy: 0.8351\n",
      "Epoch 11/15\n",
      "212/212 [==============================] - 6s 26ms/step - loss: 0.3502 - accuracy: 0.8357 - val_loss: 0.3192 - val_accuracy: 0.8495\n",
      "Epoch 12/15\n",
      "212/212 [==============================] - 6s 26ms/step - loss: 0.3419 - accuracy: 0.8475 - val_loss: 0.3412 - val_accuracy: 0.8325\n",
      "Epoch 13/15\n",
      "212/212 [==============================] - 6s 27ms/step - loss: 0.3328 - accuracy: 0.8502 - val_loss: 0.3300 - val_accuracy: 0.8416\n",
      "Epoch 14/15\n",
      "212/212 [==============================] - 6s 27ms/step - loss: 0.3198 - accuracy: 0.8608 - val_loss: 0.3369 - val_accuracy: 0.8312\n",
      "Epoch 15/15\n",
      "212/212 [==============================] - 6s 27ms/step - loss: 0.3150 - accuracy: 0.8576 - val_loss: 0.3308 - val_accuracy: 0.8390\n"
     ]
    }
   ],
   "source": [
    "history = model.fit(X_train,\n",
    "                    Y_train, \n",
    "                    validation_data=[X_val, Y_val], \n",
    "                    batch_size = 16, \n",
    "                    epochs = 15)"
   ]
  },
  {
   "cell_type": "code",
   "execution_count": 10,
   "id": "d28b6d40",
   "metadata": {},
   "outputs": [
    {
     "data": {
      "image/png": "[encoded data removed]",
      "text/plain": [
       "<Figure size 432x288 with 1 Axes>"
      ]
     },
     "metadata": {
      "needs_background": "light"
     },
     "output_type": "display_data"
    }
   ],
   "source": [
    "# Visualize loss curve\n",
    "\n",
    "losses = history.history['val_loss']\n",
    "train_losses = history.history['loss']\n",
    "plt.plot(losses, label=\"val\")\n",
    "plt.plot(train_losses, label=\"train\")\n",
    "plt.xlabel('Training Step')\n",
    "plt.ylabel('Cross Entropy Loss')\n",
    "plt.title('Loss')\n",
    "plt.legend()\n",
    "plt.show()"
   ]
  },
  {
   "cell_type": "code",
   "execution_count": 11,
   "id": "fea6d5a2",
   "metadata": {
    "scrolled": true
   },
   "outputs": [
    {
     "data": {
      "image/png": "[encoded data removed]",
      "text/plain": [
       "<Figure size 432x288 with 1 Axes>"
      ]
     },
     "metadata": {
      "needs_background": "light"
     },
     "output_type": "display_data"
    }
   ],
   "source": [
    "# Visualize accuracy\n",
    "\n",
    "acc = history.history['val_accuracy']\n",
    "train_acc = history.history['accuracy']\n",
    "plt.plot(acc, label=\"val\")\n",
    "plt.plot(train_acc, label=\"train\")\n",
    "plt.xlabel('Training Step')\n",
    "plt.ylabel('Accuracy')\n",
    "plt.title('Accuracy')\n",
    "plt.legend()\n",
    "plt.show()"
   ]
  },
  {
   "cell_type": "code",
   "execution_count": 12,
   "id": "da8240a0",
   "metadata": {},
   "outputs": [
    {
     "name": "stderr",
     "output_type": "stream",
     "text": [
      "WARNING:absl:Found untraced functions such as _update_step_xla while saving (showing 1 of 1). These functions will not be directly callable after loading.\n"
     ]
    },
    {
     "name": "stdout",
     "output_type": "stream",
     "text": [
      "INFO:tensorflow:Assets written to: ../../../movenet_model_1/assets\n"
     ]
    },
    {
     "name": "stderr",
     "output_type": "stream",
     "text": [
      "INFO:tensorflow:Assets written to: ../../../movenet_model_1/assets\n"
     ]
    }
   ],
   "source": [
    "model.save(\"../../../movenet_model_1\")"
   ]
  },
  {
   "cell_type": "markdown",
   "id": "1ed0b5f8",
   "metadata": {},
   "source": [
    "# Evaluate on Test Set"
   ]
  },
  {
   "cell_type": "code",
   "execution_count": 6,
   "id": "f71277f5",
   "metadata": {},
   "outputs": [],
   "source": [
    "model = tf.keras.models.load_model(\"../../../movenet_model_1\")"
   ]
  },
  {
   "cell_type": "code",
   "execution_count": 5,
   "id": "963d1178",
   "metadata": {},
   "outputs": [
    {
     "name": "stderr",
     "output_type": "stream",
     "text": [
      "2023-04-13 11:16:47.034728: W tensorflow/tsl/platform/profile_utils/cpu_utils.cc:128] Failed to get CPU frequency: 0 Hz\n",
      "2023-04-13 11:16:47.036824: I tensorflow/core/grappler/optimizers/custom_graph_optimizer_registry.cc:114] Plugin optimizer for device_type GPU is enabled.\n"
     ]
    }
   ],
   "source": [
    "X_test, Y_test = [], []\n",
    "\n",
    "rootdir = '../../../posture_correction_v4-1/test'\n",
    "\n",
    "for subdir, dirs, files in os.walk(rootdir):\n",
    "    for file in files:\n",
    "        fpath = os.path.join(subdir, file)\n",
    "        image = tf.io.read_file(fpath)\n",
    "        image = tf.image.decode_jpeg(image) #pixel values\n",
    "        input_image = tf.expand_dims(image, axis=0)\n",
    "        input_image = tf.image.resize_with_pad(input_image, input_size, input_size)\n",
    "        keypoints_w_scores = movenet(input_image)\n",
    "        X_test.append(keypoints_w_scores)\n",
    "        label = subdir.split(\"/\")[-1]\n",
    "        Y_test.append(label_dict[label])    \n",
    "        \n",
    "X_test = np.array(X_test, dtype=np.float32)\n",
    "Y_test = np.array(Y_test, dtype=\"float32\")"
   ]
  },
  {
   "cell_type": "code",
   "execution_count": 7,
   "id": "5edfb676",
   "metadata": {},
   "outputs": [
    {
     "name": "stderr",
     "output_type": "stream",
     "text": [
      "/Users/johngalvin/miniforge3/lib/python3.9/site-packages/tensorflow/python/data/ops/structured_function.py:256: UserWarning: Even though the `tf.config.experimental_run_functions_eagerly` option is set, this option does not apply to tf.data functions. To force eager execution of tf.data functions, please use `tf.data.experimental.enable_debug_mode()`.\n",
      "  warnings.warn(\n"
     ]
    },
    {
     "name": "stdout",
     "output_type": "stream",
     "text": [
      "23/23 [==============================] - 1s 27ms/step - loss: 0.4092 - accuracy: 0.7915\n"
     ]
    },
    {
     "data": {
      "text/plain": [
       "[0.4092412292957306, 0.7914894223213196]"
      ]
     },
     "execution_count": 7,
     "metadata": {},
     "output_type": "execute_result"
    }
   ],
   "source": [
    "model.evaluate(X_test, Y_test)"
   ]
  },
  {
   "cell_type": "markdown",
   "id": "36adc845",
   "metadata": {},
   "source": [
    "# Determine Decision Threshold"
   ]
  },
  {
   "cell_type": "code",
   "execution_count": 8,
   "id": "65aacc82",
   "metadata": {},
   "outputs": [
    {
     "name": "stdout",
     "output_type": "stream",
     "text": [
      "23/23 [==============================] - 0s 3ms/step\n"
     ]
    },
    {
     "name": "stderr",
     "output_type": "stream",
     "text": [
      "/Users/johngalvin/miniforge3/lib/python3.9/site-packages/tensorflow/python/data/ops/structured_function.py:256: UserWarning: Even though the `tf.config.experimental_run_functions_eagerly` option is set, this option does not apply to tf.data functions. To force eager execution of tf.data functions, please use `tf.data.experimental.enable_debug_mode()`.\n",
      "  warnings.warn(\n"
     ]
    }
   ],
   "source": [
    "from sklearn.metrics import precision_recall_curve\n",
    "\n",
    "y_pred = model.predict(X_test)[:,1]\n",
    "precision, recall, thresholds = precision_recall_curve(Y_test, y_pred)"
   ]
  },
  {
   "cell_type": "code",
   "execution_count": 9,
   "id": "9b7751cc",
   "metadata": {},
   "outputs": [
    {
     "data": {
      "image/png": "[encoded data removed]",
      "text/plain": [
       "<Figure size 432x288 with 1 Axes>"
      ]
     },
     "metadata": {
      "needs_background": "light"
     },
     "output_type": "display_data"
    }
   ],
   "source": [
    "# Plot P-R curve\n",
    "\n",
    "fig, ax = plt.subplots()\n",
    "ax.plot(recall, precision, color=\"purple\")\n",
    "\n",
    "ax.set_title(\"Precision-Recall Curve\")\n",
    "ax.set_ylabel(\"Precision\")\n",
    "ax.set_xlabel(\"Recall\")\n",
    "\n",
    "plt.show()"
   ]
  },
  {
   "cell_type": "code",
   "execution_count": 10,
   "id": "3858203e",
   "metadata": {},
   "outputs": [
    {
     "name": "stdout",
     "output_type": "stream",
     "text": [
      "Best Threshold for Optimizing Precision and Recall=0.311783, F-Score=0.928\n"
     ]
    }
   ],
   "source": [
    "# Determine decision threshold\n",
    "\n",
    "fscore = (2 * precision * recall) / (precision + recall)\n",
    "idx = np.argmax(fscore)\n",
    "print('Best Threshold for Optimizing Precision and Recall=%f, F-Score=%.3f' % (thresholds[idx], fscore[idx]))"
   ]
  },
  {
   "cell_type": "markdown",
   "id": "08bb9cd3",
   "metadata": {},
   "source": [
    "# Convert to TFLite and Quantize"
   ]
  },
  {
   "cell_type": "code",
   "execution_count": 19,
   "id": "04f08d88",
   "metadata": {},
   "outputs": [
    {
     "name": "stderr",
     "output_type": "stream",
     "text": [
      "2023-04-13 11:08:21.018772: W tensorflow/compiler/mlir/lite/python/tf_tfl_flatbuffer_helpers.cc:362] Ignored output_format.\n",
      "2023-04-13 11:08:21.018783: W tensorflow/compiler/mlir/lite/python/tf_tfl_flatbuffer_helpers.cc:365] Ignored drop_control_dependency.\n",
      "2023-04-13 11:08:21.019156: I tensorflow/cc/saved_model/reader.cc:45] Reading SavedModel from: ../../../movenet_model_1\n",
      "2023-04-13 11:08:21.019983: I tensorflow/cc/saved_model/reader.cc:89] Reading meta graph with tags { serve }\n",
      "2023-04-13 11:08:21.019988: I tensorflow/cc/saved_model/reader.cc:130] Reading SavedModel debug info (if present) from: ../../../movenet_model_1\n",
      "2023-04-13 11:08:21.021523: I tensorflow/compiler/mlir/mlir_graph_optimization_pass.cc:357] MLIR V1 optimization pass is not enabled\n",
      "2023-04-13 11:08:21.022064: I tensorflow/cc/saved_model/loader.cc:229] Restoring SavedModel bundle.\n",
      "2023-04-13 11:08:21.033831: I tensorflow/cc/saved_model/loader.cc:213] Running initialization op on SavedModel bundle at path: ../../../movenet_model_1\n",
      "2023-04-13 11:08:21.036388: I tensorflow/cc/saved_model/loader.cc:305] SavedModel load for tags { serve }; Status: success: OK. Took 17232 microseconds.\n",
      "2023-04-13 11:08:21.043066: I tensorflow/compiler/mlir/tensorflow/utils/dump_mlir_util.cc:268] disabling MLIR crash reproducer, set env var `MLIR_CRASH_REPRODUCER_DIRECTORY` to enable.\n"
     ]
    }
   ],
   "source": [
    "converter = tf.lite.TFLiteConverter.from_saved_model(\"../../../movenet_model_1\")\n",
    "converter.optimizations = [tf.lite.Optimize.DEFAULT]\n",
    "converter.target_spec.supported_types = [tf.float16] # quantize to FP16\n",
    "tflite_model = converter.convert()\n",
    "\n",
    "with open(\"../models/movenet_model.tflite\", \"wb\") as f:\n",
    "    f.write(tflite_model)"
   ]
  },
  {
   "cell_type": "markdown",
   "id": "ea934dcb",
   "metadata": {},
   "source": [
    "# Evaluate TFLite Model"
   ]
  },
  {
   "cell_type": "code",
   "execution_count": 11,
   "id": "e58fde45",
   "metadata": {},
   "outputs": [
    {
     "name": "stdout",
     "output_type": "stream",
     "text": [
      "[[0.689059   0.31094098]]\n"
     ]
    }
   ],
   "source": [
    "# For single example\n",
    "\n",
    "interpreter = tf.lite.Interpreter(model_path=\"../models/movenet_model.tflite\")\n",
    "interpreter.allocate_tensors()\n",
    "\n",
    "# Get input and output tensors.\n",
    "input_details = interpreter.get_input_details()\n",
    "output_details = interpreter.get_output_details()\n",
    "\n",
    "# Test the model on random input data.\n",
    "input_shape = input_details[0]['shape']\n",
    "input_data = X_test[0][np.newaxis, :, :, :, ]\n",
    "interpreter.set_tensor(input_details[0]['index'], input_data)\n",
    "\n",
    "interpreter.invoke()\n",
    "\n",
    "# The function `get_tensor()` returns a copy of the tensor data.\n",
    "# Use `tensor()` in order to get a pointer to the tensor.\n",
    "output_data = interpreter.get_tensor(output_details[0]['index'])\n",
    "print(output_data)"
   ]
  },
  {
   "cell_type": "code",
   "execution_count": 16,
   "id": "2e0ef423",
   "metadata": {},
   "outputs": [
    {
     "name": "stdout",
     "output_type": "stream",
     "text": [
      "0.7914893617021277\n"
     ]
    }
   ],
   "source": [
    "# Modification to evaluate test set\n",
    "\n",
    "num_correct = 0\n",
    "\n",
    "for i in range(len(X_test)):\n",
    "    input_details = interpreter.get_input_details()\n",
    "    output_details = interpreter.get_output_details()\n",
    "    input_shape = input_details[0]['shape']\n",
    "    input_data = X_test[i][np.newaxis, :, :, :, ] # expand dim to be compatible with TFLite model\n",
    "    interpreter.set_tensor(input_details[0]['index'], input_data)\n",
    "    interpreter.invoke()\n",
    "    output_data = interpreter.get_tensor(output_details[0]['index'])\n",
    "    y_pred = np.argmax(output_data)\n",
    "    if y_pred == int(Y_test[i]):\n",
    "        num_correct += 1\n",
    "\n",
    "print (num_correct / len(Y_test))"
   ]
  },
  {
   "cell_type": "code",
   "execution_count": null,
   "id": "cec1f3d3",
   "metadata": {},
   "outputs": [],
   "source": []
  }
 ],
 "metadata": {
  "kernelspec": {
   "display_name": "Python 3 (ipykernel)",
   "language": "python",
   "name": "python3"
  },
  "language_info": {
   "codemirror_mode": {
    "name": "ipython",
    "version": 3
   },
   "file_extension": ".py",
   "mimetype": "text/x-python",
   "name": "python",
   "nbconvert_exporter": "python",
   "pygments_lexer": "ipython3",
   "version": "3.9.7"
  }
 },
 "nbformat": 4,
 "nbformat_minor": 5
}
