{
 "cells": [
  {
   "cell_type": "code",
   "execution_count": 1,
   "id": "a2ab2fc0",
   "metadata": {},
   "outputs": [
    {
     "name": "stderr",
     "output_type": "stream",
     "text": [
      "/Users/johngalvin/miniforge3/lib/python3.9/site-packages/scipy/__init__.py:146: UserWarning: A NumPy version >=1.16.5 and <1.23.0 is required for this version of SciPy (detected version 1.24.2\n",
      "  warnings.warn(f\"A NumPy version >={np_minversion} and <{np_maxversion}\"\n"
     ]
    }
   ],
   "source": [
    "import os\n",
    "import openai\n",
    "\n",
    "import pandas as pd\n",
    "import numpy as np\n",
    "\n",
    "from rouge_score import rouge_scorer\n",
    "\n",
    "openai.api_key = os.environ[\"OPENAI_API_KEY\"]"
   ]
  },
  {
   "cell_type": "markdown",
   "id": "beb361b9",
   "metadata": {},
   "source": [
    "# Load Data"
   ]
  },
  {
   "cell_type": "code",
   "execution_count": 2,
   "id": "43283249",
   "metadata": {},
   "outputs": [],
   "source": [
    "df = pd.read_csv(\"../data/processed/processed.csv\", nrows=1000) # contain costs with just 1k samples"
   ]
  },
  {
   "cell_type": "code",
   "execution_count": 3,
   "id": "9cbc9d7a",
   "metadata": {},
   "outputs": [
    {
     "data": {
      "text/html": [
       "<div>\n",
       "<style scoped>\n",
       "    .dataframe tbody tr th:only-of-type {\n",
       "        vertical-align: middle;\n",
       "    }\n",
       "\n",
       "    .dataframe tbody tr th {\n",
       "        vertical-align: top;\n",
       "    }\n",
       "\n",
       "    .dataframe thead th {\n",
       "        text-align: right;\n",
       "    }\n",
       "</style>\n",
       "<table border=\"1\" class=\"dataframe\">\n",
       "  <thead>\n",
       "    <tr style=\"text-align: right;\">\n",
       "      <th></th>\n",
       "      <th>dialogue</th>\n",
       "      <th>ground_truth</th>\n",
       "    </tr>\n",
       "  </thead>\n",
       "  <tbody>\n",
       "    <tr>\n",
       "      <th>0</th>\n",
       "      <td>Amanda: I baked  cookies. Do you want some?   ...</td>\n",
       "      <td>Amanda baked cookies and will bring Jerry some...</td>\n",
       "    </tr>\n",
       "    <tr>\n",
       "      <th>1</th>\n",
       "      <td>Olivia: Who are you voting for in this electio...</td>\n",
       "      <td>Olivia and Olivier are voting for liberals in ...</td>\n",
       "    </tr>\n",
       "    <tr>\n",
       "      <th>2</th>\n",
       "      <td>Tim: Hi, what's up?   Kim: Bad mood tbh, I was...</td>\n",
       "      <td>Kim may try the pomodoro technique recommended...</td>\n",
       "    </tr>\n",
       "    <tr>\n",
       "      <th>3</th>\n",
       "      <td>Edward: Rachel, I think I'm in ove with Bella....</td>\n",
       "      <td>Edward thinks he is in love with Bella. Rachel...</td>\n",
       "    </tr>\n",
       "    <tr>\n",
       "      <th>4</th>\n",
       "      <td>Sam: hey  overheard rick say something   Sam: ...</td>\n",
       "      <td>Sam is confused, because he overheard Rick com...</td>\n",
       "    </tr>\n",
       "    <tr>\n",
       "      <th>...</th>\n",
       "      <td>...</td>\n",
       "      <td>...</td>\n",
       "    </tr>\n",
       "    <tr>\n",
       "      <th>995</th>\n",
       "      <td>Hazel: Hello Brad. That's insane, we havent se...</td>\n",
       "      <td>Brad is visiting his parents today and cannot ...</td>\n",
       "    </tr>\n",
       "    <tr>\n",
       "      <th>996</th>\n",
       "      <td>Kitty: I don’t have your account numbers, coul...</td>\n",
       "      <td>Kitty will convey money to Barb and Ken.</td>\n",
       "    </tr>\n",
       "    <tr>\n",
       "      <th>997</th>\n",
       "      <td>Max: I'll be late   Sylvia: why:   Max: beer w...</td>\n",
       "      <td>Max will be late because he is having a drink ...</td>\n",
       "    </tr>\n",
       "    <tr>\n",
       "      <th>998</th>\n",
       "      <td>Karolina:  hi darling, when are you back in Wa...</td>\n",
       "      <td>Karolina will be back in Warsaw this weekend t...</td>\n",
       "    </tr>\n",
       "    <tr>\n",
       "      <th>999</th>\n",
       "      <td>Paula: I'm submitting my thesis this week   Ma...</td>\n",
       "      <td>Paula is submitting her thesis this week.</td>\n",
       "    </tr>\n",
       "  </tbody>\n",
       "</table>\n",
       "<p>1000 rows × 2 columns</p>\n",
       "</div>"
      ],
      "text/plain": [
       "                                              dialogue  \\\n",
       "0    Amanda: I baked  cookies. Do you want some?   ...   \n",
       "1    Olivia: Who are you voting for in this electio...   \n",
       "2    Tim: Hi, what's up?   Kim: Bad mood tbh, I was...   \n",
       "3    Edward: Rachel, I think I'm in ove with Bella....   \n",
       "4    Sam: hey  overheard rick say something   Sam: ...   \n",
       "..                                                 ...   \n",
       "995  Hazel: Hello Brad. That's insane, we havent se...   \n",
       "996  Kitty: I don’t have your account numbers, coul...   \n",
       "997  Max: I'll be late   Sylvia: why:   Max: beer w...   \n",
       "998  Karolina:  hi darling, when are you back in Wa...   \n",
       "999  Paula: I'm submitting my thesis this week   Ma...   \n",
       "\n",
       "                                          ground_truth  \n",
       "0    Amanda baked cookies and will bring Jerry some...  \n",
       "1    Olivia and Olivier are voting for liberals in ...  \n",
       "2    Kim may try the pomodoro technique recommended...  \n",
       "3    Edward thinks he is in love with Bella. Rachel...  \n",
       "4    Sam is confused, because he overheard Rick com...  \n",
       "..                                                 ...  \n",
       "995  Brad is visiting his parents today and cannot ...  \n",
       "996           Kitty will convey money to Barb and Ken.  \n",
       "997  Max will be late because he is having a drink ...  \n",
       "998  Karolina will be back in Warsaw this weekend t...  \n",
       "999          Paula is submitting her thesis this week.  \n",
       "\n",
       "[1000 rows x 2 columns]"
      ]
     },
     "execution_count": 3,
     "metadata": {},
     "output_type": "execute_result"
    }
   ],
   "source": [
    "df"
   ]
  },
  {
   "cell_type": "code",
   "execution_count": 31,
   "id": "3e70657f",
   "metadata": {},
   "outputs": [],
   "source": [
    "# Samples for one shot and few-shot\n",
    "\n",
    "# dia: \"Helen: What time is the show?   Alain: 6 p.m.   Eddie: Do you have the tickets?   Alain: I bought them last week    Eddie: Cool   Eddie: How much do I owe you?   Alain: 50$    Helen: I an pay you today   Alain: It's ok. Whenever it's convenient for you. \"\n",
    "# sum: 'The show starts at 6 p.m. Helen will pay Alain back 50$ today.'\n",
    "\n",
    "# dia: \"Karim: i'm sorry i'm running late!!!   Karim: please wait for me!!!!!   Karim: i don't want to go to the party by myself   Irma: don't worry we'll wait for you   Karim: THANK YOU!!! :-D\"\n",
    "# sum: \"Karim doesn't want to go to the party by himself. Irma will wait for him.\"\n",
    "\n",
    "# dia: \"Tom: where are you?   Pitt: still at the supermarket, an enormous queue here   Benny: But we've everything!   Tom: very good\"\n",
    "# sum: 'Pitt and Benny are standing in an enormous queue in the supermarket.'"
   ]
  },
  {
   "cell_type": "markdown",
   "id": "6415d09c",
   "metadata": {},
   "source": [
    "## Zero Shot Learning"
   ]
  },
  {
   "cell_type": "code",
   "execution_count": 4,
   "id": "43195a57",
   "metadata": {},
   "outputs": [],
   "source": [
    "zero_shot_summs = []\n",
    "\n",
    "for i in range(len(df[\"dialogue\"])):\n",
    "    content = \"Summarize this: \" + df.iloc[i, 0]\n",
    "    response = openai.Completion.create(\n",
    "        model=\"text-davinci-003\",\n",
    "        prompt=content,\n",
    "        max_tokens=32,\n",
    "        temperature=0)\n",
    "    zero_shot_summs.append(response.choices[0].text)\n",
    "\n",
    "df[\"zero_shot_summaries\"] = zero_shot_summs"
   ]
  },
  {
   "cell_type": "code",
   "execution_count": 11,
   "id": "eb3cc69a",
   "metadata": {},
   "outputs": [],
   "source": [
    "df[\"zero_shot_summaries\"] = df[\"zero_shot_summaries\"].str.replace(\"\\n\\n\", \"   \")"
   ]
  },
  {
   "cell_type": "code",
   "execution_count": 30,
   "id": "0fa185cd",
   "metadata": {},
   "outputs": [],
   "source": [
    "df.to_csv(\"../data/processed/zero_shot.csv\", index=False)"
   ]
  },
  {
   "cell_type": "markdown",
   "id": "704d2202",
   "metadata": {},
   "source": [
    "## One Shot Learning"
   ]
  },
  {
   "cell_type": "code",
   "execution_count": 2,
   "id": "fc9b79ec",
   "metadata": {},
   "outputs": [],
   "source": [
    "df = pd.read_csv(\"../data/processed/zero_shot.csv\")"
   ]
  },
  {
   "cell_type": "code",
   "execution_count": 3,
   "id": "3e1cd1eb",
   "metadata": {},
   "outputs": [],
   "source": [
    "example = \"The following is a conversation: \" + \"Karim: i'm sorry i'm running late!!!   \\\n",
    "Karim: please wait for me!!!!!   Karim: i don't want to go to the party by myself   \\\n",
    "Irma: don't worry we'll wait for you   Karim: THANK YOU!!! :-D\" + \"   Here is a \\\n",
    "summary of that conversation: \" + \"Karim doesn't want to go to the party by himself. Irma will wait for him.\""
   ]
  },
  {
   "cell_type": "code",
   "execution_count": 4,
   "id": "560ab134",
   "metadata": {},
   "outputs": [],
   "source": [
    "instruction = \" Summarize the following conversation: \""
   ]
  },
  {
   "cell_type": "code",
   "execution_count": 5,
   "id": "2c112959",
   "metadata": {},
   "outputs": [],
   "source": [
    "one_shot_summs = []\n",
    "\n",
    "for i in range(len(df[\"dialogue\"])):\n",
    "    content = example + instruction + df.iloc[i, 0]\n",
    "    response = openai.Completion.create(\n",
    "        model=\"text-davinci-003\",\n",
    "        prompt=content,\n",
    "        max_tokens=32,\n",
    "        temperature=0)\n",
    "    one_shot_summs.append(response.choices[0].text)\n",
    "\n",
    "df[\"one_shot_summaries\"] = one_shot_summs"
   ]
  },
  {
   "cell_type": "code",
   "execution_count": 6,
   "id": "c31d2d04",
   "metadata": {},
   "outputs": [
    {
     "data": {
      "text/html": [
       "<div>\n",
       "<style scoped>\n",
       "    .dataframe tbody tr th:only-of-type {\n",
       "        vertical-align: middle;\n",
       "    }\n",
       "\n",
       "    .dataframe tbody tr th {\n",
       "        vertical-align: top;\n",
       "    }\n",
       "\n",
       "    .dataframe thead th {\n",
       "        text-align: right;\n",
       "    }\n",
       "</style>\n",
       "<table border=\"1\" class=\"dataframe\">\n",
       "  <thead>\n",
       "    <tr style=\"text-align: right;\">\n",
       "      <th></th>\n",
       "      <th>dialogue</th>\n",
       "      <th>ground_truth</th>\n",
       "      <th>zero_shot_summaries</th>\n",
       "      <th>one_shot_summaries</th>\n",
       "    </tr>\n",
       "  </thead>\n",
       "  <tbody>\n",
       "    <tr>\n",
       "      <th>0</th>\n",
       "      <td>Amanda: I baked  cookies. Do you want some?   ...</td>\n",
       "      <td>Amanda baked cookies and will bring Jerry some...</td>\n",
       "      <td>Amanda offered to bake cookies for Jerry an...</td>\n",
       "      <td>Jerry is accepting Amanda's offer of cookie...</td>\n",
       "    </tr>\n",
       "    <tr>\n",
       "      <th>1</th>\n",
       "      <td>Olivia: Who are you voting for in this electio...</td>\n",
       "      <td>Olivia and Olivier are voting for liberals in ...</td>\n",
       "      <td>minds think alike!   Olivia and Oliver both p...</td>\n",
       "      <td>!\\n\\nOlivia and Oliver are both voting for the...</td>\n",
       "    </tr>\n",
       "    <tr>\n",
       "      <th>2</th>\n",
       "      <td>Tim: Hi, what's up?   Kim: Bad mood tbh, I was...</td>\n",
       "      <td>Kim may try the pomodoro technique recommended...</td>\n",
       "      <td>Tim and Kim are discussing Kim's bad mood a...</td>\n",
       "      <td>to keep track of tasks   Kim: That's a great ...</td>\n",
       "    </tr>\n",
       "    <tr>\n",
       "      <th>3</th>\n",
       "      <td>Edward: Rachel, I think I'm in ove with Bella....</td>\n",
       "      <td>Edward thinks he is in love with Bella. Rachel...</td>\n",
       "      <td>Rachel is outside Edward's door and tells h...</td>\n",
       "      <td>..  \\n\\nEdward has confessed to Rachel that he...</td>\n",
       "    </tr>\n",
       "    <tr>\n",
       "      <th>4</th>\n",
       "      <td>Sam: hey  overheard rick say something   Sam: ...</td>\n",
       "      <td>Sam is confused, because he overheard Rick com...</td>\n",
       "      <td>Sam overheard Rick saying he was unhappy li...</td>\n",
       "      <td>In this conversation, Sam overheard Rick sa...</td>\n",
       "    </tr>\n",
       "    <tr>\n",
       "      <th>...</th>\n",
       "      <td>...</td>\n",
       "      <td>...</td>\n",
       "      <td>...</td>\n",
       "      <td>...</td>\n",
       "    </tr>\n",
       "    <tr>\n",
       "      <th>995</th>\n",
       "      <td>Hazel: Hello Brad. That's insane, we havent se...</td>\n",
       "      <td>Brad is visiting his parents today and cannot ...</td>\n",
       "      <td>Hazel and Brad catch up after not seeing ea...</td>\n",
       "      <td>Hazel: ok, no worries :D  \\n\\nHazel and Bra...</td>\n",
       "    </tr>\n",
       "    <tr>\n",
       "      <th>996</th>\n",
       "      <td>Kitty: I don’t have your account numbers, coul...</td>\n",
       "      <td>Kitty will convey money to Barb and Ken.</td>\n",
       "      <td>Kitty asked Barb for her account numbers in...</td>\n",
       "      <td>!\\n\\nKitty needs Barb and Ken's account number...</td>\n",
       "    </tr>\n",
       "    <tr>\n",
       "      <th>997</th>\n",
       "      <td>Max: I'll be late   Sylvia: why:   Max: beer w...</td>\n",
       "      <td>Max will be late because he is having a drink ...</td>\n",
       "      <td>Max told Sylvia he would be late because he...</td>\n",
       "      <td>, just don't be too late   Max: I won't  \\n\\nM...</td>\n",
       "    </tr>\n",
       "    <tr>\n",
       "      <th>998</th>\n",
       "      <td>Karolina:  hi darling, when are you back in Wa...</td>\n",
       "      <td>Karolina will be back in Warsaw this weekend t...</td>\n",
       "      <td>Karolina and Enid are discussing Enid's ret...</td>\n",
       "      <td>\\n\\nKarolina and Enid are discussing Enid's pl...</td>\n",
       "    </tr>\n",
       "    <tr>\n",
       "      <th>999</th>\n",
       "      <td>Paula: I'm submitting my thesis this week   Ma...</td>\n",
       "      <td>Paula is submitting her thesis this week.</td>\n",
       "      <td>Paula is submitting her thesis this week an...</td>\n",
       "      <td>\\n\\nPaula is submitting her thesis this week a...</td>\n",
       "    </tr>\n",
       "  </tbody>\n",
       "</table>\n",
       "<p>1000 rows × 4 columns</p>\n",
       "</div>"
      ],
      "text/plain": [
       "                                              dialogue  \\\n",
       "0    Amanda: I baked  cookies. Do you want some?   ...   \n",
       "1    Olivia: Who are you voting for in this electio...   \n",
       "2    Tim: Hi, what's up?   Kim: Bad mood tbh, I was...   \n",
       "3    Edward: Rachel, I think I'm in ove with Bella....   \n",
       "4    Sam: hey  overheard rick say something   Sam: ...   \n",
       "..                                                 ...   \n",
       "995  Hazel: Hello Brad. That's insane, we havent se...   \n",
       "996  Kitty: I don’t have your account numbers, coul...   \n",
       "997  Max: I'll be late   Sylvia: why:   Max: beer w...   \n",
       "998  Karolina:  hi darling, when are you back in Wa...   \n",
       "999  Paula: I'm submitting my thesis this week   Ma...   \n",
       "\n",
       "                                          ground_truth  \\\n",
       "0    Amanda baked cookies and will bring Jerry some...   \n",
       "1    Olivia and Olivier are voting for liberals in ...   \n",
       "2    Kim may try the pomodoro technique recommended...   \n",
       "3    Edward thinks he is in love with Bella. Rachel...   \n",
       "4    Sam is confused, because he overheard Rick com...   \n",
       "..                                                 ...   \n",
       "995  Brad is visiting his parents today and cannot ...   \n",
       "996           Kitty will convey money to Barb and Ken.   \n",
       "997  Max will be late because he is having a drink ...   \n",
       "998  Karolina will be back in Warsaw this weekend t...   \n",
       "999          Paula is submitting her thesis this week.   \n",
       "\n",
       "                                   zero_shot_summaries  \\\n",
       "0       Amanda offered to bake cookies for Jerry an...   \n",
       "1     minds think alike!   Olivia and Oliver both p...   \n",
       "2       Tim and Kim are discussing Kim's bad mood a...   \n",
       "3       Rachel is outside Edward's door and tells h...   \n",
       "4       Sam overheard Rick saying he was unhappy li...   \n",
       "..                                                 ...   \n",
       "995     Hazel and Brad catch up after not seeing ea...   \n",
       "996     Kitty asked Barb for her account numbers in...   \n",
       "997     Max told Sylvia he would be late because he...   \n",
       "998     Karolina and Enid are discussing Enid's ret...   \n",
       "999     Paula is submitting her thesis this week an...   \n",
       "\n",
       "                                    one_shot_summaries  \n",
       "0       Jerry is accepting Amanda's offer of cookie...  \n",
       "1    !\\n\\nOlivia and Oliver are both voting for the...  \n",
       "2     to keep track of tasks   Kim: That's a great ...  \n",
       "3    ..  \\n\\nEdward has confessed to Rachel that he...  \n",
       "4       In this conversation, Sam overheard Rick sa...  \n",
       "..                                                 ...  \n",
       "995     Hazel: ok, no worries :D  \\n\\nHazel and Bra...  \n",
       "996  !\\n\\nKitty needs Barb and Ken's account number...  \n",
       "997  , just don't be too late   Max: I won't  \\n\\nM...  \n",
       "998  \\n\\nKarolina and Enid are discussing Enid's pl...  \n",
       "999  \\n\\nPaula is submitting her thesis this week a...  \n",
       "\n",
       "[1000 rows x 4 columns]"
      ]
     },
     "execution_count": 6,
     "metadata": {},
     "output_type": "execute_result"
    }
   ],
   "source": [
    "df"
   ]
  },
  {
   "cell_type": "code",
   "execution_count": 7,
   "id": "4d1e080f",
   "metadata": {},
   "outputs": [],
   "source": [
    "df[\"one_shot_summaries\"] = df[\"one_shot_summaries\"].str.replace(\"\\n\\n\", \"   \")"
   ]
  },
  {
   "cell_type": "code",
   "execution_count": 8,
   "id": "6b1540cd",
   "metadata": {},
   "outputs": [],
   "source": [
    "df.to_csv(\"../data/processed/one_shot.csv\", index=False)"
   ]
  },
  {
   "cell_type": "markdown",
   "id": "51dd3f2b",
   "metadata": {},
   "source": [
    "## Multi-Shot Learning"
   ]
  },
  {
   "cell_type": "code",
   "execution_count": null,
   "id": "68389970",
   "metadata": {},
   "outputs": [],
   "source": []
  },
  {
   "cell_type": "code",
   "execution_count": null,
   "id": "be8103b6",
   "metadata": {},
   "outputs": [],
   "source": []
  },
  {
   "cell_type": "code",
   "execution_count": null,
   "id": "e4f2d950",
   "metadata": {},
   "outputs": [],
   "source": []
  },
  {
   "cell_type": "code",
   "execution_count": null,
   "id": "24a16385",
   "metadata": {},
   "outputs": [],
   "source": []
  },
  {
   "cell_type": "code",
   "execution_count": 9,
   "id": "a5290e9b",
   "metadata": {},
   "outputs": [],
   "source": [
    "scorer = rouge_scorer.RougeScorer(['rouge1', 'rougeL', 'rouge2'], use_stemmer=True)"
   ]
  },
  {
   "cell_type": "code",
   "execution_count": 10,
   "id": "800a2261",
   "metadata": {},
   "outputs": [],
   "source": [
    "scores = scorer.score(cand, ref)"
   ]
  },
  {
   "cell_type": "code",
   "execution_count": 11,
   "id": "b505f4e5",
   "metadata": {},
   "outputs": [
    {
     "data": {
      "text/plain": [
       "{'rouge1': Score(precision=0.8888888888888888, recall=0.47058823529411764, fmeasure=0.6153846153846153),\n",
       " 'rougeL': Score(precision=0.7777777777777778, recall=0.4117647058823529, fmeasure=0.5384615384615384),\n",
       " 'rouge2': Score(precision=0.25, recall=0.125, fmeasure=0.16666666666666666)}"
      ]
     },
     "execution_count": 11,
     "metadata": {},
     "output_type": "execute_result"
    }
   ],
   "source": [
    "scores"
   ]
  },
  {
   "cell_type": "code",
   "execution_count": null,
   "id": "d7f45fd6",
   "metadata": {},
   "outputs": [],
   "source": []
  }
 ],
 "metadata": {
  "kernelspec": {
   "display_name": "Python 3 (ipykernel)",
   "language": "python",
   "name": "python3"
  },
  "language_info": {
   "codemirror_mode": {
    "name": "ipython",
    "version": 3
   },
   "file_extension": ".py",
   "mimetype": "text/x-python",
   "name": "python",
   "nbconvert_exporter": "python",
   "pygments_lexer": "ipython3",
   "version": "3.9.7"
  }
 },
 "nbformat": 4,
 "nbformat_minor": 5
}
