{
 "cells": [
  {
   "cell_type": "markdown",
   "id": "2213983d",
   "metadata": {},
   "source": [
    "# Adding Pickup Locations, Drones, and Using BART\n",
    "\n",
    "\n",
    "## Context\n",
    "\n",
    "Adding more pickup locations may help to grow the customer base and increase the frequency at which customers purchase meals. Locations near BART stations would be good choices because riders could easily pick up meals at or near the stations they travel through on the way to or from work. We also would prefer to pilot low-cost solutions and avoid costly real estate and long-term contracts.\n",
    "\n",
    "Additionally, combining new pickup locations with delivery drones is an intriguing option because it drastically expands the delivery range for AGM in the Bay Area. By strategically selecting where to base the drone delivery from, AGM delivery can be expanded to cover the most populous parts of the Bay Area.\n",
    "\n",
    "Choosing to establish pick-up locations near or at BART will also allow us to utilize this underground transit system in order to move supply. In this area, dense traffic and a bay make delivery by car less viable. Rising costs of gas make car-delivery an even less appealing option. Utilizing specialized backpacks such as those used by successful food delivery apps, our workers should be able to easily transport sufficient product in order to have reliable supplies at our pick-up locations. \n",
    "\n",
    "In choosing potential Bart Stations for our pick-up locations, we will consider:\n",
    "\n",
    "- The betweeness centrality of the each BART Station at the new pick-up locations. This indicates how many paths pass through that station. \n",
    "- The travel time via BART from our Berkeley Store's local BART station to each new pick-up location. \n",
    "- The local population density. We will analyze population within a 1.5 mile radius from each BART station.\n",
    "- The distance between each of the chosen pick-up locations. \n",
    "\n",
    "## Methodology\n",
    "\n",
    "We will examine each station's betweenness centrality, travel time from the Ashby station, and surrounding population (within a 1.5 mile radius, the delivery range for a drone). Betweenness centrality will indicate the number of routes which pass through that station. Stations with dense surrounding populations and high betweenness centrality are likely good candidates for pickup locations because this would not only enable us to capture customers with drone deliveries based from those stations, but also commuters who enter, exit, or otherwise pass through those stations.\n",
    "\n",
    "We will start by identifying a list of stations which higher betweeness centrality compared to the Berkeley store and evaluate based on population density within a 1.5 mile radius. Next, we will refine the list of potential pickup locations to minimize travel time between the stations and the Ashby station, as meals will be prepared at the Berkeley store and transported via BART to the pickup locations. Finally, we will identify the potential market share we could capture with an additional 1.5 mile reach using a drone delivery option (where the drones are based out of the pickup location). We will select 4 BART stations from this final list within which to establish pickup locations."
   ]
  },
  {
   "cell_type": "markdown",
   "id": "cf2e9ee8",
   "metadata": {},
   "source": [
    "# Included Modules and Packages"
   ]
  },
  {
   "cell_type": "code",
   "execution_count": 161,
   "id": "e4376bc3",
   "metadata": {},
   "outputs": [],
   "source": [
    "import neo4j\n",
    "\n",
    "import csv\n",
    "import json\n",
    "\n",
    "import math\n",
    "import numpy as np\n",
    "import pandas as pd\n",
    "\n",
    "import psycopg2\n",
    "from geographiclib.geodesic import Geodesic\n",
    "\n",
    "import warnings\n",
    "warnings.filterwarnings(\"ignore\")\n",
    "\n",
    "import gmaps\n",
    "import gmaps.geojson_geometries"
   ]
  },
  {
   "cell_type": "markdown",
   "id": "add5a628",
   "metadata": {},
   "source": [
    "# Supporting Code"
   ]
  },
  {
   "cell_type": "code",
   "execution_count": 162,
   "id": "d5fe855f",
   "metadata": {},
   "outputs": [],
   "source": [
    "# Connect to Neo4j\n",
    "\n",
    "driver = neo4j.GraphDatabase.driver(uri=\"neo4j://neo4j:7687\", auth=(\"neo4j\",\"w205\"))\n",
    "session = driver.session(database=\"neo4j\")\n",
    "\n",
    "# Connect to PostgreSQL\n",
    "\n",
    "connection = psycopg2.connect(\n",
    "    user = \"postgres\",\n",
    "    password = \"ucb\",\n",
    "    host = \"postgres\",\n",
    "    port = \"5432\",\n",
    "    database = \"postgres\"\n",
    ")\n",
    "\n",
    "cursor = connection.cursor()"
   ]
  },
  {
   "cell_type": "code",
   "execution_count": 163,
   "id": "27cf20d3",
   "metadata": {},
   "outputs": [],
   "source": [
    "# function to run a select query and return rows in a pandas dataframe\n",
    "# pandas puts all numeric values from postgres to float\n",
    "# if it will fit in an integer, change it to integer\n",
    "\n",
    "def my_select_query_pandas(query, rollback_before_flag, rollback_after_flag):\n",
    "    \"function to run a select query and return rows in a pandas dataframe\"\n",
    "    \n",
    "    if rollback_before_flag:\n",
    "        connection.rollback()\n",
    "    \n",
    "    df = pd.read_sql_query(query, connection)\n",
    "    \n",
    "    if rollback_after_flag:\n",
    "        connection.rollback()\n",
    "    \n",
    "    # fix the float columns that really should be integers\n",
    "    \n",
    "    for column in df:\n",
    "    \n",
    "        if df[column].dtype == \"float64\":\n",
    "\n",
    "            fraction_flag = False\n",
    "\n",
    "            for value in df[column].values:\n",
    "                \n",
    "                if not np.isnan(value):\n",
    "                    if value - math.floor(value) != 0:\n",
    "                        fraction_flag = True\n",
    "\n",
    "            if not fraction_flag:\n",
    "                df[column] = df[column].astype('Int64')\n",
    "    \n",
    "    return(df)"
   ]
  },
  {
   "cell_type": "code",
   "execution_count": 164,
   "id": "1a710322",
   "metadata": {},
   "outputs": [],
   "source": [
    "def my_calculate_box(point, miles):\n",
    "    \"Given a point and miles, calculate the box in form left, right, top, bottom\"\n",
    "    \n",
    "    geod = Geodesic.WGS84\n",
    "\n",
    "    kilometers = miles * 1.60934\n",
    "    meters = kilometers * 1000\n",
    "\n",
    "    g = geod.Direct(point[0], point[1], 270, meters)\n",
    "    left = (g['lat2'], g['lon2'])\n",
    "\n",
    "    g = geod.Direct(point[0], point[1], 90, meters)\n",
    "    right = (g['lat2'], g['lon2'])\n",
    "\n",
    "    g = geod.Direct(point[0], point[1], 0, meters)\n",
    "    top = (g['lat2'], g['lon2'])\n",
    "\n",
    "    g = geod.Direct(point[0], point[1], 180, meters)\n",
    "    bottom = (g['lat2'], g['lon2'])\n",
    "    \n",
    "    return(left, right, top, bottom)"
   ]
  },
  {
   "cell_type": "code",
   "execution_count": 165,
   "id": "d5add6cb",
   "metadata": {},
   "outputs": [],
   "source": [
    "def my_station_get_zips(station, miles):\n",
    "    \"given a station, pull all zip codes with miles distance, print them, sum the population\"\n",
    "    \n",
    "    connection.rollback()\n",
    "    \n",
    "    query = \"select latitude, longitude from stations \"\n",
    "    query += \"where station = '\" + station + \"'\"\n",
    "    \n",
    "    cursor.execute(query)\n",
    "    \n",
    "    connection.rollback()\n",
    "    \n",
    "    rows = cursor.fetchall()\n",
    "    \n",
    "    for row in rows:\n",
    "        latitude = row[0]\n",
    "        longitude = row[1]\n",
    "        \n",
    "    point = (latitude, longitude)\n",
    "        \n",
    "    (left, right, top, bottom) = my_calculate_box(point, miles)\n",
    "    \n",
    "    query = \"select zip, population from zip_codes \"\n",
    "    query += \" where latitude >= \" + str(bottom[0])\n",
    "    query += \" and latitude <= \" + str(top [0])\n",
    "    query += \" and longitude >= \" + str(left[1])\n",
    "    query += \" and longitude <= \" + str(right[1])\n",
    "    query += \" order by 1 \"\n",
    "\n",
    "    cursor.execute(query)\n",
    "    \n",
    "    connection.rollback()\n",
    "    \n",
    "    rows = cursor.fetchall()\n",
    "    \n",
    "    total_population = 0\n",
    "    \n",
    "    for row in rows:\n",
    "        zip, population = row[0], row[1]\n",
    "        total_population += population\n",
    "    return float(total_population)  "
   ]
  },
  {
   "cell_type": "code",
   "execution_count": 166,
   "id": "f3d73e7d",
   "metadata": {},
   "outputs": [],
   "source": [
    "def my_station_get_zip_list(station, miles):\n",
    "    \"given a station, pull all zip codes with miles distance, print them, sum the population\"\n",
    "    \n",
    "    connection.rollback()\n",
    "    \n",
    "    query = \"select latitude, longitude from stations \"\n",
    "    query += \"where station = '\" + station + \"'\"\n",
    "    \n",
    "    cursor.execute(query)\n",
    "    \n",
    "    connection.rollback()\n",
    "    \n",
    "    rows = cursor.fetchall()\n",
    "    \n",
    "    for row in rows:\n",
    "        latitude = row[0]\n",
    "        longitude = row[1]\n",
    "        \n",
    "    point = (latitude, longitude)\n",
    "        \n",
    "    (left, right, top, bottom) = my_calculate_box(point, miles)\n",
    "    \n",
    "    query = \"select zip, population from zip_codes \"\n",
    "    query += \" where latitude >= \" + str(bottom[0])\n",
    "    query += \" and latitude <= \" + str(top [0])\n",
    "    query += \" and longitude >= \" + str(left[1])\n",
    "    query += \" and longitude <= \" + str(right[1])\n",
    "    query += \" order by 1 \"\n",
    "\n",
    "    cursor.execute(query)\n",
    "    \n",
    "    connection.rollback()\n",
    "    \n",
    "    rows = cursor.fetchall()\n",
    "    \n",
    "    total_population = 0\n",
    "    \n",
    "    zip_list = []\n",
    "    \n",
    "    for row in rows:\n",
    "        zip = row[0]\n",
    "        population = row[1]\n",
    "        total_population += population\n",
    "        zip_list.append(row[0])\n",
    "    return zip_list"
   ]
  },
  {
   "cell_type": "code",
   "execution_count": 167,
   "id": "4175b963",
   "metadata": {},
   "outputs": [],
   "source": [
    "def cleanse_stations(df):\n",
    "    \"\"\"Returns a data frame with unique station names cleansed of line(s) and depart, arrive\"\"\"\n",
    "    \n",
    "    words = [\"blue\", \"green\", \"orange\", \"red\", \"yellow\", \"orange\", \"gray\", \"depart\", \"arrive\"]\n",
    "    regex_pattern = r'\\b(?:{})\\b'.format('|'.join(words))\n",
    "    df[\"name\"] = df[\"name\"].str.replace(regex_pattern, '')\n",
    "    return df"
   ]
  },
  {
   "cell_type": "code",
   "execution_count": 168,
   "id": "e9de0f35",
   "metadata": {},
   "outputs": [],
   "source": [
    "def my_neo4j_run_query_pandas(query, **kwargs):\n",
    "    \"run a query and return the results in a pandas dataframe\"\n",
    "    \n",
    "    result = session.run(query, **kwargs)\n",
    "    \n",
    "    df = pd.DataFrame([r.values() for r in result], columns=result.keys())\n",
    "    \n",
    "    return df"
   ]
  },
  {
   "cell_type": "code",
   "execution_count": 169,
   "id": "27f46f21",
   "metadata": {},
   "outputs": [],
   "source": [
    "## Import Google Maps API key\n",
    "\n",
    "f = open('../gmap_api_key.txt', 'r')\n",
    "my_api_key = f.read()\n",
    "f.close()\n",
    "\n",
    "gmaps.configure(api_key=my_api_key)"
   ]
  },
  {
   "cell_type": "markdown",
   "id": "889bd496",
   "metadata": {},
   "source": [
    "# Generate Data Frame for Analysis"
   ]
  },
  {
   "cell_type": "code",
   "execution_count": 170,
   "id": "7b4802ed",
   "metadata": {},
   "outputs": [],
   "source": [
    "rollback_before_flag = True\n",
    "rollback_after_flag = True\n",
    "\n",
    "query = \"\"\"\n",
    "\n",
    "select station,\n",
    "        latitude,\n",
    "        longitude\n",
    "from stations\n",
    "order by station\n",
    "\n",
    "\"\"\"\n",
    "\n",
    "df = my_select_query_pandas(query, rollback_before_flag, rollback_after_flag)"
   ]
  },
  {
   "cell_type": "markdown",
   "id": "d7aa300a",
   "metadata": {},
   "source": [
    "##### Add population within 1.5 miles of each station, which is the delivery range for a drone"
   ]
  },
  {
   "cell_type": "code",
   "execution_count": 171,
   "id": "5795e4e5",
   "metadata": {},
   "outputs": [],
   "source": [
    "df[\"pop_1_5\"] = [my_station_get_zips(station, 1.5) for station in df[\"station\"]]"
   ]
  },
  {
   "cell_type": "markdown",
   "id": "4ab270c8",
   "metadata": {},
   "source": [
    "##### Add betweenness centrality, which measures the number of paths which pass through a node (station). High betweenness centrality for a station indicates a high number of paths which pass through that station."
   ]
  },
  {
   "cell_type": "code",
   "execution_count": 172,
   "id": "1889ed61",
   "metadata": {},
   "outputs": [],
   "source": [
    "# Betweenness centrality\n",
    "\n",
    "query = \"\"\"\n",
    "\n",
    "CALL gds.betweenness.stream('ds_graph')\n",
    "YIELD nodeId, score\n",
    "RETURN gds.util.asNode(nodeId).name AS name, score as betweenness\n",
    "ORDER BY betweenness DESC\n",
    "\n",
    "\"\"\"\n",
    "\n",
    "bet_df = my_neo4j_run_query_pandas(query)\n",
    "\n",
    "# Remove the line and depart / arrive designations\n",
    "\n",
    "bet_df = cleanse_stations(bet_df)\n",
    "\n",
    "# Keep the entry for each station with the maximum betweenness centrality\n",
    "\n",
    "bet_df = bet_df.groupby([\"name\"])[\"betweenness\"].max()\n",
    "bet_df = bet_df.to_frame()\n",
    "\n",
    "# Add degree centrality to df\n",
    "\n",
    "df[\"bet_centrality\"] = bet_df[\"betweenness\"].values\n",
    "\n",
    "# Set the index\n",
    "\n",
    "df.set_index(\"station\", inplace=True)"
   ]
  },
  {
   "cell_type": "markdown",
   "id": "97ee1794",
   "metadata": {},
   "source": [
    "##### Impute population values for Antioch, Milpitas, OAK, and Pittsburg. These records are missing population values because the lat/lon point location of their corresponding zip codes falls outside of the 1.5 mile radius."
   ]
  },
  {
   "cell_type": "code",
   "execution_count": 173,
   "id": "a8eb4f6b",
   "metadata": {},
   "outputs": [],
   "source": [
    "rollback_before_flag = True\n",
    "rollback_after_flag = True\n",
    "\n",
    "query = \"\"\"\n",
    "\n",
    "select *\n",
    "from zip_codes\n",
    "\n",
    "\"\"\"\n",
    "\n",
    "temp = my_select_query_pandas(query, rollback_before_flag, rollback_after_flag)"
   ]
  },
  {
   "cell_type": "code",
   "execution_count": 174,
   "id": "6c7ff936",
   "metadata": {},
   "outputs": [],
   "source": [
    "# Using the zip_codes table, find the population for each of the four corresponding zip codes\n",
    "\n",
    "antioch_station_zip = \"94509\"\n",
    "milpitas_station_zip = \"95035\"\n",
    "OAK_station_zip = \"94621\"\n",
    "pittsburg_station_zip = \"94565\"\n",
    "\n",
    "antioch_pop = int(temp.loc[temp[\"zip\"] == antioch_station_zip, \"population\"])\n",
    "milpitas_pop = int(temp.loc[temp[\"zip\"] == milpitas_station_zip, \"population\"])\n",
    "OAK_pop = int(temp.loc[temp[\"zip\"] == OAK_station_zip, \"population\"])\n",
    "pittsburg_pop = int(temp.loc[temp[\"zip\"] == pittsburg_station_zip, \"population\"])"
   ]
  },
  {
   "cell_type": "code",
   "execution_count": 175,
   "id": "2f9124a4",
   "metadata": {},
   "outputs": [],
   "source": [
    "# Assign the population values back to the data frame\n",
    "\n",
    "df.loc[df.index==\"Antioch\", \"pop_1_5\"] = antioch_pop\n",
    "df.loc[df.index==\"Milpitas\", \"pop_1_5\"] = milpitas_pop\n",
    "df.loc[df.index==\"OAK\", \"pop_1_5\"] = OAK_pop\n",
    "df.loc[df.index==\"Pittsburg\", \"pop_1_5\"] = pittsburg_pop"
   ]
  },
  {
   "cell_type": "markdown",
   "id": "f8f8e880",
   "metadata": {},
   "source": [
    "# Analysis\n",
    "\n",
    "## Identify which stations look like good candidates for a pickup location\n",
    "\n",
    "##### Start by finding which stations have a betweenness centrality value that is larger than the Ashby station's and sort by population, keeping the top 15"
   ]
  },
  {
   "cell_type": "code",
   "execution_count": 181,
   "id": "5eedd992",
   "metadata": {},
   "outputs": [],
   "source": [
    "# Create values for Ashby\n",
    "\n",
    "berk_pop_1_5 = df.loc[df.index == \"Ashby\", \"pop_1_5\"][0]\n",
    "berk_bet_cent = df.loc[df.index == \"Ashby\", \"bet_centrality\"][0]"
   ]
  },
  {
   "cell_type": "code",
   "execution_count": 187,
   "id": "c523907d",
   "metadata": {},
   "outputs": [],
   "source": [
    "# Sort based on population\n",
    "\n",
    "df = df[(df[\"bet_centrality\"] > berk_bet_cent)].sort_values(\"pop_1_5\", ascending=False).head(15)"
   ]
  },
  {
   "cell_type": "markdown",
   "id": "42e040d4",
   "metadata": {},
   "source": [
    "## Refine the candidate stations based on accessibility to the Ashby Station\n",
    "\n",
    "##### Travel time between the Ashby BART station and the new pickup locations should be minimized, as food will be prepared at the Berkeley store location and carried to the new pickup locations via public transit."
   ]
  },
  {
   "cell_type": "code",
   "execution_count": 107,
   "id": "8d58cab3",
   "metadata": {},
   "outputs": [],
   "source": [
    "def my_neo4j_shortest_path(from_station, to_station):\n",
    "    \"given a from station and to station, run and print the shortest path\"\n",
    "    \n",
    "    query = \"CALL gds.graph.drop('ds_graph', false)\"\n",
    "    session.run(query)\n",
    "\n",
    "    query = \"CALL gds.graph.create('ds_graph', 'Station', 'LINK', {relationshipProperties: 'weight'})\"\n",
    "    session.run(query)\n",
    "\n",
    "    query = \"\"\"\n",
    "\n",
    "    MATCH (source:Station {name: $source}), (target:Station {name: $target})\n",
    "    CALL gds.shortestPath.dijkstra.stream(\n",
    "        'ds_graph', \n",
    "        { sourceNode: source, \n",
    "          targetNode: target, \n",
    "          relationshipWeightProperty: 'weight'\n",
    "        }\n",
    "    )\n",
    "    YIELD index, sourceNode, targetNode, totalCost, nodeIds, costs, path\n",
    "    RETURN\n",
    "        gds.util.asNode(sourceNode).name AS from,\n",
    "        gds.util.asNode(targetNode).name AS to,\n",
    "        totalCost,\n",
    "        [nodeId IN nodeIds | gds.util.asNode(nodeId).name] AS nodes,\n",
    "        costs\n",
    "    ORDER BY index\n",
    "\n",
    "    \"\"\"\n",
    "\n",
    "    result = session.run(query, source=from_station, target=to_station)\n",
    "    \n",
    "    for r in result:\n",
    "        \n",
    "        total_cost = int(r['totalCost'])\n",
    "        nodes = r['nodes']\n",
    "        costs = r['costs']\n",
    "        \n",
    "        i = 0\n",
    "        previous = 0\n",
    "        \n",
    "        for n in nodes:\n",
    "            \n",
    "            previous = int(costs[i])\n",
    "            i += 1\n",
    "    \n",
    "    return total_cost"
   ]
  },
  {
   "cell_type": "code",
   "execution_count": 113,
   "id": "0b44e1a0",
   "metadata": {},
   "outputs": [],
   "source": [
    "def dist_from_ashby(station):\n",
    "    \n",
    "    arrive = \"arrive \" + str(station)\n",
    "    \n",
    "    return my_neo4j_shortest_path(\"depart Ashby\", arrive)"
   ]
  },
  {
   "cell_type": "markdown",
   "id": "a9e4d4bc",
   "metadata": {},
   "source": [
    "##### Add a column for travel time from the Ashby station"
   ]
  },
  {
   "cell_type": "code",
   "execution_count": 184,
   "id": "fa705511",
   "metadata": {},
   "outputs": [],
   "source": [
    "df[\"stations\"] = df.index\n",
    "df[\"travel_time_from_ashby\"] = df[\"stations\"].apply(dist_from_ashby)\n",
    "df.drop([\"stations\"], axis=1, inplace=True)"
   ]
  },
  {
   "cell_type": "markdown",
   "id": "293c9ef7",
   "metadata": {},
   "source": [
    "## Select 4 stations that offer the largest potential new customer market (without consideration of delivery area overlap)\n",
    "\n",
    "##### A drone delivery option will enable us to capture additional customers within a 1.5 mile radius of pickup locations\n",
    "\n",
    "We can start our drone placement decision by using previously calculated data to see which stations have the highest population within 1.5 miles. This distance is ideal because it is the maximum delivery range for a drone so we can see the number of potential customers in range. However, we need to consider more than just total population for a potential drone location because we want to spread them out such that drone delivery ranges do not overlap or overlap as little as possible. We want to avoid this overlap because it means we are not maximizing the number of deliverable customers per drone. In the below visual, we can see a naive approach to drone placement that only uses maximum deliverable population per drone rather than minimizing overlap."
   ]
  },
  {
   "cell_type": "code",
   "execution_count": 26,
   "id": "1181ed3f",
   "metadata": {
    "scrolled": true
   },
   "outputs": [
    {
     "data": {
      "application/vnd.jupyter.widget-view+json": {
       "model_id": "f188ca6b33794d3382bc23c0751e0952",
       "version_major": 2,
       "version_minor": 0
      },
      "text/plain": [
       "Figure(layout=FigureLayout(height='420px'))"
      ]
     },
     "metadata": {},
     "output_type": "display_data"
    }
   ],
   "source": [
    "sixteenth_st = (37.764847,-122.420042)\n",
    "glen_park = (37.733118,-122.433808)\n",
    "civic_center = (37.779861,-122.413498)\n",
    "powell_streeet = (37.784000,-122.408000)\n",
    "twenty_fourth_st = (37.752000,-122.418700)\n",
    "lake_merritt = (37.797773,-122.266588)\n",
    "fruitvale=(37.774800,-122.224100)\n",
    "san_leandro=(37.721764,-122.160684)\n",
    "hayward = (37.669700,-122.087000)\n",
    "\n",
    "fig = gmaps.figure(center=fruitvale, zoom_level=11)\n",
    "drawing = gmaps.drawing_layer(features=[\n",
    "    gmaps.Circle(\n",
    "        radius=2414,  # 1.5 miles in meters\n",
    "        center=sixteenth_st,\n",
    "        stroke_color='red', fill_color=(255, 0, 132)\n",
    "    ),\n",
    "    gmaps.Circle(\n",
    "        radius=2414,  # 1.5 miles in meters\n",
    "        center=glen_park,\n",
    "        stroke_color='red', fill_color=(255, 0, 132)\n",
    "    ),\n",
    "    gmaps.Circle(\n",
    "        radius=2414,  # 1.5 miles in meters\n",
    "        center=civic_center,\n",
    "        stroke_color='red', fill_color=(255, 0, 132)\n",
    "    ),\n",
    "    gmaps.Circle(\n",
    "        radius=2414,  # 1.5 miles in meters\n",
    "        center=powell_streeet,\n",
    "        stroke_color='red', fill_color=(255, 0, 132)\n",
    "    )\n",
    "], mode='DISABLED')\n",
    "fig.add_layer(drawing)\n",
    "marker_layer = gmaps.marker_layer([\n",
    "    sixteenth_st, \n",
    "    civic_center, \n",
    "    glen_park, \n",
    "    powell_streeet\n",
    "], info_box_content=[\n",
    "    '16th Street Station',\n",
    "    'Civic Center Station',\n",
    "    'Glen Park Station',\n",
    "    'Powell Street Station'\n",
    "])\n",
    "fig.add_layer(marker_layer)\n",
    "fig"
   ]
  },
  {
   "cell_type": "markdown",
   "id": "98833538",
   "metadata": {},
   "source": [
    "### Now, we consider minimizing delivery area overlap\n",
    "\n",
    "As we can see above, there is quite a bit of overlap if we only select drone locations by nearby population. In order to help decide more appropriate drone placement locations, we can visualize the population in the Bay Area and use that to determine more optimal locations. The below visual shows the population by zip code in the Bay Area. Darker red shading indicates a higher population in that area."
   ]
  },
  {
   "cell_type": "code",
   "execution_count": 27,
   "id": "c96bf809",
   "metadata": {},
   "outputs": [
    {
     "data": {
      "application/vnd.jupyter.widget-view+json": {
       "model_id": "7fa7c5d86e794f8887aef259514fecf1",
       "version_major": 2,
       "version_minor": 0
      },
      "text/plain": [
       "Figure(layout=FigureLayout(height='420px'))"
      ]
     },
     "metadata": {},
     "output_type": "display_data"
    }
   ],
   "source": [
    "rollback_before_flag = True\n",
    "rollback_after_flag = True\n",
    "\n",
    "# Get population by zip code\n",
    "query = \"\"\"\n",
    "select zip, population, city\n",
    "from zip_codes\n",
    "where state = 'CA'\n",
    "\"\"\"\n",
    "\n",
    "zip_codes = my_select_query_pandas(query, rollback_before_flag, rollback_after_flag)\n",
    "\n",
    "# Calculate ranges of populations in zip codes\n",
    "zip_code_quantiles = zip_codes[(zip_codes['city'] == 'San Francisco') | (zip_codes['city'] == 'Oakland')]['population'].quantile([0.2,0.4,0.6,0.8])\n",
    "\n",
    "berkeley_store = (37.8555, -122.2604)\n",
    "civic_center = (37.779861,-122.413498)\n",
    "sixteenth_st=(37.764847,-122.420042)\n",
    "glen_park = (37.733118,-122.433808)\n",
    "lake_merritt = (37.797773,-122.266588)\n",
    "fruitvale=(37.774800,-122.224100)\n",
    "san_leandro=(37.721764,-122.160684)\n",
    "hayward = (37.669700,-122.087000)\n",
    "\n",
    "\n",
    "# Get geojson data for California\n",
    "f = open('../data/geojson_data/ca_california_geojson.json')\n",
    "ca_customer_zip_geojson = json.load(f)\n",
    "f.close()\n",
    "\n",
    "# Determine the correct color for each zip based on population\n",
    "# The populations are in the zip_codes table in the DB,\n",
    "# we need to match each of the zips in the geojson file with the populations in the zip_codes table\n",
    "colors = [\n",
    "    (220,220,220) if len(zip_codes[zip_codes['zip'] == zip_code['properties']['ZCTA5CE10']]['population']) == 0 \n",
    "    else (233,62,58) if zip_codes[zip_codes['zip'] == zip_code['properties']['ZCTA5CE10']]['population'].iloc[0] > zip_code_quantiles.iloc[3]\n",
    "    else (237,104,60) if zip_codes[zip_codes['zip'] == zip_code['properties']['ZCTA5CE10']]['population'].iloc[0] > zip_code_quantiles.iloc[2]\n",
    "    else (243,144,63) if zip_codes[zip_codes['zip'] == zip_code['properties']['ZCTA5CE10']]['population'].iloc[0] > zip_code_quantiles.iloc[1]\n",
    "    else (253,199,12) if zip_codes[zip_codes['zip'] == zip_code['properties']['ZCTA5CE10']]['population'].iloc[0] > zip_code_quantiles.iloc[0]\n",
    "    else (255,243,59)\n",
    "    for zip_code in ca_customer_zip_geojson['features']\n",
    "]\n",
    "\n",
    "fig = gmaps.figure(center=fruitvale, zoom_level=11)\n",
    "geojson_layer = gmaps.geojson_layer(ca_customer_zip_geojson, fill_color=colors)\n",
    "\n",
    "fig.add_layer(geojson_layer)\n",
    "\n",
    "fig"
   ]
  },
  {
   "cell_type": "markdown",
   "id": "823b782b",
   "metadata": {},
   "source": [
    "### Updated Drone Locations\n",
    "In the below chart, we can see more thoughtfully placed delivery drone locations. There is minimal overlap between delivery zones and the zones cover many of the most populated zip codes in the Bay Area. In fact, based on the population within 1.5 miles of each of the stations, there are 671861 customers within the delivery range for the selected drone locations."
   ]
  },
  {
   "cell_type": "code",
   "execution_count": 28,
   "id": "e31d39aa",
   "metadata": {},
   "outputs": [
    {
     "data": {
      "application/vnd.jupyter.widget-view+json": {
       "model_id": "808539fb831741d794b5d6c5d3e8952d",
       "version_major": 2,
       "version_minor": 0
      },
      "text/plain": [
       "Figure(layout=FigureLayout(height='420px'))"
      ]
     },
     "metadata": {},
     "output_type": "display_data"
    }
   ],
   "source": [
    "fig = gmaps.figure(center=fruitvale, zoom_level=11)\n",
    "drawing = gmaps.drawing_layer(features=[\n",
    "    gmaps.Circle(\n",
    "        radius=2414,  # 1.5 miles in meters\n",
    "        center=civic_center,\n",
    "        stroke_color='red', fill_color=(255, 0, 132)\n",
    "    ),\n",
    "    gmaps.Circle(\n",
    "        radius=2414,  # 1.5 miles in meters\n",
    "        center=glen_park,\n",
    "        stroke_color='red', fill_color=(255, 0, 132)\n",
    "    ),\n",
    "    gmaps.Circle(\n",
    "        radius=2414,  # 1.5 miles in meters\n",
    "        center=lake_merritt,\n",
    "        stroke_color='red', fill_color=(255, 0, 132)\n",
    "    ),\n",
    "    gmaps.Circle(\n",
    "        radius=2414,  # 1.5 miles in meters\n",
    "        center=fruitvale,\n",
    "        stroke_color='red', fill_color=(255, 0, 132)\n",
    "    )\n",
    "], mode='DISABLED')\n",
    "fig.add_layer(drawing)\n",
    "marker_layer = gmaps.marker_layer([\n",
    "    berkeley_store, \n",
    "    civic_center, \n",
    "    glen_park, \n",
    "    lake_merritt, \n",
    "    fruitvale\n",
    "], info_box_content=[\n",
    "    'Berkeley AGM Store',\n",
    "    'Civic Center Station',\n",
    "    'Glen Park Station',\n",
    "    'Lake Merritt Station',\n",
    "    'Fruitvale Station'\n",
    "])\n",
    "fig.add_layer(marker_layer)\n",
    "fig"
   ]
  },
  {
   "cell_type": "code",
   "execution_count": 29,
   "id": "d9f8bb66",
   "metadata": {},
   "outputs": [
    {
     "name": "stdout",
     "output_type": "stream",
     "text": [
      "Number of customers in delivery range: 671861.0\n"
     ]
    }
   ],
   "source": [
    "print(\n",
    "    'Number of customers in delivery range:',\n",
    "    df[\n",
    "        (df.index == 'Civic Center') |\n",
    "        (df.index == 'Glen Park') |\n",
    "        (df.index == 'Lake Merritt') |\n",
    "        (df.index == 'Fruitvale')\n",
    "    ]['pop_1_5'].sum()\n",
    ")\n"
   ]
  },
  {
   "cell_type": "markdown",
   "id": "d2db11cb",
   "metadata": {},
   "source": [
    "## Costs\n",
    "While we expect significant benefits from AGM expansion in the Bay Area, there are also costs that need to be taken into account. Much of the expansion has centered around using BART stations for delivery and pickup locations, however each BART ride has a cost and the more extensive use of the BART system, the higher the costs will be. In order to determine how many BART trips are required to fulfill the pickup requests, we decided to extrapolate the number of delivery orders took place in the Peak Deliveries proof-of-concept. In the one-day trial, Peak delivered 540 meals to customers from the Berkeley store. It is difficult to forecast future demand, but we project to double the number of meals delivered by Peak because there are several times more customers in our delivery range, but there may be some uncetainty in our customers using these new options. Our projection is to deliver 1080 meals per day across the different locations with our new delivery options. The final piece of the puzzle is the number of meals that can be transported in a single trip using BART. Based on our industry knowledge, we are projecting a carrier can transport 30 meals in each trip, which would require 9 round-trip BART rides for each location."
   ]
  },
  {
   "cell_type": "markdown",
   "id": "3c1819c3",
   "metadata": {},
   "source": [
    "### Costs by Station\n",
    "BART has a variable cost based on entry and exit station. Because of this, we need to determine the cost for trips from the nearest Berkeley store station to each of the new pickup locations. Below we can see the daily costs to get the meals to each station."
   ]
  },
  {
   "cell_type": "code",
   "execution_count": 30,
   "id": "f9b306af",
   "metadata": {},
   "outputs": [
    {
     "name": "stdout",
     "output_type": "stream",
     "text": [
      "Glen Park transportation costs: $81.90\n",
      "Civic Center transportation costs: $74.70\n",
      "Lake Merritt transportation costs: $37.80\n",
      "Fruitvale transportation costs: $41.40\n",
      "Total daily transportation costs: $235.80\n"
     ]
    }
   ],
   "source": [
    "number_of_trips = 9\n",
    "glen_park_costs = round(9.10 * number_of_trips, 2)\n",
    "civic_center_costs = round(8.30 * number_of_trips, 2)\n",
    "lake_merritt_costs = round(4.20 * number_of_trips, 2)\n",
    "fruitvale_costs = round(4.60 * number_of_trips, 2)\n",
    "daily_transportation_costs = glen_park_costs + civic_center_costs + lake_merritt_costs + fruitvale_costs\n",
    "\n",
    "print('Glen Park transportation costs: $' + \"{:.2f}\".format(glen_park_costs))\n",
    "print('Civic Center transportation costs: $' + \"{:.2f}\".format(civic_center_costs))\n",
    "print('Lake Merritt transportation costs: $' + \"{:.2f}\".format(lake_merritt_costs))\n",
    "print('Fruitvale transportation costs: $' + \"{:.2f}\".format(fruitvale_costs))\n",
    "print('Total daily transportation costs: $' + \"{:.2f}\".format(daily_transportation_costs))"
   ]
  },
  {
   "cell_type": "markdown",
   "id": "20940f74",
   "metadata": {},
   "source": [
    "### Drone Price\n",
    "Based on preliminary research, we have found the retail price for a delivery drone is \\\\$4,000. In Phase 1 of the new delivery options, we recommend starting with one drone per pickup location which would total at \\$16,000."
   ]
  },
  {
   "cell_type": "markdown",
   "id": "19f90de0",
   "metadata": {},
   "source": [
    "## Projected Profits\n",
    "Based on our projections of 1080 meals sold in a day, that would amount to \\\\$12,960 in new daily sales based on the fixed price of \\$12 per meal. Below we can see the projected overall annual profits from the new delivery/pickup options."
   ]
  },
  {
   "cell_type": "code",
   "execution_count": 31,
   "id": "e26c97da",
   "metadata": {},
   "outputs": [
    {
     "name": "stdout",
     "output_type": "stream",
     "text": [
      "Projected annual profit: $4602884.60\n"
     ]
    }
   ],
   "source": [
    "meal_price = 12\n",
    "projected_daily_meals_sold = 1080\n",
    "projected_daily_income = projected_daily_meals_sold * meal_price\n",
    "initial_drone_cost = 16000\n",
    "annual_business_days = 363\n",
    "\n",
    "annual_profit = ((projected_daily_income - daily_transportation_costs) * annual_business_days) - initial_drone_cost\n",
    "print('Projected annual profit: $' + \"{:.2f}\".format(annual_profit))"
   ]
  },
  {
   "cell_type": "code",
   "execution_count": 190,
   "id": "a917bc23",
   "metadata": {},
   "outputs": [
    {
     "data": {
      "text/plain": [
       "4704480"
      ]
     },
     "execution_count": 190,
     "metadata": {},
     "output_type": "execute_result"
    }
   ],
   "source": [
    "projected_daily_income * 363"
   ]
  },
  {
   "cell_type": "code",
   "execution_count": null,
   "id": "b116b942",
   "metadata": {},
   "outputs": [],
   "source": []
  }
 ],
 "metadata": {
  "kernelspec": {
   "display_name": "Python 3",
   "language": "python",
   "name": "python3"
  },
  "language_info": {
   "codemirror_mode": {
    "name": "ipython",
    "version": 3
   },
   "file_extension": ".py",
   "mimetype": "text/x-python",
   "name": "python",
   "nbconvert_exporter": "python",
   "pygments_lexer": "ipython3",
   "version": "3.8.8"
  }
 },
 "nbformat": 4,
 "nbformat_minor": 5
}
