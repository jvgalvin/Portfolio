{
 "cells": [
  {
   "cell_type": "markdown",
   "id": "897b160e",
   "metadata": {},
   "source": [
    "# Drone Delivery"
   ]
  },
  {
   "cell_type": "markdown",
   "id": "4108a7f2",
   "metadata": {},
   "source": [
    "### Imports"
   ]
  },
  {
   "cell_type": "code",
   "execution_count": 157,
   "id": "52515788",
   "metadata": {},
   "outputs": [],
   "source": [
    "import math\n",
    "import numpy as np\n",
    "import pandas as pd\n",
    "\n",
    "import psycopg2\n",
    "\n",
    "import json\n",
    "\n",
    "import gmaps\n",
    "import gmaps.geojson_geometries\n",
    "\n",
    "import math\n",
    "\n",
    "from geographiclib.geodesic import Geodesic"
   ]
  },
  {
   "cell_type": "markdown",
   "id": "623eab8b",
   "metadata": {},
   "source": [
    "### Utility Functions"
   ]
  },
  {
   "cell_type": "code",
   "execution_count": 150,
   "id": "02784cf6",
   "metadata": {},
   "outputs": [],
   "source": [
    "#\n",
    "# function to run a select query and return rows in a pandas dataframe\n",
    "# pandas puts all numeric values from postgres to float\n",
    "# if it will fit in an integer, change it to integer\n",
    "#\n",
    "\n",
    "def my_select_query_pandas(query, rollback_before_flag, rollback_after_flag):\n",
    "    \"function to run a select query and return rows in a pandas dataframe\"\n",
    "    \n",
    "    if rollback_before_flag:\n",
    "        connection.rollback()\n",
    "    \n",
    "    df = pd.read_sql_query(query, connection)\n",
    "    \n",
    "    if rollback_after_flag:\n",
    "        connection.rollback()\n",
    "    \n",
    "    # fix the float columns that really should be integers\n",
    "    \n",
    "    for column in df:\n",
    "    \n",
    "        if df[column].dtype == \"float64\":\n",
    "\n",
    "            fraction_flag = False\n",
    "\n",
    "            for value in df[column].values:\n",
    "                \n",
    "                if not np.isnan(value):\n",
    "                    if value - math.floor(value) != 0:\n",
    "                        fraction_flag = True\n",
    "\n",
    "            if not fraction_flag:\n",
    "                df[column] = df[column].astype('Int64')\n",
    "    \n",
    "    return(df)\n",
    "\n",
    "## Set up Postgres DB connection\n",
    "connection = psycopg2.connect(\n",
    "    user = \"postgres\",\n",
    "    password = \"ucb\",\n",
    "    host = \"postgres\",\n",
    "    port = \"5432\",\n",
    "    database = \"postgres\"\n",
    ")\n",
    "\n",
    "## Connect to Postgres DB\n",
    "cursor = connection.cursor()\n",
    "\n",
    "def my_calculate_distance(point_1, point_2):\n",
    "    \"Given two points in (latitude, longitude) format, calculate the distance between them in miles\"\n",
    "    \n",
    "    geod = Geodesic.WGS84\n",
    "\n",
    "\n",
    "    g = geod.Inverse(point_1[0], point_1[1], point_2[0], point_2[1])\n",
    "    miles = g['s12'] / 1000 * 0.621371\n",
    "    \n",
    "    return miles\n",
    "\n",
    "## Import Google Maps API key\n",
    "f = open('gmap_api_key.txt', 'r')\n",
    "my_api_key = f.read()\n",
    "f.close()\n",
    "\n",
    "gmaps.configure(api_key=my_api_key)"
   ]
  },
  {
   "cell_type": "markdown",
   "id": "1e1da483",
   "metadata": {},
   "source": [
    "## Business Problem\n",
    "Acme Gourmet Meals (AGM) is at an important place in the company's history. We are at a crossroads with regards to business expansion and there are a number of options for how to proceed, ranging from more traditional approaches like adding new physical store locations to the futuristic with drone and robot deliveries. When considering the latter options, we must take into account account the maximum range of the delivery along with the population/customer density within that range. Additionally, cost of drones and maintenance will need to be taken into account to determine the overall efficacy of the drone option. We will start by defining the delivery range and potential customer impact of using delivery drones at AGM.\n",
    "\n",
    "According to the LA-based food delivery company, Flyby, drones can deliver food within a 1.5 mile range and can travel at up-to 40 miles per hour. With this in mind, we will investigate the number of customers within a 1.5 mile radius of the Berkeley AGM store."
   ]
  },
  {
   "cell_type": "code",
   "execution_count": 44,
   "id": "d4954282",
   "metadata": {},
   "outputs": [
    {
     "data": {
      "text/html": [
       "<div>\n",
       "<style scoped>\n",
       "    .dataframe tbody tr th:only-of-type {\n",
       "        vertical-align: middle;\n",
       "    }\n",
       "\n",
       "    .dataframe tbody tr th {\n",
       "        vertical-align: top;\n",
       "    }\n",
       "\n",
       "    .dataframe thead th {\n",
       "        text-align: right;\n",
       "    }\n",
       "</style>\n",
       "<table border=\"1\" class=\"dataframe\">\n",
       "  <thead>\n",
       "    <tr style=\"text-align: right;\">\n",
       "      <th></th>\n",
       "      <th>Unique Customers</th>\n",
       "      <th>Number of Transactions</th>\n",
       "      <th>Annual Spending ($)</th>\n",
       "    </tr>\n",
       "  </thead>\n",
       "  <tbody>\n",
       "    <tr>\n",
       "      <th>0</th>\n",
       "      <td>790</td>\n",
       "      <td>51580</td>\n",
       "      <td>3128808</td>\n",
       "    </tr>\n",
       "  </tbody>\n",
       "</table>\n",
       "</div>"
      ],
      "text/plain": [
       "   Unique Customers  Number of Transactions  Annual Spending ($)\n",
       "0               790                   51580              3128808"
      ]
     },
     "execution_count": 44,
     "metadata": {},
     "output_type": "execute_result"
    }
   ],
   "source": [
    "rollback_before_flag = True\n",
    "rollback_after_flag = True\n",
    "\n",
    "query = \"\"\"\n",
    "\n",
    "select count(distinct(cu.customer_id)) as \"Unique Customers\", count(s.sale_id) \"Number of Transactions\", sum(s.total_amount) as \"Annual Spending ($)\"\n",
    "from customers as cu\n",
    "     join sales s\n",
    "         on cu.customer_id = s.customer_id\n",
    "where cu.closest_store_id = 1\n",
    "and distance <= 1.5;\n",
    "\"\"\"\n",
    "\n",
    "df = my_select_query_pandas(query, rollback_before_flag, rollback_after_flag)\n",
    "df"
   ]
  },
  {
   "cell_type": "markdown",
   "id": "98472ed6",
   "metadata": {},
   "source": [
    "## Customer History\n",
    "Focusing on customers within a 1.5 mile radius of the Berkeley AGM store, we can see in 2020 there were 790 customers who spent a total of \\$3,128,808 in 51,580 transactions. With this knowledge in mind, we want to project the potential impact of drone delivery on sales and earnings. In the below table, we see the sales amounts based on a potential increase in sales of 2\\%, 4\\%, and 6\\% respectively. It is difficult to gauge the future sales amounts if the company implemented drone delivery but considering the customer benefits of delivery along with the novelty of drone use, we provided a range of possible future sales figures based on existing customer behavior."
   ]
  },
  {
   "cell_type": "code",
   "execution_count": 82,
   "id": "b712b80b",
   "metadata": {},
   "outputs": [
    {
     "data": {
      "text/html": [
       "<div>\n",
       "<style scoped>\n",
       "    .dataframe tbody tr th:only-of-type {\n",
       "        vertical-align: middle;\n",
       "    }\n",
       "\n",
       "    .dataframe tbody tr th {\n",
       "        vertical-align: top;\n",
       "    }\n",
       "\n",
       "    .dataframe thead th {\n",
       "        text-align: right;\n",
       "    }\n",
       "</style>\n",
       "<table border=\"1\" class=\"dataframe\">\n",
       "  <thead>\n",
       "    <tr style=\"text-align: right;\">\n",
       "      <th></th>\n",
       "      <th>Scenario</th>\n",
       "      <th>Annual Spending ($)</th>\n",
       "      <th>Sales Increase ($)</th>\n",
       "    </tr>\n",
       "  </thead>\n",
       "  <tbody>\n",
       "    <tr>\n",
       "      <th>0</th>\n",
       "      <td>2020 Sales</td>\n",
       "      <td>3128808.00</td>\n",
       "      <td>N/A</td>\n",
       "    </tr>\n",
       "    <tr>\n",
       "      <th>1</th>\n",
       "      <td>2% Sales Increase</td>\n",
       "      <td>3191384.16</td>\n",
       "      <td>62576.16</td>\n",
       "    </tr>\n",
       "    <tr>\n",
       "      <th>2</th>\n",
       "      <td>4% Sales Increase</td>\n",
       "      <td>3253960.32</td>\n",
       "      <td>125152.32</td>\n",
       "    </tr>\n",
       "    <tr>\n",
       "      <th>3</th>\n",
       "      <td>6% Sales Increase</td>\n",
       "      <td>3316536.48</td>\n",
       "      <td>187728.48</td>\n",
       "    </tr>\n",
       "  </tbody>\n",
       "</table>\n",
       "</div>"
      ],
      "text/plain": [
       "            Scenario  Annual Spending ($) Sales Increase ($)\n",
       "0         2020 Sales           3128808.00                N/A\n",
       "1  2% Sales Increase           3191384.16           62576.16\n",
       "2  4% Sales Increase           3253960.32          125152.32\n",
       "3  6% Sales Increase           3316536.48          187728.48"
      ]
     },
     "execution_count": 82,
     "metadata": {},
     "output_type": "execute_result"
    }
   ],
   "source": [
    "rollback_before_flag = True\n",
    "rollback_after_flag = True\n",
    "\n",
    "query = \"\"\"\n",
    "select *\n",
    "from\n",
    "(select \n",
    "    1 as Order,\n",
    "    '2020 Sales' as \"Scenario\",\n",
    "    sum(s.total_amount) as \"Annual Spending ($)\",\n",
    "    'N/A' as \"Sales Increase ($)\"\n",
    "from customers as cu\n",
    "     join sales s\n",
    "         on cu.customer_id = s.customer_id\n",
    "where cu.closest_store_id = 1\n",
    "and distance <= 1.5\n",
    "union\n",
    "select \n",
    "    2 as Order,\n",
    "    '2% Sales Increase' as \"Scenario\",\n",
    "    sum(s.total_amount) * 1.02 as \"Annual Spending ($)\",\n",
    "    (sum(s.total_amount) * 1.02 - sum(s.total_amount))::varchar as \"Sales Increase ($)\"\n",
    "from customers as cu\n",
    "     join sales s\n",
    "         on cu.customer_id = s.customer_id\n",
    "where cu.closest_store_id = 1\n",
    "and distance <= 1.5\n",
    "union\n",
    "select \n",
    "    3 as Order,\n",
    "    '4% Sales Increase' as \"Scenario\",\n",
    "    sum(s.total_amount) * 1.04 as \"Annual Spending ($)\",\n",
    "    (sum(s.total_amount) * 1.04 - sum(s.total_amount))::varchar as \"Sales Increase ($)\"\n",
    "from customers as cu\n",
    "     join sales s\n",
    "         on cu.customer_id = s.customer_id\n",
    "where cu.closest_store_id = 1\n",
    "and distance <= 1.5\n",
    "union\n",
    "select \n",
    "    4 as Order,\n",
    "    '6% Sales Increase' as \"Scenario\",\n",
    "    sum(s.total_amount) * 1.06 as \"Annual Spending ($)\",\n",
    "    (sum(s.total_amount) * 1.06 - sum(s.total_amount))::varchar as \"Sales Increase ($)\"\n",
    "from customers as cu\n",
    "     join sales s\n",
    "         on cu.customer_id = s.customer_id\n",
    "where cu.closest_store_id = 1\n",
    "and distance <= 1.5) q\n",
    "order by 1\n",
    "\"\"\"\n",
    "\n",
    "df = my_select_query_pandas(query, rollback_before_flag, rollback_after_flag)[['Scenario', 'Annual Spending ($)', 'Sales Increase ($)']]\n",
    "df"
   ]
  },
  {
   "cell_type": "markdown",
   "id": "cf682e2b",
   "metadata": {},
   "source": [
    "## Potential Customer Base\n",
    "While it's important to understand past customer behavior and how that may affect a decision to implement drone delivery, we must also understand the untapped customer base within the delivery range. To do this, we have identified the zip codes within the delivery range of the Berkeley store and analyzed the number of residents in these areas. While we have several hundred existing customers within the drone delivery range, we can see in the charts below that there are over 100,000 residents living within deliverable zip codes. This means the existing customer base is less than one percent of the population which means there is tremendous potential for growth even within the 1.5 mile range reachable by delivery drones.\n",
    "\n",
    "A small caveat regarding the number of residents is that the distance calculations are based on the center of the delivery zip code rather than individual addresses so there may be some residents in a zip code that are eligible for delivery and some would be just out of range. However, the total number of residents is likely reasonably close to the genuine number because there are also some residents that are within delivery range even though the center of the zip code does not register in our results."
   ]
  },
  {
   "cell_type": "code",
   "execution_count": 135,
   "id": "ad9e06bd",
   "metadata": {},
   "outputs": [
    {
     "data": {
      "text/html": [
       "<div>\n",
       "<style scoped>\n",
       "    .dataframe tbody tr th:only-of-type {\n",
       "        vertical-align: middle;\n",
       "    }\n",
       "\n",
       "    .dataframe tbody tr th {\n",
       "        vertical-align: top;\n",
       "    }\n",
       "\n",
       "    .dataframe thead th {\n",
       "        text-align: right;\n",
       "    }\n",
       "</style>\n",
       "<table border=\"1\" class=\"dataframe\">\n",
       "  <thead>\n",
       "    <tr style=\"text-align: right;\">\n",
       "      <th></th>\n",
       "      <th>city</th>\n",
       "      <th>state</th>\n",
       "      <th>population</th>\n",
       "      <th>distance</th>\n",
       "    </tr>\n",
       "  </thead>\n",
       "  <tbody>\n",
       "    <tr>\n",
       "      <th>0</th>\n",
       "      <td>Emeryville</td>\n",
       "      <td>CA</td>\n",
       "      <td>30289</td>\n",
       "      <td>1.944523</td>\n",
       "    </tr>\n",
       "    <tr>\n",
       "      <th>1</th>\n",
       "      <td>Oakland</td>\n",
       "      <td>CA</td>\n",
       "      <td>22811</td>\n",
       "      <td>1.477601</td>\n",
       "    </tr>\n",
       "    <tr>\n",
       "      <th>2</th>\n",
       "      <td>Oakland</td>\n",
       "      <td>CA</td>\n",
       "      <td>17041</td>\n",
       "      <td>1.418286</td>\n",
       "    </tr>\n",
       "    <tr>\n",
       "      <th>3</th>\n",
       "      <td>Berkeley</td>\n",
       "      <td>CA</td>\n",
       "      <td>17092</td>\n",
       "      <td>1.584381</td>\n",
       "    </tr>\n",
       "    <tr>\n",
       "      <th>4</th>\n",
       "      <td>Berkeley</td>\n",
       "      <td>CA</td>\n",
       "      <td>21937</td>\n",
       "      <td>1.013126</td>\n",
       "    </tr>\n",
       "    <tr>\n",
       "      <th>5</th>\n",
       "      <td>Berkeley</td>\n",
       "      <td>CA</td>\n",
       "      <td>29190</td>\n",
       "      <td>0.776715</td>\n",
       "    </tr>\n",
       "    <tr>\n",
       "      <th>6</th>\n",
       "      <td>Berkeley</td>\n",
       "      <td>CA</td>\n",
       "      <td>13365</td>\n",
       "      <td>1.386033</td>\n",
       "    </tr>\n",
       "    <tr>\n",
       "      <th>7</th>\n",
       "      <td>Berkeley</td>\n",
       "      <td>CA</td>\n",
       "      <td>11740</td>\n",
       "      <td>1.679480</td>\n",
       "    </tr>\n",
       "    <tr>\n",
       "      <th>8</th>\n",
       "      <td>Berkeley</td>\n",
       "      <td>CA</td>\n",
       "      <td>2971</td>\n",
       "      <td>1.312140</td>\n",
       "    </tr>\n",
       "  </tbody>\n",
       "</table>\n",
       "</div>"
      ],
      "text/plain": [
       "         city state  population  distance\n",
       "0  Emeryville    CA       30289  1.944523\n",
       "1     Oakland    CA       22811  1.477601\n",
       "2     Oakland    CA       17041  1.418286\n",
       "3    Berkeley    CA       17092  1.584381\n",
       "4    Berkeley    CA       21937  1.013126\n",
       "5    Berkeley    CA       29190  0.776715\n",
       "6    Berkeley    CA       13365  1.386033\n",
       "7    Berkeley    CA       11740  1.679480\n",
       "8    Berkeley    CA        2971  1.312140"
      ]
     },
     "execution_count": 135,
     "metadata": {},
     "output_type": "execute_result"
    }
   ],
   "source": [
    "rollback_before_flag = True\n",
    "rollback_after_flag = True\n",
    "\n",
    "query = \"\"\"\n",
    "select s.latitude as \"berkeley_lat\", s.longitude as \"berkeley_long\", zc.*\n",
    "from stores s, zip_codes zc\n",
    "where s.city = 'Berkeley'\n",
    "\"\"\"\n",
    "\n",
    "df = my_select_query_pandas(query, rollback_before_flag, rollback_after_flag)\n",
    "\n",
    "zips_in_range = []\n",
    "for index, row in df.iterrows():\n",
    "    berkeley_location = (row['berkeley_lat'], row['berkeley_long'])\n",
    "    target_location = (row['latitude'], row['longitude'])\n",
    "    distance = my_calculate_distance(berkeley_location, target_location)\n",
    "    if distance <= 2:\n",
    "        zips_in_range.append({**row, 'distance': distance })\n",
    "        \n",
    "zips_in_range = pd.DataFrame(data=zips_in_range)\n",
    "zips_in_range[['city', 'state', 'population', 'distance']]"
   ]
  },
  {
   "cell_type": "code",
   "execution_count": 136,
   "id": "5a400dba",
   "metadata": {},
   "outputs": [
    {
     "name": "stdout",
     "output_type": "stream",
     "text": [
      "Number of customers in deliverable zip codes: 107315\n"
     ]
    }
   ],
   "source": [
    "print('Number of customers in deliverable zip codes:', zips_in_range[zips_in_range['distance'] <= 1.5]['population'].sum())"
   ]
  },
  {
   "cell_type": "markdown",
   "id": "fb2ea848",
   "metadata": {},
   "source": [
    "## Costs\n",
    "In order to get a full understanding of the potential of drone deliver, we must also consider the costs associated with the drones. Based on literature analyzing the cost of <cite>[drone delivery][1]</cite>, the average cost of a single delivery drone is \\\\$4,000. For our drone delivery proof-of-concept, we recommend an initial approach using one or two delivery drones in order to better understand their viability and the customer response. The \\\\$8,000 initial investment pales in comparison to the millions of dollars our customers spend annually who are within our delivery range so we would recommend beginning a proof-of-concept whenever possible.\n",
    "\n",
    "\n",
    "[1]: https://libjournals.mtsu.edu/index.php/jfee/article/download/1512/1090/4144"
   ]
  },
  {
   "cell_type": "markdown",
   "id": "74cd0e3d",
   "metadata": {},
   "source": [
    "## Drone Range - Visualized"
   ]
  },
  {
   "cell_type": "code",
   "execution_count": 186,
   "id": "b6163b7f",
   "metadata": {},
   "outputs": [
    {
     "data": {
      "application/vnd.jupyter.widget-view+json": {
       "model_id": "fed04e19bd254526bb62f30c7d43ec6e",
       "version_major": 2,
       "version_minor": 0
      },
      "text/plain": [
       "Figure(layout=FigureLayout(height='420px'))"
      ]
     },
     "metadata": {},
     "output_type": "display_data"
    }
   ],
   "source": [
    "berkeley_store = (df.iloc[0]['berkeley_lat'],df.iloc[0]['berkeley_long'])\n",
    "fig = gmaps.figure(center=berkeley_store, zoom_level=12)\n",
    "drawing = gmaps.drawing_layer(features=[\n",
    "    gmaps.Circle(\n",
    "        radius=2414,  # 1.5 miles in meters\n",
    "        center=berkeley_store,\n",
    "        stroke_color='red', fill_color=(255, 0, 132)\n",
    "    )\n",
    "], mode='DISABLED')\n",
    "fig.add_layer(drawing)\n",
    "marker_layer = gmaps.marker_layer([berkeley_store], info_box_content=['Berkeley AGM Store'])\n",
    "fig.add_layer(marker_layer)\n",
    "fig"
   ]
  },
  {
   "cell_type": "code",
   "execution_count": null,
   "id": "b0dfd70d",
   "metadata": {},
   "outputs": [],
   "source": []
  }
 ],
 "metadata": {
  "kernelspec": {
   "display_name": "Python 3",
   "language": "python",
   "name": "python3"
  },
  "language_info": {
   "codemirror_mode": {
    "name": "ipython",
    "version": 3
   },
   "file_extension": ".py",
   "mimetype": "text/x-python",
   "name": "python",
   "nbconvert_exporter": "python",
   "pygments_lexer": "ipython3",
   "version": "3.8.8"
  }
 },
 "nbformat": 4,
 "nbformat_minor": 5
}
