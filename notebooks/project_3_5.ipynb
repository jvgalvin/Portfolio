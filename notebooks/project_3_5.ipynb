{
 "cells": [
  {
   "cell_type": "markdown",
   "id": "3f465500",
   "metadata": {},
   "source": [
    "# Project 3, Part 5, Use geodesic distances and zip code and population data to enhance our BART model\n",
    "\n",
    "University of California, Berkeley\n",
    "\n",
    "Master of Information and Data Science (MIDS) program\n",
    "\n",
    "w205 - Fundamentals of Data Engineering\n",
    "\n",
    "Students in the group:\n",
    "* Aris Chalini\n",
    "* Jack Galvin\n",
    "* Matt Lauritzen\n",
    "\n",
    "Year: 2022\n",
    "\n",
    "Semester: Spring\n",
    "\n",
    "Section: 09\n"
   ]
  },
  {
   "cell_type": "markdown",
   "id": "33c6e20e",
   "metadata": {},
   "source": [
    "# Included Modules and Packages\n",
    "\n",
    "Code cell containing your includes for modules and packages\n",
    "\n",
    "Some starter code is provided\n",
    "\n",
    "You may change the starter code as needed\n",
    "\n",
    "You may add as much code and/or as many code cells as you need"
   ]
  },
  {
   "cell_type": "code",
   "execution_count": 1,
   "id": "530d745a",
   "metadata": {},
   "outputs": [],
   "source": [
    "import math\n",
    "import numpy as np\n",
    "import pandas as pd\n",
    "\n",
    "import psycopg2\n",
    "\n",
    "from geographiclib.geodesic import Geodesic"
   ]
  },
  {
   "cell_type": "markdown",
   "id": "c91c8869",
   "metadata": {},
   "source": [
    "# Supporting code\n",
    "\n",
    "Code cells containing any supporting code, such as connecting to the database, any functions, etc.  \n",
    "\n",
    "Remember you can freely use any code from the labs. You do not need to cite code from the labs.\n",
    "\n",
    "Some starter code is provided\n",
    "\n",
    "You may change the starter code as needed\n",
    "\n",
    "You may add as much code and/or as many code cells as you need"
   ]
  },
  {
   "cell_type": "code",
   "execution_count": 2,
   "id": "f0119fb5",
   "metadata": {},
   "outputs": [],
   "source": [
    "def my_calculate_box(point, miles):\n",
    "    \"Given a point and miles, calculate the box in form left, right, top, bottom\"\n",
    "    \n",
    "    geod = Geodesic.WGS84\n",
    "\n",
    "    kilometers = miles * 1.60934\n",
    "    meters = kilometers * 1000\n",
    "\n",
    "    g = geod.Direct(point[0], point[1], 270, meters)\n",
    "    left = (g['lat2'], g['lon2'])\n",
    "\n",
    "    g = geod.Direct(point[0], point[1], 90, meters)\n",
    "    right = (g['lat2'], g['lon2'])\n",
    "\n",
    "    g = geod.Direct(point[0], point[1], 0, meters)\n",
    "    top = (g['lat2'], g['lon2'])\n",
    "\n",
    "    g = geod.Direct(point[0], point[1], 180, meters)\n",
    "    bottom = (g['lat2'], g['lon2'])\n",
    "    \n",
    "    return(left, right, top, bottom)"
   ]
  },
  {
   "cell_type": "code",
   "execution_count": 3,
   "id": "184ff815",
   "metadata": {},
   "outputs": [],
   "source": [
    "def my_station_get_zips(station, miles):\n",
    "    \"given a station, pull all zip codes with miles distance, print them, sum the population\"\n",
    "    \n",
    "    connection.rollback()\n",
    "    \n",
    "    query = \"select latitude, longitude from stations \"\n",
    "    query += \"where station = '\" + station + \"'\"\n",
    "    \n",
    "    cursor.execute(query)\n",
    "    \n",
    "    connection.rollback()\n",
    "    \n",
    "    rows = cursor.fetchall()\n",
    "    \n",
    "    for row in rows:\n",
    "        latitude = row[0]\n",
    "        longitude = row[1]\n",
    "        \n",
    "    point = (latitude, longitude)\n",
    "        \n",
    "    (left, right, top, bottom) = my_calculate_box(point, miles)\n",
    "    \n",
    "    query = \"select zip, population from zip_codes \"\n",
    "    query += \" where latitude >= \" + str(bottom[0])\n",
    "    query += \" and latitude <= \" + str(top [0])\n",
    "    query += \" and longitude >= \" + str(left[1])\n",
    "    query += \" and longitude <= \" + str(right[1])\n",
    "    query += \" order by 1 \"\n",
    "\n",
    "    cursor.execute(query)\n",
    "    \n",
    "    connection.rollback()\n",
    "    \n",
    "    rows = cursor.fetchall()\n",
    "    \n",
    "    print(\"\\n-------------------------------------------------------------------------------\")\n",
    "    print(\"  Zip Codes within \" + str(miles) + \" mile(s) of \" + station + \" BART Station\")\n",
    "    print(\"-------------------------------------------------------------------------------\\n\")\n",
    "    \n",
    "    total_population = 0\n",
    "    \n",
    "    for row in rows:\n",
    "        zip = row[0]\n",
    "        population = row[1]\n",
    "        print(\"     zip:\", zip, \"  population: \", f'{population:10,}')\n",
    "        total_population += population\n",
    "        \n",
    "    \n",
    "    print(\"\\n-------------------------------------------------------------------------------\")\n",
    "    print(\"  Total Population: \", f'{total_population:10,}')\n",
    "    print(\"-------------------------------------------------------------------------------\")"
   ]
  },
  {
   "cell_type": "code",
   "execution_count": 4,
   "id": "c9671e9d",
   "metadata": {},
   "outputs": [],
   "source": [
    "connection = psycopg2.connect(\n",
    "    user = \"postgres\",\n",
    "    password = \"ucb\",\n",
    "    host = \"postgres\",\n",
    "    port = \"5432\",\n",
    "    database = \"postgres\"\n",
    ")"
   ]
  },
  {
   "cell_type": "code",
   "execution_count": 5,
   "id": "4d02d576",
   "metadata": {},
   "outputs": [],
   "source": [
    "cursor = connection.cursor()"
   ]
  },
  {
   "cell_type": "markdown",
   "id": "c0139cc0",
   "metadata": {},
   "source": [
    "# 3.5.1 Find all zip codes, with population, within 1 mile of the Downtown Berkeley station\n",
    "\n",
    "Our stations table has each station, along with the latitude and longitude point for the station\n",
    "\n",
    "The function above my_station_get_zips() takes a station name and X miles (which can be decimal such as 1.5) and finds all zip codes whose geograpic center lies within a box X miles from the station along with the population and the total population\n",
    "\n",
    "Zip code data is pulled from the zip_codes table\n",
    "\n",
    "Week 2 has an optional module that covers geodesic distance calculation and how to use the box method\n",
    "\n",
    "\n"
   ]
  },
  {
   "cell_type": "markdown",
   "id": "d67fcd72",
   "metadata": {},
   "source": [
    "## Since this is the first one, a solution code cell is provided for you to execute and then pattern the rest after\n",
    "\n"
   ]
  },
  {
   "cell_type": "code",
   "execution_count": 6,
   "id": "eafaa245",
   "metadata": {},
   "outputs": [
    {
     "name": "stdout",
     "output_type": "stream",
     "text": [
      "\n",
      "-------------------------------------------------------------------------------\n",
      "  Zip Codes within 1 mile(s) of Downtown Berkeley BART Station\n",
      "-------------------------------------------------------------------------------\n",
      "\n",
      "     zip: 94702   population:      17,092\n",
      "     zip: 94703   population:      21,937\n",
      "     zip: 94704   population:      29,190\n",
      "     zip: 94709   population:      11,740\n",
      "     zip: 94720   population:       2,971\n",
      "\n",
      "-------------------------------------------------------------------------------\n",
      "  Total Population:      82,930\n",
      "-------------------------------------------------------------------------------\n"
     ]
    }
   ],
   "source": [
    "my_station_get_zips(\"Downtown Berkeley\", 1)"
   ]
  },
  {
   "cell_type": "markdown",
   "id": "e6456130",
   "metadata": {},
   "source": [
    "# 3.5.2 Find all zip codes, with population, within 1, 2, 3, 4, and 5 miles of the Downtown Berkeley station\n",
    "\n",
    "Write a loop to call the function my_station_get_zips() for each of 1, 2, 3, 4, and 5 miles\n",
    "\n",
    "\n"
   ]
  },
  {
   "cell_type": "code",
   "execution_count": 10,
   "id": "9d89b405",
   "metadata": {
    "scrolled": true
   },
   "outputs": [
    {
     "name": "stdout",
     "output_type": "stream",
     "text": [
      "\n",
      "-------------------------------------------------------------------------------\n",
      "  Zip Codes within 1 mile(s) of Downtown Berkeley BART Station\n",
      "-------------------------------------------------------------------------------\n",
      "\n",
      "     zip: 94702   population:      17,092\n",
      "     zip: 94703   population:      21,937\n",
      "     zip: 94704   population:      29,190\n",
      "     zip: 94709   population:      11,740\n",
      "     zip: 94720   population:       2,971\n",
      "\n",
      "-------------------------------------------------------------------------------\n",
      "  Total Population:      82,930\n",
      "-------------------------------------------------------------------------------\n",
      "\n",
      "-------------------------------------------------------------------------------\n",
      "  Zip Codes within 2 mile(s) of Downtown Berkeley BART Station\n",
      "-------------------------------------------------------------------------------\n",
      "\n",
      "     zip: 94618   population:      17,041\n",
      "     zip: 94702   population:      17,092\n",
      "     zip: 94703   population:      21,937\n",
      "     zip: 94704   population:      29,190\n",
      "     zip: 94705   population:      13,365\n",
      "     zip: 94706   population:      21,040\n",
      "     zip: 94707   population:      11,916\n",
      "     zip: 94709   population:      11,740\n",
      "     zip: 94710   population:       7,461\n",
      "     zip: 94720   population:       2,971\n",
      "\n",
      "-------------------------------------------------------------------------------\n",
      "  Total Population:     153,753\n",
      "-------------------------------------------------------------------------------\n",
      "\n",
      "-------------------------------------------------------------------------------\n",
      "  Zip Codes within 3 mile(s) of Downtown Berkeley BART Station\n",
      "-------------------------------------------------------------------------------\n",
      "\n",
      "     zip: 94608   population:      30,289\n",
      "     zip: 94609   population:      22,811\n",
      "     zip: 94618   population:      17,041\n",
      "     zip: 94702   population:      17,092\n",
      "     zip: 94703   population:      21,937\n",
      "     zip: 94704   population:      29,190\n",
      "     zip: 94705   population:      13,365\n",
      "     zip: 94706   population:      21,040\n",
      "     zip: 94707   population:      11,916\n",
      "     zip: 94708   population:      11,455\n",
      "     zip: 94709   population:      11,740\n",
      "     zip: 94710   population:       7,461\n",
      "     zip: 94720   population:       2,971\n",
      "\n",
      "-------------------------------------------------------------------------------\n",
      "  Total Population:     218,308\n",
      "-------------------------------------------------------------------------------\n",
      "\n",
      "-------------------------------------------------------------------------------\n",
      "  Zip Codes within 4 mile(s) of Downtown Berkeley BART Station\n",
      "-------------------------------------------------------------------------------\n",
      "\n",
      "     zip: 94530   population:      25,754\n",
      "     zip: 94608   population:      30,289\n",
      "     zip: 94609   population:      22,811\n",
      "     zip: 94611   population:      39,384\n",
      "     zip: 94618   population:      17,041\n",
      "     zip: 94702   population:      17,092\n",
      "     zip: 94703   population:      21,937\n",
      "     zip: 94704   population:      29,190\n",
      "     zip: 94705   population:      13,365\n",
      "     zip: 94706   population:      21,040\n",
      "     zip: 94707   population:      11,916\n",
      "     zip: 94708   population:      11,455\n",
      "     zip: 94709   population:      11,740\n",
      "     zip: 94710   population:       7,461\n",
      "     zip: 94720   population:       2,971\n",
      "\n",
      "-------------------------------------------------------------------------------\n",
      "  Total Population:     283,446\n",
      "-------------------------------------------------------------------------------\n",
      "\n",
      "-------------------------------------------------------------------------------\n",
      "  Zip Codes within 5 mile(s) of Downtown Berkeley BART Station\n",
      "-------------------------------------------------------------------------------\n",
      "\n",
      "     zip: 94530   population:      25,754\n",
      "     zip: 94563   population:      19,341\n",
      "     zip: 94602   population:      29,933\n",
      "     zip: 94607   population:      26,254\n",
      "     zip: 94608   population:      30,289\n",
      "     zip: 94609   population:      22,811\n",
      "     zip: 94610   population:      31,496\n",
      "     zip: 94611   population:      39,384\n",
      "     zip: 94612   population:      16,062\n",
      "     zip: 94618   population:      17,041\n",
      "     zip: 94702   population:      17,092\n",
      "     zip: 94703   population:      21,937\n",
      "     zip: 94704   population:      29,190\n",
      "     zip: 94705   population:      13,365\n",
      "     zip: 94706   population:      21,040\n",
      "     zip: 94707   population:      11,916\n",
      "     zip: 94708   population:      11,455\n",
      "     zip: 94709   population:      11,740\n",
      "     zip: 94710   population:       7,461\n",
      "     zip: 94720   population:       2,971\n",
      "     zip: 94804   population:      41,510\n",
      "\n",
      "-------------------------------------------------------------------------------\n",
      "  Total Population:     448,042\n",
      "-------------------------------------------------------------------------------\n"
     ]
    }
   ],
   "source": [
    "for i in range(1,6):\n",
    "    my_station_get_zips(\"Downtown Berkeley\", i)"
   ]
  },
  {
   "cell_type": "markdown",
   "id": "461c1587",
   "metadata": {},
   "source": [
    "# 3.5.3 Find all zip codes, with population, within 2 miles of  the Antioch station\n",
    "\n",
    "Use the my_station_get_zips() function"
   ]
  },
  {
   "cell_type": "code",
   "execution_count": 9,
   "id": "8eba3e05",
   "metadata": {},
   "outputs": [
    {
     "name": "stdout",
     "output_type": "stream",
     "text": [
      "\n",
      "-------------------------------------------------------------------------------\n",
      "  Zip Codes within 2 mile(s) of Antioch BART Station\n",
      "-------------------------------------------------------------------------------\n",
      "\n",
      "     zip: 94509   population:      66,933\n",
      "\n",
      "-------------------------------------------------------------------------------\n",
      "  Total Population:      66,933\n",
      "-------------------------------------------------------------------------------\n"
     ]
    }
   ],
   "source": [
    "my_station_get_zips(\"Antioch\", 2)"
   ]
  },
  {
   "cell_type": "markdown",
   "id": "232ca524",
   "metadata": {},
   "source": [
    "# 3.5.4 Find all zip codes, with population, within 2 miles of  the Powell Street station\n",
    "\n",
    "Use the my_station_get_zips() function"
   ]
  },
  {
   "cell_type": "code",
   "execution_count": 12,
   "id": "dacc42d9",
   "metadata": {},
   "outputs": [
    {
     "name": "stdout",
     "output_type": "stream",
     "text": [
      "\n",
      "-------------------------------------------------------------------------------\n",
      "  Zip Codes within 2 mile(s) of Powell Street BART Station\n",
      "-------------------------------------------------------------------------------\n",
      "\n",
      "     zip: 94102   population:      31,067\n",
      "     zip: 94103   population:      28,735\n",
      "     zip: 94104   population:         546\n",
      "     zip: 94105   population:       9,155\n",
      "     zip: 94107   population:      29,689\n",
      "     zip: 94108   population:      14,550\n",
      "     zip: 94109   population:      56,677\n",
      "     zip: 94111   population:       3,620\n",
      "     zip: 94114   population:      34,754\n",
      "     zip: 94115   population:      35,004\n",
      "     zip: 94123   population:      25,941\n",
      "     zip: 94133   population:      26,527\n",
      "     zip: 94158   population:       7,291\n",
      "\n",
      "-------------------------------------------------------------------------------\n",
      "  Total Population:     303,556\n",
      "-------------------------------------------------------------------------------\n"
     ]
    }
   ],
   "source": [
    "my_station_get_zips(\"Powell Street\", 2)"
   ]
  },
  {
   "cell_type": "markdown",
   "id": "317f072f",
   "metadata": {},
   "source": [
    "# 3.5.5 Find all zip codes, with population, within 2 miles of  the Coliseum station\n",
    "\n",
    "Use the my_station_get_zips() function"
   ]
  },
  {
   "cell_type": "code",
   "execution_count": 13,
   "id": "4a33097e",
   "metadata": {},
   "outputs": [
    {
     "name": "stdout",
     "output_type": "stream",
     "text": [
      "\n",
      "-------------------------------------------------------------------------------\n",
      "  Zip Codes within 2 mile(s) of Coliseum BART Station\n",
      "-------------------------------------------------------------------------------\n",
      "\n",
      "     zip: 94601   population:      52,299\n",
      "     zip: 94603   population:      34,593\n",
      "     zip: 94613   population:         861\n",
      "     zip: 94621   population:      35,287\n",
      "\n",
      "-------------------------------------------------------------------------------\n",
      "  Total Population:     123,040\n",
      "-------------------------------------------------------------------------------\n"
     ]
    }
   ],
   "source": [
    "my_station_get_zips(\"Coliseum\", 2)"
   ]
  },
  {
   "cell_type": "markdown",
   "id": "4df9d69f",
   "metadata": {},
   "source": [
    "# 3.5.6 Find all zip codes, with population, within 2 miles of  the Milpitas station\n",
    "\n",
    "Use the my_station_get_zips() function"
   ]
  },
  {
   "cell_type": "code",
   "execution_count": 14,
   "id": "ce309a4f",
   "metadata": {},
   "outputs": [
    {
     "name": "stdout",
     "output_type": "stream",
     "text": [
      "\n",
      "-------------------------------------------------------------------------------\n",
      "  Zip Codes within 2 mile(s) of Milpitas BART Station\n",
      "-------------------------------------------------------------------------------\n",
      "\n",
      "     zip: 95131   population:      31,170\n",
      "\n",
      "-------------------------------------------------------------------------------\n",
      "  Total Population:      31,170\n",
      "-------------------------------------------------------------------------------\n"
     ]
    }
   ],
   "source": [
    "my_station_get_zips(\"Milpitas\", 2)"
   ]
  },
  {
   "cell_type": "markdown",
   "id": "e9cd1ae1",
   "metadata": {},
   "source": [
    "# 3.5.7 Find all zip codes, with population, within 2 miles of  the Millbrae station\n",
    "\n",
    "Use the my_station_get_zips() function"
   ]
  },
  {
   "cell_type": "code",
   "execution_count": 15,
   "id": "138a4be1",
   "metadata": {},
   "outputs": [
    {
     "name": "stdout",
     "output_type": "stream",
     "text": [
      "\n",
      "-------------------------------------------------------------------------------\n",
      "  Zip Codes within 2 mile(s) of Millbrae BART Station\n",
      "-------------------------------------------------------------------------------\n",
      "\n",
      "     zip: 94030   population:      22,710\n",
      "     zip: 94128   population:         135\n",
      "\n",
      "-------------------------------------------------------------------------------\n",
      "  Total Population:      22,845\n",
      "-------------------------------------------------------------------------------\n"
     ]
    }
   ],
   "source": [
    "my_station_get_zips(\"Millbrae\", 2)"
   ]
  },
  {
   "cell_type": "code",
   "execution_count": null,
   "id": "6288d385",
   "metadata": {},
   "outputs": [],
   "source": []
  }
 ],
 "metadata": {
  "kernelspec": {
   "display_name": "Python 3",
   "language": "python",
   "name": "python3"
  },
  "language_info": {
   "codemirror_mode": {
    "name": "ipython",
    "version": 3
   },
   "file_extension": ".py",
   "mimetype": "text/x-python",
   "name": "python",
   "nbconvert_exporter": "python",
   "pygments_lexer": "ipython3",
   "version": "3.8.8"
  }
 },
 "nbformat": 4,
 "nbformat_minor": 5
}
