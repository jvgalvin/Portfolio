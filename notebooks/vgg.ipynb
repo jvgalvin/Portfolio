{
 "cells": [
  {
   "cell_type": "markdown",
   "metadata": {},
   "source": [
    "# VGG Posture Correction"
   ]
  },
  {
   "cell_type": "markdown",
   "metadata": {},
   "source": [
    "VGG-19 is a convolutional neural network that is 19 layers deep. You can load a pretrained version of the network trained on more than a million images from the ImageNet database. The pretrained network can classify images into 1000 object categories, such as keyboard, mouse, pencil, and many animals."
   ]
  },
  {
   "cell_type": "markdown",
   "metadata": {},
   "source": [
    "### Table of Contents"
   ]
  },
  {
   "cell_type": "markdown",
   "metadata": {},
   "source": [
    "1. [Install Packages](#Install-Packages)\n",
    "1. [Capture Keypoints & Export to CSV](#Capture-Keypoints-&-Export-to-CSV)\n",
    "1. [Train NN Model](#Train-NN-Model)\n",
    "1. [Review NN Model](#Review-NN-Model)\n",
    "1. [Save NN Model](#Save-NN-Model)\n",
    "1. [Webcam Testing](#Webcam-Testing)\n",
    "1. [TFLite: Reduce the model size](#TFLite:-Reduce-the-model-size)\n",
    "1. [Generate Requirments File](#Requirements.txt)"
   ]
  },
  {
   "cell_type": "markdown",
   "metadata": {},
   "source": [
    "## Install Packages"
   ]
  },
  {
   "cell_type": "code",
   "execution_count": 1,
   "metadata": {},
   "outputs": [],
   "source": [
    "!pip install mediapipe opencv-python pandas scikit-learn chime --quiet"
   ]
  },
  {
   "cell_type": "code",
   "execution_count": 1,
   "metadata": {},
   "outputs": [],
   "source": [
    "import warnings\n",
    "warnings.filterwarnings(\"ignore\")\n",
    "\n",
    "import mediapipe as mp \n",
    "import cv2\n",
    "import time\n",
    "import matplotlib.pyplot as plt\n",
    "import csv\n",
    "import os\n",
    "import numpy as np\n",
    "import pandas as pd\n",
    "import pandas as pd\n",
    "from sklearn.model_selection import train_test_split\n",
    "from sklearn.pipeline import make_pipeline \n",
    "from sklearn.preprocessing import StandardScaler \n",
    "from sklearn.metrics import precision_recall_curve\n",
    "from xgboost import XGBClassifier\n",
    "from keras.preprocessing import image\n",
    "import pickle \n",
    "import chime"
   ]
  },
  {
   "cell_type": "code",
   "execution_count": 2,
   "metadata": {},
   "outputs": [],
   "source": [
    "import os\n",
    "import tensorflow as tf\n",
    "from tensorflow import keras\n",
    "from tensorflow.keras import layers\n",
    "from tensorflow.keras import Model\n",
    "from tensorflow.keras.preprocessing.image import ImageDataGenerator, img_to_array, load_img, array_to_img\n",
    "import zipfile\n",
    "import matplotlib.pyplot as plt\n",
    "import numpy as np\n",
    "import pandas as pd\n",
    "from PIL import ImageFile\n",
    "ImageFile.LOAD_TRUNCATED_IMAGES = True\n",
    "import shutil\n",
    "from tensorflow.keras.applications import VGG19\n",
    "from sklearn.metrics import classification_report, confusion_matrix\n",
    "import seaborn as sns\n",
    "from keras.preprocessing import image\n",
    "import pickle \n",
    "import chime"
   ]
  },
  {
   "cell_type": "markdown",
   "metadata": {},
   "source": [
    "## Capture Keypoints & Export to CSV"
   ]
  },
  {
   "cell_type": "code",
   "execution_count": 3,
   "metadata": {},
   "outputs": [],
   "source": [
    "class_name = \"Sit Up Straight\"\n",
    "# class_name = \"Good\"\n",
    "\n",
    "train_dir = '/Users/lindseybang/Downloads/posture_correction_v4-1/train'\n",
    "test_dir = '/Users/lindseybang/Downloads/posture_correction_v4-1/test/'\n",
    "val_dir = '/Users/lindseybang/Downloads/posture_correction_v4-1/valid/'\n"
   ]
  },
  {
   "cell_type": "code",
   "execution_count": 4,
   "metadata": {},
   "outputs": [],
   "source": [
    "labels  = []\n",
    "train_counts = []\n",
    "\n",
    "# rootdir = '/content/posture_correction-1/train/'\n",
    "rootdir = train_dir\n",
    "\n",
    "\n",
    "image_count = 0\n",
    "for subdir, dirs, files in os.walk(rootdir):\n",
    "    labels.append(subdir.split(\"/\")[-1])\n",
    "    for file in files:\n",
    "        fpath = os.path.join(subdir, file)\n",
    "        image_count += 1\n",
    "    train_counts.append(image_count)"
   ]
  },
  {
   "cell_type": "code",
   "execution_count": 5,
   "metadata": {},
   "outputs": [
    {
     "name": "stdout",
     "output_type": "stream",
     "text": [
      "1\n",
      "train\n"
     ]
    }
   ],
   "source": [
    "print(train_counts.pop(0))\n",
    "print(labels.pop(0))"
   ]
  },
  {
   "cell_type": "code",
   "execution_count": 6,
   "metadata": {},
   "outputs": [
    {
     "data": {
      "text/plain": [
       "[2539, 3474]"
      ]
     },
     "execution_count": 6,
     "metadata": {},
     "output_type": "execute_result"
    }
   ],
   "source": [
    "train_counts"
   ]
  },
  {
   "cell_type": "code",
   "execution_count": 7,
   "metadata": {},
   "outputs": [
    {
     "data": {
      "text/plain": [
       "['sit up straight', 'looks good']"
      ]
     },
     "execution_count": 7,
     "metadata": {},
     "output_type": "execute_result"
    }
   ],
   "source": [
    "labels"
   ]
  },
  {
   "cell_type": "markdown",
   "metadata": {
    "tags": []
   },
   "source": [
    "## Train NN Model"
   ]
  },
  {
   "cell_type": "code",
   "execution_count": 8,
   "metadata": {},
   "outputs": [],
   "source": [
    "train_datagen = ImageDataGenerator(rescale=1./255,\n",
    "                                   shear_range=0.2,\n",
    "                                   zoom_range=0.2,\n",
    "                                   horizontal_flip=True)\n",
    "\n",
    "valid_datagen = ImageDataGenerator(rescale=1. / 255)"
   ]
  },
  {
   "cell_type": "code",
   "execution_count": 9,
   "metadata": {},
   "outputs": [
    {
     "name": "stdout",
     "output_type": "stream",
     "text": [
      "Found 3473 images belonging to 2 classes.\n",
      "Found 682 images belonging to 2 classes.\n"
     ]
    }
   ],
   "source": [
    "train_generator = train_datagen.flow_from_directory(train_dir,\n",
    "                                                   batch_size=16,\n",
    "                                            class_mode='categorical',\n",
    "                                            target_size=(150, 150),\n",
    "                                                    shuffle=True)\n",
    "\n",
    "\n",
    "valid_generator = valid_datagen.flow_from_directory(val_dir,\n",
    "                                                    batch_size=16,\n",
    "                                            class_mode='categorical',\n",
    "                                                target_size=(150, 150),\n",
    "                                                    shuffle=False)"
   ]
  },
  {
   "cell_type": "code",
   "execution_count": 10,
   "metadata": {},
   "outputs": [
    {
     "name": "stdout",
     "output_type": "stream",
     "text": [
      "Found 682 images belonging to 2 classes.\n"
     ]
    }
   ],
   "source": [
    "valid_generator = valid_datagen.flow_from_directory(val_dir,\n",
    "                                                    batch_size=16,\n",
    "                                            class_mode='categorical',\n",
    "                                                target_size=(150, 150),\n",
    "                                                    shuffle=False)\n"
   ]
  },
  {
   "cell_type": "code",
   "execution_count": 11,
   "metadata": {},
   "outputs": [
    {
     "name": "stdout",
     "output_type": "stream",
     "text": [
      "Found 869 images belonging to 2 classes.\n"
     ]
    }
   ],
   "source": [
    "test_datagen=ImageDataGenerator(rescale=1./255)\n",
    "test_generator = test_datagen.flow_from_directory(test_dir,\n",
    "                                                  batch_size=1,\n",
    "                                            class_mode='categorical',\n",
    "                                                target_size=(150, 150),\n",
    "                                                    shuffle=False)"
   ]
  },
  {
   "cell_type": "code",
   "execution_count": 12,
   "metadata": {},
   "outputs": [
    {
     "name": "stdout",
     "output_type": "stream",
     "text": [
      "{0: 0.68, 1: 0.5}\n"
     ]
    }
   ],
   "source": [
    "class_weights = []\n",
    "total_samples = train_generator.samples\n",
    "total_classes = len(train_generator.class_indices)\n",
    "for ele in train_counts:\n",
    "    result = round(total_samples / (total_classes * ele),2)\n",
    "    class_weights.append(result)\n",
    "\n",
    "class_weights = dict(zip(train_generator.class_indices.values(),class_weights))\n",
    "print(class_weights)"
   ]
  },
  {
   "cell_type": "code",
   "execution_count": 13,
   "metadata": {},
   "outputs": [],
   "source": [
    "tf.keras.backend.clear_session()\n",
    "tf.random.set_seed(42)\n",
    "np.random.seed(42)"
   ]
  },
  {
   "cell_type": "code",
   "execution_count": 14,
   "metadata": {},
   "outputs": [
    {
     "name": "stderr",
     "output_type": "stream",
     "text": [
      "2023-04-17 01:50:47.891300: I tensorflow/core/platform/cpu_feature_guard.cc:151] This TensorFlow binary is optimized with oneAPI Deep Neural Network Library (oneDNN) to use the following CPU instructions in performance-critical operations:  AVX2 AVX512F FMA\n",
      "To enable them in other operations, rebuild TensorFlow with the appropriate compiler flags.\n"
     ]
    }
   ],
   "source": [
    "cus_model = VGG19(input_shape = (150,150,3),        \n",
    "                      weights='imagenet', # pre-trained\n",
    "                      include_top= False,)"
   ]
  },
  {
   "cell_type": "code",
   "execution_count": 29,
   "metadata": {},
   "outputs": [],
   "source": [
    "def custom_model(dropout=0.3):\n",
    "    cus_model = VGG19(input_shape = (150,150,3),        \n",
    "                         weights='imagenet', # pre-trained\n",
    "                         include_top= False,)\n",
    "    \n",
    "   #Using pre-trained weights from imagenet \n",
    "    for layer in cus_model.layers:\n",
    "        layer.trainable = False\n",
    "\n",
    "    # Adding layers in a sequential manner\n",
    "    x = tf.keras.layers.Flatten()(cus_model.output)\n",
    "    x = tf.keras.layers.Dense(512, activation=\"relu\")(x)\n",
    "    x = tf.keras.layers.Dropout(dropout)(x)\n",
    "    x = tf.keras.layers.Dense(256, activation=\"relu\")(x)\n",
    "    x = tf.keras.layers.Dropout(dropout)(x)\n",
    "    x = tf.keras.layers.Dense(128, activation=\"relu\")(x)\n",
    "    x = tf.keras.layers.Dropout(dropout)(x)\n",
    "  \n",
    "    x = tf.keras.layers.Dense(2, activation=\"softmax\")(x)\n",
    "      \n",
    "    model = Model(cus_model.input,x)\n",
    "    \n",
    "    return model"
   ]
  },
  {
   "cell_type": "code",
   "execution_count": 30,
   "metadata": {},
   "outputs": [
    {
     "name": "stdout",
     "output_type": "stream",
     "text": [
      "Model: \"model_4\"\n",
      "_________________________________________________________________\n",
      " Layer (type)                Output Shape              Param #   \n",
      "=================================================================\n",
      " input_6 (InputLayer)        [(None, 150, 150, 3)]     0         \n",
      "                                                                 \n",
      " block1_conv1 (Conv2D)       (None, 150, 150, 64)      1792      \n",
      "                                                                 \n",
      " block1_conv2 (Conv2D)       (None, 150, 150, 64)      36928     \n",
      "                                                                 \n",
      " block1_pool (MaxPooling2D)  (None, 75, 75, 64)        0         \n",
      "                                                                 \n",
      " block2_conv1 (Conv2D)       (None, 75, 75, 128)       73856     \n",
      "                                                                 \n",
      " block2_conv2 (Conv2D)       (None, 75, 75, 128)       147584    \n",
      "                                                                 \n",
      " block2_pool (MaxPooling2D)  (None, 37, 37, 128)       0         \n",
      "                                                                 \n",
      " block3_conv1 (Conv2D)       (None, 37, 37, 256)       295168    \n",
      "                                                                 \n",
      " block3_conv2 (Conv2D)       (None, 37, 37, 256)       590080    \n",
      "                                                                 \n",
      " block3_conv3 (Conv2D)       (None, 37, 37, 256)       590080    \n",
      "                                                                 \n",
      " block3_conv4 (Conv2D)       (None, 37, 37, 256)       590080    \n",
      "                                                                 \n",
      " block3_pool (MaxPooling2D)  (None, 18, 18, 256)       0         \n",
      "                                                                 \n",
      " block4_conv1 (Conv2D)       (None, 18, 18, 512)       1180160   \n",
      "                                                                 \n",
      " block4_conv2 (Conv2D)       (None, 18, 18, 512)       2359808   \n",
      "                                                                 \n",
      " block4_conv3 (Conv2D)       (None, 18, 18, 512)       2359808   \n",
      "                                                                 \n",
      " block4_conv4 (Conv2D)       (None, 18, 18, 512)       2359808   \n",
      "                                                                 \n",
      " block4_pool (MaxPooling2D)  (None, 9, 9, 512)         0         \n",
      "                                                                 \n",
      " block5_conv1 (Conv2D)       (None, 9, 9, 512)         2359808   \n",
      "                                                                 \n",
      " block5_conv2 (Conv2D)       (None, 9, 9, 512)         2359808   \n",
      "                                                                 \n",
      " block5_conv3 (Conv2D)       (None, 9, 9, 512)         2359808   \n",
      "                                                                 \n",
      " block5_conv4 (Conv2D)       (None, 9, 9, 512)         2359808   \n",
      "                                                                 \n",
      " block5_pool (MaxPooling2D)  (None, 4, 4, 512)         0         \n",
      "                                                                 \n",
      " flatten_4 (Flatten)         (None, 8192)              0         \n",
      "                                                                 \n",
      " dense_16 (Dense)            (None, 512)               4194816   \n",
      "                                                                 \n",
      " dropout_12 (Dropout)        (None, 512)               0         \n",
      "                                                                 \n",
      " dense_17 (Dense)            (None, 256)               131328    \n",
      "                                                                 \n",
      " dropout_13 (Dropout)        (None, 256)               0         \n",
      "                                                                 \n",
      " dense_18 (Dense)            (None, 128)               32896     \n",
      "                                                                 \n",
      " dropout_14 (Dropout)        (None, 128)               0         \n",
      "                                                                 \n",
      " dense_19 (Dense)            (None, 2)                 258       \n",
      "                                                                 \n",
      "=================================================================\n",
      "Total params: 24,383,682\n",
      "Trainable params: 4,359,298\n",
      "Non-trainable params: 20,024,384\n",
      "_________________________________________________________________\n"
     ]
    }
   ],
   "source": [
    "model = custom_model()\n",
    "model.summary()"
   ]
  },
  {
   "cell_type": "code",
   "execution_count": 31,
   "metadata": {},
   "outputs": [],
   "source": [
    "def exponential_decay(lr0, s):\n",
    "    def exponential_decay_fn(epoch):\n",
    "        return lr0 * 0.1 ** (epoch / s)\n",
    "\n",
    "    return exponential_decay_fn\n",
    "\n",
    "\n",
    "exponential_decay_fn = exponential_decay(lr0=0.0009, s=5)\n",
    "\n",
    "lr_scheduler_ed = keras.callbacks.LearningRateScheduler(exponential_decay_fn)\n",
    "\n",
    "# Checkpoint callback\n",
    "# checkpoint_cb = keras.callbacks.ModelCheckpoint(\"yoga_model.h5\", save_best_only=True)\n",
    "\n",
    "# Early stopping callback\n",
    "early_stopping_m = keras.callbacks.EarlyStopping(monitor='val_loss', mode='min', verbose=1, patience=5)"
   ]
  },
  {
   "cell_type": "code",
   "execution_count": 32,
   "metadata": {},
   "outputs": [],
   "source": [
    "model.compile(optimizer='adam',\n",
    "              loss='categorical_crossentropy',\n",
    "              metrics=['accuracy'])"
   ]
  },
  {
   "cell_type": "code",
   "execution_count": 33,
   "metadata": {},
   "outputs": [
    {
     "name": "stdout",
     "output_type": "stream",
     "text": [
      "Epoch 1/50\n",
      "218/218 [==============================] - 305s 1s/step - loss: 0.5476 - accuracy: 0.7564 - val_loss: 0.3844 - val_accuracy: 0.7947 - lr: 9.0000e-04\n",
      "Epoch 2/50\n",
      "218/218 [==============================] - 340s 2s/step - loss: 0.3282 - accuracy: 0.8462 - val_loss: 0.2907 - val_accuracy: 0.8270 - lr: 5.6786e-04\n",
      "Epoch 3/50\n",
      "218/218 [==============================] - 300s 1s/step - loss: 0.2861 - accuracy: 0.8713 - val_loss: 0.2725 - val_accuracy: 0.8358 - lr: 3.5830e-04\n",
      "Epoch 4/50\n",
      "218/218 [==============================] - 290s 1s/step - loss: 0.2456 - accuracy: 0.8906 - val_loss: 0.2724 - val_accuracy: 0.8651 - lr: 2.2607e-04\n",
      "Epoch 5/50\n",
      "218/218 [==============================] - 275s 1s/step - loss: 0.2354 - accuracy: 0.8935 - val_loss: 0.2557 - val_accuracy: 0.8812 - lr: 1.4264e-04\n",
      "Epoch 6/50\n",
      "218/218 [==============================] - 270s 1s/step - loss: 0.2200 - accuracy: 0.9050 - val_loss: 0.2468 - val_accuracy: 0.8812 - lr: 9.0000e-05\n",
      "Epoch 7/50\n",
      "218/218 [==============================] - 269s 1s/step - loss: 0.2050 - accuracy: 0.9130 - val_loss: 0.2511 - val_accuracy: 0.8842 - lr: 5.6786e-05\n",
      "Epoch 8/50\n",
      "218/218 [==============================] - 337s 2s/step - loss: 0.2056 - accuracy: 0.9084 - val_loss: 0.2504 - val_accuracy: 0.8812 - lr: 3.5830e-05\n",
      "Epoch 9/50\n",
      "218/218 [==============================] - 374s 2s/step - loss: 0.2019 - accuracy: 0.9159 - val_loss: 0.2510 - val_accuracy: 0.8856 - lr: 2.2607e-05\n",
      "Epoch 10/50\n",
      "218/218 [==============================] - 407s 2s/step - loss: 0.2115 - accuracy: 0.9107 - val_loss: 0.2473 - val_accuracy: 0.8871 - lr: 1.4264e-05\n",
      "Epoch 11/50\n",
      "218/218 [==============================] - 374s 2s/step - loss: 0.2020 - accuracy: 0.9162 - val_loss: 0.2501 - val_accuracy: 0.8812 - lr: 9.0000e-06\n",
      "Epoch 11: early stopping\n",
      "Training Time (in mins): 59.15688\n",
      "\n"
     ]
    }
   ],
   "source": [
    "start = time.time()\n",
    "history = model.fit(train_generator,\n",
    "                    validation_data=valid_generator,\n",
    "                    epochs=50,\n",
    "                    batch_size=32,\n",
    "                    callbacks=[lr_scheduler_ed, early_stopping_m],\n",
    "                    verbose=1\n",
    "                    )\n",
    "end = time.time()\n",
    "print(f'Training Time (in mins): {(end - start)/60.0:.5f}\\n')"
   ]
  },
  {
   "cell_type": "markdown",
   "metadata": {},
   "source": [
    "## Review NN Model"
   ]
  },
  {
   "cell_type": "code",
   "execution_count": 34,
   "metadata": {},
   "outputs": [
    {
     "data": {
      "text/plain": [
       "<Figure size 432x288 with 0 Axes>"
      ]
     },
     "execution_count": 34,
     "metadata": {},
     "output_type": "execute_result"
    },
    {
     "data": {
      "image/png": "[encoded data removed]",
      "text/plain": [
       "<Figure size 432x288 with 1 Axes>"
      ]
     },
     "metadata": {
      "needs_background": "light"
     },
     "output_type": "display_data"
    },
    {
     "data": {
      "text/plain": [
       "<Figure size 432x288 with 0 Axes>"
      ]
     },
     "metadata": {},
     "output_type": "display_data"
    }
   ],
   "source": [
    "acc = history.history['accuracy']\n",
    "val_acc = history.history['val_accuracy']\n",
    "\n",
    "plt.plot(history.epoch, acc, 'r', label='Training accuracy')\n",
    "plt.plot(history.epoch, val_acc, 'b', label='Validation accuracy')\n",
    "plt.title('Training and validation accuracy')\n",
    "plt.grid(True)\n",
    "plt.figure()\n"
   ]
  },
  {
   "cell_type": "code",
   "execution_count": 35,
   "metadata": {},
   "outputs": [
    {
     "data": {
      "image/png": "[encoded data removed]",
      "text/plain": [
       "<Figure size 432x288 with 1 Axes>"
      ]
     },
     "metadata": {
      "needs_background": "light"
     },
     "output_type": "display_data"
    }
   ],
   "source": [
    "loss = history.history['loss']\n",
    "val_loss = history.history['val_loss']\n",
    "\n",
    "plt.plot(history.epoch, loss, 'r', label='Training Loss')\n",
    "plt.plot(history.epoch, val_loss, 'b', label='Validation Loss')\n",
    "plt.title('Training and validation loss')\n",
    "plt.legend()\n",
    "plt.grid(True)\n",
    "plt.show()"
   ]
  },
  {
   "cell_type": "code",
   "execution_count": 36,
   "metadata": {},
   "outputs": [
    {
     "data": {
      "image/png": "[encoded data removed]",
      "text/plain": [
       "<Figure size 432x288 with 1 Axes>"
      ]
     },
     "metadata": {
      "needs_background": "light"
     },
     "output_type": "display_data"
    }
   ],
   "source": [
    "plt.plot(history.epoch, history.history[\"lr\"], \"o-\")\n",
    "plt.xlabel(\"Epoch\")\n",
    "plt.ylabel(\"Learning Rate\")\n",
    "plt.title(\" exponential_decay\", fontsize=14)\n",
    "plt.grid(True)\n",
    "plt.show()"
   ]
  },
  {
   "cell_type": "code",
   "execution_count": 37,
   "metadata": {},
   "outputs": [
    {
     "data": {
      "text/plain": [
       "(0.0, 1.0)"
      ]
     },
     "execution_count": 37,
     "metadata": {},
     "output_type": "execute_result"
    },
    {
     "data": {
      "image/png": "[encoded data removed]",
      "text/plain": [
       "<Figure size 576x360 with 1 Axes>"
      ]
     },
     "metadata": {
      "needs_background": "light"
     },
     "output_type": "display_data"
    }
   ],
   "source": [
    "pd.DataFrame(history.history).plot(figsize=(8,5))\n",
    "plt.grid(True)\n",
    "plt.gca().set_ylim(0, 1)"
   ]
  },
  {
   "cell_type": "code",
   "execution_count": 38,
   "metadata": {
    "tags": []
   },
   "outputs": [
    {
     "name": "stdout",
     "output_type": "stream",
     "text": [
      "869/869 [==============================] - 63s 73ms/step - loss: 0.3747 - accuracy: 0.8032\n"
     ]
    },
    {
     "data": {
      "text/plain": [
       "[0.3746737539768219, 0.803222119808197]"
      ]
     },
     "execution_count": 38,
     "metadata": {},
     "output_type": "execute_result"
    }
   ],
   "source": [
    "model.evaluate(test_generator, batch_size=1)"
   ]
  },
  {
   "cell_type": "code",
   "execution_count": 39,
   "metadata": {},
   "outputs": [
    {
     "name": "stdout",
     "output_type": "stream",
     "text": [
      "              precision    recall  f1-score   support\n",
      "\n",
      "           0       0.56      0.91      0.70       216\n",
      "           1       0.96      0.77      0.85       653\n",
      "\n",
      "    accuracy                           0.80       869\n",
      "   macro avg       0.76      0.84      0.78       869\n",
      "weighted avg       0.86      0.80      0.82       869\n",
      "\n"
     ]
    }
   ],
   "source": [
    "y_pred = model.predict(test_generator)\n",
    "y_pred = np.argmax(y_pred, axis=1)\n",
    "print(classification_report(test_generator.classes, y_pred))"
   ]
  },
  {
   "cell_type": "code",
   "execution_count": null,
   "metadata": {},
   "outputs": [],
   "source": [
    "# cf_matrix = confusion_matrix(test_generator.classes, y_pred)\n",
    "# Labels = ['looks good', 'sit up straight']\n",
    "# plt.figure(figsize=(20, 8))\n",
    "# heatmap = sns.heatmap(cf_matrix, xticklabels=Labels, yticklabels=Labels, annot=True, fmt='d', color='blue')\n",
    "# plt.xlabel('Predicted Class')\n",
    "# plt.ylabel('True Class')\n",
    "# plt.title('Confusion Matrix')\n",
    "# plt.show()"
   ]
  },
  {
   "cell_type": "markdown",
   "metadata": {},
   "source": [
    "## Save NN Model"
   ]
  },
  {
   "cell_type": "code",
   "execution_count": 40,
   "metadata": {},
   "outputs": [
    {
     "name": "stderr",
     "output_type": "stream",
     "text": [
      "2023-04-17 03:16:59.486173: W tensorflow/python/util/util.cc:368] Sets are not currently considered sequences, but this may change in the future, so consider avoiding using them.\n"
     ]
    },
    {
     "name": "stdout",
     "output_type": "stream",
     "text": [
      "INFO:tensorflow:Assets written to: /Users/lindseybang/Desktop/github/W251/W251-Final-Project-Mediapipe/vgg_model_test/assets\n"
     ]
    }
   ],
   "source": [
    "model.save(\"/Users/lindseybang/Desktop/github/W251/W251-Final-Project-Lindsey/vgg_model_test\")"
   ]
  },
  {
   "cell_type": "markdown",
   "metadata": {},
   "source": [
    "## Webcam Testing"
   ]
  },
  {
   "cell_type": "code",
   "execution_count": 42,
   "metadata": {},
   "outputs": [],
   "source": [
    "model = \\\n",
    "    keras.models.load_model(\n",
    "    '/Users/lindseybang/Desktop/github/W251/W251-Final-Project-Lindsey/vgg_model')\n",
    "    "
   ]
  },
  {
   "cell_type": "code",
   "execution_count": 43,
   "metadata": {},
   "outputs": [
    {
     "name": "stdout",
     "output_type": "stream",
     "text": [
      "              precision    recall  f1-score   support\n",
      "\n",
      "           0       0.62      0.91      0.74       216\n",
      "           1       0.97      0.81      0.88       653\n",
      "\n",
      "    accuracy                           0.84       869\n",
      "   macro avg       0.79      0.86      0.81       869\n",
      "weighted avg       0.88      0.84      0.85       869\n",
      "\n"
     ]
    }
   ],
   "source": [
    "y_pred = model.predict(test_generator)\n",
    "y_pred = np.argmax(y_pred, axis=1)\n",
    "print(classification_report(test_generator.classes, y_pred))"
   ]
  },
  {
   "cell_type": "markdown",
   "metadata": {},
   "source": [
    "**Test1**"
   ]
  },
  {
   "cell_type": "code",
   "execution_count": 6,
   "metadata": {},
   "outputs": [],
   "source": [
    "test_image = \\\n",
    "    '/Users/lindseybang/Desktop/github/W251/W251-Final-Project-Lindsey/bad1.jpg'\n",
    "\n",
    "img_width, img_height = 150, 150\n",
    "img = image.load_img(test_image, target_size = (img_width, img_height))\n",
    "img = image.img_to_array(img)\n",
    "img = np.expand_dims(img, axis = 0)"
   ]
  },
  {
   "cell_type": "code",
   "execution_count": 16,
   "metadata": {},
   "outputs": [],
   "source": [
    "test_image = \\\n",
    "    '/Users/lindseybang/Desktop/github/W251/W251-Final-Project-Mediapipe/bad1.jpg'\n",
    "\n",
    "img_width, img_height = 150, 150\n",
    "img = image.load_img(test_image, target_size = (img_width, img_height))\n",
    "img = np.array(img)\n",
    "img = np.expand_dims(img, axis = 0)"
   ]
  },
  {
   "cell_type": "code",
   "execution_count": 21,
   "metadata": {},
   "outputs": [
    {
     "data": {
      "text/plain": [
       "array([[111,  91,  80],\n",
       "       [113,  93,  82],\n",
       "       [115,  95,  84],\n",
       "       [117,  97,  86],\n",
       "       [119,  99,  90],\n",
       "       [119,  99,  90],\n",
       "       [120, 100,  91],\n",
       "       [121, 101,  90],\n",
       "       [122, 102,  91],\n",
       "       [126, 102,  92],\n",
       "       [127, 103,  93],\n",
       "       [128, 104,  94],\n",
       "       [128, 104,  94],\n",
       "       [127, 105,  94],\n",
       "       [130, 108,  97],\n",
       "       [130, 108,  97],\n",
       "       [128, 108,  97],\n",
       "       [130, 110,  99],\n",
       "       [131, 111, 102],\n",
       "       [133, 113, 104],\n",
       "       [134, 114, 103],\n",
       "       [134, 114, 103],\n",
       "       [132, 114, 100],\n",
       "       [132, 114, 100],\n",
       "       [133, 113, 102],\n",
       "       [133, 113, 102],\n",
       "       [132, 112, 101],\n",
       "       [133, 113, 102],\n",
       "       [132, 112, 101],\n",
       "       [131, 111, 100],\n",
       "       [130, 110,  99],\n",
       "       [130, 110,  99],\n",
       "       [128, 108,  97],\n",
       "       [128, 108,  97],\n",
       "       [126, 106,  95],\n",
       "       [126, 106,  95],\n",
       "       [125, 105,  94],\n",
       "       [123, 103,  92],\n",
       "       [124, 104,  93],\n",
       "       [122, 102,  91],\n",
       "       [122, 102,  91],\n",
       "       [122, 102,  91],\n",
       "       [121, 101,  90],\n",
       "       [121, 101,  90],\n",
       "       [121, 101,  90],\n",
       "       [121, 101,  90],\n",
       "       [121, 101,  90],\n",
       "       [120, 102,  90],\n",
       "       [117,  99,  87],\n",
       "       [122, 104,  92],\n",
       "       [134, 116, 104],\n",
       "       [127, 111,  98],\n",
       "       [133, 117, 104],\n",
       "       [133, 117, 104],\n",
       "       [134, 118, 105],\n",
       "       [134, 118, 105],\n",
       "       [134, 118, 105],\n",
       "       [134, 118, 105],\n",
       "       [135, 119, 106],\n",
       "       [134, 118, 105],\n",
       "       [135, 117, 105],\n",
       "       [136, 118, 106],\n",
       "       [136, 118, 106],\n",
       "       [138, 120, 108],\n",
       "       [138, 120, 108],\n",
       "       [138, 120, 108],\n",
       "       [138, 120, 108],\n",
       "       [140, 120, 109],\n",
       "       [140, 120, 109],\n",
       "       [139, 121, 109],\n",
       "       [140, 122, 110],\n",
       "       [140, 122, 110],\n",
       "       [140, 122, 110],\n",
       "       [139, 121, 109],\n",
       "       [136, 118, 106],\n",
       "       [136, 118, 106],\n",
       "       [134, 116, 104],\n",
       "       [137, 119, 107],\n",
       "       [157, 141, 128],\n",
       "       [177, 161, 148],\n",
       "       [174, 160, 151],\n",
       "       [173, 159, 150],\n",
       "       [173, 159, 150],\n",
       "       [173, 159, 150],\n",
       "       [173, 159, 150],\n",
       "       [173, 159, 150],\n",
       "       [173, 159, 150],\n",
       "       [173, 159, 150],\n",
       "       [172, 158, 149],\n",
       "       [171, 157, 146],\n",
       "       [171, 157, 146],\n",
       "       [175, 157, 147],\n",
       "       [170, 152, 142],\n",
       "       [156, 129, 118],\n",
       "       [127, 100,  89],\n",
       "       [127, 100,  89],\n",
       "       [128,  98,  87],\n",
       "       [129,  99,  88],\n",
       "       [128,  99,  81],\n",
       "       [130, 101,  83],\n",
       "       [129, 102,  85],\n",
       "       [129, 102,  85],\n",
       "       [129, 100,  82],\n",
       "       [131, 102,  84],\n",
       "       [132, 103,  85],\n",
       "       [132, 103,  85],\n",
       "       [134, 105,  87],\n",
       "       [133, 104,  90],\n",
       "       [131, 102,  88],\n",
       "       [131, 104,  87],\n",
       "       [130, 103,  86],\n",
       "       [129, 102,  85],\n",
       "       [128, 101,  84],\n",
       "       [124, 102,  88],\n",
       "       [124, 102,  88],\n",
       "       [124, 102,  88],\n",
       "       [125, 102,  88],\n",
       "       [125, 102,  88],\n",
       "       [124, 101,  87],\n",
       "       [126, 103,  89],\n",
       "       [124, 102,  89],\n",
       "       [125, 103,  90],\n",
       "       [120, 100,  89],\n",
       "       [117,  97,  86],\n",
       "       [117,  99,  89],\n",
       "       [117,  99,  89],\n",
       "       [118, 100,  90],\n",
       "       [113,  96,  86],\n",
       "       [113,  96,  86],\n",
       "       [108,  94,  83],\n",
       "       [105,  91,  80],\n",
       "       [107,  93,  82],\n",
       "       [119, 105,  94],\n",
       "       [125, 109,  96],\n",
       "       [126, 110,  97],\n",
       "       [126, 110,  97],\n",
       "       [129, 113, 100],\n",
       "       [136, 120, 107],\n",
       "       [149, 130, 115],\n",
       "       [150, 131, 116],\n",
       "       [150, 131, 117],\n",
       "       [149, 130, 116],\n",
       "       [149, 130, 116],\n",
       "       [147, 128, 114],\n",
       "       [148, 129, 114],\n",
       "       [148, 129, 114],\n",
       "       [148, 129, 114],\n",
       "       [148, 129, 114],\n",
       "       [147, 128, 113],\n",
       "       [148, 129, 115]], dtype=uint8)"
      ]
     },
     "execution_count": 21,
     "metadata": {},
     "output_type": "execute_result"
    }
   ],
   "source": [
    "img[0][0]"
   ]
  },
  {
   "cell_type": "code",
   "execution_count": 6,
   "metadata": {},
   "outputs": [],
   "source": [
    "# tttest = np.array([[[1.0054101e-12, 1.0000000e+00]]])\n",
    "# tttest[0][0][1]"
   ]
  },
  {
   "cell_type": "code",
   "execution_count": 17,
   "metadata": {},
   "outputs": [
    {
     "data": {
      "text/plain": [
       "array([[1.0054101e-12, 1.0000000e+00]], dtype=float32)"
      ]
     },
     "execution_count": 17,
     "metadata": {},
     "output_type": "execute_result"
    }
   ],
   "source": [
    "model.predict(img)"
   ]
  },
  {
   "cell_type": "code",
   "execution_count": 18,
   "metadata": {},
   "outputs": [
    {
     "name": "stdout",
     "output_type": "stream",
     "text": [
      "sit up straight\n"
     ]
    },
    {
     "data": {
      "text/plain": [
       "1.0"
      ]
     },
     "execution_count": 18,
     "metadata": {},
     "output_type": "execute_result"
    }
   ],
   "source": [
    "labels = ['looks good', 'sit up straight']\n",
    "print(labels[1])\n",
    "model.predict(img)[0][1] "
   ]
  },
  {
   "cell_type": "code",
   "execution_count": 19,
   "metadata": {},
   "outputs": [
    {
     "name": "stdout",
     "output_type": "stream",
     "text": [
      "looks good\n"
     ]
    },
    {
     "data": {
      "text/plain": [
       "1.0054101e-12"
      ]
     },
     "execution_count": 19,
     "metadata": {},
     "output_type": "execute_result"
    }
   ],
   "source": [
    "labels = ['looks good', 'sit up straight']\n",
    "print(labels[0])\n",
    "model.predict(img)[0][0]"
   ]
  },
  {
   "cell_type": "code",
   "execution_count": 12,
   "metadata": {},
   "outputs": [
    {
     "name": "stdout",
     "output_type": "stream",
     "text": [
      "Testing - True\n"
     ]
    }
   ],
   "source": [
    "if model.predict(img)[0][1] > model.predict(img)[0][0]:\n",
    "    print(\"Testing - True\")"
   ]
  },
  {
   "cell_type": "code",
   "execution_count": 81,
   "metadata": {},
   "outputs": [
    {
     "ename": "KeyboardInterrupt",
     "evalue": "",
     "output_type": "error",
     "traceback": [
      "\u001b[0;31m---------------------------------------------------------------------------\u001b[0m",
      "\u001b[0;31mKeyboardInterrupt\u001b[0m                         Traceback (most recent call last)",
      "Input \u001b[0;32mIn [81]\u001b[0m, in \u001b[0;36m<cell line: 9>\u001b[0;34m()\u001b[0m\n\u001b[1;32m      7\u001b[0m \u001b[38;5;66;03m# Initiate holistic model\u001b[39;00m\n\u001b[1;32m      9\u001b[0m \u001b[38;5;28;01mwhile\u001b[39;00m cap\u001b[38;5;241m.\u001b[39misOpened():\n\u001b[0;32m---> 10\u001b[0m     ret, frame \u001b[38;5;241m=\u001b[39m \u001b[43mcap\u001b[49m\u001b[38;5;241;43m.\u001b[39;49m\u001b[43mread\u001b[49m\u001b[43m(\u001b[49m\u001b[43m)\u001b[49m\n\u001b[1;32m     12\u001b[0m     \u001b[38;5;66;03m# Recolor Feed\u001b[39;00m\n\u001b[1;32m     13\u001b[0m     images \u001b[38;5;241m=\u001b[39m cv2\u001b[38;5;241m.\u001b[39mcvtColor(frame, cv2\u001b[38;5;241m.\u001b[39mCOLOR_BGR2RGB)\n",
      "\u001b[0;31mKeyboardInterrupt\u001b[0m: "
     ]
    }
   ],
   "source": [
    "cap = cv2.VideoCapture(0)\n",
    "fps = int(cap.get(cv2.CAP_PROP_FPS))\n",
    "good_frames = 0\n",
    "bad_frames = 0 \n",
    "chime.theme(\"mario\")\n",
    "\n",
    "# Initiate holistic model\n",
    "\n",
    "while cap.isOpened():\n",
    "    ret, frame = cap.read()\n",
    "\n",
    "    # Recolor Feed\n",
    "    images = cv2.cvtColor(frame, cv2.COLOR_BGR2RGB)\n",
    "    images.flags.writeable = False        \n",
    "\n",
    "    # Recolor image back to BGR for rendering\n",
    "    images.flags.writeable = True   \n",
    "    images = cv2.cvtColor(images, cv2.COLOR_RGB2BGR)\n",
    "\n",
    "    # Export coordinates\n",
    "    try:\n",
    "        # Extract Pose landmarks\n",
    "        \n",
    "        img = cv2.resize(images, (150, 150))\n",
    "        # img = Image.fromarray(img, 'RGB')\n",
    "        img = np.array(img)\n",
    "        img = np.expand_dims(img, axis = 0)\n",
    "        # print(img) - working\n",
    "        \n",
    "        # Make Detections\n",
    "        # X = np.array(pd.DataFrame([row]))\n",
    "        pose_detection_value = model.predict(img)[0][0]\n",
    "        comp_pose_detection_value = model.predict(img)[0][1]\n",
    "        \n",
    "        if pose_detection_value >= comp_pose_detection_value:\n",
    "            pose_detection_class = 'Good'\n",
    "            pose_detection_prob = pose_detection_value\n",
    "        else:\n",
    "            pose_detection_class = 'Sit Up Straight'\n",
    "            pose_detection_prob = comp_pose_detection_value\n",
    "\n",
    "        if pose_detection_class == 'Good':\n",
    "            good_frames += 1\n",
    "            bad_frames = 0\n",
    "        else:\n",
    "            good_frames = 0\n",
    "            bad_frames += 1\n",
    "\n",
    "\n",
    "        good_time = (1. / fps) * good_frames\n",
    "        bad_time = (1. / fps) * bad_frames\n",
    "\n",
    "\n",
    "        # To display the text, grab ear coords\n",
    "        coords = tuple(250,100)\n",
    "\n",
    "        if pose_detection_class == 'Good':\n",
    "            cv2.rectangle(images, \n",
    "                          (coords[0], coords[1]+5), \n",
    "                          (coords[0]+len(pose_detection_class)*20, coords[1]-30), \n",
    "                          (0, 128, 0), -1)\n",
    "        else:\n",
    "            cv2.rectangle(images, \n",
    "                          (coords[0], coords[1]+5), \n",
    "                          (coords[0]+len(pose_detection_class)*16, coords[1]-30), \n",
    "                          (105,105,105), -1)\n",
    "\n",
    "\n",
    "        cv2.putText(images, pose_detection_class, coords, \n",
    "                    cv2.FONT_HERSHEY_SIMPLEX, 1, (255, 255, 255), 2, cv2.LINE_AA)\n",
    "\n",
    "        # Get status box\n",
    "        if pose_detection_class == 'Good':\n",
    "            cv2.rectangle(images, (0,0), (250, 60), (0, 128, 0), -1)\n",
    "        else:\n",
    "            cv2.rectangle(images, (0,0), (250, 60), (105,105,105), -1)\n",
    "\n",
    "        # Display Class\n",
    "        cv2.putText(images, 'CLASS'\n",
    "                    , (95,12), cv2.FONT_HERSHEY_SIMPLEX, 0.5, (255, 255, 255), 1, cv2.LINE_AA)\n",
    "        cv2.putText(images, pose_detection_class.split(' ')[0]\n",
    "                    , (90,40), cv2.FONT_HERSHEY_SIMPLEX, 1, (255, 255, 255), 2, cv2.LINE_AA)\n",
    "\n",
    "        # Display Probability\n",
    "        cv2.putText(images, 'PROB'\n",
    "                    , (15,12), cv2.FONT_HERSHEY_SIMPLEX, 0.5, (255, 255, 255), 1, cv2.LINE_AA)\n",
    "        cv2.putText(images, str(round(pose_detection_prob,2))\n",
    "                    , (10,40), cv2.FONT_HERSHEY_SIMPLEX, 1, (255, 255, 255), 2, cv2.LINE_AA)\n",
    "\n",
    "    except:\n",
    "        pass\n",
    "\n",
    "    # if bad_time > 60:\n",
    "    #         chime.warning()\n",
    "    #         bad_frames = 0\n",
    "\n",
    "    cv2.imshow('Raw Webcam Feed', images)\n",
    "\n",
    "    if cv2.waitKey(10) & 0xFF == ord('q'):\n",
    "        break\n",
    "\n",
    "cap.release()\n",
    "cv2.destroyAllWindows()"
   ]
  },
  {
   "cell_type": "markdown",
   "metadata": {},
   "source": [
    "## TFLite: Reduce the model size"
   ]
  },
  {
   "cell_type": "markdown",
   "metadata": {},
   "source": [
    "https://www.dlology.com/blog/how-to-compress-your-keras-model-x5-smaller-with-tensorflow-model-optimization/"
   ]
  },
  {
   "cell_type": "code",
   "execution_count": 3,
   "metadata": {},
   "outputs": [
    {
     "name": "stderr",
     "output_type": "stream",
     "text": [
      "2023-04-14 09:39:59.725202: I tensorflow/core/platform/cpu_feature_guard.cc:151] This TensorFlow binary is optimized with oneAPI Deep Neural Network Library (oneDNN) to use the following CPU instructions in performance-critical operations:  AVX2 AVX512F FMA\n",
      "To enable them in other operations, rebuild TensorFlow with the appropriate compiler flags.\n",
      "2023-04-14 09:40:00.546797: W tensorflow/compiler/mlir/lite/python/tf_tfl_flatbuffer_helpers.cc:357] Ignored output_format.\n",
      "2023-04-14 09:40:00.546819: W tensorflow/compiler/mlir/lite/python/tf_tfl_flatbuffer_helpers.cc:360] Ignored drop_control_dependency.\n",
      "2023-04-14 09:40:00.547595: I tensorflow/cc/saved_model/reader.cc:43] Reading SavedModel from: /Users/lindseybang/Desktop/github/W251/W251-Final-Project-Mediapipe/vgg_model\n",
      "2023-04-14 09:40:00.553277: I tensorflow/cc/saved_model/reader.cc:78] Reading meta graph with tags { serve }\n",
      "2023-04-14 09:40:00.553295: I tensorflow/cc/saved_model/reader.cc:119] Reading SavedModel debug info (if present) from: /Users/lindseybang/Desktop/github/W251/W251-Final-Project-Mediapipe/vgg_model\n",
      "2023-04-14 09:40:00.569529: I tensorflow/cc/saved_model/loader.cc:228] Restoring SavedModel bundle.\n",
      "2023-04-14 09:40:00.742353: I tensorflow/cc/saved_model/loader.cc:212] Running initialization op on SavedModel bundle at path: /Users/lindseybang/Desktop/github/W251/W251-Final-Project-Mediapipe/vgg_model\n",
      "2023-04-14 09:40:00.774957: I tensorflow/cc/saved_model/loader.cc:301] SavedModel load for tags { serve }; Status: success: OK. Took 227365 microseconds.\n",
      "2023-04-14 09:40:00.823821: I tensorflow/compiler/mlir/tensorWARNING:absl:Buffer deduplication procedure will be skipped when flatbuffer library is not properly loaded\n",
      "flow/utils/dump_mlir_util.cc:237] disabling MLIR crash reproducer, set env var `MLIR_CRASH_REPRODUCER_DIRECTORY` to enable.\n"
     ]
    }
   ],
   "source": [
    "# Create the .tflite file\n",
    "converter = \\\n",
    "    tf.lite.TFLiteConverter.from_saved_model(\n",
    "    \"/Users/lindseybang/Desktop/github/W251/W251-Final-Project-Mediapipe/vgg_model\"\n",
    "    )\n",
    "\n",
    "tflite_model_file =\\\n",
    "    \"/Users/lindseybang/Desktop/github/W251/W251-Final-Project-Mediapipe/vgg_model/vgg_model.tflite\"\n",
    "\n",
    "converter.optimizations = [tf.lite.Optimize.DEFAULT]\n",
    "converter.target_spec.supported_types = [tf.float16] # quantize to FP16\n",
    "tflite_model = converter.convert()\n",
    "\n",
    "with open(tflite_model_file, \"wb\") as f:\n",
    "    f.write(tflite_model)"
   ]
  },
  {
   "cell_type": "code",
   "execution_count": 4,
   "metadata": {},
   "outputs": [
    {
     "name": "stdout",
     "output_type": "stream",
     "text": [
      "Input Shape: [  1 150 150   3]\n",
      "Input Type: <class 'numpy.float32'>\n",
      "Output Shape: [1 2]\n",
      "Output Type: <class 'numpy.float32'>\n"
     ]
    }
   ],
   "source": [
    "interpreter = tf.lite.Interpreter(model_path = tflite_model_file)\n",
    "\n",
    "input_details = interpreter.get_input_details()\n",
    "output_details = interpreter.get_output_details()\n",
    "\n",
    "print(\"Input Shape:\", input_details[0]['shape'])\n",
    "print(\"Input Type:\", input_details[0]['dtype'])\n",
    "print(\"Output Shape:\", output_details[0]['shape'])\n",
    "print(\"Output Type:\", output_details[0]['dtype'])"
   ]
  },
  {
   "cell_type": "code",
   "execution_count": 5,
   "metadata": {},
   "outputs": [],
   "source": [
    "test_image = \\\n",
    "    '/Users/lindseybang/Desktop/github/W251/W251-Final-Project-Mediapipe/bad1.jpg'\n",
    "\n",
    "img_width, img_height = 150, 150\n",
    "img = image.load_img(test_image, target_size = (img_width, img_height))\n",
    "img = image.img_to_array(img)\n",
    "input_test = np.expand_dims(img, axis = 0)\n",
    "output_test = 1."
   ]
  },
  {
   "cell_type": "code",
   "execution_count": 7,
   "metadata": {},
   "outputs": [
    {
     "data": {
      "text/plain": [
       "dtype('float32')"
      ]
     },
     "execution_count": 7,
     "metadata": {},
     "output_type": "execute_result"
    }
   ],
   "source": [
    "input_test.dtype"
   ]
  },
  {
   "cell_type": "code",
   "execution_count": 8,
   "metadata": {},
   "outputs": [],
   "source": [
    "input_test_numpy = np.array(input_test, dtype=np.float32)"
   ]
  },
  {
   "cell_type": "code",
   "execution_count": 9,
   "metadata": {},
   "outputs": [
    {
     "data": {
      "text/plain": [
       "dtype('float32')"
      ]
     },
     "execution_count": 9,
     "metadata": {},
     "output_type": "execute_result"
    }
   ],
   "source": [
    "input_test_numpy.dtype"
   ]
  },
  {
   "cell_type": "code",
   "execution_count": 10,
   "metadata": {},
   "outputs": [
    {
     "data": {
      "text/plain": [
       "1"
      ]
     },
     "execution_count": 10,
     "metadata": {},
     "output_type": "execute_result"
    }
   ],
   "source": [
    "len(input_test)"
   ]
  },
  {
   "cell_type": "code",
   "execution_count": 11,
   "metadata": {},
   "outputs": [
    {
     "name": "stdout",
     "output_type": "stream",
     "text": [
      "Input Shape: [  1 150 150   3]\n",
      "Input Type: <class 'numpy.float32'>\n",
      "Output Shape: [1 2]\n",
      "Output Type: <class 'numpy.float32'>\n"
     ]
    }
   ],
   "source": [
    "# resizing\n",
    "interpreter.resize_tensor_input(input_details[0]['index'], (len(input_test), 150, 150,3))\n",
    "interpreter.resize_tensor_input(output_details[0]['index'], (len(input_test),2))\n",
    "interpreter.allocate_tensors()\n",
    "\n",
    "input_details = interpreter.get_input_details()\n",
    "output_details = interpreter.get_output_details()\n",
    "print(\"Input Shape:\", input_details[0]['shape'])\n",
    "print(\"Input Type:\", input_details[0]['dtype'])\n",
    "print(\"Output Shape:\", output_details[0]['shape'])\n",
    "print(\"Output Type:\", output_details[0]['dtype'])"
   ]
  },
  {
   "cell_type": "code",
   "execution_count": 12,
   "metadata": {},
   "outputs": [
    {
     "name": "stdout",
     "output_type": "stream",
     "text": [
      "Prediction results shape: (1, 2)\n",
      "[[1.0249878e-12 1.0000000e+00]]\n"
     ]
    }
   ],
   "source": [
    "interpreter.set_tensor(input_details[0]['index'], input_test_numpy)\n",
    "interpreter.invoke()\n",
    "tflite_model_predictions = interpreter.get_tensor(output_details[0]['index'])\n",
    "print(\"Prediction results shape:\", tflite_model_predictions.shape)\n",
    "print(tflite_model_predictions)\n",
    "prediction_classes = np.argmax(tflite_model_predictions, axis=1)"
   ]
  },
  {
   "cell_type": "code",
   "execution_count": 13,
   "metadata": {},
   "outputs": [
    {
     "data": {
      "text/plain": [
       "1.0249878e-12"
      ]
     },
     "execution_count": 13,
     "metadata": {},
     "output_type": "execute_result"
    }
   ],
   "source": [
    "tflite_model_predictions[0][0]"
   ]
  },
  {
   "cell_type": "code",
   "execution_count": 6,
   "metadata": {},
   "outputs": [
    {
     "name": "stdout",
     "output_type": "stream",
     "text": [
      "1.0\n",
      "1.0\n",
      "1.0\n",
      "1.0\n",
      "1.0\n",
      "1.0\n",
      "1.0\n",
      "1.0\n",
      "0.8582335\n",
      "4.3254996e-29\n",
      "5.4969135e-35\n",
      "0.0\n",
      "4.4e-43\n",
      "7.469117e-22\n",
      "1.0\n",
      "1.0\n",
      "1.0\n",
      "1.0\n",
      "1.0\n",
      "1.0\n",
      "1.0\n",
      "1.0\n",
      "1.0\n",
      "1.0\n",
      "1.0\n",
      "1.0\n",
      "1.0\n",
      "1.0\n",
      "1.0\n",
      "1.0\n",
      "1.0\n",
      "1.0\n",
      "1.0\n",
      "1.0\n",
      "1.0\n",
      "1.0\n",
      "1.0\n",
      "1.0\n",
      "1.0\n",
      "1.0\n",
      "1.0\n",
      "0.00029282767\n",
      "2.784405e-08\n",
      "6.938647e-38\n",
      "6.2307e-41\n",
      "6e-45\n",
      "2.86825e-25\n",
      "1e-45\n",
      "5.3975e-41\n",
      "6.65315e-40\n",
      "6.358162e-37\n",
      "1.6898962e-35\n",
      "0.0\n",
      "1.501e-42\n",
      "2.10708e-40\n",
      "4.8045422e-36\n",
      "2.0328992e-34\n",
      "3.69377e-39\n",
      "0.0\n",
      "0.0\n",
      "1e-45\n",
      "8e-45\n",
      "1.8e-43\n",
      "0.0\n",
      "0.0\n",
      "0.0\n",
      "0.0\n",
      "0.0\n",
      "5.2709286e-34\n",
      "5.7210264e-30\n",
      "4e-44\n",
      "0.0\n",
      "0.0\n",
      "0.0\n",
      "2.336329e-27\n",
      "5.7851913e-32\n",
      "1.4526289e-30\n",
      "1.929867e-31\n",
      "2.8195079e-33\n",
      "0.0\n",
      "0.0\n",
      "1e-45\n",
      "0.0\n",
      "0.0\n",
      "2.3193192e-31\n",
      "9.137342e-27\n",
      "2.2970474e-27\n",
      "4.850342e-28\n",
      "1.1691809e-30\n",
      "9.453858e-28\n",
      "9.0105885e-34\n",
      "4.747552e-29\n",
      "1.9874548e-31\n",
      "3.5812743e-30\n",
      "3.269818e-15\n",
      "3.7545963e-19\n",
      "3.7418658e-29\n",
      "9.093889e-39\n",
      "3.6e-43\n",
      "4.8154e-40\n",
      "6.5561604e-38\n",
      "0.0\n",
      "5.3536776e-38\n",
      "6.0816513e-35\n",
      "7.3769625e-33\n",
      "3.7178212e-36\n",
      "2.6e-43\n",
      "6.987772e-20\n",
      "1.0\n",
      "1.0\n",
      "0.99993384\n",
      "0.99034905\n",
      "3.3090107e-08\n",
      "5.7723496e-06\n",
      "0.001200993\n",
      "2.751191e-05\n",
      "7.772339e-06\n",
      "0.0019797808\n",
      "0.82813317\n",
      "0.00015206012\n",
      "1.0\n",
      "1.0\n"
     ]
    },
    {
     "ename": "KeyboardInterrupt",
     "evalue": "",
     "output_type": "error",
     "traceback": [
      "\u001b[0;31m---------------------------------------------------------------------------\u001b[0m",
      "\u001b[0;31mKeyboardInterrupt\u001b[0m                         Traceback (most recent call last)",
      "Input \u001b[0;32mIn [6]\u001b[0m, in \u001b[0;36m<cell line: 9>\u001b[0;34m()\u001b[0m\n\u001b[1;32m     34\u001b[0m output_details \u001b[38;5;241m=\u001b[39m interpreter\u001b[38;5;241m.\u001b[39mget_output_details()\n\u001b[1;32m     36\u001b[0m interpreter\u001b[38;5;241m.\u001b[39mset_tensor(input_details[\u001b[38;5;241m0\u001b[39m][\u001b[38;5;124m'\u001b[39m\u001b[38;5;124mindex\u001b[39m\u001b[38;5;124m'\u001b[39m], img)\n\u001b[0;32m---> 37\u001b[0m \u001b[43minterpreter\u001b[49m\u001b[38;5;241;43m.\u001b[39;49m\u001b[43minvoke\u001b[49m\u001b[43m(\u001b[49m\u001b[43m)\u001b[49m\n\u001b[1;32m     38\u001b[0m tflite_model_predictions \u001b[38;5;241m=\u001b[39m interpreter\u001b[38;5;241m.\u001b[39mget_tensor(output_details[\u001b[38;5;241m0\u001b[39m][\u001b[38;5;124m'\u001b[39m\u001b[38;5;124mindex\u001b[39m\u001b[38;5;124m'\u001b[39m])\n\u001b[1;32m     40\u001b[0m \u001b[38;5;66;03m# Make Detections\u001b[39;00m\n\u001b[1;32m     41\u001b[0m \u001b[38;5;66;03m# X = np.array(pd.DataFrame([row]))\u001b[39;00m\n",
      "File \u001b[0;32m~/opt/anaconda3/lib/python3.8/site-packages/tensorflow/lite/python/interpreter.py:916\u001b[0m, in \u001b[0;36mInterpreter.invoke\u001b[0;34m(self)\u001b[0m\n\u001b[1;32m    904\u001b[0m \u001b[38;5;124;03m\"\"\"Invoke the interpreter.\u001b[39;00m\n\u001b[1;32m    905\u001b[0m \n\u001b[1;32m    906\u001b[0m \u001b[38;5;124;03mBe sure to set the input sizes, allocate tensors and fill values before\u001b[39;00m\n\u001b[0;32m   (...)\u001b[0m\n\u001b[1;32m    913\u001b[0m \u001b[38;5;124;03m  ValueError: When the underlying interpreter fails raise ValueError.\u001b[39;00m\n\u001b[1;32m    914\u001b[0m \u001b[38;5;124;03m\"\"\"\u001b[39;00m\n\u001b[1;32m    915\u001b[0m \u001b[38;5;28mself\u001b[39m\u001b[38;5;241m.\u001b[39m_ensure_safe()\n\u001b[0;32m--> 916\u001b[0m \u001b[38;5;28;43mself\u001b[39;49m\u001b[38;5;241;43m.\u001b[39;49m\u001b[43m_interpreter\u001b[49m\u001b[38;5;241;43m.\u001b[39;49m\u001b[43mInvoke\u001b[49m\u001b[43m(\u001b[49m\u001b[43m)\u001b[49m\n",
      "\u001b[0;31mKeyboardInterrupt\u001b[0m: "
     ]
    }
   ],
   "source": [
    "cap = cv2.VideoCapture(0)\n",
    "fps = int(cap.get(cv2.CAP_PROP_FPS))\n",
    "good_frames = 0\n",
    "bad_frames = 0 \n",
    "chime.theme(\"mario\")\n",
    "\n",
    "# Initiate holistic model\n",
    "\n",
    "while cap.isOpened():\n",
    "    ret, frame = cap.read()\n",
    "\n",
    "    # Recolor Feed\n",
    "    images = cv2.cvtColor(frame, cv2.COLOR_BGR2RGB)\n",
    "    images.flags.writeable = False        \n",
    "\n",
    "    # Recolor image back to BGR for rendering\n",
    "    images.flags.writeable = True   \n",
    "    images = cv2.cvtColor(images, cv2.COLOR_RGB2BGR)\n",
    "\n",
    "\n",
    "        \n",
    "    img = cv2.resize(images, (150, 150))\n",
    "    # img = Image.fromarray(img, 'RGB')\n",
    "    img = np.array(img)\n",
    "    img = np.expand_dims(img, axis = 0)\n",
    "    img = np.array(img, dtype=np.float32)\n",
    "    # print(img) - working\n",
    "\n",
    "    interpreter.resize_tensor_input(input_details[0]['index'], (len(img), 150, 150,3))\n",
    "    interpreter.resize_tensor_input(output_details[0]['index'], (len(img),2))\n",
    "    interpreter.allocate_tensors()\n",
    "\n",
    "    input_details = interpreter.get_input_details()\n",
    "    output_details = interpreter.get_output_details()\n",
    "\n",
    "    interpreter.set_tensor(input_details[0]['index'], img)\n",
    "    interpreter.invoke()\n",
    "    tflite_model_predictions = interpreter.get_tensor(output_details[0]['index'])\n",
    "\n",
    "    # Make Detections\n",
    "    # X = np.array(pd.DataFrame([row]))\n",
    "    pose_detection_value = tflite_model_predictions[0][0]\n",
    "    comp_pose_detection_value = tflite_model_predictions[0][1]\n",
    "    # print(pose_detection_value)\n",
    "\n",
    "    if pose_detection_value >= comp_pose_detection_value:\n",
    "        pose_detection_class = 'Good'\n",
    "        pose_detection_prob = pose_detection_value\n",
    "    else:\n",
    "        pose_detection_class = 'Sit Up Straight'\n",
    "        pose_detection_prob = comp_pose_detection_value\n",
    "\n",
    "    # print(pose_detection_class)\n",
    "    # print(pose_detection_prob)\n",
    "\n",
    "    if pose_detection_class == 'Good':\n",
    "        good_frames += 1\n",
    "        bad_frames = 0\n",
    "    else:\n",
    "        good_frames = 0\n",
    "        bad_frames += 1\n",
    "\n",
    "    good_time = (1. / fps) * good_frames\n",
    "    bad_time = (1. / fps) * bad_frames\n",
    "\n",
    "\n",
    "    # To display the text, grab ear coords\n",
    "    coords = (250, 100)   # (288, 127) Good / (348, 105) Bad\n",
    "\n",
    "\n",
    "    if pose_detection_class == 'Good':\n",
    "        cv2.rectangle(images, \n",
    "                      (coords[0], coords[1]+5), \n",
    "                      (coords[0]+len(pose_detection_class)*20, coords[1]-30), \n",
    "                      (0, 128, 0), -1)\n",
    "    else:\n",
    "        cv2.rectangle(images, \n",
    "                      (coords[0], coords[1]+5), \n",
    "                      (coords[0]+len(pose_detection_class)*16, coords[1]-30), \n",
    "                      (105,105,105), -1)\n",
    "\n",
    "\n",
    "    cv2.putText(images, pose_detection_class, coords, \n",
    "                cv2.FONT_HERSHEY_SIMPLEX, 1, (255, 255, 255), 2, cv2.LINE_AA)\n",
    "\n",
    "    # Get status box\n",
    "    if pose_detection_class == 'Good':\n",
    "        cv2.rectangle(images, (0,0), (250, 60), (0, 128, 0), -1)\n",
    "    else:\n",
    "        cv2.rectangle(images, (0,0), (250, 60), (105,105,105), -1)\n",
    "\n",
    "    # Display Class\n",
    "    cv2.putText(images, 'CLASS'\n",
    "                , (95,12), cv2.FONT_HERSHEY_SIMPLEX, 0.5, (255, 255, 255), 1, cv2.LINE_AA)\n",
    "    cv2.putText(images, pose_detection_class.split(' ')[0]\n",
    "                , (90,40), cv2.FONT_HERSHEY_SIMPLEX, 1, (255, 255, 255), 2, cv2.LINE_AA)\n",
    "\n",
    "    # Display Probability\n",
    "    cv2.putText(images, 'PROB'\n",
    "                , (15,12), cv2.FONT_HERSHEY_SIMPLEX, 0.5, (255, 255, 255), 1, cv2.LINE_AA)\n",
    "    cv2.putText(images, str(round(pose_detection_prob,2))\n",
    "                , (10,40), cv2.FONT_HERSHEY_SIMPLEX, 1, (255, 255, 255), 2, cv2.LINE_AA)\n",
    "\n",
    "    \n",
    "    if bad_time > 60:\n",
    "            chime.warning()\n",
    "            bad_frames = 0\n",
    "\n",
    "    cv2.imshow('Raw Webcam Feed', images)\n",
    "\n",
    "    if cv2.waitKey(10) & 0xFF == ord('q'):\n",
    "        break\n",
    "\n",
    "cap.release()\n",
    "cv2.destroyAllWindows()"
   ]
  },
  {
   "cell_type": "code",
   "execution_count": null,
   "metadata": {},
   "outputs": [],
   "source": []
  },
  {
   "cell_type": "code",
   "execution_count": null,
   "metadata": {},
   "outputs": [],
   "source": []
  },
  {
   "cell_type": "markdown",
   "metadata": {},
   "source": [
    "## Requirements.txt"
   ]
  },
  {
   "cell_type": "code",
   "execution_count": 1,
   "metadata": {},
   "outputs": [
    {
     "name": "stdout",
     "output_type": "stream",
     "text": [
      "Requirement already satisfied: pipreqs in /Users/lindseybang/opt/anaconda3/lib/python3.8/site-packages (0.4.12)\n",
      "Requirement already satisfied: yarg in /Users/lindseybang/opt/anaconda3/lib/python3.8/site-packages (from pipreqs) (0.1.9)\n",
      "Requirement already satisfied: docopt in /Users/lindseybang/opt/anaconda3/lib/python3.8/site-packages (from pipreqs) (0.6.2)\n",
      "Requirement already satisfied: requests in /Users/lindseybang/opt/anaconda3/lib/python3.8/site-packages (from yarg->pipreqs) (2.28.1)\n",
      "Requirement already satisfied: urllib3<1.27,>=1.21.1 in /Users/lindseybang/opt/anaconda3/lib/python3.8/site-packages (from requests->yarg->pipreqs) (1.26.11)\n",
      "Requirement already satisfied: charset-normalizer<3,>=2 in /Users/lindseybang/opt/anaconda3/lib/python3.8/site-packages (from requests->yarg->pipreqs) (2.0.4)\n",
      "Requirement already satisfied: certifi>=2017.4.17 in /Users/lindseybang/opt/anaconda3/lib/python3.8/site-packages (from requests->yarg->pipreqs) (2022.6.15)\n",
      "Requirement already satisfied: idna<4,>=2.5 in /Users/lindseybang/opt/anaconda3/lib/python3.8/site-packages (from requests->yarg->pipreqs) (3.3)\n"
     ]
    }
   ],
   "source": [
    "!pip install pipreqs"
   ]
  },
  {
   "cell_type": "code",
   "execution_count": 2,
   "metadata": {},
   "outputs": [
    {
     "name": "stdout",
     "output_type": "stream",
     "text": [
      "INFO: Successfully saved requirements file in /Users/lindseybang/Desktop/github/W251/W251-Final-Project-Mediapipe/requirements.txt\n"
     ]
    }
   ],
   "source": [
    "!pipreqs /Users/lindseybang/Desktop/github/W251/W251-Final-Project-Mediapipe"
   ]
  },
  {
   "cell_type": "code",
   "execution_count": null,
   "metadata": {},
   "outputs": [],
   "source": []
  }
 ],
 "metadata": {
  "kernelspec": {
   "display_name": "Python 3 (ipykernel)",
   "language": "python",
   "name": "python3"
  },
  "language_info": {
   "codemirror_mode": {
    "name": "ipython",
    "version": 3
   },
   "file_extension": ".py",
   "mimetype": "text/x-python",
   "name": "python",
   "nbconvert_exporter": "python",
   "pygments_lexer": "ipython3",
   "version": "3.8.2"
  }
 },
 "nbformat": 4,
 "nbformat_minor": 4
}
