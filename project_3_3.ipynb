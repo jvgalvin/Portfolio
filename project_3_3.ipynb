{
 "cells": [
  {
   "cell_type": "markdown",
   "id": "3f465500",
   "metadata": {},
   "source": [
    "# Project 3, Part 3, Create a graph database in Neo4j for the BART system\n",
    "\n",
    "University of California, Berkeley\n",
    "\n",
    "Master of Information and Data Science (MIDS) program\n",
    "\n",
    "w205 - Fundamentals of Data Engineering\n",
    "\n",
    "Students in the group:\n",
    "* Aris Chalini\n",
    "* Jack Galvin\n",
    "* Matt Lauritzen\n",
    "\n",
    "Year: 2022\n",
    "\n",
    "Semester: Spring\n",
    "\n",
    "Section: 09\n"
   ]
  },
  {
   "cell_type": "markdown",
   "id": "33c6e20e",
   "metadata": {},
   "source": [
    "# Included Modules and Packages\n",
    "\n",
    "Code cell containing your includes for modules and packages\n",
    "\n",
    "Some starter code is provided\n",
    "\n",
    "You may change the starter code as needed\n",
    "\n",
    "You may add as much code and/or as many code cells as you need"
   ]
  },
  {
   "cell_type": "code",
   "execution_count": 1,
   "id": "530d745a",
   "metadata": {},
   "outputs": [],
   "source": [
    "import neo4j\n",
    "\n",
    "import csv\n",
    "\n",
    "import math\n",
    "import numpy as np\n",
    "import pandas as pd\n",
    "\n",
    "import psycopg2"
   ]
  },
  {
   "cell_type": "markdown",
   "id": "c91c8869",
   "metadata": {},
   "source": [
    "# Supporting code\n",
    "\n",
    "Code cells containing any supporting code, such as connecting to the database, any functions, etc.  \n",
    "\n",
    "Remember you can freely use any code from the labs. You do not need to cite code from the labs.\n",
    "\n",
    "Some starter code is provided\n",
    "\n",
    "You may change the starter code as needed\n",
    "\n",
    "You may add as much code and/or as many code cells as you need"
   ]
  },
  {
   "cell_type": "code",
   "execution_count": 2,
   "id": "ecf679ef",
   "metadata": {},
   "outputs": [],
   "source": [
    "driver = neo4j.GraphDatabase.driver(uri=\"neo4j://neo4j:7687\", auth=(\"neo4j\",\"w205\"))"
   ]
  },
  {
   "cell_type": "code",
   "execution_count": 3,
   "id": "99f22542",
   "metadata": {},
   "outputs": [],
   "source": [
    "session = driver.session(database=\"neo4j\")"
   ]
  },
  {
   "cell_type": "code",
   "execution_count": 4,
   "id": "0f1ae4f7",
   "metadata": {},
   "outputs": [],
   "source": [
    "def my_neo4j_wipe_out_database():\n",
    "    \"wipe out database by deleting all nodes and relationships\"\n",
    "    \n",
    "    query = \"match (node)-[relationship]->() delete node, relationship\"\n",
    "    session.run(query)\n",
    "    \n",
    "    query = \"match (node) delete node\"\n",
    "    session.run(query)"
   ]
  },
  {
   "cell_type": "code",
   "execution_count": 5,
   "id": "1c52ad4e",
   "metadata": {},
   "outputs": [],
   "source": [
    "def my_neo4j_run_query_pandas(query, **kwargs):\n",
    "    \"run a query and return the results in a pandas dataframe\"\n",
    "    \n",
    "    result = session.run(query, **kwargs)\n",
    "    \n",
    "    df = pd.DataFrame([r.values() for r in result], columns=result.keys())\n",
    "    \n",
    "    return df"
   ]
  },
  {
   "cell_type": "code",
   "execution_count": 6,
   "id": "e4ef5b0a",
   "metadata": {},
   "outputs": [],
   "source": [
    "def my_neo4j_number_nodes_relationships():\n",
    "    \"print the number of nodes and relationships\"\n",
    "   \n",
    "    \n",
    "    query = \"\"\"\n",
    "        match (n) \n",
    "        return n.name as node_name, labels(n) as labels\n",
    "        order by n.name\n",
    "    \"\"\"\n",
    "    \n",
    "    df = my_neo4j_run_query_pandas(query)\n",
    "    \n",
    "    number_nodes = df.shape[0]\n",
    "    \n",
    "    \n",
    "    query = \"\"\"\n",
    "        match (n1)-[r]->(n2) \n",
    "        return n1.name as node_name_1, labels(n1) as node_1_labels, \n",
    "            type(r) as relationship_type, n2.name as node_name_2, labels(n2) as node_2_labels\n",
    "        order by node_name_1, node_name_2\n",
    "    \"\"\"\n",
    "    \n",
    "    df = my_neo4j_run_query_pandas(query)\n",
    "    \n",
    "    number_relationships = df.shape[0]\n",
    "    \n",
    "    print(\"-------------------------\")\n",
    "    print(\"  Nodes:\", number_nodes)\n",
    "    print(\"  Relationships:\", number_relationships)\n",
    "    print(\"-------------------------\")\n"
   ]
  },
  {
   "cell_type": "code",
   "execution_count": 7,
   "id": "25a71732",
   "metadata": {},
   "outputs": [],
   "source": [
    "def my_neo4j_create_node(station_name):\n",
    "    \"create a node with label Station\"\n",
    "    \n",
    "    query = \"\"\"\n",
    "    \n",
    "    CREATE (:Station {name: $station_name})\n",
    "    \n",
    "    \"\"\"\n",
    "    \n",
    "    session.run(query, station_name=station_name)\n",
    "    "
   ]
  },
  {
   "cell_type": "code",
   "execution_count": 8,
   "id": "1cf6adec",
   "metadata": {},
   "outputs": [],
   "source": [
    "def my_neo4j_create_relationship_one_way(from_station, to_station, weight):\n",
    "    \"create a relationship one way between two stations with a weight\"\n",
    "    \n",
    "    query = \"\"\"\n",
    "    \n",
    "    MATCH (from:Station), \n",
    "          (to:Station)\n",
    "    WHERE from.name = $from_station and to.name = $to_station\n",
    "    CREATE (from)-[:LINK {weight: $weight}]->(to)\n",
    "    \n",
    "    \"\"\"\n",
    "    \n",
    "    session.run(query, from_station=from_station, to_station=to_station, weight=weight)\n",
    "    "
   ]
  },
  {
   "cell_type": "code",
   "execution_count": 9,
   "id": "990812de",
   "metadata": {},
   "outputs": [],
   "source": [
    "def my_neo4j_create_relationship_two_way(from_station, to_station, weight):\n",
    "    \"create relationships two way between two stations with a weight\"\n",
    "    \n",
    "    query = \"\"\"\n",
    "    \n",
    "    MATCH (from:Station), \n",
    "          (to:Station)\n",
    "    WHERE from.name = $from_station and to.name = $to_station\n",
    "    CREATE (from)-[:LINK {weight: $weight}]->(to),\n",
    "           (to)-[:LINK {weight: $weight}]->(from)\n",
    "    \n",
    "    \"\"\"\n",
    "    \n",
    "    session.run(query, from_station=from_station, to_station=to_station, weight=weight)\n",
    "    "
   ]
  },
  {
   "cell_type": "code",
   "execution_count": 10,
   "id": "1f198d4d",
   "metadata": {},
   "outputs": [],
   "source": [
    "connection = psycopg2.connect(\n",
    "    user = \"postgres\",\n",
    "    password = \"ucb\",\n",
    "    host = \"postgres\",\n",
    "    port = \"5432\",\n",
    "    database = \"postgres\"\n",
    ")"
   ]
  },
  {
   "cell_type": "code",
   "execution_count": 11,
   "id": "dc7a762b",
   "metadata": {},
   "outputs": [],
   "source": [
    "cursor = connection.cursor()"
   ]
  },
  {
   "cell_type": "markdown",
   "id": "d2e6beed",
   "metadata": {},
   "source": [
    "# Introduction \n",
    "\n",
    "We will now go step by step through the process of creating a graph database in Neo4j for the BART sytem. \n",
    "\n",
    "We will use some of the queries in 3.2 to pull the needed data in the right format to create nodes and relationships in our Neo4j graph database\n",
    "\n",
    "We will use the functions created above to create the nodes and relationships:\n",
    "* my_neo4j_create_node() - creates a node with label Station\n",
    "* my_neo4j_create_relationship_one_way() - creates a relationship one way between two stations with a weight\n",
    "* my_neo4j_create_relationship_two_way() - create relationships two way between two stations with a weight\n",
    "\n",
    "The way we create it might seem a bit strange at first. However, we want to be able to use the canned Neo4j Graph Data Science algorithms, and this design allows us to do so."
   ]
  },
  {
   "cell_type": "markdown",
   "id": "57739c2f",
   "metadata": {},
   "source": [
    "# 3.3.1 Wipe out the Neo4j database\n",
    "\n",
    "Call the function my_neo4j_wipe_out_database() to wipe out the Neo4j database"
   ]
  },
  {
   "cell_type": "code",
   "execution_count": 12,
   "id": "20c7370a",
   "metadata": {},
   "outputs": [],
   "source": [
    "my_neo4j_wipe_out_database()"
   ]
  },
  {
   "cell_type": "markdown",
   "id": "192998dd",
   "metadata": {},
   "source": [
    "# 3.3.2 Verify the number of nodes and relationships\n",
    "\n",
    "Call the function my_neo4j_number_nodes_relationships() to verify the number of nodes and relationships is 0 for both"
   ]
  },
  {
   "cell_type": "code",
   "execution_count": 13,
   "id": "082f291f",
   "metadata": {},
   "outputs": [
    {
     "name": "stdout",
     "output_type": "stream",
     "text": [
      "-------------------------\n",
      "  Nodes: 0\n",
      "  Relationships: 0\n",
      "-------------------------\n"
     ]
    }
   ],
   "source": [
    "my_neo4j_number_nodes_relationships()"
   ]
  },
  {
   "cell_type": "markdown",
   "id": "1c3d5836",
   "metadata": {},
   "source": [
    "# 3.3.3 Query the list of stations and create the departure and arrival nodes in the graph\n",
    "\n",
    "Use the query from 3.2.1 \"Query the list of stations\"\n",
    "\n",
    "For each station X, create two nodes:\n",
    "* depart X\n",
    "* arrive X\n",
    "\n",
    "Use the function my_neo4j_create_node() defined above\n",
    "\n",
    "For example, West Oakland:\n",
    "* my_neo4j_create_node('depart West Oakland')\n",
    "* my_neo4j_create_node('arrive West Oakland')\n",
    "\n"
   ]
  },
  {
   "cell_type": "markdown",
   "id": "908154b0",
   "metadata": {},
   "source": [
    "## Since this is the first one, a solution code cell is provided for you to execute and then pattern the rest after\n",
    "\n"
   ]
  },
  {
   "cell_type": "code",
   "execution_count": 14,
   "id": "fff788a7",
   "metadata": {},
   "outputs": [],
   "source": [
    "connection.rollback()\n",
    "\n",
    "query = \"\"\"\n",
    "\n",
    "select station\n",
    "from stations\n",
    "order by station\n",
    "\n",
    "\"\"\"\n",
    "\n",
    "cursor.execute(query)\n",
    "\n",
    "connection.rollback()\n",
    "\n",
    "rows = cursor.fetchall()\n",
    "\n",
    "for row in rows:\n",
    "    \n",
    "    station = row[0]\n",
    "    \n",
    "    my_neo4j_create_node('depart ' + station)\n",
    "    my_neo4j_create_node('arrive ' + station)\n",
    "    "
   ]
  },
  {
   "cell_type": "markdown",
   "id": "52ab8a11",
   "metadata": {},
   "source": [
    "# 3.3.4 Verify the number of nodes and relationships\n",
    "\n",
    "Call the function my_neo4j_number_nodes_relationships() to verify the number of nodes is 100 and the number of relationships is 0"
   ]
  },
  {
   "cell_type": "code",
   "execution_count": 15,
   "id": "dee57045",
   "metadata": {},
   "outputs": [
    {
     "name": "stdout",
     "output_type": "stream",
     "text": [
      "-------------------------\n",
      "  Nodes: 100\n",
      "  Relationships: 0\n",
      "-------------------------\n"
     ]
    }
   ],
   "source": [
    "my_neo4j_number_nodes_relationships()"
   ]
  },
  {
   "cell_type": "markdown",
   "id": "474ae6e9",
   "metadata": {},
   "source": [
    "# 3.3.5 Query the list of stations and the lines they serve, create line nodes, and create relationships between the line nodes and the departure and arrival nodes with weight 0\n",
    "\n",
    "Use the query from 3.2.3 \"Query the list of stations and the lines they serve\"\n",
    "\n",
    "For each station X and each line Y that the station serves:\n",
    "* Create a line node\n",
    "* Create a relationship from the departure node to the line node with weight 0\n",
    "* Create a relationship from the line node to the arrival node with weight 0\n",
    "\n",
    "Use the function my_neo4j_create_relationship_one_way() defined above to create the relationships\n",
    "\n",
    "For example, West Oakland should create the following line nodes:\n",
    "* my_neo4j_create_node('blue West Oakland')\n",
    "* my_neo4j_create_node('green West Oakland')\n",
    "* my_neo4j_create_node('red West Oakland')\n",
    "* my_neo4j_create_node('yellow West Oakland')\n",
    "\n",
    "And the following relationships between line nodes and departure and arrival nodes:\n",
    "* my_neo4j_create_relationship_one_way('depart West Oakland','blue West Oakland',0)\n",
    "* my_neo4j_create_relationship_one_way('blue West Oakland','arrive West Oakland',0)\n",
    "* my_neo4j_create_relationship_one_way('depart West Oakland','green West Oakland',0)\n",
    "* my_neo4j_create_relationship_one_way('green West Oakland','arrive West Oakland',0)\n",
    "* my_neo4j_create_relationship_one_way('depart West Oakland','red West Oakland',0)\n",
    "* my_neo4j_create_relationship_one_way('red West Oakland','arrive West Oakland',0)\n",
    "* my_neo4j_create_relationship_one_way('depart West Oakland','yellow West Oakland',0)\n",
    "* my_neo4j_create_relationship_one_way('yellow West Oakland','arrive West Oakland',0)"
   ]
  },
  {
   "cell_type": "code",
   "execution_count": 16,
   "id": "c8cc6ac3",
   "metadata": {},
   "outputs": [],
   "source": [
    "connection.rollback()\n",
    "\n",
    "query = \"\"\"\n",
    "\n",
    "select station, line\n",
    "from lines\n",
    "order by 1, 2\n",
    "\n",
    "\"\"\"\n",
    "\n",
    "cursor.execute(query)\n",
    "\n",
    "connection.rollback()\n",
    "\n",
    "rows = cursor.fetchall()\n",
    "\n",
    "for row in rows:\n",
    "    \n",
    "    station = row[0]\n",
    "    line = row[1]\n",
    "    \n",
    "    my_neo4j_create_node(line + \" \" + station)\n",
    "    my_neo4j_create_relationship_one_way('depart ' + station, line + \" \" + station, 0)\n",
    "    my_neo4j_create_relationship_one_way( line + \" \" + station, 'arrive ' + station, 0)\n",
    "    "
   ]
  },
  {
   "cell_type": "markdown",
   "id": "60aa39ed",
   "metadata": {},
   "source": [
    "# 3.3.6 Verify the number of nodes and relationships\n",
    "\n",
    "Call the function my_neo4j_number_nodes_relationships() to verify the number of nodes is 214 and the number of relationships is 228"
   ]
  },
  {
   "cell_type": "code",
   "execution_count": 17,
   "id": "cb5a107c",
   "metadata": {},
   "outputs": [
    {
     "name": "stdout",
     "output_type": "stream",
     "text": [
      "-------------------------\n",
      "  Nodes: 214\n",
      "  Relationships: 228\n",
      "-------------------------\n"
     ]
    }
   ],
   "source": [
    "my_neo4j_number_nodes_relationships()"
   ]
  },
  {
   "cell_type": "markdown",
   "id": "99c38619",
   "metadata": {},
   "source": [
    "# 3.3.7 Query the list of all possible line transfers and the transfer times, create a relationship for each transfer with the transfer time as the weight\n",
    "\n",
    "Use the query from 3.2.5 \"Query the list of all possible line transfers and the transfer times\"\n",
    "\n",
    "For each station X, from line Y, to line Z, create a relationship from Y's line node to Z's line node with the weight set to the transfer time\n",
    "\n",
    "For example, West Oakland should create the following relationships between line nodes for transfers:\n",
    "\n",
    "* my_neo4j_create_relationship_one_way('blue West Oakland','green West Oakland',283)\n",
    "* my_neo4j_create_relationship_one_way('blue West Oakland','red West Oakland',283)\n",
    "* my_neo4j_create_relationship_one_way('blue West Oakland','yellow West Oakland',283)\n",
    "* my_neo4j_create_relationship_one_way('green West Oakland','blue West Oakland',283)\n",
    "* my_neo4j_create_relationship_one_way('green West Oakland','red West Oakland',283)\n",
    "* my_neo4j_create_relationship_one_way('green West Oakland','yellow West Oakland',283)\n",
    "* my_neo4j_create_relationship_one_way('red West Oakland','blue West Oakland',283)\n",
    "* my_neo4j_create_relationship_one_way('red West Oakland','green West Oakland',283)\n",
    "* my_neo4j_create_relationship_one_way('red West Oakland','yellow West Oakland',283)\n",
    "* my_neo4j_create_relationship_one_way('yellow West Oakland','blue West Oakland',283)\n",
    "* my_neo4j_create_relationship_one_way('yellow West Oakland','green West Oakland',283)\n",
    "* my_neo4j_create_relationship_one_way('yellow West Oakland','red West Oakland',283)\n"
   ]
  },
  {
   "cell_type": "code",
   "execution_count": 18,
   "id": "22329e60",
   "metadata": {},
   "outputs": [],
   "source": [
    "connection.rollback()\n",
    "\n",
    "query = \"\"\"\n",
    "\n",
    "select a.station, a.line as from_line, b.line as to_line, s.transfer_time\n",
    "from lines as a\n",
    "join lines as b\n",
    "    on a.station = b.station\n",
    "join stations as s\n",
    "    on a.station = s.station\n",
    "where a.line != b.line\n",
    "order by 1, 2, 3\n",
    "\n",
    "\"\"\"\n",
    "\n",
    "cursor.execute(query)\n",
    "\n",
    "connection.rollback()\n",
    "\n",
    "rows = cursor.fetchall()\n",
    "\n",
    "for row in rows:\n",
    "    \n",
    "    station = row[0]\n",
    "    from_line = row[1]\n",
    "    to_line = row[2]\n",
    "    transfer_time = int(row[3])\n",
    "    \n",
    "    my_neo4j_create_relationship_one_way(from_line + \" \" + station, to_line + \" \" + station, transfer_time)\n"
   ]
  },
  {
   "cell_type": "markdown",
   "id": "e9286f10",
   "metadata": {},
   "source": [
    "# 3.3.8 Verify the number of nodes and relationships\n",
    "\n",
    "Call the function my_neo4j_number_nodes_relationships() to verify the number of nodes is 214 and the number of relationships is 436"
   ]
  },
  {
   "cell_type": "code",
   "execution_count": 19,
   "id": "0457a9b7",
   "metadata": {},
   "outputs": [
    {
     "name": "stdout",
     "output_type": "stream",
     "text": [
      "-------------------------\n",
      "  Nodes: 214\n",
      "  Relationships: 436\n",
      "-------------------------\n"
     ]
    }
   ],
   "source": [
    "my_neo4j_number_nodes_relationships()"
   ]
  },
  {
   "cell_type": "markdown",
   "id": "e58bdd1d",
   "metadata": {},
   "source": [
    "# 3.3.9 Query the list of all segments between each station and its adjoining stations, create a relationship for each segment both ways\n",
    "\n",
    "Use the query from 3.2.7 \"Query the list of all segments between each station and its adjoining stations\"\n",
    "\n",
    "For each segment from station X to station Y on line Z, create two relationships:\n",
    "* From X's line node to Y's line node with travel time\n",
    "* From Y's line node to X's line node with travel time\n",
    "\n",
    "Use the function my_neo4j_create_relationship_two_way() defined above which will create both relationships \n",
    "\n",
    "For example, West Oakland should create the following relationships between line nodes:\n",
    "\n",
    "* my_neo4j_create_relationship_two_way('blue Lake Merritt','blue West Oakland',360)\n",
    "* my_neo4j_create_relationship_two_way('blue West Oakland','blue Embarcadero',420)\n",
    "* my_neo4j_create_relationship_two_way('green Lake Merritt','green West Oakland',360)\n",
    "* my_neo4j_create_relationship_two_way('green West Oakland','green Embarcadero',420)\n",
    "* my_neo4j_create_relationship_two_way('red 12th Street','red West Oakland',300)\n",
    "* my_neo4j_create_relationship_two_way('red West Oakland','red Embarcadero',420)\n",
    "* my_neo4j_create_relationship_two_way('yellow 12th Street','yellow West Oakland',300)\n",
    "* my_neo4j_create_relationship_two_way('yellow West Oakland','yellow Embarcadero',420)\n"
   ]
  },
  {
   "cell_type": "code",
   "execution_count": 20,
   "id": "1dc33db7",
   "metadata": {},
   "outputs": [],
   "source": [
    "connection.rollback()\n",
    "\n",
    "query = \"\"\"\n",
    "\n",
    "select a.line, \n",
    "    a.station as \"from station\", \n",
    "    b.station as \"to station\", \n",
    "    t.travel_time as \"travel time in seconds\"\n",
    "from lines as a\n",
    "join lines as b\n",
    "    on a.line = b.line \n",
    "        and a.sequence = b.sequence - 1\n",
    "join travel_times as t\n",
    "    on (a.station = t.station_1 and b.station = station_2)\n",
    "        or (a.station = t.station_2 and b.station = station_1)\n",
    "order by 1, 2, 3\n",
    "\n",
    "\"\"\"\n",
    "\n",
    "cursor.execute(query)\n",
    "\n",
    "connection.rollback()\n",
    "\n",
    "rows = cursor.fetchall()\n",
    "\n",
    "for row in rows:\n",
    "    \n",
    "    line = row[0]\n",
    "    from_station = row[1]\n",
    "    to_station = row[2]\n",
    "    travel_time = int(row[3])\n",
    "\n",
    "    my_neo4j_create_relationship_two_way(line + \" \" + from_station, line + \" \" + to_station, travel_time)\n",
    "    "
   ]
  },
  {
   "cell_type": "markdown",
   "id": "33bfb2fe",
   "metadata": {},
   "source": [
    "# 3.3.10 Verify the number of nodes and relationships\n",
    "\n",
    "Call the function my_neo4j_number_nodes_relationships() to verify the number of nodes is 214 and the number of relationships is 652"
   ]
  },
  {
   "cell_type": "code",
   "execution_count": 21,
   "id": "f0a0da16",
   "metadata": {},
   "outputs": [
    {
     "name": "stdout",
     "output_type": "stream",
     "text": [
      "-------------------------\n",
      "  Nodes: 214\n",
      "  Relationships: 652\n",
      "-------------------------\n"
     ]
    }
   ],
   "source": [
    "my_neo4j_number_nodes_relationships()"
   ]
  }
 ],
 "metadata": {
  "kernelspec": {
   "display_name": "Python 3",
   "language": "python",
   "name": "python3"
  },
  "language_info": {
   "codemirror_mode": {
    "name": "ipython",
    "version": 3
   },
   "file_extension": ".py",
   "mimetype": "text/x-python",
   "name": "python",
   "nbconvert_exporter": "python",
   "pygments_lexer": "ipython3",
   "version": "3.8.8"
  }
 },
 "nbformat": 4,
 "nbformat_minor": 5
}
