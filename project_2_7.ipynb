{
 "cells": [
  {
   "cell_type": "markdown",
   "id": "3f465500",
   "metadata": {},
   "source": [
    "# Project 2, Part 7, Executive summary\n",
    "\n",
    "University of California, Berkeley\n",
    "\n",
    "Master of Information and Data Science (MIDS) program\n",
    "\n",
    "w205 - Fundamentals of Data Engineering\n",
    "\n",
    "Student: Jack Galvin\n",
    "\n",
    "Year: 2022\n",
    "\n",
    "Semester: Spring\n",
    "\n",
    "Section: 9\n"
   ]
  },
  {
   "cell_type": "markdown",
   "id": "33c6e20e",
   "metadata": {},
   "source": [
    "# Included Modules and Packages\n",
    "\n",
    "Code cell containing your includes for modules and packages"
   ]
  },
  {
   "cell_type": "code",
   "execution_count": 37,
   "id": "63839f89",
   "metadata": {},
   "outputs": [],
   "source": [
    "import pandas as pd\n",
    "import numpy as np\n",
    "import math\n",
    "import psycopg2\n",
    "from fuzzywuzzy import fuzz\n",
    "from fuzzywuzzy import process as fuzz_process\n",
    "import matplotlib.pyplot as plt\n",
    "%matplotlib inline"
   ]
  },
  {
   "cell_type": "markdown",
   "id": "c91c8869",
   "metadata": {},
   "source": [
    "# Supporting code\n",
    "\n",
    "Code cells containing any supporting code, such as connecting to the database, any functions, etc.  \n",
    "\n",
    "Remember you can freely use any code from the labs. You do not need to cite code from the labs."
   ]
  },
  {
   "cell_type": "code",
   "execution_count": 2,
   "id": "5d21fb19",
   "metadata": {},
   "outputs": [],
   "source": [
    "connection = psycopg2.connect(\n",
    "    user = \"postgres\",\n",
    "    password = \"ucb\",\n",
    "    host = \"postgres\",\n",
    "    port = \"5432\",\n",
    "    database = \"postgres\"\n",
    ")"
   ]
  },
  {
   "cell_type": "code",
   "execution_count": 3,
   "id": "86881577",
   "metadata": {},
   "outputs": [],
   "source": [
    "cursor = connection.cursor()"
   ]
  },
  {
   "cell_type": "code",
   "execution_count": 4,
   "id": "43c3eebe",
   "metadata": {},
   "outputs": [],
   "source": [
    "# Function to run a select query and return rows in a pandas dataframe\n",
    "# Pandas puts all numeric values from postgres to float\n",
    "# If it will fit in an integer, change it to integer\n",
    "\n",
    "\n",
    "def my_select_query_pandas(query, rollback_before_flag, rollback_after_flag):\n",
    "    \"function to run a select query and return rows in a pandas dataframe\"\n",
    "    \n",
    "    if rollback_before_flag:\n",
    "        connection.rollback()\n",
    "    \n",
    "    df = pd.read_sql_query(query, connection)\n",
    "    \n",
    "    if rollback_after_flag:\n",
    "        connection.rollback()\n",
    "    \n",
    "    # fix the float columns that really should be integers\n",
    "    \n",
    "    for column in df:\n",
    "    \n",
    "        if df[column].dtype == \"float64\":\n",
    "\n",
    "            fraction_flag = False\n",
    "\n",
    "            for value in df[column].values:\n",
    "                \n",
    "                if not np.isnan(value):\n",
    "                    if value - math.floor(value) != 0:\n",
    "                        fraction_flag = True\n",
    "\n",
    "            if not fraction_flag:\n",
    "                df[column] = df[column].astype('Int64')\n",
    "    \n",
    "    return(df)"
   ]
  },
  {
   "cell_type": "markdown",
   "id": "d2e6beed",
   "metadata": {},
   "source": [
    "# 2.7.1 Executive summary\n",
    "\n",
    "Write an executive summary.  \n",
    "\n",
    "The summary should be the equivalent to 3/4 to 1 page using standard fonts, spacing, and margins. \n",
    "\n",
    "You may write about any aspect (or aspects).  Basically figure out what you think is the most import aspect (or aspects) that the executives would want to know.  \n",
    "\n",
    "It could be related to the process itself. Such as how you were able to take a dataset, load it into staging tables, and get analytics very quickly, instead of a months long traditional waterfall process. \n",
    "\n",
    "It could be related to the preliminary analytics.  Any insights you gained.  Possible comparison to the analytics from project 1.  Do the delivery sales have different patterns or the same patterns as in store sales?  Is this a good way to grow sales? etc.\n",
    "\n",
    "It could be related to both.\n",
    "\n",
    "You are not required to write any queries nor create any data visualizations.  However, you may want to include some to enhance and add quality to your submission.  Submissions with these tend to be higher quality, although, not always.\n",
    "\n",
    "You may use any number of code cells and/or markdown cells. \n",
    "\n",
    "You may alternate between code cells and markdown cells.  That is perfectly fine.  It is understood that before we present it, an editor would pull out the text, results of queries, and data visualizations."
   ]
  },
  {
   "cell_type": "markdown",
   "id": "4fd89e51",
   "metadata": {},
   "source": [
    "# Motivation for the Following Analysis\n",
    "\n",
    "From our last analysis, we showed that most customers lived within 15 miles of the closest store and proposed a delivery option to capture market share from customers who lived farther away. The below plot was presented with that analysis and is included again for convenience.\n",
    "\n",
    "We aim to evaluate if solidifying a delivery option with Peak is a good business decision."
   ]
  },
  {
   "cell_type": "code",
   "execution_count": 63,
   "id": "fefdd4da",
   "metadata": {},
   "outputs": [],
   "source": [
    "rollback_before_flag = True\n",
    "rollback_after_flag = True\n",
    "\n",
    "query = \"\"\"\n",
    "\n",
    "select s.city as store,\n",
    "        cu.distance as distance,\n",
    "        cu.first_name,\n",
    "        cu.last_name,\n",
    "        count(cu.customer_id) as total_customers\n",
    "from stores as s\n",
    "    join customers as cu\n",
    "        on s.store_id = cu.closest_store_id\n",
    "group by store, distance, cu.first_name, cu.last_name\n",
    "order by distance\n",
    "\n",
    "\"\"\"\n",
    "\n",
    "agm_df = my_select_query_pandas(query, rollback_before_flag, rollback_after_flag)"
   ]
  },
  {
   "cell_type": "code",
   "execution_count": 64,
   "id": "83de08e1",
   "metadata": {},
   "outputs": [
    {
     "data": {
      "image/png": "[encoded data removed]",
      "text/plain": [
       "<Figure size 1008x504 with 1 Axes>"
      ]
     },
     "metadata": {
      "needs_background": "light"
     },
     "output_type": "display_data"
    }
   ],
   "source": [
    "# Plot the results of the above query\n",
    "fig, ax = plt.subplots()\n",
    "agm_df.groupby(\"distance\")[\"total_customers\"].sum().plot(kind=\"bar\", figsize=(14,7))\n",
    "\n",
    "# Add titles and axes labels\n",
    "plt.title(\"Distribution of Customers by Distance from Closest Store\", fontsize=14)\n",
    "ax.set_ylabel(\"Number of Customers\", labelpad=15, fontsize=12)\n",
    "ax.set_xlabel(\"Distance from Closest Store (Miles)\", labelpad=15, fontsize=12)\n",
    "plt.xticks(rotation=0);"
   ]
  },
  {
   "cell_type": "markdown",
   "id": "8a9ad76a",
   "metadata": {},
   "source": [
    "# Visualize Distribution of Customer Addresses in the Berkeley Area\n",
    "\n",
    "We confirm that the distribution of customer addresses near the Berkeley store is similar to the distribution of customer addresses across all stores. Consistent with the results we presented above, most customers in the Berkeley area live within 15 miles of the Berkeley store. "
   ]
  },
  {
   "cell_type": "code",
   "execution_count": 65,
   "id": "2f51ba83",
   "metadata": {},
   "outputs": [
    {
     "data": {
      "image/png": "[encoded data removed]",
      "text/plain": [
       "<Figure size 1008x504 with 1 Axes>"
      ]
     },
     "metadata": {
      "needs_background": "light"
     },
     "output_type": "display_data"
    }
   ],
   "source": [
    "berk_df = agm_df[agm_df[\"store\"] == \"Berkeley\"]\n",
    "\n",
    "# Plot the results\n",
    "fig, ax = plt.subplots()\n",
    "berk_df.groupby(\"distance\")[\"total_customers\"].sum().plot(kind=\"bar\", figsize=(14,7))\n",
    "\n",
    "# Add titles and axes labels\n",
    "plt.title(\"Distribution of Customers by Distance from Berkeley Store\", fontsize=14)\n",
    "ax.set_ylabel(\"Number of Customers\", labelpad=15, fontsize=12)\n",
    "ax.set_xlabel(\"Distance from Berkeley Store (Miles)\", labelpad=15, fontsize=12)\n",
    "plt.xticks(rotation=0);"
   ]
  },
  {
   "cell_type": "markdown",
   "id": "b3f76e5c",
   "metadata": {},
   "source": [
    "# Investigate Who Signed Up with Peak\n",
    "\n",
    "We investigate if the customers who live over 15 miles from the Berkeley store actually signed up for delivery with Peak. We use the fuzzy logic method to correct small inaccuracies in the customer data that Peak maintains. "
   ]
  },
  {
   "cell_type": "markdown",
   "id": "26d45294",
   "metadata": {},
   "source": [
    "##### Build a data frame with the customers who match Peak data"
   ]
  },
  {
   "cell_type": "code",
   "execution_count": 52,
   "id": "2e2c83d0",
   "metadata": {},
   "outputs": [],
   "source": [
    "# Find first names, last names, and streets that match\n",
    "\n",
    "rollback_before_flag = True\n",
    "rollback_after_flag = True\n",
    "\n",
    "query = \"\"\"\n",
    "\n",
    "select *\n",
    "from stage_1_peak_customers\n",
    "where (first_name, last_name, street) in (\n",
    "    select first_name, last_name, street\n",
    "    from customers)\n",
    "order by stage_id;\n",
    "\n",
    "\"\"\"\n",
    "\n",
    "df_1 = my_select_query_pandas(query, rollback_before_flag, rollback_after_flag)"
   ]
  },
  {
   "cell_type": "markdown",
   "id": "544b375a",
   "metadata": {},
   "source": [
    "##### Build a data frame with the customers who don't match Peak data"
   ]
  },
  {
   "cell_type": "code",
   "execution_count": 53,
   "id": "035e05a2",
   "metadata": {},
   "outputs": [],
   "source": [
    "# Find first names, last names, and streets that don't match\n",
    "\n",
    "rollback_before_flag = True\n",
    "rollback_after_flag = True\n",
    "\n",
    "query = \"\"\"\n",
    "\n",
    "select *\n",
    "from stage_1_peak_customers\n",
    "where (first_name, last_name, street) not in (\n",
    "    select first_name, last_name, street\n",
    "    from customers)\n",
    "order by stage_id;\n",
    "\n",
    "\"\"\"\n",
    "\n",
    "df_2 = my_select_query_pandas(query, rollback_before_flag, rollback_after_flag)\n",
    "\n",
    "# Concatenate first and last names and drop old columns\n",
    "df_2[\"full_name\"] = df_2[\"first_name\"] + \" \" + df_2[\"last_name\"]\n",
    "df_2.drop([\"first_name\", \"last_name\"], axis=1, inplace=True)"
   ]
  },
  {
   "cell_type": "markdown",
   "id": "0766e4b1",
   "metadata": {},
   "source": [
    "##### Apply fuzzy logic"
   ]
  },
  {
   "cell_type": "code",
   "execution_count": 55,
   "id": "59fff720",
   "metadata": {},
   "outputs": [],
   "source": [
    "# Make a list of all customers and addresses maintained by AGM\n",
    "\n",
    "rollback_before_flag = True\n",
    "rollback_after_flag = True\n",
    "\n",
    "query = \"\"\"\n",
    "\n",
    "select first_name,\n",
    "        last_name,\n",
    "        street\n",
    "from customers;\n",
    "\n",
    "\"\"\"\n",
    "\n",
    "cust_df = my_select_query_pandas(query, rollback_before_flag, rollback_after_flag)\n",
    "\n",
    "# Make 2 lists - one for our customers' names and another for their addresses\n",
    "cust_df[\"full_name\"] = cust_df[\"first_name\"] + \" \" + cust_df[\"last_name\"]\n",
    "agm_cust_list = cust_df[\"full_name\"].tolist()\n",
    "agm_street_list = cust_df[\"street\"].tolist()"
   ]
  },
  {
   "cell_type": "code",
   "execution_count": 56,
   "id": "b4f5540f",
   "metadata": {},
   "outputs": [],
   "source": [
    "# Use fuzzy logic to provide suggested name and street\n",
    "\n",
    "df_2[\"suggested_name\"] = [fuzz_process.extract(name, agm_cust_list, limit = 1)[0][0] for name in df_2[\"full_name\"]]\n",
    "df_2[\"suggested_street\"] = [fuzz_process.extract(street, agm_street_list, limit = 1)[0][0] for street in df_2[\"street\"]]"
   ]
  },
  {
   "cell_type": "code",
   "execution_count": 57,
   "id": "e0d98aa5",
   "metadata": {},
   "outputs": [],
   "source": [
    "# Split the new suggested_name into first and last\n",
    "\n",
    "df_2[[\"first_name\", \"last_name\"]] = df_2[\"suggested_name\"].str.split(\" \", 1, expand=True)\n",
    "\n",
    "# Drop unnecessary columns\n",
    "\n",
    "df_2.drop([\"street\", \"full_name\", \"suggested_name\"], axis=1, inplace=True)\n",
    "\n",
    "# Rename suggested_street\n",
    "\n",
    "df_2.rename(columns={\"suggested_street\": \"street\"}, inplace=True)"
   ]
  },
  {
   "cell_type": "markdown",
   "id": "26eb7a14",
   "metadata": {},
   "source": [
    "##### Combine the two data frames into a single data frame (this represents the customers who signed up with Peak)"
   ]
  },
  {
   "cell_type": "code",
   "execution_count": 73,
   "id": "801feb5b",
   "metadata": {},
   "outputs": [],
   "source": [
    "# Generate the data frame to be used for analysis (customers who signed up with Peak)\n",
    "\n",
    "df = df_1.append(df_2)\n",
    "df[\"full_name\"] = df[\"first_name\"] + \" \" + df[\"last_name\"]"
   ]
  },
  {
   "cell_type": "markdown",
   "id": "7e6ad1a6",
   "metadata": {},
   "source": [
    "# Determine How Close to the Berkeley Store the Peak Customers Live\n",
    "\n",
    "We find that all customers who signed up for the Peak delivery service live within 5 miles of the Berkeley store."
   ]
  },
  {
   "cell_type": "code",
   "execution_count": 83,
   "id": "51d79e2d",
   "metadata": {},
   "outputs": [],
   "source": [
    "# Build a column to be used for Boolean filtering\n",
    "\n",
    "agm_df = agm_df[agm_df[\"store\"] == \"Berkeley\"]\n",
    "agm_df[\"full_name\"] = agm_df[\"first_name\"] + \" \" + agm_df[\"last_name\"]"
   ]
  },
  {
   "cell_type": "code",
   "execution_count": 84,
   "id": "2a114afe",
   "metadata": {},
   "outputs": [],
   "source": [
    "# Use the cleaned data frame (of people who signed up with Peak) to filter the AGM data frame\n",
    "\n",
    "final_df = agm_df[agm_df[\"full_name\"].isin(df[\"full_name\"])]"
   ]
  },
  {
   "cell_type": "code",
   "execution_count": 82,
   "id": "4a1fa021",
   "metadata": {},
   "outputs": [
    {
     "data": {
      "image/png": "[encoded data removed]",
      "text/plain": [
       "<Figure size 1008x504 with 1 Axes>"
      ]
     },
     "metadata": {
      "needs_background": "light"
     },
     "output_type": "display_data"
    }
   ],
   "source": [
    "# Plot the results\n",
    "fig, ax = plt.subplots()\n",
    "final_df.groupby(\"distance\")[\"total_customers\"].sum().plot(kind=\"bar\", figsize=(14,7))\n",
    "\n",
    "# Add titles and axes labels\n",
    "plt.title(\"Distribution of Peak Customers by Distance from Berkeley Store\", fontsize=14)\n",
    "ax.set_ylabel(\"Number of Customers\", labelpad=15, fontsize=12)\n",
    "ax.set_xlabel(\"Distance from Berkeley Store (Miles)\", labelpad=15, fontsize=12)\n",
    "plt.xticks(rotation=0);"
   ]
  },
  {
   "cell_type": "markdown",
   "id": "f195bcb9",
   "metadata": {},
   "source": [
    "# Summary\n",
    "\n",
    "Since most AGM customers live within 15 miles of the closest store, we recommended considering a delivery service to capture customers who live farther away. We completed a proof of concept with Peak and validated that the relationship could work from a technical perspective. The above analysis, however, should give cause for hesitation in solidifying the relationship.\n",
    "\n",
    "Ironically, the only customers who signed up for delivery service through Peak were those who live within 5 miles of the Berkeley store. This is not simply due to a relative concentration of addresses near the Berkeley store, as we validated that this distribution is similar to the national one.\n",
    "\n",
    "Our recommendation is to pause forming a relationship with Peak. We think that additional analysis should be completed prior to entering into contract with them. More specifically, we should (1) determine how similar/different buying patterns are as distance from the closest store increases (perhaps those farther away just buy less frequently) and (2) discuss what Peak will commit to doing with respect to advertising AGM to customers located outside of a given radius of our store."
   ]
  },
  {
   "cell_type": "code",
   "execution_count": null,
   "id": "da564dff",
   "metadata": {},
   "outputs": [],
   "source": []
  }
 ],
 "metadata": {
  "kernelspec": {
   "display_name": "Python 3",
   "language": "python",
   "name": "python3"
  },
  "language_info": {
   "codemirror_mode": {
    "name": "ipython",
    "version": 3
   },
   "file_extension": ".py",
   "mimetype": "text/x-python",
   "name": "python",
   "nbconvert_exporter": "python",
   "pygments_lexer": "ipython3",
   "version": "3.8.8"
  }
 },
 "nbformat": 4,
 "nbformat_minor": 5
}
