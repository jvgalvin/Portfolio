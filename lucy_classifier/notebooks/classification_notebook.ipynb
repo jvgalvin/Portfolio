{
 "cells": [
  {
   "cell_type": "markdown",
   "id": "7e3804b1",
   "metadata": {},
   "source": [
    "## Imported Modules"
   ]
  },
  {
   "cell_type": "code",
   "execution_count": 1,
   "id": "3fec27f4",
   "metadata": {},
   "outputs": [],
   "source": [
    "import tensorflow as tf\n",
    "from keras import metrics\n",
    "from tensorflow.keras.preprocessing.image import ImageDataGenerator, load_img, img_to_array\n",
    "from tensorflow.keras.applications.resnet50 import ResNet50, preprocess_input\n",
    "from tensorflow.keras import Model\n",
    "from tensorflow.keras.models import load_model\n",
    "from tensorflow.keras.layers import Input, Flatten, Dense, Dropout, GlobalAveragePooling2D\n",
    "\n",
    "import pandas as pd\n",
    "import numpy as np\n",
    "import os\n",
    "import shutil\n",
    "import pathlib\n",
    "from glob import glob\n",
    "\n",
    "import requests \n",
    "from bs4 import BeautifulSoup\n",
    "import urllib.request\n",
    "\n",
    "import PIL\n",
    "from PIL import Image\n",
    "\n",
    "from sklearn.model_selection import train_test_split\n",
    "\n",
    "import matplotlib.pyplot as plt\n",
    "%matplotlib inline"
   ]
  },
  {
   "cell_type": "markdown",
   "id": "54faef6f",
   "metadata": {},
   "source": [
    "## Global Variables"
   ]
  },
  {
   "cell_type": "code",
   "execution_count": 2,
   "id": "e663ae20",
   "metadata": {},
   "outputs": [],
   "source": [
    "NUM_CLASSES = 2\n",
    "NUM_EPOCHS = 15\n",
    "BATCH_SIZE = 32\n",
    "IMG_SIZE = (224,224) # Expected size for ResNet50\n",
    "LR = 0.1"
   ]
  },
  {
   "cell_type": "markdown",
   "id": "bb2d381a",
   "metadata": {},
   "source": [
    "## Load Lucy Images"
   ]
  },
  {
   "cell_type": "code",
   "execution_count": 122,
   "id": "649c7804",
   "metadata": {},
   "outputs": [],
   "source": [
    "# Load and convert images to .jpeg\n",
    "\n",
    "img_dir = \"/Users/johngalvin/Desktop/GitHub/Tensorflow/workspace/Lucy-Classification/images/lucy/\"\n",
    "\n",
    "for file in os.listdir(img_dir):\n",
    "    if file.endswith(\".JPG\") or file.endswith(\".jpg\"):\n",
    "        img = Image.open(img_dir + file)\n",
    "        file_name, file_ext = os.path.splitext(file)\n",
    "        new_name = file_name + \".jpeg\"\n",
    "        img.save(img_dir + new_name)"
   ]
  },
  {
   "cell_type": "code",
   "execution_count": 123,
   "id": "0d5a74f0",
   "metadata": {},
   "outputs": [],
   "source": [
    "# Delete the .JPG and.jpg files\n",
    "\n",
    "for file in os.listdir(img_dir):\n",
    "    if file.endswith(\".JPG\") or file.endswith(\".jpg\"):\n",
    "        path_to_file = os.path.join(\"/Users/johngalvin/Desktop/GitHub/Tensorflow/workspace/Lucy-Classification/images/lucy/\", file)\n",
    "        os.remove(path_to_file)"
   ]
  },
  {
   "cell_type": "markdown",
   "id": "83e03e6a",
   "metadata": {},
   "source": [
    "## Download Other Images (Not Lucy)"
   ]
  },
  {
   "cell_type": "code",
   "execution_count": 124,
   "id": "5e377976",
   "metadata": {},
   "outputs": [],
   "source": [
    "# # Function to grab image urls from a url\n",
    "\n",
    "# def getdata(url): \n",
    "#     r = requests.get(url) \n",
    "#     return r.text \n",
    "    \n",
    "# htmldata = getdata(\"https://unsplash.com/s/photos/french-bulldog\") \n",
    "# soup = BeautifulSoup(htmldata, 'html.parser')\n",
    "# img_list = [item['src'] for item in soup.find_all(\"img\")]"
   ]
  },
  {
   "cell_type": "code",
   "execution_count": 125,
   "id": "cdcd60e5",
   "metadata": {},
   "outputs": [],
   "source": [
    "# # Save the image files\n",
    "\n",
    "# i = 0\n",
    "# while i < len(img_list):\n",
    "#     f_name = \"/Users/johngalvin/Desktop/GitHub/Tensorflow/workspace/Lucy-Classification/images/other/\" + str(i) + \".jpeg\"\n",
    "#     urllib.request.urlretrieve(img_list[i], f_name)\n",
    "#     i+=1"
   ]
  },
  {
   "cell_type": "markdown",
   "id": "1daa1721",
   "metadata": {},
   "source": [
    "## Train / Test Split"
   ]
  },
  {
   "cell_type": "markdown",
   "id": "7b62ec60",
   "metadata": {},
   "source": [
    "### Lucy Images"
   ]
  },
  {
   "cell_type": "code",
   "execution_count": 136,
   "id": "3180a115",
   "metadata": {},
   "outputs": [],
   "source": [
    "# Generate a list of the image files\n",
    "lucy_image_files = glob(\"../images/lucy/*.jpeg\")\n",
    "\n",
    "# Strip the extensions\n",
    "lucy_image_names = [name.replace(\".jpeg\",\"\") for name in lucy_image_files]\n",
    "\n",
    "# Split into train and test\n",
    "lucy_train_names, lucy_test_names = train_test_split(lucy_image_names, test_size=0.2)\n",
    "\n",
    "def batch_move_files(file_list, source_path, destination_path):\n",
    "    \"\"\"Moves jpeg files to destination path from source path\"\"\"\n",
    "    \n",
    "    for file in file_list:\n",
    "        image = file + \".jpeg\"\n",
    "        shutil.move(image, destination_path)\n",
    "    \n",
    "    return\n",
    "\n",
    "# Move the files - assumes empty train and test directories at the images directory level\n",
    "\n",
    "source_dir = \"../images/lucy/\"\n",
    "val_dir = \"../images/val/lucy/\"\n",
    "train_dir = \"../images/train/lucy/\"\n",
    "batch_move_files(lucy_test_names, source_dir, val_dir)\n",
    "batch_move_files(lucy_train_names, source_dir, train_dir)"
   ]
  },
  {
   "cell_type": "markdown",
   "id": "b7d5674c",
   "metadata": {},
   "source": [
    "### Other Images"
   ]
  },
  {
   "cell_type": "code",
   "execution_count": 137,
   "id": "a93215a5",
   "metadata": {},
   "outputs": [],
   "source": [
    "# Generate a list of the image files\n",
    "other_image_files = glob(\"../images/other/*.jpeg\")\n",
    "\n",
    "# Strip the extensions\n",
    "other_image_names = [name.replace(\".jpeg\",\"\") for name in other_image_files]\n",
    "\n",
    "# Split into train and test\n",
    "other_train_names, other_test_names = train_test_split(other_image_names, test_size=0.2)\n",
    "\n",
    "# Move the files - assumes empty train and test directories at the images directory level\n",
    "\n",
    "source_dir = \"../images/other/\"\n",
    "val_dir = \"../images/val/other/\"\n",
    "train_dir = \"../images/train/other/\"\n",
    "batch_move_files(other_test_names, source_dir, val_dir)\n",
    "batch_move_files(other_train_names, source_dir, train_dir)"
   ]
  },
  {
   "cell_type": "markdown",
   "id": "08e0817c",
   "metadata": {},
   "source": [
    "## Image Augmentation"
   ]
  },
  {
   "cell_type": "code",
   "execution_count": 3,
   "id": "f3c76a5f",
   "metadata": {},
   "outputs": [],
   "source": [
    "# Create generators and preprocess input\n",
    "\n",
    "train_datagen = ImageDataGenerator(preprocessing_function=preprocess_input,\n",
    "                                   rotation_range=20,\n",
    "                                   width_shift_range=0.2,\n",
    "                                   height_shift_range=0.2,\n",
    "                                   zoom_range=0.2)\n",
    "\n",
    "val_datagen = ImageDataGenerator(preprocessing_function=preprocess_input)"
   ]
  },
  {
   "cell_type": "code",
   "execution_count": 4,
   "id": "847be9cd",
   "metadata": {},
   "outputs": [
    {
     "name": "stdout",
     "output_type": "stream",
     "text": [
      "Found 273 images belonging to 2 classes.\n",
      "Found 61 images belonging to 2 classes.\n"
     ]
    }
   ],
   "source": [
    "# Use the generators\n",
    "\n",
    "train_generator = train_datagen.flow_from_directory(\"../images/train/\",\n",
    "                                                    target_size=IMG_SIZE,\n",
    "                                                    batch_size=BATCH_SIZE,\n",
    "                                                    shuffle=True,\n",
    "                                                    seed=42,\n",
    "                                                    class_mode=\"categorical\")\n",
    "\n",
    "val_generator = val_datagen.flow_from_directory(\"../images/val/\",\n",
    "                                                    target_size=IMG_SIZE,\n",
    "                                                    batch_size=BATCH_SIZE,\n",
    "                                                    shuffle=False,\n",
    "                                                    class_mode=\"categorical\")"
   ]
  },
  {
   "cell_type": "markdown",
   "id": "bb5ab3da",
   "metadata": {},
   "source": [
    "## Define and Train Model"
   ]
  },
  {
   "cell_type": "code",
   "execution_count": 15,
   "id": "a57ddb60",
   "metadata": {},
   "outputs": [],
   "source": [
    "# Instantiate base model from ResNet50 and exclude head\n",
    "\n",
    "tf.keras.backend.clear_session()\n",
    "\n",
    "base_model = ResNet50(include_top=False,\n",
    "                      input_shape=IMG_SIZE + (3,),\n",
    "                      weights=\"imagenet\")\n",
    "\n",
    "# Freeze all layers\n",
    "\n",
    "for layer in base_model.layers[:]:\n",
    "    layer.trainable = False\n",
    "    \n",
    "# Customize the model by adding Dense layers\n",
    "# Include Dropout and Normalization to combat overfitting\n",
    "\n",
    "model = tf.keras.models.Sequential()\n",
    "model.add(tf.keras.layers.Resizing(224,224))\n",
    "model.add(base_model)\n",
    "model.add(tf.keras.layers.Flatten())\n",
    "model.add(tf.keras.layers.Dense(512, activation=\"relu\"))\n",
    "model.add(tf.keras.layers.Dropout(0.3))\n",
    "model.add(tf.keras.layers.BatchNormalization())\n",
    "model.add(tf.keras.layers.Dense(256, activation=\"relu\"))\n",
    "model.add(tf.keras.layers.Dropout(0.3))\n",
    "model.add(tf.keras.layers.BatchNormalization())\n",
    "model.add(tf.keras.layers.Dense(128, activation=\"relu\"))\n",
    "model.add(tf.keras.layers.Dropout(0.3))\n",
    "model.add(tf.keras.layers.BatchNormalization())\n",
    "model.add(tf.keras.layers.Dense(64, activation=\"relu\"))\n",
    "model.add(tf.keras.layers.Dropout(0.3))\n",
    "model.add(tf.keras.layers.BatchNormalization())\n",
    "model.add(tf.keras.layers.Dense(NUM_CLASSES, activation=\"softmax\"))\n",
    "\n",
    "# Compile model\n",
    "\n",
    "model.compile(loss=\"categorical_crossentropy\",\n",
    "              optimizer=tf.keras.optimizers.Adam(learning_rate=LR),\n",
    "              metrics=[\"acc\"])"
   ]
  },
  {
   "cell_type": "code",
   "execution_count": 16,
   "id": "add07d32",
   "metadata": {},
   "outputs": [
    {
     "name": "stdout",
     "output_type": "stream",
     "text": [
      "Epoch 1/15\n"
     ]
    },
    {
     "name": "stderr",
     "output_type": "stream",
     "text": [
      "2022-06-15 16:01:12.237655: I tensorflow/core/grappler/optimizers/custom_graph_optimizer_registry.cc:112] Plugin optimizer for device_type GPU is enabled.\n"
     ]
    },
    {
     "name": "stdout",
     "output_type": "stream",
     "text": [
      "9/9 [==============================] - ETA: 0s - loss: 1.2608 - acc: 0.5311"
     ]
    },
    {
     "name": "stderr",
     "output_type": "stream",
     "text": [
      "2022-06-15 16:01:28.739336: I tensorflow/core/grappler/optimizers/custom_graph_optimizer_registry.cc:112] Plugin optimizer for device_type GPU is enabled.\n"
     ]
    },
    {
     "name": "stdout",
     "output_type": "stream",
     "text": [
      "9/9 [==============================] - 21s 2s/step - loss: 1.2608 - acc: 0.5311 - val_loss: 732.3392 - val_acc: 0.5574\n",
      "Epoch 2/15\n",
      "9/9 [==============================] - 17s 2s/step - loss: 0.7677 - acc: 0.6154 - val_loss: 117.2024 - val_acc: 0.5082\n",
      "Epoch 3/15\n",
      "9/9 [==============================] - 17s 2s/step - loss: 0.6928 - acc: 0.6410 - val_loss: 64.6458 - val_acc: 0.5082\n",
      "Epoch 4/15\n",
      "9/9 [==============================] - 17s 2s/step - loss: 0.6097 - acc: 0.6923 - val_loss: 17.4339 - val_acc: 0.5738\n",
      "Epoch 5/15\n",
      "9/9 [==============================] - 17s 2s/step - loss: 0.4518 - acc: 0.8095 - val_loss: 11.5462 - val_acc: 0.6557\n",
      "Epoch 6/15\n",
      "9/9 [==============================] - 17s 2s/step - loss: 0.4371 - acc: 0.8022 - val_loss: 4.9653 - val_acc: 0.6557\n",
      "Epoch 7/15\n",
      "9/9 [==============================] - 16s 2s/step - loss: 0.3635 - acc: 0.8388 - val_loss: 3.2380 - val_acc: 0.6885\n",
      "Epoch 8/15\n",
      "9/9 [==============================] - 16s 2s/step - loss: 0.3274 - acc: 0.8718 - val_loss: 1.3401 - val_acc: 0.8689\n",
      "Epoch 9/15\n",
      "9/9 [==============================] - 17s 2s/step - loss: 0.2238 - acc: 0.9194 - val_loss: 1.4374 - val_acc: 0.9180\n",
      "Epoch 10/15\n",
      "9/9 [==============================] - 16s 2s/step - loss: 0.1644 - acc: 0.9304 - val_loss: 0.7861 - val_acc: 0.9508\n",
      "Epoch 11/15\n",
      "9/9 [==============================] - 17s 2s/step - loss: 0.2046 - acc: 0.9231 - val_loss: 0.2216 - val_acc: 0.9508\n",
      "Epoch 12/15\n",
      "9/9 [==============================] - 16s 2s/step - loss: 0.2332 - acc: 0.9158 - val_loss: 0.2266 - val_acc: 0.9508\n",
      "Epoch 13/15\n",
      "9/9 [==============================] - 17s 2s/step - loss: 0.1940 - acc: 0.9304 - val_loss: 0.3641 - val_acc: 0.9508\n",
      "Epoch 14/15\n",
      "9/9 [==============================] - 17s 2s/step - loss: 0.1528 - acc: 0.9414 - val_loss: 0.5805 - val_acc: 0.9508\n",
      "Epoch 15/15\n",
      "9/9 [==============================] - 17s 2s/step - loss: 0.1534 - acc: 0.9451 - val_loss: 0.2939 - val_acc: 0.9180\n"
     ]
    }
   ],
   "source": [
    "# Fit the model\n",
    "\n",
    "history = model.fit(train_generator,\n",
    "                    epochs=NUM_EPOCHS,\n",
    "                    validation_data=val_generator)"
   ]
  },
  {
   "cell_type": "markdown",
   "id": "e07c7169",
   "metadata": {},
   "source": [
    "## Evaluate Model\n",
    "\n",
    "### Architecture"
   ]
  },
  {
   "cell_type": "code",
   "execution_count": 17,
   "id": "07c65b38",
   "metadata": {},
   "outputs": [
    {
     "name": "stdout",
     "output_type": "stream",
     "text": [
      "Model: \"sequential\"\n",
      "_________________________________________________________________\n",
      " Layer (type)                Output Shape              Param #   \n",
      "=================================================================\n",
      " resizing (Resizing)         (None, 224, 224, None)    0         \n",
      "                                                                 \n",
      " resnet50 (Functional)       (None, 7, 7, 2048)        23587712  \n",
      "                                                                 \n",
      " flatten (Flatten)           (None, 100352)            0         \n",
      "                                                                 \n",
      " dense (Dense)               (None, 512)               51380736  \n",
      "                                                                 \n",
      " dropout (Dropout)           (None, 512)               0         \n",
      "                                                                 \n",
      " batch_normalization (BatchN  (None, 512)              2048      \n",
      " ormalization)                                                   \n",
      "                                                                 \n",
      " dense_1 (Dense)             (None, 256)               131328    \n",
      "                                                                 \n",
      " dropout_1 (Dropout)         (None, 256)               0         \n",
      "                                                                 \n",
      " batch_normalization_1 (Batc  (None, 256)              1024      \n",
      " hNormalization)                                                 \n",
      "                                                                 \n",
      " dense_2 (Dense)             (None, 128)               32896     \n",
      "                                                                 \n",
      " dropout_2 (Dropout)         (None, 128)               0         \n",
      "                                                                 \n",
      " batch_normalization_2 (Batc  (None, 128)              512       \n",
      " hNormalization)                                                 \n",
      "                                                                 \n",
      " dense_3 (Dense)             (None, 64)                8256      \n",
      "                                                                 \n",
      " dropout_3 (Dropout)         (None, 64)                0         \n",
      "                                                                 \n",
      " batch_normalization_3 (Batc  (None, 64)               256       \n",
      " hNormalization)                                                 \n",
      "                                                                 \n",
      " dense_4 (Dense)             (None, 2)                 130       \n",
      "                                                                 \n",
      "=================================================================\n",
      "Total params: 75,144,898\n",
      "Trainable params: 51,555,266\n",
      "Non-trainable params: 23,589,632\n",
      "_________________________________________________________________\n"
     ]
    }
   ],
   "source": [
    "model.summary()"
   ]
  },
  {
   "cell_type": "code",
   "execution_count": 18,
   "id": "324587c7",
   "metadata": {},
   "outputs": [
    {
     "data": {
      "image/png": "[encoded data removed]",
      "text/plain": [
       "<Figure size 432x288 with 1 Axes>"
      ]
     },
     "metadata": {
      "needs_background": "light"
     },
     "output_type": "display_data"
    }
   ],
   "source": [
    "# Visualize loss curve\n",
    "\n",
    "losses = history.history['val_loss']\n",
    "plt.plot(losses)\n",
    "plt.xlabel('Training Step')\n",
    "plt.ylabel('Validation Cross Entropy Loss')\n",
    "plt.title('Validation Loss')\n",
    "plt.show()"
   ]
  },
  {
   "cell_type": "code",
   "execution_count": 19,
   "id": "396e04b1",
   "metadata": {},
   "outputs": [
    {
     "data": {
      "image/png": "[encoded data removed]",
      "text/plain": [
       "<Figure size 432x288 with 1 Axes>"
      ]
     },
     "metadata": {
      "needs_background": "light"
     },
     "output_type": "display_data"
    }
   ],
   "source": [
    "# Visualize accuracy\n",
    "\n",
    "losses = history.history['val_acc']\n",
    "plt.plot(losses)\n",
    "plt.xlabel('Training Step')\n",
    "plt.ylabel('Validation Accuracy')\n",
    "plt.title('Validation Accuracy')\n",
    "plt.show()"
   ]
  },
  {
   "cell_type": "code",
   "execution_count": 20,
   "id": "15e11e1d",
   "metadata": {},
   "outputs": [
    {
     "data": {
      "text/html": [
       "<div>\n",
       "<style scoped>\n",
       "    .dataframe tbody tr th:only-of-type {\n",
       "        vertical-align: middle;\n",
       "    }\n",
       "\n",
       "    .dataframe tbody tr th {\n",
       "        vertical-align: top;\n",
       "    }\n",
       "\n",
       "    .dataframe thead th {\n",
       "        text-align: right;\n",
       "    }\n",
       "</style>\n",
       "<table border=\"1\" class=\"dataframe\">\n",
       "  <thead>\n",
       "    <tr style=\"text-align: right;\">\n",
       "      <th></th>\n",
       "      <th>loss</th>\n",
       "      <th>acc</th>\n",
       "      <th>val_loss</th>\n",
       "      <th>val_acc</th>\n",
       "    </tr>\n",
       "  </thead>\n",
       "  <tbody>\n",
       "    <tr>\n",
       "      <th>0</th>\n",
       "      <td>1.260844</td>\n",
       "      <td>0.531136</td>\n",
       "      <td>732.339172</td>\n",
       "      <td>0.557377</td>\n",
       "    </tr>\n",
       "    <tr>\n",
       "      <th>1</th>\n",
       "      <td>0.767656</td>\n",
       "      <td>0.615385</td>\n",
       "      <td>117.202438</td>\n",
       "      <td>0.508197</td>\n",
       "    </tr>\n",
       "    <tr>\n",
       "      <th>2</th>\n",
       "      <td>0.692809</td>\n",
       "      <td>0.641026</td>\n",
       "      <td>64.645821</td>\n",
       "      <td>0.508197</td>\n",
       "    </tr>\n",
       "    <tr>\n",
       "      <th>3</th>\n",
       "      <td>0.609692</td>\n",
       "      <td>0.692308</td>\n",
       "      <td>17.433874</td>\n",
       "      <td>0.573771</td>\n",
       "    </tr>\n",
       "    <tr>\n",
       "      <th>4</th>\n",
       "      <td>0.451766</td>\n",
       "      <td>0.809524</td>\n",
       "      <td>11.546233</td>\n",
       "      <td>0.655738</td>\n",
       "    </tr>\n",
       "    <tr>\n",
       "      <th>5</th>\n",
       "      <td>0.437102</td>\n",
       "      <td>0.802198</td>\n",
       "      <td>4.965349</td>\n",
       "      <td>0.655738</td>\n",
       "    </tr>\n",
       "    <tr>\n",
       "      <th>6</th>\n",
       "      <td>0.363469</td>\n",
       "      <td>0.838828</td>\n",
       "      <td>3.238041</td>\n",
       "      <td>0.688525</td>\n",
       "    </tr>\n",
       "    <tr>\n",
       "      <th>7</th>\n",
       "      <td>0.327429</td>\n",
       "      <td>0.871795</td>\n",
       "      <td>1.340139</td>\n",
       "      <td>0.868852</td>\n",
       "    </tr>\n",
       "    <tr>\n",
       "      <th>8</th>\n",
       "      <td>0.223773</td>\n",
       "      <td>0.919414</td>\n",
       "      <td>1.437438</td>\n",
       "      <td>0.918033</td>\n",
       "    </tr>\n",
       "    <tr>\n",
       "      <th>9</th>\n",
       "      <td>0.164384</td>\n",
       "      <td>0.930403</td>\n",
       "      <td>0.786063</td>\n",
       "      <td>0.950820</td>\n",
       "    </tr>\n",
       "    <tr>\n",
       "      <th>10</th>\n",
       "      <td>0.204561</td>\n",
       "      <td>0.923077</td>\n",
       "      <td>0.221638</td>\n",
       "      <td>0.950820</td>\n",
       "    </tr>\n",
       "    <tr>\n",
       "      <th>11</th>\n",
       "      <td>0.233212</td>\n",
       "      <td>0.915751</td>\n",
       "      <td>0.226584</td>\n",
       "      <td>0.950820</td>\n",
       "    </tr>\n",
       "    <tr>\n",
       "      <th>12</th>\n",
       "      <td>0.193967</td>\n",
       "      <td>0.930403</td>\n",
       "      <td>0.364052</td>\n",
       "      <td>0.950820</td>\n",
       "    </tr>\n",
       "    <tr>\n",
       "      <th>13</th>\n",
       "      <td>0.152779</td>\n",
       "      <td>0.941392</td>\n",
       "      <td>0.580476</td>\n",
       "      <td>0.950820</td>\n",
       "    </tr>\n",
       "    <tr>\n",
       "      <th>14</th>\n",
       "      <td>0.153370</td>\n",
       "      <td>0.945055</td>\n",
       "      <td>0.293880</td>\n",
       "      <td>0.918033</td>\n",
       "    </tr>\n",
       "  </tbody>\n",
       "</table>\n",
       "</div>"
      ],
      "text/plain": [
       "        loss       acc    val_loss   val_acc\n",
       "0   1.260844  0.531136  732.339172  0.557377\n",
       "1   0.767656  0.615385  117.202438  0.508197\n",
       "2   0.692809  0.641026   64.645821  0.508197\n",
       "3   0.609692  0.692308   17.433874  0.573771\n",
       "4   0.451766  0.809524   11.546233  0.655738\n",
       "5   0.437102  0.802198    4.965349  0.655738\n",
       "6   0.363469  0.838828    3.238041  0.688525\n",
       "7   0.327429  0.871795    1.340139  0.868852\n",
       "8   0.223773  0.919414    1.437438  0.918033\n",
       "9   0.164384  0.930403    0.786063  0.950820\n",
       "10  0.204561  0.923077    0.221638  0.950820\n",
       "11  0.233212  0.915751    0.226584  0.950820\n",
       "12  0.193967  0.930403    0.364052  0.950820\n",
       "13  0.152779  0.941392    0.580476  0.950820\n",
       "14  0.153370  0.945055    0.293880  0.918033"
      ]
     },
     "execution_count": 20,
     "metadata": {},
     "output_type": "execute_result"
    }
   ],
   "source": [
    "# Table of history\n",
    "\n",
    "hist_df = pd.DataFrame(history.history)\n",
    "hist_df"
   ]
  },
  {
   "cell_type": "code",
   "execution_count": 21,
   "id": "82cf2209",
   "metadata": {},
   "outputs": [
    {
     "name": "stderr",
     "output_type": "stream",
     "text": [
      "/Users/johngalvin/miniforge3/lib/python3.9/site-packages/keras/engine/functional.py:1410: CustomMaskWarning: Custom mask layers require a config and must override get_config. When loading, the custom mask layer must be passed to the custom_objects argument.\n",
      "  layer_config = serialize_layer_fn(layer)\n"
     ]
    }
   ],
   "source": [
    "model.save(\"/Users/johngalvin/Desktop/GitHub/Tensorflow/workspace/Lucy-Classification/models/model.h5\")"
   ]
  },
  {
   "cell_type": "markdown",
   "id": "60829ed0",
   "metadata": {},
   "source": [
    "### Prepare Test Set"
   ]
  },
  {
   "cell_type": "code",
   "execution_count": 22,
   "id": "fb33d8ff",
   "metadata": {},
   "outputs": [
    {
     "name": "stdout",
     "output_type": "stream",
     "text": [
      "Found 24 images belonging to 2 classes.\n"
     ]
    }
   ],
   "source": [
    "# Preprocess the test images to expected shape\n",
    "\n",
    "test_datagen = ImageDataGenerator(preprocessing_function=preprocess_input)\n",
    "\n",
    "test_generator = test_datagen.flow_from_directory(\"../images/test/\",\n",
    "                                                    target_size=IMG_SIZE,\n",
    "                                                    batch_size=1,\n",
    "                                                    shuffle=True,\n",
    "                                                    class_mode=\"categorical\")"
   ]
  },
  {
   "cell_type": "markdown",
   "id": "91a2a797",
   "metadata": {},
   "source": [
    "### Test the Model"
   ]
  },
  {
   "cell_type": "code",
   "execution_count": 23,
   "id": "d510c690",
   "metadata": {},
   "outputs": [
    {
     "name": "stderr",
     "output_type": "stream",
     "text": [
      "2022-06-15 16:05:59.358601: I tensorflow/core/grappler/optimizers/custom_graph_optimizer_registry.cc:112] Plugin optimizer for device_type GPU is enabled.\n"
     ]
    }
   ],
   "source": [
    "# Generate predictions\n",
    "\n",
    "tf.keras.backend.clear_session()\n",
    "model = load_model(\"/Users/johngalvin/Desktop/GitHub/Tensorflow/workspace/Lucy-Classification/models/model.h5\")\n",
    "predictions = model.predict(test_generator)"
   ]
  },
  {
   "cell_type": "code",
   "execution_count": 24,
   "id": "56beb7b8",
   "metadata": {},
   "outputs": [
    {
     "name": "stderr",
     "output_type": "stream",
     "text": [
      "2022-06-15 16:06:03.120948: I tensorflow/core/grappler/optimizers/custom_graph_optimizer_registry.cc:112] Plugin optimizer for device_type GPU is enabled.\n"
     ]
    },
    {
     "name": "stdout",
     "output_type": "stream",
     "text": [
      "24/24 [==============================] - 2s 51ms/step - loss: 0.1695 - acc: 0.9583\n"
     ]
    },
    {
     "data": {
      "text/plain": [
       "[0.16945992410182953, 0.9583333730697632]"
      ]
     },
     "execution_count": 24,
     "metadata": {},
     "output_type": "execute_result"
    }
   ],
   "source": [
    "# Evaluate model\n",
    "\n",
    "model.evaluate(test_generator)"
   ]
  },
  {
   "cell_type": "code",
   "execution_count": null,
   "id": "4a386439",
   "metadata": {},
   "outputs": [],
   "source": []
  }
 ],
 "metadata": {
  "kernelspec": {
   "display_name": "Python 3 (ipykernel)",
   "language": "python",
   "name": "python3"
  },
  "language_info": {
   "codemirror_mode": {
    "name": "ipython",
    "version": 3
   },
   "file_extension": ".py",
   "mimetype": "text/x-python",
   "name": "python",
   "nbconvert_exporter": "python",
   "pygments_lexer": "ipython3",
   "version": "3.9.7"
  }
 },
 "nbformat": 4,
 "nbformat_minor": 5
}
