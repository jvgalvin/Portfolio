{
 "cells": [
  {
   "cell_type": "markdown",
   "id": "4eb43659",
   "metadata": {},
   "source": [
    "# Option: Adding Pickup Locations\n",
    "\n",
    "## Context\n",
    "\n",
    "Adding more pickup locations may help to grow the customer base and increase the frequency at which customers purchase meals. This would necessarily entail renting or purchasing property and/or renovating space to open these additional pickup locations.\n",
    "\n",
    "Since the business would be considering longer term leases or purchases with potential costly renovations, we need to choose locations which are future proof.\n",
    "\n",
    "Locations near BART stations would be good choices because riders could easily pick up meals at or near the stations they travel through on the way to or from work.\n",
    "\n",
    "## Methodology\n",
    "\n",
    "We will use graph community detection algorithms to identify stations at/near which we could open new pickup locations. More specifically, we will examine degree centrality for each station, which indicates how well-connected (number of connections) each station is with the others. Additionally, we will examine betweenness centrality, which indicates the number of paths that pass through each station. Finally, we will examine each stations PageRank, which indicates how influential that station is within the overall BART network.\n",
    "\n",
    "In order to select which stations would be good candidates, we will:\n",
    "\n",
    "* Identify which stations have higher measures on all of the dimensions listed above compared to the Downtown Berkeley station (current pickup location). We are assuming that higher measures on these dimensions relative to Downtown Berkeley are indicative of higher sales.\n",
    "* Identify stations that have low betweenness, but dense surrounding populations. These stations are likely to be at the ends of the BART lines, which will enable us to expand further into the suburbs to capture marketshare from commuters to/from the Peninsula, South Bay, etc.\n",
    "* Identify stations that have the densest surrounding populations. These stations are likely to be within San Francisco, which would enable us to expand into the Peninsula and capture customers who may not even ride on BART."
   ]
  },
  {
   "cell_type": "markdown",
   "id": "44340014",
   "metadata": {},
   "source": [
    "## Included Modules and Packages"
   ]
  },
  {
   "cell_type": "code",
   "execution_count": 1,
   "id": "e0a0bd2d",
   "metadata": {},
   "outputs": [],
   "source": [
    "import neo4j\n",
    "\n",
    "import csv\n",
    "\n",
    "import math\n",
    "import numpy as np\n",
    "import pandas as pd\n",
    "\n",
    "import psycopg2\n",
    "from geographiclib.geodesic import Geodesic\n",
    "\n",
    "import warnings\n",
    "warnings.filterwarnings(\"ignore\")"
   ]
  },
  {
   "cell_type": "markdown",
   "id": "55b19bbe",
   "metadata": {},
   "source": [
    "## Supporting Code"
   ]
  },
  {
   "cell_type": "code",
   "execution_count": 2,
   "id": "64312107",
   "metadata": {},
   "outputs": [],
   "source": [
    "driver = neo4j.GraphDatabase.driver(uri=\"neo4j://neo4j:7687\", auth=(\"neo4j\",\"w205\"))"
   ]
  },
  {
   "cell_type": "code",
   "execution_count": 3,
   "id": "fb5bc5cd",
   "metadata": {},
   "outputs": [],
   "source": [
    "session = driver.session(database=\"neo4j\")"
   ]
  },
  {
   "cell_type": "code",
   "execution_count": 4,
   "id": "1ce9ee78",
   "metadata": {},
   "outputs": [],
   "source": [
    "connection = psycopg2.connect(\n",
    "    user = \"postgres\",\n",
    "    password = \"ucb\",\n",
    "    host = \"postgres\",\n",
    "    port = \"5432\",\n",
    "    database = \"postgres\"\n",
    ")"
   ]
  },
  {
   "cell_type": "code",
   "execution_count": 5,
   "id": "1708d66e",
   "metadata": {},
   "outputs": [],
   "source": [
    "cursor = connection.cursor()"
   ]
  },
  {
   "cell_type": "code",
   "execution_count": 6,
   "id": "140159dc",
   "metadata": {},
   "outputs": [],
   "source": [
    "# function to run a select query and return rows in a pandas dataframe\n",
    "# pandas puts all numeric values from postgres to float\n",
    "# if it will fit in an integer, change it to integer\n",
    "\n",
    "def my_select_query_pandas(query, rollback_before_flag, rollback_after_flag):\n",
    "    \"function to run a select query and return rows in a pandas dataframe\"\n",
    "    \n",
    "    if rollback_before_flag:\n",
    "        connection.rollback()\n",
    "    \n",
    "    df = pd.read_sql_query(query, connection)\n",
    "    \n",
    "    if rollback_after_flag:\n",
    "        connection.rollback()\n",
    "    \n",
    "    # fix the float columns that really should be integers\n",
    "    \n",
    "    for column in df:\n",
    "    \n",
    "        if df[column].dtype == \"float64\":\n",
    "\n",
    "            fraction_flag = False\n",
    "\n",
    "            for value in df[column].values:\n",
    "                \n",
    "                if not np.isnan(value):\n",
    "                    if value - math.floor(value) != 0:\n",
    "                        fraction_flag = True\n",
    "\n",
    "            if not fraction_flag:\n",
    "                df[column] = df[column].astype('Int64')\n",
    "    \n",
    "    return(df)"
   ]
  },
  {
   "cell_type": "code",
   "execution_count": 7,
   "id": "6cacfe07",
   "metadata": {},
   "outputs": [],
   "source": [
    "def my_calculate_box(point, miles):\n",
    "    \"Given a point and miles, calculate the box in form left, right, top, bottom\"\n",
    "    \n",
    "    geod = Geodesic.WGS84\n",
    "\n",
    "    kilometers = miles * 1.60934\n",
    "    meters = kilometers * 1000\n",
    "\n",
    "    g = geod.Direct(point[0], point[1], 270, meters)\n",
    "    left = (g['lat2'], g['lon2'])\n",
    "\n",
    "    g = geod.Direct(point[0], point[1], 90, meters)\n",
    "    right = (g['lat2'], g['lon2'])\n",
    "\n",
    "    g = geod.Direct(point[0], point[1], 0, meters)\n",
    "    top = (g['lat2'], g['lon2'])\n",
    "\n",
    "    g = geod.Direct(point[0], point[1], 180, meters)\n",
    "    bottom = (g['lat2'], g['lon2'])\n",
    "    \n",
    "    return(left, right, top, bottom)"
   ]
  },
  {
   "cell_type": "code",
   "execution_count": 42,
   "id": "86de8814",
   "metadata": {},
   "outputs": [],
   "source": [
    "def my_station_get_zips(station, miles):\n",
    "    \"given a station, pull all zip codes with miles distance, print them, sum the population\"\n",
    "    \n",
    "    connection.rollback()\n",
    "    \n",
    "    query = \"select latitude, longitude from stations \"\n",
    "    query += \"where station = '\" + station + \"'\"\n",
    "    \n",
    "    cursor.execute(query)\n",
    "    \n",
    "    connection.rollback()\n",
    "    \n",
    "    rows = cursor.fetchall()\n",
    "    \n",
    "    for row in rows:\n",
    "        latitude = row[0]\n",
    "        longitude = row[1]\n",
    "        \n",
    "    point = (latitude, longitude)\n",
    "        \n",
    "    (left, right, top, bottom) = my_calculate_box(point, miles)\n",
    "    \n",
    "    query = \"select zip, population from zip_codes \"\n",
    "    query += \" where latitude >= \" + str(bottom[0])\n",
    "    query += \" and latitude <= \" + str(top [0])\n",
    "    query += \" and longitude >= \" + str(left[1])\n",
    "    query += \" and longitude <= \" + str(right[1])\n",
    "    query += \" order by 1 \"\n",
    "\n",
    "    cursor.execute(query)\n",
    "    \n",
    "    connection.rollback()\n",
    "    \n",
    "    rows = cursor.fetchall()\n",
    "    \n",
    "    total_population = 0\n",
    "    \n",
    "    for row in rows:\n",
    "        zip, population = row[0], row[1]\n",
    "        total_population += population\n",
    "    return float(total_population)    "
   ]
  },
  {
   "cell_type": "code",
   "execution_count": 43,
   "id": "6f72d28c",
   "metadata": {},
   "outputs": [],
   "source": [
    "def cleanse_stations(df):\n",
    "    \"\"\"Returns a data frame with unique station names cleansed of line(s) and depart, arrive\"\"\"\n",
    "    \n",
    "    words = [\"blue\", \"green\", \"orange\", \"red\", \"yellow\", \"orange\", \"gray\", \"depart\", \"arrive\"]\n",
    "    regex_pattern = r'\\b(?:{})\\b'.format('|'.join(words))\n",
    "    df[\"name\"] = df[\"name\"].str.replace(regex_pattern, '')\n",
    "    return df"
   ]
  },
  {
   "cell_type": "code",
   "execution_count": 44,
   "id": "282d5594",
   "metadata": {},
   "outputs": [],
   "source": [
    "def my_neo4j_run_query_pandas(query, **kwargs):\n",
    "    \"run a query and return the results in a pandas dataframe\"\n",
    "    \n",
    "    result = session.run(query, **kwargs)\n",
    "    \n",
    "    df = pd.DataFrame([r.values() for r in result], columns=result.keys())\n",
    "    \n",
    "    return df"
   ]
  },
  {
   "cell_type": "markdown",
   "id": "2fa573c5",
   "metadata": {},
   "source": [
    "## Generate Data Frame for Analysis"
   ]
  },
  {
   "cell_type": "code",
   "execution_count": 45,
   "id": "7c6b88dd",
   "metadata": {},
   "outputs": [],
   "source": [
    "rollback_before_flag = True\n",
    "rollback_after_flag = True\n",
    "\n",
    "query = \"\"\"\n",
    "\n",
    "select station\n",
    "from stations\n",
    "order by station\n",
    "\n",
    "\"\"\"\n",
    "\n",
    "df = my_select_query_pandas(query, rollback_before_flag, rollback_after_flag)"
   ]
  },
  {
   "cell_type": "markdown",
   "id": "01dcf0bb",
   "metadata": {},
   "source": [
    "##### Add population within 5 miles of the station. Based on prior analysis, we found that customers who sign up for delivery live within 5 miles."
   ]
  },
  {
   "cell_type": "code",
   "execution_count": 46,
   "id": "22b7b945",
   "metadata": {},
   "outputs": [],
   "source": [
    "df[\"pop_5\"] = [my_station_get_zips(station, 5) for station in df[\"station\"]]"
   ]
  },
  {
   "cell_type": "markdown",
   "id": "08151a4f",
   "metadata": {},
   "source": [
    "##### Add degree centrality, which measures the number of incoming and outgoing connections. High degree centrality indicates that the station connects with many others."
   ]
  },
  {
   "cell_type": "code",
   "execution_count": 47,
   "id": "6b89f170",
   "metadata": {},
   "outputs": [],
   "source": [
    "# Degree centrality for the connected graph\n",
    "\n",
    "query = \"\"\"\n",
    "\n",
    "CALL gds.degree.stream('ds_graph')\n",
    "YIELD nodeId, score\n",
    "RETURN gds.util.asNode(nodeId).name AS name, score as degree\n",
    "ORDER BY degree DESC, name\n",
    "\n",
    "\"\"\"\n",
    "\n",
    "deg_df = my_neo4j_run_query_pandas(query)"
   ]
  },
  {
   "cell_type": "code",
   "execution_count": 48,
   "id": "0f27cb80",
   "metadata": {},
   "outputs": [],
   "source": [
    "# Remove the line and depart / arrive designations\n",
    "\n",
    "deg_df = cleanse_stations(deg_df)\n",
    "\n",
    "# Keep the entry for each station with the maximum degree centrality\n",
    "\n",
    "deg_df = deg_df.groupby([\"name\"])[\"degree\"].max()\n",
    "deg_df = deg_df.to_frame()\n",
    "\n",
    "# Add degree centrality to df\n",
    "\n",
    "df.set_index(\"station\", inplace=True)\n",
    "df[\"degree_centrality\"] = deg_df[\"degree\"].values"
   ]
  },
  {
   "cell_type": "markdown",
   "id": "bd075b0c",
   "metadata": {},
   "source": [
    "##### Add betweenness centrality, which measures the number of paths which pass through a node (station). High betweenness centrality for a station indicates a high number of paths which pass through that station."
   ]
  },
  {
   "cell_type": "code",
   "execution_count": 49,
   "id": "c24cd811",
   "metadata": {},
   "outputs": [],
   "source": [
    "# Betweenness centrality\n",
    "\n",
    "query = \"\"\"\n",
    "\n",
    "CALL gds.betweenness.stream('ds_graph')\n",
    "YIELD nodeId, score\n",
    "RETURN gds.util.asNode(nodeId).name AS name, score as betweenness\n",
    "ORDER BY betweenness DESC\n",
    "\n",
    "\"\"\"\n",
    "\n",
    "bet_df = my_neo4j_run_query_pandas(query)"
   ]
  },
  {
   "cell_type": "code",
   "execution_count": 50,
   "id": "01a4f15d",
   "metadata": {},
   "outputs": [],
   "source": [
    "# Remove the line and depart / arrive designations\n",
    "\n",
    "bet_df = cleanse_stations(bet_df)\n",
    "\n",
    "# Keep the entry for each station with the maximum betweenness centrality\n",
    "\n",
    "bet_df = bet_df.groupby([\"name\"])[\"betweenness\"].max()\n",
    "bet_df = bet_df.to_frame()\n",
    "\n",
    "# Add degree centrality to df\n",
    "\n",
    "df[\"bet_centrality\"] = bet_df[\"betweenness\"].values"
   ]
  },
  {
   "cell_type": "markdown",
   "id": "de1bba11",
   "metadata": {},
   "source": [
    "##### Add PageRank for each station, which measures the influence of that station in the graph. High PageRank indicates an influential station in the BART map."
   ]
  },
  {
   "cell_type": "code",
   "execution_count": 51,
   "id": "b4f0bb62",
   "metadata": {},
   "outputs": [],
   "source": [
    "# PageRank for each station\n",
    "\n",
    "query = \"\"\"\n",
    "\n",
    "CALL gds.pageRank.stream('ds_graph',\n",
    "                         { maxIterations: $max_iterations,\n",
    "                           dampingFactor: $damping_factor}\n",
    "                         )\n",
    "YIELD nodeId, score\n",
    "RETURN gds.util.asNode(nodeId).name AS name, score as page_rank\n",
    "ORDER BY page_rank DESC, name ASC\n",
    "\n",
    "\"\"\"\n",
    "\n",
    "max_iterations = 20\n",
    "damping_factor = 0.05\n",
    "\n",
    "pr_df = my_neo4j_run_query_pandas(query, max_iterations=max_iterations, damping_factor=damping_factor)"
   ]
  },
  {
   "cell_type": "code",
   "execution_count": 52,
   "id": "c38f3558",
   "metadata": {},
   "outputs": [],
   "source": [
    "# Remove the line and depart / arrive designations\n",
    "\n",
    "pr_df = cleanse_stations(pr_df)\n",
    "\n",
    "# Keep the entry for each station with the maximum page rank\n",
    "\n",
    "pr_df = pr_df.groupby([\"name\"])[\"page_rank\"].max()\n",
    "pr_df = pr_df.to_frame()\n",
    "\n",
    "# Add degree centrality to df\n",
    "\n",
    "df[\"page_rank\"] = pr_df[\"page_rank\"].values"
   ]
  },
  {
   "cell_type": "markdown",
   "id": "47751f54",
   "metadata": {},
   "source": [
    "## Analysis"
   ]
  },
  {
   "cell_type": "code",
   "execution_count": 53,
   "id": "fd9a370b",
   "metadata": {},
   "outputs": [
    {
     "data": {
      "text/html": [
       "<div>\n",
       "<style scoped>\n",
       "    .dataframe tbody tr th:only-of-type {\n",
       "        vertical-align: middle;\n",
       "    }\n",
       "\n",
       "    .dataframe tbody tr th {\n",
       "        vertical-align: top;\n",
       "    }\n",
       "\n",
       "    .dataframe thead th {\n",
       "        text-align: right;\n",
       "    }\n",
       "</style>\n",
       "<table border=\"1\" class=\"dataframe\">\n",
       "  <thead>\n",
       "    <tr style=\"text-align: right;\">\n",
       "      <th></th>\n",
       "      <th>pop_5</th>\n",
       "      <th>degree_centrality</th>\n",
       "      <th>bet_centrality</th>\n",
       "      <th>page_rank</th>\n",
       "    </tr>\n",
       "  </thead>\n",
       "  <tbody>\n",
       "    <tr>\n",
       "      <th>count</th>\n",
       "      <td>50.000000</td>\n",
       "      <td>50.000000</td>\n",
       "      <td>50.000000</td>\n",
       "      <td>50.000000</td>\n",
       "    </tr>\n",
       "    <tr>\n",
       "      <th>mean</th>\n",
       "      <td>468471.800000</td>\n",
       "      <td>4.160000</td>\n",
       "      <td>2505.701251</td>\n",
       "      <td>1.014235</td>\n",
       "    </tr>\n",
       "    <tr>\n",
       "      <th>std</th>\n",
       "      <td>228075.111885</td>\n",
       "      <td>1.251285</td>\n",
       "      <td>1600.224563</td>\n",
       "      <td>0.010822</td>\n",
       "    </tr>\n",
       "    <tr>\n",
       "      <th>min</th>\n",
       "      <td>152632.000000</td>\n",
       "      <td>2.000000</td>\n",
       "      <td>179.812881</td>\n",
       "      <td>1.003167</td>\n",
       "    </tr>\n",
       "    <tr>\n",
       "      <th>25%</th>\n",
       "      <td>305343.000000</td>\n",
       "      <td>3.000000</td>\n",
       "      <td>1142.577500</td>\n",
       "      <td>1.005570</td>\n",
       "    </tr>\n",
       "    <tr>\n",
       "      <th>50%</th>\n",
       "      <td>447007.500000</td>\n",
       "      <td>4.000000</td>\n",
       "      <td>2435.005109</td>\n",
       "      <td>1.011688</td>\n",
       "    </tr>\n",
       "    <tr>\n",
       "      <th>75%</th>\n",
       "      <td>543847.250000</td>\n",
       "      <td>5.000000</td>\n",
       "      <td>3570.709287</td>\n",
       "      <td>1.016111</td>\n",
       "    </tr>\n",
       "    <tr>\n",
       "      <th>max</th>\n",
       "      <td>989138.000000</td>\n",
       "      <td>6.000000</td>\n",
       "      <td>5999.809223</td>\n",
       "      <td>1.040071</td>\n",
       "    </tr>\n",
       "  </tbody>\n",
       "</table>\n",
       "</div>"
      ],
      "text/plain": [
       "               pop_5  degree_centrality  bet_centrality  page_rank\n",
       "count      50.000000          50.000000       50.000000  50.000000\n",
       "mean   468471.800000           4.160000     2505.701251   1.014235\n",
       "std    228075.111885           1.251285     1600.224563   0.010822\n",
       "min    152632.000000           2.000000      179.812881   1.003167\n",
       "25%    305343.000000           3.000000     1142.577500   1.005570\n",
       "50%    447007.500000           4.000000     2435.005109   1.011688\n",
       "75%    543847.250000           5.000000     3570.709287   1.016111\n",
       "max    989138.000000           6.000000     5999.809223   1.040071"
      ]
     },
     "execution_count": 53,
     "metadata": {},
     "output_type": "execute_result"
    }
   ],
   "source": [
    "df.describe()"
   ]
  },
  {
   "cell_type": "code",
   "execution_count": 54,
   "id": "4f491bc4",
   "metadata": {},
   "outputs": [],
   "source": [
    "# Create values for Downtown Berkeley\n",
    "\n",
    "berk_pop_5 = df.loc[df.index == \"Downtown Berkeley\", \"pop_5\"][0]\n",
    "berk_deg_cent = df.loc[df.index == \"Downtown Berkeley\", \"degree_centrality\"][0]\n",
    "berk_bet_cent = df.loc[df.index == \"Downtown Berkeley\", \"bet_centrality\"][0]\n",
    "berk_page_rank = df.loc[df.index == \"Downtown Berkeley\", \"page_rank\"][0]"
   ]
  },
  {
   "cell_type": "markdown",
   "id": "826189a8",
   "metadata": {},
   "source": [
    "#### Which stations have higher values on all measures than Downtown Berkeley?\n",
    "\n",
    "Only 3 stations score higher than Downtown Berkeley on all measures - Bay Fair, Coliseum, and MacArthur. These are all East Bay stores and are relatively close to one another. It would make sense to open a pickup location near one of these stations - likely Coliseum given its proximity to the OAK airport and its location between Bay Fair and MacArthur.\n",
    "\n",
    "Potential customers could pick up meals not only on their way home from work, but also on their way home from the airport. This could be especially appealing to people who travel for work frequently, like consultants. Additionally, these stations are located in densely populated areas. Given our record during the POC with Peak Deliveries, we could always use a delivery option with the new store as the base from which to deliver as a backup if we found that customers did not pick up meals from our Coliseum station at the rate we foresee."
   ]
  },
  {
   "cell_type": "code",
   "execution_count": 55,
   "id": "725b12d7",
   "metadata": {},
   "outputs": [
    {
     "data": {
      "text/html": [
       "<div>\n",
       "<style scoped>\n",
       "    .dataframe tbody tr th:only-of-type {\n",
       "        vertical-align: middle;\n",
       "    }\n",
       "\n",
       "    .dataframe tbody tr th {\n",
       "        vertical-align: top;\n",
       "    }\n",
       "\n",
       "    .dataframe thead th {\n",
       "        text-align: right;\n",
       "    }\n",
       "</style>\n",
       "<table border=\"1\" class=\"dataframe\">\n",
       "  <thead>\n",
       "    <tr style=\"text-align: right;\">\n",
       "      <th></th>\n",
       "      <th>pop_5</th>\n",
       "      <th>degree_centrality</th>\n",
       "      <th>bet_centrality</th>\n",
       "      <th>page_rank</th>\n",
       "    </tr>\n",
       "    <tr>\n",
       "      <th>station</th>\n",
       "      <th></th>\n",
       "      <th></th>\n",
       "      <th></th>\n",
       "      <th></th>\n",
       "    </tr>\n",
       "  </thead>\n",
       "  <tbody>\n",
       "    <tr>\n",
       "      <th>Bay Fair</th>\n",
       "      <td>457901.0</td>\n",
       "      <td>5.0</td>\n",
       "      <td>3348.740208</td>\n",
       "      <td>1.013135</td>\n",
       "    </tr>\n",
       "    <tr>\n",
       "      <th>Coliseum</th>\n",
       "      <td>495903.0</td>\n",
       "      <td>6.0</td>\n",
       "      <td>4306.942363</td>\n",
       "      <td>1.012288</td>\n",
       "    </tr>\n",
       "    <tr>\n",
       "      <th>MacArthur</th>\n",
       "      <td>524629.0</td>\n",
       "      <td>5.0</td>\n",
       "      <td>5999.809223</td>\n",
       "      <td>1.013150</td>\n",
       "    </tr>\n",
       "  </tbody>\n",
       "</table>\n",
       "</div>"
      ],
      "text/plain": [
       "              pop_5  degree_centrality  bet_centrality  page_rank\n",
       "station                                                          \n",
       "Bay Fair   457901.0                5.0     3348.740208   1.013135\n",
       "Coliseum   495903.0                6.0     4306.942363   1.012288\n",
       "MacArthur  524629.0                5.0     5999.809223   1.013150"
      ]
     },
     "execution_count": 55,
     "metadata": {},
     "output_type": "execute_result"
    }
   ],
   "source": [
    "# Generate a data frame with values greater than Downtown Berkeley\n",
    "\n",
    "berk_df = df[(df[\"pop_5\"] > berk_pop_5) &\n",
    "        (df[\"degree_centrality\"] > berk_deg_cent) &\n",
    "        (df[\"bet_centrality\"] > berk_bet_cent) & \n",
    "        (df[\"page_rank\"] > berk_page_rank)]\n",
    "berk_df"
   ]
  },
  {
   "cell_type": "markdown",
   "id": "c4fb3abe",
   "metadata": {},
   "source": [
    "### Which locations would help us to expand further from East Bay?\n",
    "\n",
    "Looking for stations that have relatively low betweenness centrality but dense populations will help us to expand geographically further from the East Bay while still ensuring that we have an addressable market. The Berryessa station in particular shows promise given its role as a gateway to the South Bay.\n",
    "\n",
    "Commuters who live/work in the East Bay and South Bay that take BART must pass through Berryessa. Additionally, this is a relatively long commute, so the convenience of being able to pick up meals on the way home will likely appeal to these potential customers."
   ]
  },
  {
   "cell_type": "code",
   "execution_count": 22,
   "id": "d9bfdafa",
   "metadata": {
    "scrolled": true
   },
   "outputs": [
    {
     "data": {
      "text/html": [
       "<div>\n",
       "<style scoped>\n",
       "    .dataframe tbody tr th:only-of-type {\n",
       "        vertical-align: middle;\n",
       "    }\n",
       "\n",
       "    .dataframe tbody tr th {\n",
       "        vertical-align: top;\n",
       "    }\n",
       "\n",
       "    .dataframe thead th {\n",
       "        text-align: right;\n",
       "    }\n",
       "</style>\n",
       "<table border=\"1\" class=\"dataframe\">\n",
       "  <thead>\n",
       "    <tr style=\"text-align: right;\">\n",
       "      <th></th>\n",
       "      <th>pop_5</th>\n",
       "      <th>degree_centrality</th>\n",
       "      <th>bet_centrality</th>\n",
       "      <th>page_rank</th>\n",
       "    </tr>\n",
       "    <tr>\n",
       "      <th>station</th>\n",
       "      <th></th>\n",
       "      <th></th>\n",
       "      <th></th>\n",
       "      <th></th>\n",
       "    </tr>\n",
       "  </thead>\n",
       "  <tbody>\n",
       "    <tr>\n",
       "      <th>Berryessa</th>\n",
       "      <td>559010.0</td>\n",
       "      <td>3.0</td>\n",
       "      <td>179.812881</td>\n",
       "      <td>1.003167</td>\n",
       "    </tr>\n",
       "  </tbody>\n",
       "</table>\n",
       "</div>"
      ],
      "text/plain": [
       "              pop_5  degree_centrality  bet_centrality  page_rank\n",
       "station                                                          \n",
       "Berryessa  559010.0                3.0      179.812881   1.003167"
      ]
     },
     "execution_count": 22,
     "metadata": {},
     "output_type": "execute_result"
    }
   ],
   "source": [
    "edges_df = df[(df[\"bet_centrality\"] < df[\"bet_centrality\"].quantile(0.25)) &\n",
    "            (df[\"pop_5\"] > df[\"pop_5\"].quantile(0.75))]\n",
    "edges_df"
   ]
  },
  {
   "cell_type": "markdown",
   "id": "d952fbe9",
   "metadata": {},
   "source": [
    "### Which location(s) have the densest surrounding populations?\n",
    "\n",
    "The location with the densest surrounding population is 24th Street Mission. This location has the largest surrounding population (within 5 miles) of all BART stations, but fewer paths pass through this station compared to Powell Street.\n",
    "\n",
    "Opening a pickup location near the Powell Street station would help us to capture potential customers within San Francisco, even if those customers are not commuters. Depending on the success of opening a location here, we could then assess if opening another pickup location near the 24th Stree Mission station makes financial sense. "
   ]
  },
  {
   "cell_type": "code",
   "execution_count": 56,
   "id": "133a2ed5",
   "metadata": {},
   "outputs": [
    {
     "data": {
      "text/html": [
       "<div>\n",
       "<style scoped>\n",
       "    .dataframe tbody tr th:only-of-type {\n",
       "        vertical-align: middle;\n",
       "    }\n",
       "\n",
       "    .dataframe tbody tr th {\n",
       "        vertical-align: top;\n",
       "    }\n",
       "\n",
       "    .dataframe thead th {\n",
       "        text-align: right;\n",
       "    }\n",
       "</style>\n",
       "<table border=\"1\" class=\"dataframe\">\n",
       "  <thead>\n",
       "    <tr style=\"text-align: right;\">\n",
       "      <th></th>\n",
       "      <th>pop_5</th>\n",
       "      <th>degree_centrality</th>\n",
       "      <th>bet_centrality</th>\n",
       "      <th>page_rank</th>\n",
       "    </tr>\n",
       "    <tr>\n",
       "      <th>station</th>\n",
       "      <th></th>\n",
       "      <th></th>\n",
       "      <th></th>\n",
       "      <th></th>\n",
       "    </tr>\n",
       "  </thead>\n",
       "  <tbody>\n",
       "    <tr>\n",
       "      <th>24th Street Mission</th>\n",
       "      <td>989138.0</td>\n",
       "      <td>6.0</td>\n",
       "      <td>2829.403538</td>\n",
       "      <td>1.003696</td>\n",
       "    </tr>\n",
       "    <tr>\n",
       "      <th>Glen Park</th>\n",
       "      <td>986074.0</td>\n",
       "      <td>6.0</td>\n",
       "      <td>2637.248955</td>\n",
       "      <td>1.003709</td>\n",
       "    </tr>\n",
       "    <tr>\n",
       "      <th>Balboa Park</th>\n",
       "      <td>936912.0</td>\n",
       "      <td>6.0</td>\n",
       "      <td>2437.338289</td>\n",
       "      <td>1.005317</td>\n",
       "    </tr>\n",
       "    <tr>\n",
       "      <th>Powell Street</th>\n",
       "      <td>870044.0</td>\n",
       "      <td>6.0</td>\n",
       "      <td>3339.483800</td>\n",
       "      <td>1.003696</td>\n",
       "    </tr>\n",
       "    <tr>\n",
       "      <th>Civic Center</th>\n",
       "      <td>870044.0</td>\n",
       "      <td>6.0</td>\n",
       "      <td>3180.147417</td>\n",
       "      <td>1.003696</td>\n",
       "    </tr>\n",
       "  </tbody>\n",
       "</table>\n",
       "</div>"
      ],
      "text/plain": [
       "                        pop_5  degree_centrality  bet_centrality  page_rank\n",
       "station                                                                    \n",
       "24th Street Mission  989138.0                6.0     2829.403538   1.003696\n",
       "Glen Park            986074.0                6.0     2637.248955   1.003709\n",
       "Balboa Park          936912.0                6.0     2437.338289   1.005317\n",
       "Powell Street        870044.0                6.0     3339.483800   1.003696\n",
       "Civic Center         870044.0                6.0     3180.147417   1.003696"
      ]
     },
     "execution_count": 56,
     "metadata": {},
     "output_type": "execute_result"
    }
   ],
   "source": [
    "df.sort_values(\"pop_5\", ascending=False).head(5)"
   ]
  },
  {
   "cell_type": "code",
   "execution_count": null,
   "id": "7ed361d3",
   "metadata": {},
   "outputs": [],
   "source": []
  }
 ],
 "metadata": {
  "kernelspec": {
   "display_name": "Python 3",
   "language": "python",
   "name": "python3"
  },
  "language_info": {
   "codemirror_mode": {
    "name": "ipython",
    "version": 3
   },
   "file_extension": ".py",
   "mimetype": "text/x-python",
   "name": "python",
   "nbconvert_exporter": "python",
   "pygments_lexer": "ipython3",
   "version": "3.8.8"
  }
 },
 "nbformat": 4,
 "nbformat_minor": 5
}
