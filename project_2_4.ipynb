{
 "cells": [
  {
   "cell_type": "markdown",
   "id": "3f465500",
   "metadata": {},
   "source": [
    "# Project 2, Part 4, Validate data in the staging tables using SQL\n",
    "\n",
    "University of California, Berkeley\n",
    "\n",
    "Master of Information and Data Science (MIDS) program\n",
    "\n",
    "w205 - Fundamentals of Data Engineering\n",
    "\n",
    "Student:\n",
    "\n",
    "Year:\n",
    "\n",
    "Semester:\n",
    "\n",
    "Section:\n"
   ]
  },
  {
   "cell_type": "markdown",
   "id": "33c6e20e",
   "metadata": {},
   "source": [
    "# Included Modules and Packages\n",
    "\n",
    "Code cell containing your includes for modules and packages"
   ]
  },
  {
   "cell_type": "code",
   "execution_count": null,
   "id": "63839f89",
   "metadata": {},
   "outputs": [],
   "source": []
  },
  {
   "cell_type": "markdown",
   "id": "c91c8869",
   "metadata": {},
   "source": [
    "# Supporting code\n",
    "\n",
    "Code cells containing any supporting code, such as connecting to the database, any functions, etc.  \n",
    "\n",
    "Remember you can freely use any code from the labs. You do not need to cite code from the labs."
   ]
  },
  {
   "cell_type": "code",
   "execution_count": null,
   "id": "5d21fb19",
   "metadata": {},
   "outputs": [],
   "source": []
  },
  {
   "cell_type": "markdown",
   "id": "d2e6beed",
   "metadata": {},
   "source": [
    "# 2.4.1 Validate the data types in the staging table stage_1_peak_sales\n",
    "\n",
    "Generally, we do not expect any issues with data types.  Write a simple query that validates the numeric and date columns.\n",
    "\n",
    "* sale_id - validate that is is numeric\n",
    "* sales_date - validate that it is a date\n",
    "* sub_total - validate that it is numeric\n",
    "* tax - validate that it is numeric\n",
    "* total_amount - validate that it is numeric\n",
    "\n",
    "Hint: make use of the operators: \n",
    "* xxxx::numeric\n",
    "* xxxx::date\n",
    "\n",
    "Sort by stage_id\n",
    "\n",
    "Pattern your code after the examples in the labs.  You may use as many code cells as you need."
   ]
  },
  {
   "cell_type": "code",
   "execution_count": null,
   "id": "c5d749bc",
   "metadata": {},
   "outputs": [],
   "source": []
  },
  {
   "cell_type": "markdown",
   "id": "8684ea21",
   "metadata": {},
   "source": [
    "# 2.4.2 Validate the data types in the staging table stage_1_peak_stores\n",
    "\n",
    "Generally, we do not expect any issues with data types.  Write a simple query that validates the numeric and date columns.\n",
    "\n",
    "* sale_id - validate that it is numeric\n",
    "* location_id - validate that it is numeric\n",
    "\n",
    "Hint: make use of the operator xxxx::numeric\n",
    "\n",
    "Sort by stage_id\n",
    "\n",
    "Pattern your code after the examples in the labs.  You may use as many code cells as you need."
   ]
  },
  {
   "cell_type": "code",
   "execution_count": null,
   "id": "a37c725d",
   "metadata": {},
   "outputs": [],
   "source": []
  },
  {
   "cell_type": "markdown",
   "id": "34e7442e",
   "metadata": {},
   "source": [
    "# 2.4.3 Validate the data types in the staging table stage_1_peak_customers\n",
    "\n",
    "Generally, we do not expect any issues with data types.  Write a simple query that validates the numeric and date columns.\n",
    "\n",
    "* sale_id - validate that it is numeric\n",
    "* customer_id - validate that it is numeric\n",
    "\n",
    "Hint: make use of the operator xxxx::numeric\n",
    "\n",
    "Sort by stage_id\n",
    "\n",
    "Pattern your code after the examples in the labs.  You may use as many code cells as you need."
   ]
  },
  {
   "cell_type": "code",
   "execution_count": null,
   "id": "ba2058f1",
   "metadata": {},
   "outputs": [],
   "source": []
  },
  {
   "cell_type": "markdown",
   "id": "68af3a03",
   "metadata": {},
   "source": [
    "# 2.4.4 Validate the data types in the staging table stage_1_peak_line_items\n",
    "\n",
    "Generally, we do not expect any issues with data types.  Write a simple query that validates the numeric and date columns.\n",
    "\n",
    "* sale_id - validate that it is numeric\n",
    "* line_item_id - validate that it is numeric\n",
    "* product_id - validate that it is numeric\n",
    "* price - validate that it is numeric\n",
    "* quantity - validate that it is numeric\n",
    "\n",
    "Hint: make use of the operator xxxx::numeric\n",
    "\n",
    "Sort by stage_id\n",
    "\n",
    "Pattern your code after the examples in the labs.  You may use as many code cells as you need."
   ]
  },
  {
   "cell_type": "code",
   "execution_count": null,
   "id": "170f8058",
   "metadata": {},
   "outputs": [],
   "source": []
  },
  {
   "cell_type": "markdown",
   "id": "adee4f7e",
   "metadata": {},
   "source": [
    "# 2.4.5 Validate the math on sub_total, tax, and total_amount in stage_1_peak_sales\n",
    "\n",
    "Generally, we do not expect any issues with the math.  Write a simple query that validates the math:\n",
    "\n",
    "total_amount = sub_total + tax\n",
    "\n",
    "It's usually best to write a query that will return rows with errors.  In our case, the query should return nothing.\n",
    "\n",
    "Remember that with staging tables, we need to convert varchar to numeric using column::numeric before math will work.\n",
    "\n",
    "Sort by stage_id\n",
    "\n",
    "Pattern your code after the examples in the labs.  You may use as many code cells as you need."
   ]
  },
  {
   "cell_type": "code",
   "execution_count": null,
   "id": "4177a0db",
   "metadata": {},
   "outputs": [],
   "source": []
  },
  {
   "cell_type": "markdown",
   "id": "31fb8def",
   "metadata": {},
   "source": [
    "# 2.4.6 Validate the math between stage_1_sales and stage_1_line_items\n",
    "\n",
    "Generally, we do not expect any issues with the math.  Write a simple query that validates the math:\n",
    "\n",
    "total_sales in stage_1_sales matches the sum of (price x quantity) in stage_1_line_items\n",
    "\n",
    "It's usually best to write a query that will return rows with errors.  In our case, the query should return nothing.\n",
    "\n",
    "Remember that with staging tables, we need to convert varchar to numeric using column::numeric before math will work.\n",
    "\n",
    "Sort by stage_id\n",
    "\n",
    "Pattern your code after the examples in the labs.  You may use as many code cells as you need."
   ]
  },
  {
   "cell_type": "code",
   "execution_count": null,
   "id": "f5d4663c",
   "metadata": {},
   "outputs": [],
   "source": []
  },
  {
   "cell_type": "markdown",
   "id": "9d1d44e4",
   "metadata": {},
   "source": [
    "# 2.4.7 Validate the tax is always zero in stage_1_peak_sales\n",
    "\n",
    "It's usually best to write a query that will return rows with errors.  In our case, the query should return nothing.\n",
    "\n",
    "Remember that with staging tables, we need to convert varchar to numeric using column::numeric before math will work.\n",
    "\n",
    "Sort by stage_id\n",
    "\n",
    "Pattern your code after the examples in the labs.  You may use as many code cells as you need."
   ]
  },
  {
   "cell_type": "code",
   "execution_count": null,
   "id": "ed3ad78f",
   "metadata": {},
   "outputs": [],
   "source": []
  },
  {
   "cell_type": "markdown",
   "id": "aa86c791",
   "metadata": {},
   "source": [
    "# 2.4.8 Validate the price is always 12 in stage_1_peak_line_items\n",
    "\n",
    "It's usually best to write a query that will return rows with errors.  In our case, the query should return nothing.\n",
    "\n",
    "Remember that with staging tables, we need to convert varchar to numeric using column::numeric before math will work.\n",
    "\n",
    "Sort by stage_id\n",
    "\n",
    "Pattern your code after the examples in the labs.  You may use as many code cells as you need."
   ]
  },
  {
   "cell_type": "code",
   "execution_count": null,
   "id": "91d520ac",
   "metadata": {},
   "outputs": [],
   "source": []
  },
  {
   "cell_type": "markdown",
   "id": "715d03d9",
   "metadata": {},
   "source": [
    "# 2.4.9 Validate taxable is always N in stage_1_peak_line_items\n",
    "\n",
    "It's usually best to write a query that will return rows with errors.  In our case, the query should return nothing.\n",
    "\n",
    "Remember that with staging tables, we need to convert varchar to numeric using column::numeric before math will work.\n",
    "\n",
    "Sort by stage_id\n",
    "\n",
    "Pattern your code after the examples in the labs.  You may use as many code cells as you need."
   ]
  },
  {
   "cell_type": "code",
   "execution_count": null,
   "id": "10f0bc4a",
   "metadata": {},
   "outputs": [],
   "source": []
  },
  {
   "cell_type": "markdown",
   "id": "ecd6fccf",
   "metadata": {},
   "source": [
    "# 2.4.10 Validate the store is the same for all in stage_1_peak_stores\n",
    "\n",
    "It's usually best to write a query that will return rows with errors.  In our case, the query should return nothing.\n",
    "\n",
    "Remember that with staging tables, we need to convert varchar to numeric using column::numeric before math will work.\n",
    "\n",
    "Sort by stage_id\n",
    "\n",
    "Pattern your code after the examples in the labs.  You may use as many code cells as you need."
   ]
  },
  {
   "cell_type": "code",
   "execution_count": null,
   "id": "c7167bcb",
   "metadata": {},
   "outputs": [],
   "source": []
  },
  {
   "cell_type": "markdown",
   "id": "7970462f",
   "metadata": {},
   "source": [
    "# 2.4.11 Validate the product id in stage_1_peak_line_items against peak_product_mapping\n",
    "\n",
    "It's usually best to write a query that will return rows with errors.  In our case, the query should return nothing.\n",
    "\n",
    "Remember that with staging tables, we need to convert varchar to numeric using column::numeric before math will work.\n",
    "\n",
    "Sort by stage_id\n",
    "\n",
    "Pattern your code after the examples in the labs.  You may use as many code cells as you need."
   ]
  },
  {
   "cell_type": "code",
   "execution_count": null,
   "id": "ca87bb75",
   "metadata": {},
   "outputs": [],
   "source": []
  }
 ],
 "metadata": {
  "kernelspec": {
   "display_name": "Python 3",
   "language": "python",
   "name": "python3"
  },
  "language_info": {
   "codemirror_mode": {
    "name": "ipython",
    "version": 3
   },
   "file_extension": ".py",
   "mimetype": "text/x-python",
   "name": "python",
   "nbconvert_exporter": "python",
   "pygments_lexer": "ipython3",
   "version": "3.8.8"
  }
 },
 "nbformat": 4,
 "nbformat_minor": 5
}
