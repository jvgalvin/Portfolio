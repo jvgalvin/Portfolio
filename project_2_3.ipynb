{
 "cells": [
  {
   "cell_type": "markdown",
   "id": "3f465500",
   "metadata": {},
   "source": [
    "# Project 2, Part 3, Create and load staging tables\n",
    "\n",
    "University of California, Berkeley\n",
    "\n",
    "Master of Information and Data Science (MIDS) program\n",
    "\n",
    "w205 - Fundamentals of Data Engineering\n",
    "\n",
    "Student:\n",
    "\n",
    "Year:\n",
    "\n",
    "Semester:\n",
    "\n",
    "Section:\n"
   ]
  },
  {
   "cell_type": "markdown",
   "id": "33c6e20e",
   "metadata": {},
   "source": [
    "# Included Modules and Packages\n",
    "\n",
    "Code cell containing your includes for modules and packages"
   ]
  },
  {
   "cell_type": "code",
   "execution_count": null,
   "id": "63839f89",
   "metadata": {},
   "outputs": [],
   "source": []
  },
  {
   "cell_type": "markdown",
   "id": "c91c8869",
   "metadata": {},
   "source": [
    "# Supporting code\n",
    "\n",
    "Code cells containing any supporting code, such as connecting to the database, any functions, etc.  \n",
    "\n",
    "Remember you can freely use any code from the labs. You do not need to cite code from the labs."
   ]
  },
  {
   "cell_type": "code",
   "execution_count": null,
   "id": "5d21fb19",
   "metadata": {},
   "outputs": [],
   "source": []
  },
  {
   "cell_type": "markdown",
   "id": "d2e6beed",
   "metadata": {},
   "source": [
    "# 2.3.1 Drop the staging table stage_1_peak_sales if it exists\n",
    "\n",
    "Pattern your code after the examples in the labs.  You may use as many code cells as you need."
   ]
  },
  {
   "cell_type": "code",
   "execution_count": null,
   "id": "c5d749bc",
   "metadata": {},
   "outputs": [],
   "source": []
  },
  {
   "cell_type": "markdown",
   "id": "5ad24a30",
   "metadata": {},
   "source": [
    "# 2.3.2 Drop the staging table stage_1_peak_stores if it exists\n",
    "\n",
    "Pattern your code after the examples in the labs.  You may use as many code cells as you need."
   ]
  },
  {
   "cell_type": "code",
   "execution_count": null,
   "id": "7a59911e",
   "metadata": {},
   "outputs": [],
   "source": []
  },
  {
   "cell_type": "markdown",
   "id": "3962bec1",
   "metadata": {},
   "source": [
    "# 2.3.3 Drop the staging table stage_1_peak_customers if it exists\n",
    "\n",
    "Pattern your code after the examples in the labs.  You may use as many code cells as you need."
   ]
  },
  {
   "cell_type": "code",
   "execution_count": null,
   "id": "624ad03c",
   "metadata": {},
   "outputs": [],
   "source": []
  },
  {
   "cell_type": "markdown",
   "id": "c5c1e425",
   "metadata": {},
   "source": [
    "# 2.3.4 Drop the staging table stage_1_peak_line_items if it exists\n",
    "\n",
    "Pattern your code after the examples in the labs.  You may use as many code cells as you need."
   ]
  },
  {
   "cell_type": "code",
   "execution_count": null,
   "id": "57cff771",
   "metadata": {},
   "outputs": [],
   "source": []
  },
  {
   "cell_type": "markdown",
   "id": "9b6b3f97",
   "metadata": {},
   "source": [
    "# 2.3.5 Create the staging table stage_1_peak_sales\n",
    "\n",
    "Use the same technique we used in the labs.\n",
    "\n",
    "The first column should be stage_id as serial.\n",
    "\n",
    "For each field in the CSV file, create a column as varchar(100).\n",
    "\n",
    "Remember we do not set a primary key in staging tables.\n",
    "\n",
    "Pattern your code after the examples in the labs.  You may use as many code cells as you need."
   ]
  },
  {
   "cell_type": "code",
   "execution_count": null,
   "id": "7e46c3f5",
   "metadata": {},
   "outputs": [],
   "source": []
  },
  {
   "cell_type": "markdown",
   "id": "027a3986",
   "metadata": {},
   "source": [
    "# 2.3.6 Create the staging table stage_1_peak_stores\n",
    "\n",
    "Use the same technique we used in the labs.\n",
    "\n",
    "The first column should be stage_id as serial.\n",
    "\n",
    "For each field in the CSV file, create a column as varchar(100).\n",
    "\n",
    "Remember we do not set a primary key in staging tables.\n",
    "\n",
    "Pattern your code after the examples in the labs.  You may use as many code cells as you need."
   ]
  },
  {
   "cell_type": "code",
   "execution_count": null,
   "id": "7c0ab4ee",
   "metadata": {},
   "outputs": [],
   "source": []
  },
  {
   "cell_type": "markdown",
   "id": "db8d8bb7",
   "metadata": {},
   "source": [
    "# 2.3.7 Create the staging table stage_1_peak_customers\n",
    "\n",
    "Use the same technique we used in the labs.\n",
    "\n",
    "The first column should be stage_id as serial.\n",
    "\n",
    "For each field in the CSV file, create a column as varchar(100).\n",
    "\n",
    "Remember we do not set a primary key in staging tables.\n",
    "\n",
    "Pattern your code after the examples in the labs.  You may use as many code cells as you need."
   ]
  },
  {
   "cell_type": "code",
   "execution_count": null,
   "id": "cefc8e76",
   "metadata": {},
   "outputs": [],
   "source": []
  },
  {
   "cell_type": "markdown",
   "id": "37c5a8ae",
   "metadata": {},
   "source": [
    "# 2.3.8 Create the staging table stage_1_peak_line_items\n",
    "\n",
    "Use the same technique we used in the labs.\n",
    "\n",
    "The first column should be stage_id as serial.\n",
    "\n",
    "For each field in the CSV file, create a column as varchar(100).\n",
    "\n",
    "Remember we do not set a primary key in staging tables.\n",
    "\n",
    "Pattern your code after the examples in the labs.  You may use as many code cells as you need."
   ]
  },
  {
   "cell_type": "code",
   "execution_count": null,
   "id": "47f242a0",
   "metadata": {},
   "outputs": [],
   "source": []
  },
  {
   "cell_type": "markdown",
   "id": "1bcdea38",
   "metadata": {},
   "source": [
    "# 2.3.9 Load the CSV file peak_sales.csv into the table stage_1_peak_sales\n",
    "\n",
    "Use the same technique we used in the labs.\n",
    "\n",
    "Remember the stage_id column is a serial and will auto populate, so we need to leave it off the column list for the load.\n",
    "\n",
    "Pattern your code after the examples in the labs.  You may use as many code cells as you need."
   ]
  },
  {
   "cell_type": "code",
   "execution_count": null,
   "id": "1ac135cf",
   "metadata": {},
   "outputs": [],
   "source": []
  },
  {
   "cell_type": "markdown",
   "id": "d1cfcfd1",
   "metadata": {},
   "source": [
    "# 2.3.10 Load the CSV file peak_stores.csv into the table stage_1_peak_stores\n",
    "\n",
    "Use the same technique we used in the labs.\n",
    "\n",
    "Remember the stage_id column is a serial and will auto populate, so we need to leave it off the column list for the load.\n",
    "\n",
    "Pattern your code after the examples in the labs.  You may use as many code cells as you need."
   ]
  },
  {
   "cell_type": "code",
   "execution_count": null,
   "id": "5179a45b",
   "metadata": {},
   "outputs": [],
   "source": []
  },
  {
   "cell_type": "markdown",
   "id": "c9be7047",
   "metadata": {},
   "source": [
    "# 2.3.11 Load the CSV file peak_customers.csv into the table stage_1_peak_customers\n",
    "\n",
    "Use the same technique we used in the labs.\n",
    "\n",
    "Remember the stage_id column is a serial and will auto populate, so we need to leave it off the column list for the load.\n",
    "\n",
    "Pattern your code after the examples in the labs.  You may use as many code cells as you need."
   ]
  },
  {
   "cell_type": "code",
   "execution_count": null,
   "id": "1e60be49",
   "metadata": {},
   "outputs": [],
   "source": []
  },
  {
   "cell_type": "markdown",
   "id": "7a93d483",
   "metadata": {},
   "source": [
    "# 2.3.12 Load the CSV file peak_line_items.csv into the table stage_1_peak_line_items\n",
    "\n",
    "Use the same technique we used in the labs.\n",
    "\n",
    "Remember the stage_id column is a serial and will auto populate, so we need to leave it off the column list for the load.\n",
    "\n",
    "Pattern your code after the examples in the labs.  You may use as many code cells as you need."
   ]
  },
  {
   "cell_type": "code",
   "execution_count": null,
   "id": "18b42bba",
   "metadata": {},
   "outputs": [],
   "source": []
  },
  {
   "cell_type": "markdown",
   "id": "60e43ccc",
   "metadata": {},
   "source": [
    "# 2.3.13 Verify the load of stage_1_peak_sales by querying the entire table\n",
    "\n",
    "Query the entire table into a Pandas dataframe.  \n",
    "\n",
    "Remember to sort by stage_id so the rows are in the same order as the CSV file to make comparison easier.\n",
    "\n",
    "Inspect and compare the first few rows and the last few rows to the CSV file to ensure they loaded correctly.  \n",
    "\n",
    "Pattern your code after the examples in the labs.  You may use as many code cells as you need."
   ]
  },
  {
   "cell_type": "code",
   "execution_count": null,
   "id": "7ad9b939",
   "metadata": {},
   "outputs": [],
   "source": []
  },
  {
   "cell_type": "markdown",
   "id": "473fd36d",
   "metadata": {},
   "source": [
    "# 2.3.14 Verify the load of stage_1_peak_stores by querying the entire table\n",
    "\n",
    "Query the entire table into a Pandas dataframe.  \n",
    "\n",
    "Remember to sort by stage_id so the rows are in the same order as the CSV file to make comparison easier.\n",
    "\n",
    "Inspect and compare the first few rows and the last few rows to the CSV file to ensure they loaded correctly.  \n",
    "\n",
    "Pattern your code after the examples in the labs.  You may use as many code cells as you need."
   ]
  },
  {
   "cell_type": "code",
   "execution_count": null,
   "id": "9066268d",
   "metadata": {},
   "outputs": [],
   "source": []
  },
  {
   "cell_type": "markdown",
   "id": "1402684b",
   "metadata": {},
   "source": [
    "# 2.3.15 Verify the load of stage_1_peak_customers by querying the entire table\n",
    "\n",
    "Query the entire table into a Pandas dataframe.  \n",
    "\n",
    "Remember to sort by stage_id so the rows are in the same order as the CSV file to make comparison easier.\n",
    "\n",
    "Inspect and compare the first few rows and the last few rows to the CSV file to ensure they loaded correctly.  \n",
    "\n",
    "Pattern your code after the examples in the labs.  You may use as many code cells as you need."
   ]
  },
  {
   "cell_type": "code",
   "execution_count": null,
   "id": "afd5f095",
   "metadata": {},
   "outputs": [],
   "source": []
  },
  {
   "cell_type": "markdown",
   "id": "50a50422",
   "metadata": {},
   "source": [
    "# 2.3.16 Verify the load of stage_1_peak_line_items by querying the entire table\n",
    "\n",
    "Query the entire table into a Pandas dataframe.  \n",
    "\n",
    "Remember to sort by stage_id so the rows are in the same order as the CSV file to make comparison easier.\n",
    "\n",
    "Inspect and compare the first few rows and the last few rows to the CSV file to ensure they loaded correctly.  \n",
    "\n",
    "Pattern your code after the examples in the labs.  You may use as many code cells as you need."
   ]
  },
  {
   "cell_type": "code",
   "execution_count": null,
   "id": "41eece3c",
   "metadata": {},
   "outputs": [],
   "source": []
  }
 ],
 "metadata": {
  "kernelspec": {
   "display_name": "Python 3",
   "language": "python",
   "name": "python3"
  },
  "language_info": {
   "codemirror_mode": {
    "name": "ipython",
    "version": 3
   },
   "file_extension": ".py",
   "mimetype": "text/x-python",
   "name": "python",
   "nbconvert_exporter": "python",
   "pygments_lexer": "ipython3",
   "version": "3.8.8"
  }
 },
 "nbformat": 4,
 "nbformat_minor": 5
}
