{
 "cells": [
  {
   "cell_type": "markdown",
   "id": "3f465500",
   "metadata": {},
   "source": [
    "# Project 3, Part 4, Verify the graph database in Neo4j for the BART system\n",
    "\n",
    "University of California, Berkeley\n",
    "\n",
    "Master of Information and Data Science (MIDS) program\n",
    "\n",
    "w205 - Fundamentals of Data Engineering\n",
    "\n",
    "Students in the group:\n",
    "* Aris Chalini\n",
    "* Jack Galvin\n",
    "* Matt Lauritzen\n",
    "\n",
    "Year: 2022\n",
    "\n",
    "Semester: Spring\n",
    "\n",
    "Section: 09\n"
   ]
  },
  {
   "cell_type": "markdown",
   "id": "33c6e20e",
   "metadata": {},
   "source": [
    "# Included Modules and Packages\n",
    "\n",
    "Code cell containing your includes for modules and packages\n",
    "\n",
    "Some starter code is provided\n",
    "\n",
    "You may change the starter code as needed\n",
    "\n",
    "You may add as much code and/or as many code cells as you need"
   ]
  },
  {
   "cell_type": "code",
   "execution_count": 15,
   "id": "530d745a",
   "metadata": {},
   "outputs": [],
   "source": [
    "import neo4j\n",
    "\n",
    "import csv\n",
    "\n",
    "import math\n",
    "import numpy as np\n",
    "import pandas as pd\n",
    "\n",
    "import psycopg2"
   ]
  },
  {
   "cell_type": "markdown",
   "id": "c91c8869",
   "metadata": {},
   "source": [
    "# Supporting code\n",
    "\n",
    "Code cells containing any supporting code, such as connecting to the database, any functions, etc.  \n",
    "\n",
    "Remember you can freely use any code from the labs. You do not need to cite code from the labs.\n",
    "\n",
    "Some starter code is provided\n",
    "\n",
    "You may change the starter code as needed\n",
    "\n",
    "You may add as much code and/or as many code cells as you need"
   ]
  },
  {
   "cell_type": "code",
   "execution_count": 16,
   "id": "ecf679ef",
   "metadata": {},
   "outputs": [],
   "source": [
    "driver = neo4j.GraphDatabase.driver(uri=\"neo4j://neo4j:7687\", auth=(\"neo4j\",\"w205\"))"
   ]
  },
  {
   "cell_type": "code",
   "execution_count": 17,
   "id": "b55e660f",
   "metadata": {},
   "outputs": [],
   "source": [
    "session = driver.session(database=\"neo4j\")"
   ]
  },
  {
   "cell_type": "code",
   "execution_count": 18,
   "id": "cfecc37e",
   "metadata": {},
   "outputs": [],
   "source": [
    "def my_neo4j_shortest_path(from_station, to_station):\n",
    "    \"given a from station and to station, run and print the shortest path\"\n",
    "    \n",
    "    query = \"CALL gds.graph.drop('ds_graph', false)\"\n",
    "    session.run(query)\n",
    "\n",
    "    query = \"CALL gds.graph.create('ds_graph', 'Station', 'LINK', {relationshipProperties: 'weight'})\"\n",
    "    session.run(query)\n",
    "\n",
    "    query = \"\"\"\n",
    "\n",
    "    MATCH (source:Station {name: $source}), (target:Station {name: $target})\n",
    "    CALL gds.shortestPath.dijkstra.stream(\n",
    "        'ds_graph', \n",
    "        { sourceNode: source, \n",
    "          targetNode: target, \n",
    "          relationshipWeightProperty: 'weight'\n",
    "        }\n",
    "    )\n",
    "    YIELD index, sourceNode, targetNode, totalCost, nodeIds, costs, path\n",
    "    RETURN\n",
    "        gds.util.asNode(sourceNode).name AS from,\n",
    "        gds.util.asNode(targetNode).name AS to,\n",
    "        totalCost,\n",
    "        [nodeId IN nodeIds | gds.util.asNode(nodeId).name] AS nodes,\n",
    "        costs\n",
    "    ORDER BY index\n",
    "\n",
    "    \"\"\"\n",
    "\n",
    "    result = session.run(query, source=from_station, target=to_station)\n",
    "    \n",
    "    for r in result:\n",
    "        \n",
    "        total_cost = int(r['totalCost'])\n",
    "        \n",
    "        print(\"\\n--------------------------------\")\n",
    "        print(\"   Total Cost: \", total_cost)\n",
    "        print(\"   Minutes: \", round(total_cost / 60.0,1))\n",
    "        print(\"--------------------------------\")\n",
    "        \n",
    "        nodes = r['nodes']\n",
    "        costs = r['costs']\n",
    "        \n",
    "        i = 0\n",
    "        previous = 0\n",
    "        \n",
    "        for n in nodes:\n",
    "            \n",
    "            print(n + \", \" + str(int(costs[i]) - previous)  + \", \" + str(int(costs[i])))\n",
    "            \n",
    "            previous = int(costs[i])\n",
    "            i += 1\n",
    "    "
   ]
  },
  {
   "cell_type": "markdown",
   "id": "c0139cc0",
   "metadata": {},
   "source": [
    "# 3.4.1 Verify the shortest path between Dublin and Antioch\n",
    "\n",
    "Use the function my_neo4j_shortest_path() between 'depart Dublin' and 'arrive Antioch' to verify that the shortest path matches the following output\n",
    "\n",
    "```\n",
    "--------------------------------\n",
    "   Total Cost:  5813\n",
    "   Minutes:  96.9\n",
    "--------------------------------\n",
    "depart Dublin, 0, 0\n",
    "blue Dublin, 0, 0\n",
    "blue West Dublin, 180, 180\n",
    "blue Castro Valley, 600, 780\n",
    "blue Bay Fair, 240, 1020\n",
    "blue San Leandro, 240, 1260\n",
    "blue Coliseum, 240, 1500\n",
    "orange Coliseum, 54, 1554\n",
    "orange Fruitvale, 240, 1794\n",
    "orange Lake Merritt, 300, 2094\n",
    "orange 12th Street, 180, 2274\n",
    "orange 19th Street, 120, 2394\n",
    "orange MacArthur, 180, 2574\n",
    "yellow MacArthur, 59, 2633\n",
    "yellow Rockridge, 240, 2873\n",
    "yellow Orinda, 300, 3173\n",
    "yellow Lafayette, 300, 3473\n",
    "yellow Walnut Creek, 300, 3773\n",
    "yellow Pleasant Hill, 120, 3893\n",
    "yellow Concord, 360, 4253\n",
    "yellow North Concord, 180, 4433\n",
    "yellow Pittsburg, 360, 4793\n",
    "yellow Pittsburg Center, 600, 5393\n",
    "yellow Antioch, 420, 5813\n",
    "arrive Antioch, 0, 5813\n",
    "```"
   ]
  },
  {
   "cell_type": "code",
   "execution_count": 19,
   "id": "bb222c61",
   "metadata": {},
   "outputs": [
    {
     "name": "stdout",
     "output_type": "stream",
     "text": [
      "\n",
      "--------------------------------\n",
      "   Total Cost:  5813\n",
      "   Minutes:  96.9\n",
      "--------------------------------\n",
      "depart Dublin, 0, 0\n",
      "blue Dublin, 0, 0\n",
      "blue West Dublin, 180, 180\n",
      "blue Castro Valley, 600, 780\n",
      "blue Bay Fair, 240, 1020\n",
      "blue San Leandro, 240, 1260\n",
      "blue Coliseum, 240, 1500\n",
      "orange Coliseum, 54, 1554\n",
      "orange Fruitvale, 240, 1794\n",
      "orange Lake Merritt, 300, 2094\n",
      "orange 12th Street, 180, 2274\n",
      "orange 19th Street, 120, 2394\n",
      "orange MacArthur, 180, 2574\n",
      "yellow MacArthur, 59, 2633\n",
      "yellow Rockridge, 240, 2873\n",
      "yellow Orinda, 300, 3173\n",
      "yellow Lafayette, 300, 3473\n",
      "yellow Walnut Creek, 300, 3773\n",
      "yellow Pleasant Hill, 120, 3893\n",
      "yellow Concord, 360, 4253\n",
      "yellow North Concord, 180, 4433\n",
      "yellow Pittsburg, 360, 4793\n",
      "yellow Pittsburg Center, 600, 5393\n",
      "yellow Antioch, 420, 5813\n",
      "arrive Antioch, 0, 5813\n"
     ]
    }
   ],
   "source": [
    "my_neo4j_shortest_path(\"depart Dublin\", \"arrive Antioch\")"
   ]
  },
  {
   "cell_type": "markdown",
   "id": "ab0a0530",
   "metadata": {},
   "source": [
    "# 3.4.2 Verify the shortest path between SFO airport and OAK airport\n",
    "\n",
    "Use the function my_neo4j_shortest_path() between 'depart SFO' and 'arrive OAK' to verify that the shortest path matches the following output\n",
    "\n",
    "```\n",
    "--------------------------------\n",
    "   Total Cost:  3882\n",
    "   Minutes:  64.7\n",
    "--------------------------------\n",
    "depart SFO, 0, 0\n",
    "yellow SFO, 0, 0\n",
    "yellow San Bruno, 240, 240\n",
    "yellow South San Francisco, 240, 480\n",
    "yellow Colma, 180, 660\n",
    "yellow Daly City, 240, 900\n",
    "yellow Balboa Park, 240, 1140\n",
    "green Balboa Park, 48, 1188 (or blue, they have the same cost)\n",
    "green Glen Park, 120, 1308\n",
    "green 24th Street Mission, 180, 1488\n",
    "green 16th Street Mission, 120, 1608\n",
    "green Civic Center, 180, 1788\n",
    "green Powell Street, 60, 1848\n",
    "green Montgomery Street, 120, 1968\n",
    "green Embarcadero, 60, 2028\n",
    "green West Oakland, 420, 2448\n",
    "green Lake Merritt, 360, 2808\n",
    "green Fruitvale, 300, 3108\n",
    "green Coliseum, 240, 3348\n",
    "gray Coliseum, 54, 3402\n",
    "gray OAK, 480, 3882\n",
    "arrive OAK, 0, 3882\n",
    "```"
   ]
  },
  {
   "cell_type": "code",
   "execution_count": 20,
   "id": "1675205a",
   "metadata": {},
   "outputs": [
    {
     "name": "stdout",
     "output_type": "stream",
     "text": [
      "\n",
      "--------------------------------\n",
      "   Total Cost:  3882\n",
      "   Minutes:  64.7\n",
      "--------------------------------\n",
      "depart SFO, 0, 0\n",
      "yellow SFO, 0, 0\n",
      "yellow San Bruno, 240, 240\n",
      "yellow South San Francisco, 240, 480\n",
      "yellow Colma, 180, 660\n",
      "yellow Daly City, 240, 900\n",
      "yellow Balboa Park, 240, 1140\n",
      "green Balboa Park, 48, 1188\n",
      "green Glen Park, 120, 1308\n",
      "green 24th Street Mission, 180, 1488\n",
      "green 16th Street Mission, 120, 1608\n",
      "green Civic Center, 180, 1788\n",
      "green Powell Street, 60, 1848\n",
      "green Montgomery Street, 120, 1968\n",
      "green Embarcadero, 60, 2028\n",
      "green West Oakland, 420, 2448\n",
      "green Lake Merritt, 360, 2808\n",
      "green Fruitvale, 300, 3108\n",
      "green Coliseum, 240, 3348\n",
      "gray Coliseum, 54, 3402\n",
      "gray OAK, 480, 3882\n",
      "arrive OAK, 0, 3882\n"
     ]
    }
   ],
   "source": [
    "my_neo4j_shortest_path(\"depart SFO\", \"arrive OAK\")"
   ]
  },
  {
   "cell_type": "markdown",
   "id": "843bc442",
   "metadata": {},
   "source": [
    "# 3.4.3 Verify the shortest path between Downtown Berkeley and Castro Valley\n",
    "\n",
    "Use the function my_neo4j_shortest_path() between 'depart Downtown Berkeley' and 'arrive Castro Valley' to verify that the shortest path matches the following output\n",
    "\n",
    "```\n",
    "--------------------------------\n",
    "   Total Cost:  2214\n",
    "   Minutes:  36.9\n",
    "--------------------------------\n",
    "depart Downtown Berkeley, 0, 0\n",
    "orange Downtown Berkeley, 0, 0\n",
    "orange Ashby, 180, 180\n",
    "orange MacArthur, 240, 420\n",
    "orange 19th Street, 180, 600\n",
    "orange 12th Street, 120, 720\n",
    "orange Lake Merritt, 180, 900\n",
    "orange Fruitvale, 300, 1200\n",
    "orange Coliseum, 240, 1440\n",
    "blue Coliseum, 54, 1494\n",
    "blue San Leandro, 240, 1734\n",
    "blue Bay Fair, 240, 1974\n",
    "blue Castro Valley, 240, 2214\n",
    "arrive Castro Valley, 0, 2214\n",
    "```"
   ]
  },
  {
   "cell_type": "code",
   "execution_count": 21,
   "id": "702afd93",
   "metadata": {},
   "outputs": [
    {
     "name": "stdout",
     "output_type": "stream",
     "text": [
      "\n",
      "--------------------------------\n",
      "   Total Cost:  2214\n",
      "   Minutes:  36.9\n",
      "--------------------------------\n",
      "depart Downtown Berkeley, 0, 0\n",
      "orange Downtown Berkeley, 0, 0\n",
      "orange Ashby, 180, 180\n",
      "orange MacArthur, 240, 420\n",
      "orange 19th Street, 180, 600\n",
      "orange 12th Street, 120, 720\n",
      "orange Lake Merritt, 180, 900\n",
      "orange Fruitvale, 300, 1200\n",
      "orange Coliseum, 240, 1440\n",
      "blue Coliseum, 54, 1494\n",
      "blue San Leandro, 240, 1734\n",
      "blue Bay Fair, 240, 1974\n",
      "blue Castro Valley, 240, 2214\n",
      "arrive Castro Valley, 0, 2214\n"
     ]
    }
   ],
   "source": [
    "my_neo4j_shortest_path(\"depart Downtown Berkeley\", \"arrive Castro Valley\")"
   ]
  },
  {
   "cell_type": "markdown",
   "id": "d9db59c2",
   "metadata": {},
   "source": [
    "# 3.4.4 Verify the shortest path between San Bruno and San Leandro\n",
    "\n",
    "Use the function my_neo4j_shortest_path() between 'depart Downtown San Bruno' and 'arrive San Leandro' to verify that the shortest path matches the following output\n",
    "\n",
    "```\n",
    "--------------------------------\n",
    "   Total Cost:  3348\n",
    "   Minutes:  55.8\n",
    "--------------------------------\n",
    "depart San Bruno, 0, 0\n",
    "red San Bruno, 0, 0\n",
    "red South San Francisco, 240, 240\n",
    "red Colma, 180, 420\n",
    "red Daly City, 240, 660\n",
    "red Balboa Park, 240, 900\n",
    "blue Balboa Park, 48, 948 (or green, they have the same cost)\n",
    "blue Glen Park, 120, 1068\n",
    "blue 24th Street Mission, 180, 1248\n",
    "blue 16th Street Mission, 120, 1368\n",
    "blue Civic Center, 180, 1548\n",
    "blue Powell Street, 60, 1608\n",
    "blue Montgomery Street, 120, 1728\n",
    "blue Embarcadero, 60, 1788\n",
    "blue West Oakland, 420, 2208\n",
    "blue Lake Merritt, 360, 2568\n",
    "blue Fruitvale, 300, 2868\n",
    "blue Coliseum, 240, 3108\n",
    "blue San Leandro, 240, 3348\n",
    "arrive San Leandro, 0, 3348\n",
    "```"
   ]
  },
  {
   "cell_type": "code",
   "execution_count": 23,
   "id": "8803b2d0",
   "metadata": {},
   "outputs": [
    {
     "name": "stdout",
     "output_type": "stream",
     "text": [
      "\n",
      "--------------------------------\n",
      "   Total Cost:  3348\n",
      "   Minutes:  55.8\n",
      "--------------------------------\n",
      "depart San Bruno, 0, 0\n",
      "red San Bruno, 0, 0\n",
      "red South San Francisco, 240, 240\n",
      "red Colma, 180, 420\n",
      "red Daly City, 240, 660\n",
      "red Balboa Park, 240, 900\n",
      "green Balboa Park, 48, 948\n",
      "green Glen Park, 120, 1068\n",
      "green 24th Street Mission, 180, 1248\n",
      "green 16th Street Mission, 120, 1368\n",
      "green Civic Center, 180, 1548\n",
      "green Powell Street, 60, 1608\n",
      "green Montgomery Street, 120, 1728\n",
      "green Embarcadero, 60, 1788\n",
      "green West Oakland, 420, 2208\n",
      "green Lake Merritt, 360, 2568\n",
      "green Fruitvale, 300, 2868\n",
      "green Coliseum, 240, 3108\n",
      "green San Leandro, 240, 3348\n",
      "arrive San Leandro, 0, 3348\n"
     ]
    }
   ],
   "source": [
    "my_neo4j_shortest_path(\"depart San Bruno\", \"arrive San Leandro\")"
   ]
  },
  {
   "cell_type": "markdown",
   "id": "7dbfa484",
   "metadata": {},
   "source": [
    "# 3.4.5 Verify the shortest path between  Embarcadero and Civic Center\n",
    "\n",
    "Use the function my_neo4j_shortest_path() between 'depart Embarcadero' and 'arrive Civic Center' to verify that the shortest path matches the following output\n",
    "\n",
    "```\n",
    "--------------------------------\n",
    "   Total Cost:  240\n",
    "   Minutes:  4.0\n",
    "--------------------------------\n",
    "depart Embarcadero, 0, 0\n",
    "yellow Embarcadero, 0, 0 (or red or blue or green, they all have the same cost)\n",
    "yellow Montgomery Street, 60, 60\n",
    "yellow Powell Street, 120, 180\n",
    "yellow Civic Center, 60, 240\n",
    "arrive Civic Center, 0, 240\n",
    "```"
   ]
  },
  {
   "cell_type": "code",
   "execution_count": 24,
   "id": "cdff2241",
   "metadata": {},
   "outputs": [
    {
     "name": "stdout",
     "output_type": "stream",
     "text": [
      "\n",
      "--------------------------------\n",
      "   Total Cost:  240\n",
      "   Minutes:  4.0\n",
      "--------------------------------\n",
      "depart Embarcadero, 0, 0\n",
      "blue Embarcadero, 0, 0\n",
      "blue Montgomery Street, 60, 60\n",
      "blue Powell Street, 120, 180\n",
      "blue Civic Center, 60, 240\n",
      "arrive Civic Center, 0, 240\n"
     ]
    }
   ],
   "source": [
    "my_neo4j_shortest_path(\"depart Embarcadero\", \"arrive Civic Center\")"
   ]
  },
  {
   "cell_type": "code",
   "execution_count": null,
   "id": "e8a75b67",
   "metadata": {},
   "outputs": [],
   "source": []
  }
 ],
 "metadata": {
  "kernelspec": {
   "display_name": "Python 3",
   "language": "python",
   "name": "python3"
  },
  "language_info": {
   "codemirror_mode": {
    "name": "ipython",
    "version": 3
   },
   "file_extension": ".py",
   "mimetype": "text/x-python",
   "name": "python",
   "nbconvert_exporter": "python",
   "pygments_lexer": "ipython3",
   "version": "3.8.8"
  }
 },
 "nbformat": 4,
 "nbformat_minor": 5
}
